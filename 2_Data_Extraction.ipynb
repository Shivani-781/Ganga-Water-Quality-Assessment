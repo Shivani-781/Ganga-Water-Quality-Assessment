{
  "nbformat": 4,
  "nbformat_minor": 0,
  "metadata": {
    "kernelspec": {
      "display_name": "Python 3",
      "language": "python",
      "name": "python3"
    },
    "language_info": {
      "codemirror_mode": {
        "name": "ipython",
        "version": 3
      },
      "file_extension": ".py",
      "mimetype": "text/x-python",
      "name": "python",
      "nbconvert_exporter": "python",
      "pygments_lexer": "ipython3",
      "version": "3.7.7"
    },
    "colab": {
      "name": "2. Data Extraction.ipynb",
      "provenance": [],
      "collapsed_sections": [],
      "include_colab_link": true
    }
  },
  "cells": [
    {
      "cell_type": "markdown",
      "metadata": {
        "id": "view-in-github",
        "colab_type": "text"
      },
      "source": [
        "<a href=\"https://colab.research.google.com/github/Shivani-781/Ganga-Water-Quality-Assessment/blob/main/2_Data_Extraction.ipynb\" target=\"_parent\"><img src=\"https://colab.research.google.com/assets/colab-badge.svg\" alt=\"Open In Colab\"/></a>"
      ]
    },
    {
      "cell_type": "markdown",
      "metadata": {
        "id": "GQ_wbj6v18qZ"
      },
      "source": [
        "# Data Extraction - Separating Sangam river and Ganga river dataset"
      ]
    },
    {
      "cell_type": "markdown",
      "metadata": {
        "id": "gdyMWVgB18qd"
      },
      "source": [
        "Importing the libraries"
      ]
    },
    {
      "cell_type": "code",
      "metadata": {
        "id": "ADMGqR7D18qi"
      },
      "source": [
        "import pandas as pd\n",
        "import numpy as np"
      ],
      "execution_count": null,
      "outputs": []
    },
    {
      "cell_type": "markdown",
      "metadata": {
        "id": "m7W7v_6z18qu"
      },
      "source": [
        "Reading the dataset"
      ]
    },
    {
      "cell_type": "code",
      "metadata": {
        "id": "6Sp-Bk1I18qv"
      },
      "source": [
        "df = pd.read_csv('final.csv')"
      ],
      "execution_count": null,
      "outputs": []
    },
    {
      "cell_type": "code",
      "metadata": {
        "id": "ugtTOUoI18q4",
        "outputId": "266ce4de-a333-4ed4-a63a-9914e9a2db61"
      },
      "source": [
        "df.head()"
      ],
      "execution_count": null,
      "outputs": [
        {
          "output_type": "execute_result",
          "data": {
            "text/html": [
              "<div>\n",
              "<style scoped>\n",
              "    .dataframe tbody tr th:only-of-type {\n",
              "        vertical-align: middle;\n",
              "    }\n",
              "\n",
              "    .dataframe tbody tr th {\n",
              "        vertical-align: top;\n",
              "    }\n",
              "\n",
              "    .dataframe thead th {\n",
              "        text-align: right;\n",
              "    }\n",
              "</style>\n",
              "<table border=\"1\" class=\"dataframe\">\n",
              "  <thead>\n",
              "    <tr style=\"text-align: right;\">\n",
              "      <th></th>\n",
              "      <th>Date</th>\n",
              "      <th>Frame No</th>\n",
              "      <th>BAT</th>\n",
              "      <th>COND</th>\n",
              "      <th>DO</th>\n",
              "      <th>ORP</th>\n",
              "      <th>PH</th>\n",
              "      <th>WT</th>\n",
              "    </tr>\n",
              "  </thead>\n",
              "  <tbody>\n",
              "    <tr>\n",
              "      <th>0</th>\n",
              "      <td>2018-09-24 12:45:00</td>\n",
              "      <td>0</td>\n",
              "      <td>65.0</td>\n",
              "      <td>59.892838</td>\n",
              "      <td>77.444695</td>\n",
              "      <td>0.148257</td>\n",
              "      <td>6.379280</td>\n",
              "      <td>24.210846</td>\n",
              "    </tr>\n",
              "    <tr>\n",
              "      <th>1</th>\n",
              "      <td>2018-09-24 12:46:00</td>\n",
              "      <td>1</td>\n",
              "      <td>65.0</td>\n",
              "      <td>59.879820</td>\n",
              "      <td>77.076770</td>\n",
              "      <td>0.144755</td>\n",
              "      <td>6.331513</td>\n",
              "      <td>24.156006</td>\n",
              "    </tr>\n",
              "    <tr>\n",
              "      <th>2</th>\n",
              "      <td>2018-09-24 12:47:00</td>\n",
              "      <td>2</td>\n",
              "      <td>66.0</td>\n",
              "      <td>59.941690</td>\n",
              "      <td>76.227170</td>\n",
              "      <td>0.141710</td>\n",
              "      <td>6.372326</td>\n",
              "      <td>24.104614</td>\n",
              "    </tr>\n",
              "    <tr>\n",
              "      <th>3</th>\n",
              "      <td>2018-09-24 12:48:00</td>\n",
              "      <td>3</td>\n",
              "      <td>66.0</td>\n",
              "      <td>60.010353</td>\n",
              "      <td>77.731560</td>\n",
              "      <td>0.140641</td>\n",
              "      <td>6.391796</td>\n",
              "      <td>24.093994</td>\n",
              "    </tr>\n",
              "    <tr>\n",
              "      <th>4</th>\n",
              "      <td>2018-09-24 12:49:00</td>\n",
              "      <td>4</td>\n",
              "      <td>66.0</td>\n",
              "      <td>59.997463</td>\n",
              "      <td>76.798840</td>\n",
              "      <td>0.142180</td>\n",
              "      <td>6.339557</td>\n",
              "      <td>24.145294</td>\n",
              "    </tr>\n",
              "  </tbody>\n",
              "</table>\n",
              "</div>"
            ],
            "text/plain": [
              "                  Date  Frame No   BAT       COND         DO       ORP  \\\n",
              "0  2018-09-24 12:45:00         0  65.0  59.892838  77.444695  0.148257   \n",
              "1  2018-09-24 12:46:00         1  65.0  59.879820  77.076770  0.144755   \n",
              "2  2018-09-24 12:47:00         2  66.0  59.941690  76.227170  0.141710   \n",
              "3  2018-09-24 12:48:00         3  66.0  60.010353  77.731560  0.140641   \n",
              "4  2018-09-24 12:49:00         4  66.0  59.997463  76.798840  0.142180   \n",
              "\n",
              "         PH         WT  \n",
              "0  6.379280  24.210846  \n",
              "1  6.331513  24.156006  \n",
              "2  6.372326  24.104614  \n",
              "3  6.391796  24.093994  \n",
              "4  6.339557  24.145294  "
            ]
          },
          "metadata": {
            "tags": []
          },
          "execution_count": 3
        }
      ]
    },
    {
      "cell_type": "code",
      "metadata": {
        "id": "LiJqHYIM18rG"
      },
      "source": [
        "#1\n",
        "#s1 = df[(df['Date'] >= '2019-01-12 00:00:00') & (df['Date'] <= '2019-01-12 16:04:00')]\n",
        "#s1.to_csv('s1.csv', index = False)"
      ],
      "execution_count": null,
      "outputs": []
    },
    {
      "cell_type": "code",
      "metadata": {
        "id": "2IKtKwlu18rL"
      },
      "source": [
        "g1 = df[(df['Date'] >= '2019-01-12 12:57:00') & (df['Date'] <= '2019-01-12 23:59:00')]\n",
        "#g1.to_csv('g1.csv', index = False)"
      ],
      "execution_count": null,
      "outputs": []
    },
    {
      "cell_type": "code",
      "metadata": {
        "id": "QsuDElyE18rZ"
      },
      "source": [
        "#2\n",
        "#s2 = df[(df['Date'] >= '2019-03-30 00:00:00') & (df['Date'] <= '2019-03-30 14:18:00')]\n",
        "#s2.to_csv('s2.csv', index = False)"
      ],
      "execution_count": null,
      "outputs": []
    },
    {
      "cell_type": "code",
      "metadata": {
        "id": "Bm-KUTc618rn"
      },
      "source": [
        "g2 = df[(df['Date'] >= '2019-03-30 10:25:00') & (df['Date'] <= '2019-03-30 23:59:00')]\n",
        "#g2.to_csv('g2.csv', index = False)"
      ],
      "execution_count": null,
      "outputs": []
    },
    {
      "cell_type": "code",
      "metadata": {
        "id": "zMaVwLcs18r2"
      },
      "source": [
        "#3\n",
        "#s3 = df[(df['Date'] >= '2019-05-19 14:52:00') & (df['Date'] <= '2019-05-21 11:20:00')]\n",
        "#s3.to_csv('s3.csv', index = False)"
      ],
      "execution_count": null,
      "outputs": []
    },
    {
      "cell_type": "code",
      "metadata": {
        "id": "J-bj4Ka318r8"
      },
      "source": [
        "g3 = df[(df['Date'] >= '2019-05-21 11:53:00') & (df['Date'] <= '2019-05-25 00:55:00')]\n",
        "#g3.to_csv('g3.csv', index = False)"
      ],
      "execution_count": null,
      "outputs": []
    },
    {
      "cell_type": "code",
      "metadata": {
        "id": "kWE0tzn-18sH"
      },
      "source": [
        "#4\n",
        "#s4 = df[(df['Date'] >= '2019-06-04 15:43:00') & (df['Date'] <= '2019-06-05 14:57:00')]\n",
        "#s4.to_csv('s4.csv', index = False)"
      ],
      "execution_count": null,
      "outputs": []
    },
    {
      "cell_type": "code",
      "metadata": {
        "id": "50JZ8x5u18sN"
      },
      "source": [
        "g4 = df[(df['Date'] >= '2019-06-02 14:44:00') & (df['Date'] <= '2019-06-04 15:42:00')]\n",
        "#g4.to_csv('g4.csv', index = False)"
      ],
      "execution_count": null,
      "outputs": []
    },
    {
      "cell_type": "code",
      "metadata": {
        "id": "8kpbSucw18sX"
      },
      "source": [
        "#5\n",
        "#s5 = df[(df['Date'] >= '2019-07-12 12:25:00') & (df['Date'] <= '2019-07-13 12:12:00')]\n",
        "#s5.to_csv('s5.csv', index = False)"
      ],
      "execution_count": null,
      "outputs": []
    },
    {
      "cell_type": "code",
      "metadata": {
        "id": "Cx-U8-ej18sd"
      },
      "source": [
        "g5 = df[(df['Date'] >= '2019-07-13 12:17:00') & (df['Date'] <= '2019-07-15 13:53:00')]\n",
        "#g5.to_csv('g5.csv', index = False)"
      ],
      "execution_count": null,
      "outputs": []
    },
    {
      "cell_type": "code",
      "metadata": {
        "id": "PCPK5haG18sq"
      },
      "source": [
        "#6\n",
        "#s6 = df[(df['Date'] >= '2019-07-25 01:32:00') & (df['Date'] <= '2019-07-29 10:31:00')]\n",
        "#s6.to_csv('s6.csv', index = False)"
      ],
      "execution_count": null,
      "outputs": []
    },
    {
      "cell_type": "code",
      "metadata": {
        "id": "PLrwYgQp18s6"
      },
      "source": [
        "g6 = df[(df['Date'] >= '2019-07-22 17:42:00') & (df['Date'] <= '2019-07-25 01:29:00')]\n",
        "#g6.to_csv('g6.csv', index = False)"
      ],
      "execution_count": null,
      "outputs": []
    },
    {
      "cell_type": "code",
      "metadata": {
        "id": "f_KUQdjb18tH"
      },
      "source": [
        "#7\n",
        "#s7 = df[(df['Date'] >= '2019-08-05 11:18:00') & (df['Date'] <= '2019-08-07 11:20:00')]\n",
        "#s7.to_csv('s7.csv', index = False)"
      ],
      "execution_count": null,
      "outputs": []
    },
    {
      "cell_type": "code",
      "metadata": {
        "id": "7YrjgjbW18tQ"
      },
      "source": [
        "g7 = df[(df['Date'] >= '2019-08-04 00:08:00') & (df['Date'] <= '2019-08-05 11:17:00')]\n",
        "#g7.to_csv('g7.csv', index = False)"
      ],
      "execution_count": null,
      "outputs": []
    },
    {
      "cell_type": "code",
      "metadata": {
        "id": "4ywdaxGC18ta"
      },
      "source": [
        "#8\n",
        "#s8 = df[(df['Date'] >= '2019-08-31 13:20:00') & (df['Date'] <= '2019-09-01 11:18:00')]\n",
        "#s8.to_csv('s8.csv', index = False)"
      ],
      "execution_count": null,
      "outputs": []
    },
    {
      "cell_type": "code",
      "metadata": {
        "id": "HsHTWeAa18tg"
      },
      "source": [
        "g8 = df[(df['Date'] >= '2019-09-01 16:06:00') & (df['Date'] <= '2019-09-02 11:19:00')]\n",
        "#g8.to_csv('g8.csv', index = False)"
      ],
      "execution_count": null,
      "outputs": []
    },
    {
      "cell_type": "code",
      "metadata": {
        "id": "AuXchUWb18tr"
      },
      "source": [
        "#9\n",
        "#s9 = df[(df['Date'] >= '2019-09-12 12:36:00') & (df['Date'] <= '2019-09-15 13:18:00')]\n",
        "#s9.to_csv('s9.csv', index = False)"
      ],
      "execution_count": null,
      "outputs": []
    },
    {
      "cell_type": "code",
      "metadata": {
        "id": "zzbTFjms18ty"
      },
      "source": [
        "g9 = df[(df['Date'] >= '2019-09-10 17:58:00') & (df['Date'] <= '2019-09-12 12:32:00')]\n",
        "#g9.to_csv('g9.csv', index = False)"
      ],
      "execution_count": null,
      "outputs": []
    },
    {
      "cell_type": "code",
      "metadata": {
        "id": "N55s7Ur118t7"
      },
      "source": [
        "#10\n",
        "#s10 = df[(df['Date'] >= '2019-09-25 20:19:00') & (df['Date'] <= '2019-09-27 10:33:00')]\n",
        "#s10.to_csv('s10.csv', index = False)"
      ],
      "execution_count": null,
      "outputs": []
    },
    {
      "cell_type": "code",
      "metadata": {
        "id": "W5rX_nEF18uA"
      },
      "source": [
        "g10 = df[(df['Date'] >= '2019-09-24 10:45:00') & (df['Date'] <= '2019-09-25 20:18:00')]\n",
        "#g10.to_csv('g10.csv', index = False)"
      ],
      "execution_count": null,
      "outputs": []
    },
    {
      "cell_type": "code",
      "metadata": {
        "id": "2QUEPziL18uJ"
      },
      "source": [
        "#11\n",
        "#s11 = df[(df['Date'] >= '2019-10-06 22:02:00') & (df['Date'] <= '2019-10-09 17:35:00')]\n",
        "#s11.to_csv('s11.csv', index = False)"
      ],
      "execution_count": null,
      "outputs": []
    },
    {
      "cell_type": "code",
      "metadata": {
        "id": "dX9Jk9bn18uY"
      },
      "source": [
        "g11 = df[(df['Date'] >= '2019-10-04 11:55:00') & (df['Date'] <= '2019-10-06 22:01:00')]\n",
        "#g11.to_csv('g11.csv', index = False)"
      ],
      "execution_count": null,
      "outputs": []
    },
    {
      "cell_type": "code",
      "metadata": {
        "id": "DsvvYrYG18uh"
      },
      "source": [
        "#12\n",
        "#s12 = df[(df['Date'] >= '2019-10-20 14:43:00') & (df['Date'] <= '2019-10-22 13:05:00')]\n",
        "#s12.to_csv('s12.csv', index = False)"
      ],
      "execution_count": null,
      "outputs": []
    },
    {
      "cell_type": "code",
      "metadata": {
        "id": "8EZp1aZM18ut"
      },
      "source": [
        "g12 = df[(df['Date'] >= '2019-10-18 12:06:00') & (df['Date'] <= '2019-10-20 14:42:00')]\n",
        "#g12.to_csv('g12.csv', index = False)"
      ],
      "execution_count": null,
      "outputs": []
    },
    {
      "cell_type": "code",
      "metadata": {
        "id": "6njicbIe18ux"
      },
      "source": [
        "#13\n",
        "#s13 = df[(df['Date'] >= '2019-11-03 07:53:00') & (df['Date'] <= '2019-11-05 08:40:00')]\n",
        "#s13.to_csv('s13.csv', index = False)"
      ],
      "execution_count": null,
      "outputs": []
    },
    {
      "cell_type": "code",
      "metadata": {
        "id": "adCMaLWh18u1"
      },
      "source": [
        "g13 = df[(df['Date'] >= '2019-11-01 11:11:00') & (df['Date'] <= '2019-11-03 07:52:00')]\n",
        "#g13.to_csv('g13.csv', index = False)"
      ],
      "execution_count": null,
      "outputs": []
    },
    {
      "cell_type": "code",
      "metadata": {
        "id": "Hz6SKFw-18u7"
      },
      "source": [
        "#14\n",
        "#s14 = df[(df['Date'] >= '2019-11-20 09:40:00') & (df['Date'] <= '2019-11-26 09:56:00')]\n",
        "#s14.to_csv('s14.csv', index = False)"
      ],
      "execution_count": null,
      "outputs": []
    },
    {
      "cell_type": "code",
      "metadata": {
        "id": "IhvI_e4B18vB"
      },
      "source": [
        "g14 = df[(df['Date'] >= '2019-11-18 11:00:00') & (df['Date'] <= '2019-11-20 09:38:00')]\n",
        "#g14.to_csv('g14.csv', index = False)"
      ],
      "execution_count": null,
      "outputs": []
    },
    {
      "cell_type": "code",
      "metadata": {
        "id": "KsgDiK_s18vF"
      },
      "source": [
        "#15\n",
        "#s15 = df[(df['Date'] >= '2019-11-30 11:30:00') & (df['Date'] <= '2019-12-02 12:52:00')]\n",
        "#s15.to_csv('s15.csv', index = False)"
      ],
      "execution_count": null,
      "outputs": []
    },
    {
      "cell_type": "code",
      "metadata": {
        "id": "kziMomjj18vN"
      },
      "source": [
        "g15 = df[(df['Date'] >= '2019-11-29 11:37:00') & (df['Date'] <= '2019-11-30 11:29:00')]\n",
        "#g15.to_csv('g15.csv', index = False)"
      ],
      "execution_count": null,
      "outputs": []
    },
    {
      "cell_type": "code",
      "metadata": {
        "id": "NB6FBdVg18vS"
      },
      "source": [
        "#16\n",
        "#s16 = df[(df['Date'] >= '2019-12-18 00:00:00') & (df['Date'] <= '2019-12-19 20:22:00')]\n",
        "#s16.to_csv('s16.csv', index = False)"
      ],
      "execution_count": null,
      "outputs": []
    },
    {
      "cell_type": "code",
      "metadata": {
        "id": "lElX5IFS18vX"
      },
      "source": [
        "g16 = df[(df['Date'] >= '2019-12-17 15:06:00') & (df['Date'] <= '2019-12-17 23:59:00')]\n",
        "#g16.to_csv('g16.csv', index = False)"
      ],
      "execution_count": null,
      "outputs": []
    },
    {
      "cell_type": "code",
      "metadata": {
        "id": "8pXXiJoM18vd"
      },
      "source": [
        "#17\n",
        "#s17 = df[(df['Date'] >= '2019-12-31 12:40:00') & (df['Date'] <= '2020-01-02 23:24:00')]\n",
        "#s17.to_csv('s17.csv', index = False)"
      ],
      "execution_count": null,
      "outputs": []
    },
    {
      "cell_type": "code",
      "metadata": {
        "id": "yVDPdKER18vi"
      },
      "source": [
        "g17 = df[(df['Date'] >= '2019-12-29 15:38:00') & (df['Date'] <= '2019-12-31 12:39:00')]\n",
        "#g17.to_csv('g17.csv', index = False)"
      ],
      "execution_count": null,
      "outputs": []
    },
    {
      "cell_type": "code",
      "metadata": {
        "id": "3fBwGNV418vo"
      },
      "source": [
        "#18\n",
        "#s18 = df[(df['Date'] >= '2020-01-22 06:47:00') & (df['Date'] <= '2020-01-24 11:21:00')]\n",
        "#s18.to_csv('s18.csv', index = False)"
      ],
      "execution_count": null,
      "outputs": []
    },
    {
      "cell_type": "code",
      "metadata": {
        "id": "oPkpo8-T18vu"
      },
      "source": [
        "g18 = df[(df['Date'] >= '2020-01-20 15:58:00') & (df['Date'] <= '2020-01-22 06:46:00')]\n",
        "#g18.to_csv('g18.csv', index = False)"
      ],
      "execution_count": null,
      "outputs": []
    },
    {
      "cell_type": "code",
      "metadata": {
        "id": "7EPEgEAx18v0"
      },
      "source": [
        "#19\n",
        "#s19 = df[(df['Date'] >= '2020-02-02 13:44:00') & (df['Date'] <= '2020-02-05 12:31:00')]\n",
        "#s19.to_csv('s19.csv', index = False)"
      ],
      "execution_count": null,
      "outputs": []
    },
    {
      "cell_type": "code",
      "metadata": {
        "id": "pK3ZDyo-18v7"
      },
      "source": [
        "g19 = df[(df['Date'] >= '2020-01-31 12:50:00') & (df['Date'] <= '2020-02-02 13:42:00')]\n",
        "#g19.to_csv('g19.csv', index = False)"
      ],
      "execution_count": null,
      "outputs": []
    },
    {
      "cell_type": "code",
      "metadata": {
        "id": "P6rw7ht818wF"
      },
      "source": [
        "#20\n",
        "#s20 = df[(df['Date'] >= '2020-02-24 17:26:00') & (df['Date'] <= '2020-02-26 09:50:00')]\n",
        "#s20.to_csv('s20.csv', index = False)"
      ],
      "execution_count": null,
      "outputs": []
    },
    {
      "cell_type": "code",
      "metadata": {
        "id": "yxYkdcWh18wK"
      },
      "source": [
        "g20 = df[(df['Date'] >= '2020-02-20 10:37:00') & (df['Date'] <= '2020-02-21 14:25:00')]\n",
        "#g20.to_csv('g20.csv', index = False)"
      ],
      "execution_count": null,
      "outputs": []
    },
    {
      "cell_type": "code",
      "metadata": {
        "id": "ANhQQCSx18wP"
      },
      "source": [
        "#21\n",
        "#s21 = df[(df['Date'] >= '2020-03-05 17:45:00') & (df['Date'] <= '2020-03-07 11:49:00')]\n",
        "#s21.to_csv('s21.csv', index = False)"
      ],
      "execution_count": null,
      "outputs": []
    },
    {
      "cell_type": "code",
      "metadata": {
        "id": "jJAmQvWg18wV"
      },
      "source": [
        "g21 = df[(df['Date'] >= '2020-03-04 11:35:00') & (df['Date'] <= '2020-03-05 17:44:00')]\n",
        "#g21.to_csv('g21.csv', index = False)"
      ],
      "execution_count": null,
      "outputs": []
    },
    {
      "cell_type": "code",
      "metadata": {
        "id": "qm98ROQR18wc"
      },
      "source": [
        "g_combine = [g1, g2, g3, g4, g5, g6, g7, g8, g9, g10, g11, g12, g13, g14, g15, g16, g17, g18, g19, g20, g21]\n",
        "g = pd.concat(g_combine)"
      ],
      "execution_count": null,
      "outputs": []
    },
    {
      "cell_type": "code",
      "metadata": {
        "id": "TVSZ9lfQ18wj",
        "outputId": "b008c65b-911b-4697-b8a6-8fe335fd34ef"
      },
      "source": [
        "g.shape"
      ],
      "execution_count": null,
      "outputs": [
        {
          "output_type": "execute_result",
          "data": {
            "text/plain": [
              "(46983, 8)"
            ]
          },
          "metadata": {
            "tags": []
          },
          "execution_count": 47
        }
      ]
    },
    {
      "cell_type": "code",
      "metadata": {
        "id": "SCXAX4E318wq"
      },
      "source": [
        "#s_combine = [s1, s2, s3, s4, s5, s6, s7, s8, s9, s10, s11, s12, s13, s14, s15, s16, s17, s18, s19, s20, s21]\n",
        "#s = pd.concat(s_combine)"
      ],
      "execution_count": null,
      "outputs": []
    },
    {
      "cell_type": "code",
      "metadata": {
        "id": "cnXkn5iF18ww"
      },
      "source": [
        "#s.shape"
      ],
      "execution_count": null,
      "outputs": []
    },
    {
      "cell_type": "code",
      "metadata": {
        "id": "MfZGFGUh18wz"
      },
      "source": [
        "#df.shape"
      ],
      "execution_count": null,
      "outputs": []
    },
    {
      "cell_type": "code",
      "metadata": {
        "id": "nFoBxkMI18w5"
      },
      "source": [
        "g.to_csv('Ganga.csv', index = False)\n",
        "#s.to_csv('Sangam.csv', index = False)"
      ],
      "execution_count": null,
      "outputs": []
    }
  ]
}