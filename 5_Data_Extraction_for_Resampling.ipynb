{
  "nbformat": 4,
  "nbformat_minor": 0,
  "metadata": {
    "kernelspec": {
      "display_name": "Python 3",
      "language": "python",
      "name": "python3"
    },
    "language_info": {
      "codemirror_mode": {
        "name": "ipython",
        "version": 3
      },
      "file_extension": ".py",
      "mimetype": "text/x-python",
      "name": "python",
      "nbconvert_exporter": "python",
      "pygments_lexer": "ipython3",
      "version": "3.7.7"
    },
    "colab": {
      "name": "5. Data Extraction for Resampling.ipynb",
      "provenance": [],
      "collapsed_sections": [],
      "include_colab_link": true
    }
  },
  "cells": [
    {
      "cell_type": "markdown",
      "metadata": {
        "id": "view-in-github",
        "colab_type": "text"
      },
      "source": [
        "<a href=\"https://colab.research.google.com/github/Shivani-781/Ganga-Water-Quality-Assessment/blob/main/5_Data_Extraction_for_Resampling.ipynb\" target=\"_parent\"><img src=\"https://colab.research.google.com/assets/colab-badge.svg\" alt=\"Open In Colab\"/></a>"
      ]
    },
    {
      "cell_type": "markdown",
      "metadata": {
        "id": "gQJBcaRd5i8i"
      },
      "source": [
        "# Data Extraction for Resampling - Central Limit Theorem"
      ]
    },
    {
      "cell_type": "code",
      "metadata": {
        "id": "zelve3335i8l"
      },
      "source": [
        "import pandas as pd\n",
        "import numpy as np"
      ],
      "execution_count": null,
      "outputs": []
    },
    {
      "cell_type": "code",
      "metadata": {
        "id": "rqonEKhT5i80"
      },
      "source": [
        "df = pd.read_csv('final.csv')"
      ],
      "execution_count": null,
      "outputs": []
    },
    {
      "cell_type": "code",
      "metadata": {
        "id": "OAae61i85i87",
        "outputId": "6da4582e-3d58-40a9-831f-a78d3ee4d7d4"
      },
      "source": [
        "df.head()"
      ],
      "execution_count": null,
      "outputs": [
        {
          "output_type": "execute_result",
          "data": {
            "text/html": [
              "<div>\n",
              "<style scoped>\n",
              "    .dataframe tbody tr th:only-of-type {\n",
              "        vertical-align: middle;\n",
              "    }\n",
              "\n",
              "    .dataframe tbody tr th {\n",
              "        vertical-align: top;\n",
              "    }\n",
              "\n",
              "    .dataframe thead th {\n",
              "        text-align: right;\n",
              "    }\n",
              "</style>\n",
              "<table border=\"1\" class=\"dataframe\">\n",
              "  <thead>\n",
              "    <tr style=\"text-align: right;\">\n",
              "      <th></th>\n",
              "      <th>Date</th>\n",
              "      <th>Frame No</th>\n",
              "      <th>BAT</th>\n",
              "      <th>COND</th>\n",
              "      <th>DO</th>\n",
              "      <th>ORP</th>\n",
              "      <th>PH</th>\n",
              "      <th>WT</th>\n",
              "    </tr>\n",
              "  </thead>\n",
              "  <tbody>\n",
              "    <tr>\n",
              "      <th>0</th>\n",
              "      <td>2018-09-24 12:45:00</td>\n",
              "      <td>0</td>\n",
              "      <td>65.0</td>\n",
              "      <td>59.892838</td>\n",
              "      <td>77.444695</td>\n",
              "      <td>0.148257</td>\n",
              "      <td>6.379280</td>\n",
              "      <td>24.210846</td>\n",
              "    </tr>\n",
              "    <tr>\n",
              "      <th>1</th>\n",
              "      <td>2018-09-24 12:46:00</td>\n",
              "      <td>1</td>\n",
              "      <td>65.0</td>\n",
              "      <td>59.879820</td>\n",
              "      <td>77.076770</td>\n",
              "      <td>0.144755</td>\n",
              "      <td>6.331513</td>\n",
              "      <td>24.156006</td>\n",
              "    </tr>\n",
              "    <tr>\n",
              "      <th>2</th>\n",
              "      <td>2018-09-24 12:47:00</td>\n",
              "      <td>2</td>\n",
              "      <td>66.0</td>\n",
              "      <td>59.941690</td>\n",
              "      <td>76.227170</td>\n",
              "      <td>0.141710</td>\n",
              "      <td>6.372326</td>\n",
              "      <td>24.104614</td>\n",
              "    </tr>\n",
              "    <tr>\n",
              "      <th>3</th>\n",
              "      <td>2018-09-24 12:48:00</td>\n",
              "      <td>3</td>\n",
              "      <td>66.0</td>\n",
              "      <td>60.010353</td>\n",
              "      <td>77.731560</td>\n",
              "      <td>0.140641</td>\n",
              "      <td>6.391796</td>\n",
              "      <td>24.093994</td>\n",
              "    </tr>\n",
              "    <tr>\n",
              "      <th>4</th>\n",
              "      <td>2018-09-24 12:49:00</td>\n",
              "      <td>4</td>\n",
              "      <td>66.0</td>\n",
              "      <td>59.997463</td>\n",
              "      <td>76.798840</td>\n",
              "      <td>0.142180</td>\n",
              "      <td>6.339557</td>\n",
              "      <td>24.145294</td>\n",
              "    </tr>\n",
              "  </tbody>\n",
              "</table>\n",
              "</div>"
            ],
            "text/plain": [
              "                  Date  Frame No   BAT       COND         DO       ORP  \\\n",
              "0  2018-09-24 12:45:00         0  65.0  59.892838  77.444695  0.148257   \n",
              "1  2018-09-24 12:46:00         1  65.0  59.879820  77.076770  0.144755   \n",
              "2  2018-09-24 12:47:00         2  66.0  59.941690  76.227170  0.141710   \n",
              "3  2018-09-24 12:48:00         3  66.0  60.010353  77.731560  0.140641   \n",
              "4  2018-09-24 12:49:00         4  66.0  59.997463  76.798840  0.142180   \n",
              "\n",
              "         PH         WT  \n",
              "0  6.379280  24.210846  \n",
              "1  6.331513  24.156006  \n",
              "2  6.372326  24.104614  \n",
              "3  6.391796  24.093994  \n",
              "4  6.339557  24.145294  "
            ]
          },
          "metadata": {
            "tags": []
          },
          "execution_count": 3
        }
      ]
    },
    {
      "cell_type": "markdown",
      "metadata": {
        "id": "E4H4PN2T5i9F"
      },
      "source": [
        "Dropping rows with negative values"
      ]
    },
    {
      "cell_type": "code",
      "metadata": {
        "id": "vYQsadf15i9G"
      },
      "source": [
        "num = df._get_numeric_data()"
      ],
      "execution_count": null,
      "outputs": []
    },
    {
      "cell_type": "code",
      "metadata": {
        "id": "ySBpVkUm5i9P"
      },
      "source": [
        "num[num<0] = np.nan"
      ],
      "execution_count": null,
      "outputs": []
    },
    {
      "cell_type": "code",
      "metadata": {
        "id": "_xziYZcl5i9W",
        "outputId": "4660bba6-e068-4341-8660-bc59d55bcdf3"
      },
      "source": [
        "df.isnull().sum()"
      ],
      "execution_count": null,
      "outputs": [
        {
          "output_type": "execute_result",
          "data": {
            "text/plain": [
              "Date            0\n",
              "Frame No        0\n",
              "BAT             5\n",
              "COND           30\n",
              "DO          89884\n",
              "ORP         13080\n",
              "PH              6\n",
              "WT              0\n",
              "dtype: int64"
            ]
          },
          "metadata": {
            "tags": []
          },
          "execution_count": 6
        }
      ]
    },
    {
      "cell_type": "code",
      "metadata": {
        "id": "QkWKf99Q5i9j"
      },
      "source": [
        "df = df.dropna()"
      ],
      "execution_count": null,
      "outputs": []
    },
    {
      "cell_type": "code",
      "metadata": {
        "id": "9Xc68KWh5i9t",
        "outputId": "d557f7bb-1daf-40bb-99fa-e3b2057f1159"
      },
      "source": [
        "df"
      ],
      "execution_count": null,
      "outputs": [
        {
          "output_type": "execute_result",
          "data": {
            "text/html": [
              "<div>\n",
              "<style scoped>\n",
              "    .dataframe tbody tr th:only-of-type {\n",
              "        vertical-align: middle;\n",
              "    }\n",
              "\n",
              "    .dataframe tbody tr th {\n",
              "        vertical-align: top;\n",
              "    }\n",
              "\n",
              "    .dataframe thead th {\n",
              "        text-align: right;\n",
              "    }\n",
              "</style>\n",
              "<table border=\"1\" class=\"dataframe\">\n",
              "  <thead>\n",
              "    <tr style=\"text-align: right;\">\n",
              "      <th></th>\n",
              "      <th>Date</th>\n",
              "      <th>Frame No</th>\n",
              "      <th>BAT</th>\n",
              "      <th>COND</th>\n",
              "      <th>DO</th>\n",
              "      <th>ORP</th>\n",
              "      <th>PH</th>\n",
              "      <th>WT</th>\n",
              "    </tr>\n",
              "  </thead>\n",
              "  <tbody>\n",
              "    <tr>\n",
              "      <th>0</th>\n",
              "      <td>2018-09-24 12:45:00</td>\n",
              "      <td>0</td>\n",
              "      <td>65.0</td>\n",
              "      <td>59.892838</td>\n",
              "      <td>77.444695</td>\n",
              "      <td>0.148257</td>\n",
              "      <td>6.379280</td>\n",
              "      <td>24.210846</td>\n",
              "    </tr>\n",
              "    <tr>\n",
              "      <th>1</th>\n",
              "      <td>2018-09-24 12:46:00</td>\n",
              "      <td>1</td>\n",
              "      <td>65.0</td>\n",
              "      <td>59.879820</td>\n",
              "      <td>77.076770</td>\n",
              "      <td>0.144755</td>\n",
              "      <td>6.331513</td>\n",
              "      <td>24.156006</td>\n",
              "    </tr>\n",
              "    <tr>\n",
              "      <th>2</th>\n",
              "      <td>2018-09-24 12:47:00</td>\n",
              "      <td>2</td>\n",
              "      <td>66.0</td>\n",
              "      <td>59.941690</td>\n",
              "      <td>76.227170</td>\n",
              "      <td>0.141710</td>\n",
              "      <td>6.372326</td>\n",
              "      <td>24.104614</td>\n",
              "    </tr>\n",
              "    <tr>\n",
              "      <th>3</th>\n",
              "      <td>2018-09-24 12:48:00</td>\n",
              "      <td>3</td>\n",
              "      <td>66.0</td>\n",
              "      <td>60.010353</td>\n",
              "      <td>77.731560</td>\n",
              "      <td>0.140641</td>\n",
              "      <td>6.391796</td>\n",
              "      <td>24.093994</td>\n",
              "    </tr>\n",
              "    <tr>\n",
              "      <th>4</th>\n",
              "      <td>2018-09-24 12:49:00</td>\n",
              "      <td>4</td>\n",
              "      <td>66.0</td>\n",
              "      <td>59.997463</td>\n",
              "      <td>76.798840</td>\n",
              "      <td>0.142180</td>\n",
              "      <td>6.339557</td>\n",
              "      <td>24.145294</td>\n",
              "    </tr>\n",
              "    <tr>\n",
              "      <th>...</th>\n",
              "      <td>...</td>\n",
              "      <td>...</td>\n",
              "      <td>...</td>\n",
              "      <td>...</td>\n",
              "      <td>...</td>\n",
              "      <td>...</td>\n",
              "      <td>...</td>\n",
              "      <td>...</td>\n",
              "    </tr>\n",
              "    <tr>\n",
              "      <th>112504</th>\n",
              "      <td>2020-03-05 16:37:00</td>\n",
              "      <td>132</td>\n",
              "      <td>96.0</td>\n",
              "      <td>719.133700</td>\n",
              "      <td>10.065145</td>\n",
              "      <td>0.122582</td>\n",
              "      <td>9.076067</td>\n",
              "      <td>27.055939</td>\n",
              "    </tr>\n",
              "    <tr>\n",
              "      <th>112505</th>\n",
              "      <td>2020-03-05 16:38:00</td>\n",
              "      <td>133</td>\n",
              "      <td>96.0</td>\n",
              "      <td>719.246400</td>\n",
              "      <td>10.190168</td>\n",
              "      <td>0.122683</td>\n",
              "      <td>9.070711</td>\n",
              "      <td>27.062134</td>\n",
              "    </tr>\n",
              "    <tr>\n",
              "      <th>112506</th>\n",
              "      <td>2020-03-05 16:39:00</td>\n",
              "      <td>134</td>\n",
              "      <td>96.0</td>\n",
              "      <td>719.105900</td>\n",
              "      <td>9.840115</td>\n",
              "      <td>0.122601</td>\n",
              "      <td>9.078075</td>\n",
              "      <td>27.064880</td>\n",
              "    </tr>\n",
              "    <tr>\n",
              "      <th>112507</th>\n",
              "      <td>2020-03-05 16:40:00</td>\n",
              "      <td>135</td>\n",
              "      <td>96.0</td>\n",
              "      <td>719.006600</td>\n",
              "      <td>9.861490</td>\n",
              "      <td>0.122602</td>\n",
              "      <td>9.075930</td>\n",
              "      <td>27.062317</td>\n",
              "    </tr>\n",
              "    <tr>\n",
              "      <th>112508</th>\n",
              "      <td>2020-03-05 16:41:00</td>\n",
              "      <td>136</td>\n",
              "      <td>96.0</td>\n",
              "      <td>718.848500</td>\n",
              "      <td>10.143466</td>\n",
              "      <td>0.122650</td>\n",
              "      <td>9.076082</td>\n",
              "      <td>27.063232</td>\n",
              "    </tr>\n",
              "  </tbody>\n",
              "</table>\n",
              "<p>18600 rows × 8 columns</p>\n",
              "</div>"
            ],
            "text/plain": [
              "                       Date  Frame No   BAT        COND         DO       ORP  \\\n",
              "0       2018-09-24 12:45:00         0  65.0   59.892838  77.444695  0.148257   \n",
              "1       2018-09-24 12:46:00         1  65.0   59.879820  77.076770  0.144755   \n",
              "2       2018-09-24 12:47:00         2  66.0   59.941690  76.227170  0.141710   \n",
              "3       2018-09-24 12:48:00         3  66.0   60.010353  77.731560  0.140641   \n",
              "4       2018-09-24 12:49:00         4  66.0   59.997463  76.798840  0.142180   \n",
              "...                     ...       ...   ...         ...        ...       ...   \n",
              "112504  2020-03-05 16:37:00       132  96.0  719.133700  10.065145  0.122582   \n",
              "112505  2020-03-05 16:38:00       133  96.0  719.246400  10.190168  0.122683   \n",
              "112506  2020-03-05 16:39:00       134  96.0  719.105900   9.840115  0.122601   \n",
              "112507  2020-03-05 16:40:00       135  96.0  719.006600   9.861490  0.122602   \n",
              "112508  2020-03-05 16:41:00       136  96.0  718.848500  10.143466  0.122650   \n",
              "\n",
              "              PH         WT  \n",
              "0       6.379280  24.210846  \n",
              "1       6.331513  24.156006  \n",
              "2       6.372326  24.104614  \n",
              "3       6.391796  24.093994  \n",
              "4       6.339557  24.145294  \n",
              "...          ...        ...  \n",
              "112504  9.076067  27.055939  \n",
              "112505  9.070711  27.062134  \n",
              "112506  9.078075  27.064880  \n",
              "112507  9.075930  27.062317  \n",
              "112508  9.076082  27.063232  \n",
              "\n",
              "[18600 rows x 8 columns]"
            ]
          },
          "metadata": {
            "tags": []
          },
          "execution_count": 8
        }
      ]
    },
    {
      "cell_type": "code",
      "metadata": {
        "id": "N4WTKCz-5i93"
      },
      "source": [
        "#1\n",
        "#s1 = df[(df['Date'] >= '2019-01-12 00:00:00') & (df['Date'] <= '2019-01-12 16:04:00')]\n",
        "#s1.to_csv('s1.csv', index = False)"
      ],
      "execution_count": null,
      "outputs": []
    },
    {
      "cell_type": "code",
      "metadata": {
        "id": "yHkN1F5M5i99"
      },
      "source": [
        "g1 = df[(df['Date'] >= '2019-01-12 12:57:00') & (df['Date'] <= '2019-01-12 23:59:00')]\n",
        "g1.to_csv('g1.csv', index = False)"
      ],
      "execution_count": null,
      "outputs": []
    },
    {
      "cell_type": "code",
      "metadata": {
        "id": "5zdnmcZT5i-E"
      },
      "source": [
        "#2\n",
        "#s2 = df[(df['Date'] >= '2019-03-30 00:00:00') & (df['Date'] <= '2019-03-30 14:18:00')]\n",
        "#s2.to_csv('s2.csv', index = False)"
      ],
      "execution_count": null,
      "outputs": []
    },
    {
      "cell_type": "code",
      "metadata": {
        "id": "5hct7k_Y5i-O"
      },
      "source": [
        "g2 = df[(df['Date'] >= '2019-03-30 10:25:00') & (df['Date'] <= '2019-03-30 23:59:00')]\n",
        "g2.to_csv('g2.csv', index = False)"
      ],
      "execution_count": null,
      "outputs": []
    },
    {
      "cell_type": "code",
      "metadata": {
        "id": "qTjKQnOn5i-X"
      },
      "source": [
        "#3\n",
        "#s3 = df[(df['Date'] >= '2019-05-19 14:52:00') & (df['Date'] <= '2019-05-21 11:20:00')]\n",
        "#s3.to_csv('s3.csv', index = False)"
      ],
      "execution_count": null,
      "outputs": []
    },
    {
      "cell_type": "code",
      "metadata": {
        "id": "7TDJfzui5i-d"
      },
      "source": [
        "g3 = df[(df['Date'] >= '2019-05-21 11:53:00') & (df['Date'] <= '2019-05-25 00:55:00')]\n",
        "g3.to_csv('g3.csv', index = False)"
      ],
      "execution_count": null,
      "outputs": []
    },
    {
      "cell_type": "code",
      "metadata": {
        "id": "dE9zKYyE5i-k"
      },
      "source": [
        "#4\n",
        "#s4 = df[(df['Date'] >= '2019-06-04 15:43:00') & (df['Date'] <= '2019-06-05 14:57:00')]\n",
        "#s4.to_csv('s4.csv', index = False)"
      ],
      "execution_count": null,
      "outputs": []
    },
    {
      "cell_type": "code",
      "metadata": {
        "id": "ekcQkEgh5i-q"
      },
      "source": [
        "g4 = df[(df['Date'] >= '2019-06-02 14:44:00') & (df['Date'] <= '2019-06-04 15:42:00')]\n",
        "g4.to_csv('g4.csv', index = False)"
      ],
      "execution_count": null,
      "outputs": []
    },
    {
      "cell_type": "code",
      "metadata": {
        "id": "wJPnN2dG5i-w"
      },
      "source": [
        "#5\n",
        "#s5 = df[(df['Date'] >= '2019-07-12 12:25:00') & (df['Date'] <= '2019-07-13 12:12:00')]\n",
        "#s5.to_csv('s5.csv', index = False)"
      ],
      "execution_count": null,
      "outputs": []
    },
    {
      "cell_type": "code",
      "metadata": {
        "id": "ccIo0h1x5i-5"
      },
      "source": [
        "g5 = df[(df['Date'] >= '2019-07-13 12:17:00') & (df['Date'] <= '2019-07-15 13:53:00')]\n",
        "g5.to_csv('g5.csv', index = False)"
      ],
      "execution_count": null,
      "outputs": []
    },
    {
      "cell_type": "code",
      "metadata": {
        "id": "mUeLnZ-q5i-_"
      },
      "source": [
        "#6\n",
        "#s6 = df[(df['Date'] >= '2019-07-25 01:32:00') & (df['Date'] <= '2019-07-29 10:31:00')]\n",
        "#s6.to_csv('s6.csv', index = False)"
      ],
      "execution_count": null,
      "outputs": []
    },
    {
      "cell_type": "code",
      "metadata": {
        "id": "zn2hyd8t5i_H"
      },
      "source": [
        "g6 = df[(df['Date'] >= '2019-07-22 17:42:00') & (df['Date'] <= '2019-07-25 01:29:00')]\n",
        "g6.to_csv('g6.csv', index = False)"
      ],
      "execution_count": null,
      "outputs": []
    },
    {
      "cell_type": "code",
      "metadata": {
        "id": "bHQlzGdW5i_N"
      },
      "source": [
        "#7\n",
        "#s7 = df[(df['Date'] >= '2019-08-05 11:18:00') & (df['Date'] <= '2019-08-07 11:20:00')]\n",
        "#s7.to_csv('s7.csv', index = False)"
      ],
      "execution_count": null,
      "outputs": []
    },
    {
      "cell_type": "code",
      "metadata": {
        "id": "drPUxhbg5i_V"
      },
      "source": [
        "g7 = df[(df['Date'] >= '2019-08-04 00:08:00') & (df['Date'] <= '2019-08-05 11:17:00')]\n",
        "g7.to_csv('g7.csv', index = False)"
      ],
      "execution_count": null,
      "outputs": []
    },
    {
      "cell_type": "code",
      "metadata": {
        "id": "os3Rc-VZ5i_d"
      },
      "source": [
        "#8\n",
        "#s8 = df[(df['Date'] >= '2019-08-31 13:20:00') & (df['Date'] <= '2019-09-01 11:18:00')]\n",
        "#s8.to_csv('s8.csv', index = False)"
      ],
      "execution_count": null,
      "outputs": []
    },
    {
      "cell_type": "code",
      "metadata": {
        "id": "epcG0q8O5i_n"
      },
      "source": [
        "g8 = df[(df['Date'] >= '2019-09-01 16:06:00') & (df['Date'] <= '2019-09-02 11:19:00')]\n",
        "g8.to_csv('g8.csv', index = False)"
      ],
      "execution_count": null,
      "outputs": []
    },
    {
      "cell_type": "code",
      "metadata": {
        "id": "IgGla_Ch5i_w"
      },
      "source": [
        "#9\n",
        "#s9 = df[(df['Date'] >= '2019-09-12 12:36:00') & (df['Date'] <= '2019-09-15 13:18:00')]\n",
        "#s9.to_csv('s9.csv', index = False)"
      ],
      "execution_count": null,
      "outputs": []
    },
    {
      "cell_type": "code",
      "metadata": {
        "id": "UBLMBLyW5i_7"
      },
      "source": [
        "g9 = df[(df['Date'] >= '2019-09-10 17:58:00') & (df['Date'] <= '2019-09-12 12:32:00')]\n",
        "g9.to_csv('g9.csv', index = False)"
      ],
      "execution_count": null,
      "outputs": []
    },
    {
      "cell_type": "code",
      "metadata": {
        "id": "ugZD1zGm5jAC"
      },
      "source": [
        "#10\n",
        "#s10 = df[(df['Date'] >= '2019-09-25 20:19:00') & (df['Date'] <= '2019-09-27 10:33:00')]\n",
        "#s10.to_csv('s10.csv', index = False)"
      ],
      "execution_count": null,
      "outputs": []
    },
    {
      "cell_type": "code",
      "metadata": {
        "id": "hFAr4U1j5jAL"
      },
      "source": [
        "g10 = df[(df['Date'] >= '2019-09-24 10:45:00') & (df['Date'] <= '2019-09-25 20:18:00')]\n",
        "g10.to_csv('g10.csv', index = False)"
      ],
      "execution_count": null,
      "outputs": []
    },
    {
      "cell_type": "code",
      "metadata": {
        "id": "6iYrX1D75jAR"
      },
      "source": [
        "#11\n",
        "#s11 = df[(df['Date'] >= '2019-10-06 22:02:00') & (df['Date'] <= '2019-10-09 17:35:00')]\n",
        "#s11.to_csv('s11.csv', index = False)"
      ],
      "execution_count": null,
      "outputs": []
    },
    {
      "cell_type": "code",
      "metadata": {
        "id": "Ek5J8YPF5jAZ"
      },
      "source": [
        "g11 = df[(df['Date'] >= '2019-10-04 11:55:00') & (df['Date'] <= '2019-10-06 22:01:00')]\n",
        "g11.to_csv('g11.csv', index = False)"
      ],
      "execution_count": null,
      "outputs": []
    },
    {
      "cell_type": "code",
      "metadata": {
        "id": "CPMbDwq35jAk"
      },
      "source": [
        "#12\n",
        "#s12 = df[(df['Date'] >= '2019-10-20 14:43:00') & (df['Date'] <= '2019-10-22 13:05:00')]\n",
        "#s12.to_csv('s12.csv', index = False)"
      ],
      "execution_count": null,
      "outputs": []
    },
    {
      "cell_type": "code",
      "metadata": {
        "id": "UXhwBUux5jAs"
      },
      "source": [
        "g12 = df[(df['Date'] >= '2019-10-18 12:06:00') & (df['Date'] <= '2019-10-20 14:42:00')]\n",
        "g12.to_csv('g12.csv', index = False)"
      ],
      "execution_count": null,
      "outputs": []
    },
    {
      "cell_type": "code",
      "metadata": {
        "id": "LSsEcRjJ5jAy"
      },
      "source": [
        "#13\n",
        "#s13 = df[(df['Date'] >= '2019-11-03 07:53:00') & (df['Date'] <= '2019-11-05 08:40:00')]\n",
        "#s13.to_csv('s13.csv', index = False)"
      ],
      "execution_count": null,
      "outputs": []
    },
    {
      "cell_type": "code",
      "metadata": {
        "id": "_Fc1rBQO5jA5"
      },
      "source": [
        "g13 = df[(df['Date'] >= '2019-11-01 11:11:00') & (df['Date'] <= '2019-11-03 07:52:00')]\n",
        "g13.to_csv('g13.csv', index = False)"
      ],
      "execution_count": null,
      "outputs": []
    },
    {
      "cell_type": "code",
      "metadata": {
        "id": "erRNZ0Cc5jA_"
      },
      "source": [
        "#14\n",
        "#s14 = df[(df['Date'] >= '2019-11-20 09:40:00') & (df['Date'] <= '2019-11-26 09:56:00')]\n",
        "#s14.to_csv('s14.csv', index = False)"
      ],
      "execution_count": null,
      "outputs": []
    },
    {
      "cell_type": "code",
      "metadata": {
        "id": "XyukgSNz5jBG"
      },
      "source": [
        "g14 = df[(df['Date'] >= '2019-11-18 11:00:00') & (df['Date'] <= '2019-11-20 09:38:00')]\n",
        "g14.to_csv('g14.csv', index = False)"
      ],
      "execution_count": null,
      "outputs": []
    },
    {
      "cell_type": "code",
      "metadata": {
        "id": "-ZUNyukx5jBQ"
      },
      "source": [
        "#15\n",
        "#s15 = df[(df['Date'] >= '2019-11-30 11:30:00') & (df['Date'] <= '2019-12-02 12:52:00')]\n",
        "#s15.to_csv('s15.csv', index = False)"
      ],
      "execution_count": null,
      "outputs": []
    },
    {
      "cell_type": "code",
      "metadata": {
        "id": "wVmJT8v85jBY"
      },
      "source": [
        "g15 = df[(df['Date'] >= '2019-11-29 11:37:00') & (df['Date'] <= '2019-11-30 11:29:00')]\n",
        "g15.to_csv('g15.csv', index = False)"
      ],
      "execution_count": null,
      "outputs": []
    },
    {
      "cell_type": "code",
      "metadata": {
        "id": "e78ZKNXB5jBf"
      },
      "source": [
        "#16\n",
        "#s16 = df[(df['Date'] >= '2019-12-18 00:00:00') & (df['Date'] <= '2019-12-19 20:22:00')]\n",
        "#s16.to_csv('s16.csv', index = False)"
      ],
      "execution_count": null,
      "outputs": []
    },
    {
      "cell_type": "code",
      "metadata": {
        "id": "1IGCdt_45jBl"
      },
      "source": [
        "g16 = df[(df['Date'] >= '2019-12-17 15:06:00') & (df['Date'] <= '2019-12-17 23:59:00')]\n",
        "g16.to_csv('g16.csv', index = False)"
      ],
      "execution_count": null,
      "outputs": []
    },
    {
      "cell_type": "code",
      "metadata": {
        "id": "3jfU-Fqh5jBv"
      },
      "source": [
        "#17\n",
        "#s17 = df[(df['Date'] >= '2019-12-31 12:40:00') & (df['Date'] <= '2020-01-02 23:24:00')]\n",
        "#s17.to_csv('s17.csv', index = False)"
      ],
      "execution_count": null,
      "outputs": []
    },
    {
      "cell_type": "code",
      "metadata": {
        "id": "GdrZWQYh5jB8"
      },
      "source": [
        "g17 = df[(df['Date'] >= '2019-12-29 15:38:00') & (df['Date'] <= '2019-12-31 12:39:00')]\n",
        "g17.to_csv('g17.csv', index = False)"
      ],
      "execution_count": null,
      "outputs": []
    },
    {
      "cell_type": "code",
      "metadata": {
        "id": "Yz0XTwsH5jCE"
      },
      "source": [
        "#18\n",
        "#s18 = df[(df['Date'] >= '2020-01-22 06:47:00') & (df['Date'] <= '2020-01-24 11:21:00')]\n",
        "#s18.to_csv('s18.csv', index = False)"
      ],
      "execution_count": null,
      "outputs": []
    },
    {
      "cell_type": "code",
      "metadata": {
        "id": "9CiNNeVo5jCM"
      },
      "source": [
        "g18 = df[(df['Date'] >= '2020-01-20 15:58:00') & (df['Date'] <= '2020-01-22 06:46:00')]\n",
        "g18.to_csv('g18.csv', index = False)"
      ],
      "execution_count": null,
      "outputs": []
    },
    {
      "cell_type": "code",
      "metadata": {
        "id": "5PLIy9tp5jCU"
      },
      "source": [
        "#19\n",
        "#s19 = df[(df['Date'] >= '2020-02-02 13:44:00') & (df['Date'] <= '2020-02-05 12:31:00')]\n",
        "#s19.to_csv('s19.csv', index = False)"
      ],
      "execution_count": null,
      "outputs": []
    },
    {
      "cell_type": "code",
      "metadata": {
        "id": "p_y-nAv_5jCd"
      },
      "source": [
        "g19 = df[(df['Date'] >= '2020-01-31 12:50:00') & (df['Date'] <= '2020-02-02 13:42:00')]\n",
        "g19.to_csv('g19.csv', index = False)"
      ],
      "execution_count": null,
      "outputs": []
    },
    {
      "cell_type": "code",
      "metadata": {
        "id": "-z9YYyFt5jCj"
      },
      "source": [
        "#20\n",
        "#s20 = df[(df['Date'] >= '2020-02-24 17:26:00') & (df['Date'] <= '2020-02-26 09:50:00')]\n",
        "#s20.to_csv('s20.csv', index = False)"
      ],
      "execution_count": null,
      "outputs": []
    },
    {
      "cell_type": "code",
      "metadata": {
        "id": "SsR9y20D5jCs"
      },
      "source": [
        "g20 = df[(df['Date'] >= '2020-02-20 10:37:00') & (df['Date'] <= '2020-02-21 14:25:00')]\n",
        "g20.to_csv('g20.csv', index = False)"
      ],
      "execution_count": null,
      "outputs": []
    },
    {
      "cell_type": "code",
      "metadata": {
        "id": "vi3zc8pT5jC1"
      },
      "source": [
        "#21\n",
        "#s21 = df[(df['Date'] >= '2020-03-05 17:45:00') & (df['Date'] <= '2020-03-07 11:49:00')]\n",
        "#s21.to_csv('s21.csv', index = False)"
      ],
      "execution_count": null,
      "outputs": []
    },
    {
      "cell_type": "code",
      "metadata": {
        "id": "jwGdjyte5jC6"
      },
      "source": [
        "g21 = df[(df['Date'] >= '2020-03-04 11:35:00') & (df['Date'] <= '2020-03-05 17:44:00')]\n",
        "g21.to_csv('g21.csv', index = False)"
      ],
      "execution_count": null,
      "outputs": []
    },
    {
      "cell_type": "code",
      "metadata": {
        "id": "IWygLfT_5jDJ"
      },
      "source": [
        "g_combine = [g1, g2, g3, g4, g5, g6, g7, g8, g9, g10, g11, g12, g13, g14, g15, g16, g17, g18, g19, g20, g21]\n",
        "g = pd.concat(g_combine)"
      ],
      "execution_count": null,
      "outputs": []
    },
    {
      "cell_type": "code",
      "metadata": {
        "id": "OGLoC_VW5jDT",
        "outputId": "06832cf7-5878-4a4a-9b64-8c864c1e4a70"
      },
      "source": [
        "g.shape"
      ],
      "execution_count": null,
      "outputs": [
        {
          "output_type": "execute_result",
          "data": {
            "text/plain": [
              "(8087, 8)"
            ]
          },
          "metadata": {
            "tags": []
          },
          "execution_count": 52
        }
      ]
    },
    {
      "cell_type": "code",
      "metadata": {
        "id": "xKXdTIqq5jDc"
      },
      "source": [
        "#s_combine = [s1, s2, s3, s4, s5, s6, s7, s8, s9, s10, s11, s12, s13, s14, s15, s16, s17, s18, s19, s20, s21]\n",
        "#s = pd.concat(s_combine)"
      ],
      "execution_count": null,
      "outputs": []
    },
    {
      "cell_type": "code",
      "metadata": {
        "id": "k3v98QDq5jDj"
      },
      "source": [
        "#s.shape"
      ],
      "execution_count": null,
      "outputs": []
    },
    {
      "cell_type": "code",
      "metadata": {
        "id": "Xkg8pa2W5jDp",
        "outputId": "c19f776b-7684-4594-c918-e486ba1c76d8"
      },
      "source": [
        "df.shape"
      ],
      "execution_count": null,
      "outputs": [
        {
          "output_type": "execute_result",
          "data": {
            "text/plain": [
              "(18600, 8)"
            ]
          },
          "metadata": {
            "tags": []
          },
          "execution_count": 55
        }
      ]
    },
    {
      "cell_type": "code",
      "metadata": {
        "id": "1pqsVMdc5jD1"
      },
      "source": [
        "g.to_csv('Ganga_Resampling.csv', index = False)\n",
        "#s.to_csv('Sangam.csv', index = False)"
      ],
      "execution_count": null,
      "outputs": []
    }
  ]
}