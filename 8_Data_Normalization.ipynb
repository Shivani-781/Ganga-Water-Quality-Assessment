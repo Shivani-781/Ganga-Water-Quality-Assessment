{
  "nbformat": 4,
  "nbformat_minor": 0,
  "metadata": {
    "kernelspec": {
      "display_name": "Python 3",
      "language": "python",
      "name": "python3"
    },
    "language_info": {
      "codemirror_mode": {
        "name": "ipython",
        "version": 3
      },
      "file_extension": ".py",
      "mimetype": "text/x-python",
      "name": "python",
      "nbconvert_exporter": "python",
      "pygments_lexer": "ipython3",
      "version": "3.7.7"
    },
    "colab": {
      "name": "8. Data Normalization.ipynb",
      "provenance": [],
      "include_colab_link": true
    }
  },
  "cells": [
    {
      "cell_type": "markdown",
      "metadata": {
        "id": "view-in-github",
        "colab_type": "text"
      },
      "source": [
        "<a href=\"https://colab.research.google.com/github/Shivani-781/Ganga-Water-Quality-Assessment/blob/main/8_Data_Normalization.ipynb\" target=\"_parent\"><img src=\"https://colab.research.google.com/assets/colab-badge.svg\" alt=\"Open In Colab\"/></a>"
      ]
    },
    {
      "cell_type": "markdown",
      "metadata": {
        "id": "CClYHu7T-QrP"
      },
      "source": [
        "# Normalizing using MinMaxScaler"
      ]
    },
    {
      "cell_type": "code",
      "metadata": {
        "id": "qTyIWjky-QrR"
      },
      "source": [
        "import numpy as np\n",
        "import pandas as pd\n",
        "import matplotlib.pyplot as plt\n",
        "from sklearn.preprocessing import MinMaxScaler\n",
        "import seaborn as sns\n",
        "sns.set()\n",
        "%matplotlib inline"
      ],
      "execution_count": null,
      "outputs": []
    },
    {
      "cell_type": "code",
      "metadata": {
        "id": "vijXx28M-Qrc"
      },
      "source": [
        "df = pd.read_csv('Ganga_data.csv')"
      ],
      "execution_count": null,
      "outputs": []
    },
    {
      "cell_type": "code",
      "metadata": {
        "id": "l9IOSXXI-Qri",
        "outputId": "3e254971-3a47-44bd-e2e8-9a632ad1af2e"
      },
      "source": [
        "df"
      ],
      "execution_count": null,
      "outputs": [
        {
          "output_type": "execute_result",
          "data": {
            "text/html": [
              "<div>\n",
              "<style scoped>\n",
              "    .dataframe tbody tr th:only-of-type {\n",
              "        vertical-align: middle;\n",
              "    }\n",
              "\n",
              "    .dataframe tbody tr th {\n",
              "        vertical-align: top;\n",
              "    }\n",
              "\n",
              "    .dataframe thead th {\n",
              "        text-align: right;\n",
              "    }\n",
              "</style>\n",
              "<table border=\"1\" class=\"dataframe\">\n",
              "  <thead>\n",
              "    <tr style=\"text-align: right;\">\n",
              "      <th></th>\n",
              "      <th>Date</th>\n",
              "      <th>Frame No</th>\n",
              "      <th>BAT</th>\n",
              "      <th>COND</th>\n",
              "      <th>DO</th>\n",
              "      <th>ORP</th>\n",
              "      <th>PH</th>\n",
              "      <th>WT</th>\n",
              "    </tr>\n",
              "  </thead>\n",
              "  <tbody>\n",
              "    <tr>\n",
              "      <th>0</th>\n",
              "      <td>12-01-2019 12:57</td>\n",
              "      <td>0</td>\n",
              "      <td>91.0</td>\n",
              "      <td>0.044698</td>\n",
              "      <td>14.832754</td>\n",
              "      <td>0.084822</td>\n",
              "      <td>8.879727</td>\n",
              "      <td>22.650238</td>\n",
              "    </tr>\n",
              "    <tr>\n",
              "      <th>1</th>\n",
              "      <td>12-01-2019 12:58</td>\n",
              "      <td>1</td>\n",
              "      <td>92.0</td>\n",
              "      <td>0.044651</td>\n",
              "      <td>14.170345</td>\n",
              "      <td>0.086292</td>\n",
              "      <td>8.866815</td>\n",
              "      <td>22.567017</td>\n",
              "    </tr>\n",
              "    <tr>\n",
              "      <th>2</th>\n",
              "      <td>12-01-2019 14:54</td>\n",
              "      <td>0</td>\n",
              "      <td>90.0</td>\n",
              "      <td>46.195190</td>\n",
              "      <td>13.501176</td>\n",
              "      <td>0.142900</td>\n",
              "      <td>12.359906</td>\n",
              "      <td>18.400787</td>\n",
              "    </tr>\n",
              "    <tr>\n",
              "      <th>3</th>\n",
              "      <td>12-01-2019 14:55</td>\n",
              "      <td>1</td>\n",
              "      <td>91.0</td>\n",
              "      <td>52.609680</td>\n",
              "      <td>20.752865</td>\n",
              "      <td>0.146236</td>\n",
              "      <td>12.825684</td>\n",
              "      <td>18.013641</td>\n",
              "    </tr>\n",
              "    <tr>\n",
              "      <th>4</th>\n",
              "      <td>12-01-2019 14:56</td>\n",
              "      <td>2</td>\n",
              "      <td>91.0</td>\n",
              "      <td>52.399826</td>\n",
              "      <td>12.409351</td>\n",
              "      <td>0.146724</td>\n",
              "      <td>12.998978</td>\n",
              "      <td>18.184570</td>\n",
              "    </tr>\n",
              "    <tr>\n",
              "      <th>...</th>\n",
              "      <td>...</td>\n",
              "      <td>...</td>\n",
              "      <td>...</td>\n",
              "      <td>...</td>\n",
              "      <td>...</td>\n",
              "      <td>...</td>\n",
              "      <td>...</td>\n",
              "      <td>...</td>\n",
              "    </tr>\n",
              "    <tr>\n",
              "      <th>46978</th>\n",
              "      <td>05-03-2020 17:40</td>\n",
              "      <td>193</td>\n",
              "      <td>87.0</td>\n",
              "      <td>721.867250</td>\n",
              "      <td>10.008608</td>\n",
              "      <td>0.116298</td>\n",
              "      <td>9.377568</td>\n",
              "      <td>27.130707</td>\n",
              "    </tr>\n",
              "    <tr>\n",
              "      <th>46979</th>\n",
              "      <td>05-03-2020 17:41</td>\n",
              "      <td>194</td>\n",
              "      <td>85.0</td>\n",
              "      <td>722.117000</td>\n",
              "      <td>10.008608</td>\n",
              "      <td>0.116288</td>\n",
              "      <td>9.374988</td>\n",
              "      <td>27.142334</td>\n",
              "    </tr>\n",
              "    <tr>\n",
              "      <th>46980</th>\n",
              "      <td>05-03-2020 17:42</td>\n",
              "      <td>195</td>\n",
              "      <td>80.0</td>\n",
              "      <td>722.028700</td>\n",
              "      <td>10.008608</td>\n",
              "      <td>0.116238</td>\n",
              "      <td>9.375849</td>\n",
              "      <td>27.139954</td>\n",
              "    </tr>\n",
              "    <tr>\n",
              "      <th>46981</th>\n",
              "      <td>05-03-2020 17:43</td>\n",
              "      <td>196</td>\n",
              "      <td>81.0</td>\n",
              "      <td>721.960700</td>\n",
              "      <td>10.008608</td>\n",
              "      <td>0.116218</td>\n",
              "      <td>9.380211</td>\n",
              "      <td>27.135010</td>\n",
              "    </tr>\n",
              "    <tr>\n",
              "      <th>46982</th>\n",
              "      <td>05-03-2020 17:44</td>\n",
              "      <td>197</td>\n",
              "      <td>83.0</td>\n",
              "      <td>722.114560</td>\n",
              "      <td>10.008608</td>\n",
              "      <td>0.116183</td>\n",
              "      <td>9.370649</td>\n",
              "      <td>27.131470</td>\n",
              "    </tr>\n",
              "  </tbody>\n",
              "</table>\n",
              "<p>46983 rows × 8 columns</p>\n",
              "</div>"
            ],
            "text/plain": [
              "                   Date  Frame No   BAT        COND         DO       ORP  \\\n",
              "0      12-01-2019 12:57         0  91.0    0.044698  14.832754  0.084822   \n",
              "1      12-01-2019 12:58         1  92.0    0.044651  14.170345  0.086292   \n",
              "2      12-01-2019 14:54         0  90.0   46.195190  13.501176  0.142900   \n",
              "3      12-01-2019 14:55         1  91.0   52.609680  20.752865  0.146236   \n",
              "4      12-01-2019 14:56         2  91.0   52.399826  12.409351  0.146724   \n",
              "...                 ...       ...   ...         ...        ...       ...   \n",
              "46978  05-03-2020 17:40       193  87.0  721.867250  10.008608  0.116298   \n",
              "46979  05-03-2020 17:41       194  85.0  722.117000  10.008608  0.116288   \n",
              "46980  05-03-2020 17:42       195  80.0  722.028700  10.008608  0.116238   \n",
              "46981  05-03-2020 17:43       196  81.0  721.960700  10.008608  0.116218   \n",
              "46982  05-03-2020 17:44       197  83.0  722.114560  10.008608  0.116183   \n",
              "\n",
              "              PH         WT  \n",
              "0       8.879727  22.650238  \n",
              "1       8.866815  22.567017  \n",
              "2      12.359906  18.400787  \n",
              "3      12.825684  18.013641  \n",
              "4      12.998978  18.184570  \n",
              "...          ...        ...  \n",
              "46978   9.377568  27.130707  \n",
              "46979   9.374988  27.142334  \n",
              "46980   9.375849  27.139954  \n",
              "46981   9.380211  27.135010  \n",
              "46982   9.370649  27.131470  \n",
              "\n",
              "[46983 rows x 8 columns]"
            ]
          },
          "metadata": {
            "tags": []
          },
          "execution_count": 3
        }
      ]
    },
    {
      "cell_type": "code",
      "metadata": {
        "id": "CUEO-dMR-Qrr",
        "outputId": "a8a12fd5-d879-431a-a3d5-8d167d08fcc2"
      },
      "source": [
        "#cond\n",
        "cond = df['COND']\n",
        "cond"
      ],
      "execution_count": null,
      "outputs": [
        {
          "output_type": "execute_result",
          "data": {
            "text/plain": [
              "0          0.044698\n",
              "1          0.044651\n",
              "2         46.195190\n",
              "3         52.609680\n",
              "4         52.399826\n",
              "            ...    \n",
              "46978    721.867250\n",
              "46979    722.117000\n",
              "46980    722.028700\n",
              "46981    721.960700\n",
              "46982    722.114560\n",
              "Name: COND, Length: 46983, dtype: float64"
            ]
          },
          "metadata": {
            "tags": []
          },
          "execution_count": 4
        }
      ]
    },
    {
      "cell_type": "code",
      "metadata": {
        "id": "quZgVi5Q-Qrw",
        "outputId": "55a7e321-7ea5-4dba-a93f-298004ae05b1"
      },
      "source": [
        "cond_new = cond.values.reshape(-1, 1)\n",
        "scaler = MinMaxScaler()\n",
        "cond_minmax = scaler.fit_transform(cond_new)\n",
        "print(cond_minmax)"
      ],
      "execution_count": null,
      "outputs": [
        {
          "output_type": "stream",
          "text": [
            "[[5.87466217e-08]\n",
            " [0.00000000e+00]\n",
            " [5.77045002e-02]\n",
            " ...\n",
            " [9.02735480e-01]\n",
            " [9.02650456e-01]\n",
            " [9.02842835e-01]]\n"
          ],
          "name": "stdout"
        }
      ]
    },
    {
      "cell_type": "code",
      "metadata": {
        "id": "s-iGwLOV-Qr2",
        "outputId": "0229d8e1-2425-408f-c278-377b2bc6b9b8"
      },
      "source": [
        "cond_pdf = np.zeros([46983,1])\n",
        "\n",
        "mu = np.mean(cond_minmax)\n",
        "sigma = np.std(cond_minmax)\n",
        "\n",
        "for i in range(0, 46983):\n",
        "    x = 1/(np.sqrt(2*np.pi)*sigma)*np.exp(-np.power((cond_minmax[i] - mu)/sigma, 2)/2)\n",
        "    cond_pdf[i] = x\n",
        "\n",
        "plt.figure(figsize = (15,7))\n",
        "plt.scatter(cond_minmax, cond_pdf, alpha = 0.5, marker = '.')\n",
        "plt.xlabel('COND_MINMAX')\n",
        "plt.ylabel('COND_PDF')"
      ],
      "execution_count": null,
      "outputs": [
        {
          "output_type": "execute_result",
          "data": {
            "text/plain": [
              "Text(0, 0.5, 'COND_PDF')"
            ]
          },
          "metadata": {
            "tags": []
          },
          "execution_count": 6
        },
        {
          "output_type": "display_data",
          "data": {
            "image/png": "[encoded data removed]",
            "text/plain": [
              "<Figure size 1080x504 with 1 Axes>"
            ]
          },
          "metadata": {
            "tags": [],
            "needs_background": "light"
          }
        }
      ]
    },
    {
      "cell_type": "code",
      "metadata": {
        "id": "KC7t7KZK-Qr8",
        "outputId": "74007e7f-9051-41e1-fdf2-664f2e1cfc0e"
      },
      "source": [
        "#do\n",
        "do = df['DO']\n",
        "do_new = do.values.reshape(-1, 1)\n",
        "scaler = MinMaxScaler()\n",
        "do_minmax = scaler.fit_transform(do_new)\n",
        "print(do_minmax)"
      ],
      "execution_count": null,
      "outputs": [
        {
          "output_type": "stream",
          "text": [
            "[[0.08512948]\n",
            " [0.08132599]\n",
            " [0.07748369]\n",
            " ...\n",
            " [0.05742973]\n",
            " [0.05742973]\n",
            " [0.05742973]]\n"
          ],
          "name": "stdout"
        }
      ]
    },
    {
      "cell_type": "code",
      "metadata": {
        "id": "CCgwpcDO-QsK",
        "outputId": "5bc38d4f-1ae5-4c64-f19c-e84469246e9f"
      },
      "source": [
        "do_pdf = np.zeros([46983,1])\n",
        "mu = np.mean(do_minmax)\n",
        "sigma = np.std(do_minmax)\n",
        "for i in range(0, 46983):\n",
        "    x = 1/(np.sqrt(2*np.pi)*sigma)*np.exp(-np.power((do_minmax[i] - mu)/sigma, 2)/2)\n",
        "    do_pdf[i] = x\n",
        "plt.figure(figsize = (15,7))\n",
        "plt.scatter(do_minmax, do_pdf, alpha = 0.5, marker = '.')\n",
        "plt.xlabel('DO_MINMAX')\n",
        "plt.ylabel('DO_PDF')"
      ],
      "execution_count": null,
      "outputs": [
        {
          "output_type": "execute_result",
          "data": {
            "text/plain": [
              "Text(0, 0.5, 'DO_PDF')"
            ]
          },
          "metadata": {
            "tags": []
          },
          "execution_count": 8
        },
        {
          "output_type": "display_data",
          "data": {
            "image/png": "[encoded data removed]",
            "text/plain": [
              "<Figure size 1080x504 with 1 Axes>"
            ]
          },
          "metadata": {
            "tags": [],
            "needs_background": "light"
          }
        }
      ]
    },
    {
      "cell_type": "code",
      "metadata": {
        "id": "Ox_3WUdL-QsQ",
        "outputId": "ec06e37c-e49f-4546-8ba2-5aa2eb33a56e"
      },
      "source": [
        "#orp\n",
        "orp = df['ORP']\n",
        "orp_new = orp.values.reshape(-1, 1)\n",
        "scaler = MinMaxScaler()\n",
        "orp_minmax = scaler.fit_transform(orp_new)\n",
        "print(orp_minmax)"
      ],
      "execution_count": null,
      "outputs": [
        {
          "output_type": "stream",
          "text": [
            "[[0.39924558]\n",
            " [0.40616502]\n",
            " [0.67265268]\n",
            " ...\n",
            " [0.54713976]\n",
            " [0.54704549]\n",
            " [0.54687936]]\n"
          ],
          "name": "stdout"
        }
      ]
    },
    {
      "cell_type": "code",
      "metadata": {
        "id": "reqVFClE-QsV",
        "outputId": "32473855-8d25-44ce-80ce-6e3be421f49c"
      },
      "source": [
        "orp_pdf = np.zeros([46983,1])\n",
        "mu = np.mean(orp_minmax)\n",
        "sigma = np.std(orp_minmax)\n",
        "for i in range(0, 46983):\n",
        "    x = 1/(np.sqrt(2*np.pi)*sigma)*np.exp(-np.power((orp_minmax[i] - mu)/sigma, 2)/2)\n",
        "    orp_pdf[i] = x\n",
        "plt.figure(figsize = (15,7))\n",
        "plt.scatter(orp_minmax, orp_pdf, alpha = 0.5, marker = '.')\n",
        "plt.xlabel('ORP_MINMAX')\n",
        "plt.ylabel('ORP_PDF')"
      ],
      "execution_count": null,
      "outputs": [
        {
          "output_type": "execute_result",
          "data": {
            "text/plain": [
              "Text(0, 0.5, 'ORP_PDF')"
            ]
          },
          "metadata": {
            "tags": []
          },
          "execution_count": 10
        },
        {
          "output_type": "display_data",
          "data": {
            "image/png": "[encoded data removed]",
            "text/plain": [
              "<Figure size 1080x504 with 1 Axes>"
            ]
          },
          "metadata": {
            "tags": [],
            "needs_background": "light"
          }
        }
      ]
    },
    {
      "cell_type": "code",
      "metadata": {
        "id": "eHtc_jPc-Qsc",
        "outputId": "6c0c640d-87f3-405a-f2c9-2448b9137eb4"
      },
      "source": [
        "#ph\n",
        "ph = df['PH']\n",
        "ph_new = ph.values.reshape(-1, 1)\n",
        "scaler = MinMaxScaler()\n",
        "ph_minmax = scaler.fit_transform(ph_new)\n",
        "print(ph_minmax)"
      ],
      "execution_count": null,
      "outputs": [
        {
          "output_type": "stream",
          "text": [
            "[[0.02736615]\n",
            " [0.02707972]\n",
            " [0.10456847]\n",
            " ...\n",
            " [0.03837184]\n",
            " [0.0384686 ]\n",
            " [0.03825649]]\n"
          ],
          "name": "stdout"
        }
      ]
    },
    {
      "cell_type": "code",
      "metadata": {
        "id": "42XIkxm5-Qsh",
        "outputId": "21700b56-8e48-405b-b35e-b1d9793b7175"
      },
      "source": [
        "ph_pdf = np.zeros([46983,1])\n",
        "mu = np.mean(ph_minmax)\n",
        "sigma = np.std(ph_minmax)\n",
        "for i in range(0, 46983):\n",
        "    x = 1/(np.sqrt(2*np.pi)*sigma)*np.exp(-np.power((ph_minmax[i] - mu)/sigma, 2)/2)\n",
        "    ph_pdf[i] = x\n",
        "plt.figure(figsize = (15,7))\n",
        "plt.scatter(ph_minmax, ph_pdf, alpha = 0.5, marker = '.')\n",
        "plt.xlabel('PH_MINMAX')\n",
        "plt.ylabel('PH_PDF')"
      ],
      "execution_count": null,
      "outputs": [
        {
          "output_type": "execute_result",
          "data": {
            "text/plain": [
              "Text(0, 0.5, 'PH_PDF')"
            ]
          },
          "metadata": {
            "tags": []
          },
          "execution_count": 12
        },
        {
          "output_type": "display_data",
          "data": {
            "image/png": "[encoded data removed]",
            "text/plain": [
              "<Figure size 1080x504 with 1 Axes>"
            ]
          },
          "metadata": {
            "tags": [],
            "needs_background": "light"
          }
        }
      ]
    },
    {
      "cell_type": "code",
      "metadata": {
        "id": "lNXRYNPY-Qso",
        "outputId": "4ca7cb8e-1666-4315-8c9f-fde9f744be34"
      },
      "source": [
        "#WT\n",
        "wt = df['WT']\n",
        "wt_new = wt.values.reshape(-1, 1)\n",
        "scaler = MinMaxScaler()\n",
        "wt_minmax = scaler.fit_transform(wt_new)\n",
        "print(wt_minmax)"
      ],
      "execution_count": null,
      "outputs": [
        {
          "output_type": "stream",
          "text": [
            "[[0.45600542]\n",
            " [0.45037568]\n",
            " [0.1685381 ]\n",
            " ...\n",
            " [0.75972623]\n",
            " [0.75939177]\n",
            " [0.7591523 ]]\n"
          ],
          "name": "stdout"
        }
      ]
    },
    {
      "cell_type": "code",
      "metadata": {
        "id": "AISClTBo-Qst",
        "outputId": "020a3582-c235-4caa-83c8-adb1058f09e4"
      },
      "source": [
        "wt_pdf = np.zeros([46983,1])\n",
        "mu = np.mean(wt_minmax)\n",
        "sigma = np.std(wt_minmax)\n",
        "for i in range(0, 46983):\n",
        "    x = 1/(np.sqrt(2*np.pi)*sigma)*np.exp(-np.power((wt_minmax[i] - mu)/sigma, 2)/2)\n",
        "    wt_pdf[i] = x\n",
        "plt.figure(figsize = (15,7))\n",
        "plt.scatter(wt_minmax, wt_pdf, alpha = 0.5, marker = '.')\n",
        "plt.xlabel('WT_MINMAX')\n",
        "plt.ylabel('WT_PDF')"
      ],
      "execution_count": null,
      "outputs": [
        {
          "output_type": "execute_result",
          "data": {
            "text/plain": [
              "Text(0, 0.5, 'WT_PDF')"
            ]
          },
          "metadata": {
            "tags": []
          },
          "execution_count": 14
        },
        {
          "output_type": "display_data",
          "data": {
            "image/png": "[encoded data removed]",
            "text/plain": [
              "<Figure size 1080x504 with 1 Axes>"
            ]
          },
          "metadata": {
            "tags": [],
            "needs_background": "light"
          }
        }
      ]
    },
    {
      "cell_type": "code",
      "metadata": {
        "id": "IikZQCDB-Qs0",
        "outputId": "d779b93f-8acf-4962-d6c6-e14e08ed12de"
      },
      "source": [
        "#bat\n",
        "bat = df['BAT']\n",
        "bat_new = bat.values.reshape(-1, 1)\n",
        "scaler = MinMaxScaler()\n",
        "bat_minmax = scaler.fit_transform(bat_new)\n",
        "print(bat_minmax)\n",
        "bat_pdf = np.zeros([46983,1])\n",
        "mu = np.mean(bat_minmax)\n",
        "sigma = np.std(bat_minmax)\n",
        "for i in range(0, 46983):\n",
        "    x = 1/(np.sqrt(2*np.pi)*sigma)*np.exp(-np.power((bat_minmax[i] - mu)/sigma, 2)/2)\n",
        "    bat_pdf[i] = x\n",
        "plt.figure(figsize = (15,7))\n",
        "plt.scatter(do_minmax, do_pdf, alpha = 0.5, marker = '.')\n",
        "plt.xlabel('BAT_MINMAX')\n",
        "plt.ylabel('BAT_PDF')"
      ],
      "execution_count": null,
      "outputs": [
        {
          "output_type": "stream",
          "text": [
            "[[0.65384615]\n",
            " [0.69230769]\n",
            " [0.61538462]\n",
            " ...\n",
            " [0.23076923]\n",
            " [0.26923077]\n",
            " [0.34615385]]\n"
          ],
          "name": "stdout"
        },
        {
          "output_type": "execute_result",
          "data": {
            "text/plain": [
              "Text(0, 0.5, 'BAT_PDF')"
            ]
          },
          "metadata": {
            "tags": []
          },
          "execution_count": 15
        },
        {
          "output_type": "display_data",
          "data": {
            "image/png": "[encoded data removed]",
            "text/plain": [
              "<Figure size 1080x504 with 1 Axes>"
            ]
          },
          "metadata": {
            "tags": [],
            "needs_background": "light"
          }
        }
      ]
    },
    {
      "cell_type": "code",
      "metadata": {
        "id": "V7enAdf2-Qs7",
        "outputId": "dfb8e3f5-91f1-4991-9c32-fa27d5d32dfd"
      },
      "source": [
        "dfc = df[['COND', 'DO', 'ORP', 'PH', 'WT']]\n",
        "dfc.corr()"
      ],
      "execution_count": null,
      "outputs": [
        {
          "output_type": "execute_result",
          "data": {
            "text/html": [
              "<div>\n",
              "<style scoped>\n",
              "    .dataframe tbody tr th:only-of-type {\n",
              "        vertical-align: middle;\n",
              "    }\n",
              "\n",
              "    .dataframe tbody tr th {\n",
              "        vertical-align: top;\n",
              "    }\n",
              "\n",
              "    .dataframe thead th {\n",
              "        text-align: right;\n",
              "    }\n",
              "</style>\n",
              "<table border=\"1\" class=\"dataframe\">\n",
              "  <thead>\n",
              "    <tr style=\"text-align: right;\">\n",
              "      <th></th>\n",
              "      <th>COND</th>\n",
              "      <th>DO</th>\n",
              "      <th>ORP</th>\n",
              "      <th>PH</th>\n",
              "      <th>WT</th>\n",
              "    </tr>\n",
              "  </thead>\n",
              "  <tbody>\n",
              "    <tr>\n",
              "      <th>COND</th>\n",
              "      <td>1.000000</td>\n",
              "      <td>-0.721896</td>\n",
              "      <td>-0.086301</td>\n",
              "      <td>-0.198614</td>\n",
              "      <td>-0.315520</td>\n",
              "    </tr>\n",
              "    <tr>\n",
              "      <th>DO</th>\n",
              "      <td>-0.721896</td>\n",
              "      <td>1.000000</td>\n",
              "      <td>0.143362</td>\n",
              "      <td>0.260881</td>\n",
              "      <td>0.288068</td>\n",
              "    </tr>\n",
              "    <tr>\n",
              "      <th>ORP</th>\n",
              "      <td>-0.086301</td>\n",
              "      <td>0.143362</td>\n",
              "      <td>1.000000</td>\n",
              "      <td>0.104437</td>\n",
              "      <td>0.113377</td>\n",
              "    </tr>\n",
              "    <tr>\n",
              "      <th>PH</th>\n",
              "      <td>-0.198614</td>\n",
              "      <td>0.260881</td>\n",
              "      <td>0.104437</td>\n",
              "      <td>1.000000</td>\n",
              "      <td>0.152032</td>\n",
              "    </tr>\n",
              "    <tr>\n",
              "      <th>WT</th>\n",
              "      <td>-0.315520</td>\n",
              "      <td>0.288068</td>\n",
              "      <td>0.113377</td>\n",
              "      <td>0.152032</td>\n",
              "      <td>1.000000</td>\n",
              "    </tr>\n",
              "  </tbody>\n",
              "</table>\n",
              "</div>"
            ],
            "text/plain": [
              "          COND        DO       ORP        PH        WT\n",
              "COND  1.000000 -0.721896 -0.086301 -0.198614 -0.315520\n",
              "DO   -0.721896  1.000000  0.143362  0.260881  0.288068\n",
              "ORP  -0.086301  0.143362  1.000000  0.104437  0.113377\n",
              "PH   -0.198614  0.260881  0.104437  1.000000  0.152032\n",
              "WT   -0.315520  0.288068  0.113377  0.152032  1.000000"
            ]
          },
          "metadata": {
            "tags": []
          },
          "execution_count": 16
        }
      ]
    },
    {
      "cell_type": "code",
      "metadata": {
        "id": "47hncA1M-QtA",
        "outputId": "cece3bb3-3a2b-493e-a610-9e23d47b9efc"
      },
      "source": [
        "plt.figure(figsize = (10, 8))\n",
        "sns.heatmap(dfc.corr(), annot = True)\n",
        "plt.show()"
      ],
      "execution_count": null,
      "outputs": [
        {
          "output_type": "display_data",
          "data": {
            "image/png": "[encoded data removed]",
            "text/plain": [
              "<Figure size 720x576 with 2 Axes>"
            ]
          },
          "metadata": {
            "tags": [],
            "needs_background": "light"
          }
        }
      ]
    },
    {
      "cell_type": "code",
      "metadata": {
        "id": "9pGA8ftX-QtF",
        "outputId": "1df79793-3b9a-4480-afc0-3d38d7af6879"
      },
      "source": [
        "cond_ = pd.DataFrame(cond_minmax, columns = ['COND']) \n",
        "do_ = pd.DataFrame(do_minmax, columns = ['DO'])\n",
        "orp_ = pd.DataFrame(orp_minmax, columns = ['ORP'])\n",
        "ph_ = pd.DataFrame(ph_minmax, columns = ['PH'])\n",
        "wt_ = pd.DataFrame(wt_minmax, columns = ['WT'])\n",
        "bat_ = pd.DataFrame(bat_minmax, columns = ['BAT'])\n",
        "data = pd.concat([cond_, do_, orp_, ph_, wt_, bat_], axis=1)\n",
        "data"
      ],
      "execution_count": null,
      "outputs": [
        {
          "output_type": "execute_result",
          "data": {
            "text/html": [
              "<div>\n",
              "<style scoped>\n",
              "    .dataframe tbody tr th:only-of-type {\n",
              "        vertical-align: middle;\n",
              "    }\n",
              "\n",
              "    .dataframe tbody tr th {\n",
              "        vertical-align: top;\n",
              "    }\n",
              "\n",
              "    .dataframe thead th {\n",
              "        text-align: right;\n",
              "    }\n",
              "</style>\n",
              "<table border=\"1\" class=\"dataframe\">\n",
              "  <thead>\n",
              "    <tr style=\"text-align: right;\">\n",
              "      <th></th>\n",
              "      <th>COND</th>\n",
              "      <th>DO</th>\n",
              "      <th>ORP</th>\n",
              "      <th>PH</th>\n",
              "      <th>WT</th>\n",
              "      <th>BAT</th>\n",
              "    </tr>\n",
              "  </thead>\n",
              "  <tbody>\n",
              "    <tr>\n",
              "      <th>0</th>\n",
              "      <td>5.874662e-08</td>\n",
              "      <td>0.085129</td>\n",
              "      <td>0.399246</td>\n",
              "      <td>0.027366</td>\n",
              "      <td>0.456005</td>\n",
              "      <td>0.653846</td>\n",
              "    </tr>\n",
              "    <tr>\n",
              "      <th>1</th>\n",
              "      <td>0.000000e+00</td>\n",
              "      <td>0.081326</td>\n",
              "      <td>0.406165</td>\n",
              "      <td>0.027080</td>\n",
              "      <td>0.450376</td>\n",
              "      <td>0.692308</td>\n",
              "    </tr>\n",
              "    <tr>\n",
              "      <th>2</th>\n",
              "      <td>5.770450e-02</td>\n",
              "      <td>0.077484</td>\n",
              "      <td>0.672653</td>\n",
              "      <td>0.104568</td>\n",
              "      <td>0.168538</td>\n",
              "      <td>0.615385</td>\n",
              "    </tr>\n",
              "    <tr>\n",
              "      <th>3</th>\n",
              "      <td>6.572488e-02</td>\n",
              "      <td>0.119122</td>\n",
              "      <td>0.688356</td>\n",
              "      <td>0.114901</td>\n",
              "      <td>0.142348</td>\n",
              "      <td>0.653846</td>\n",
              "    </tr>\n",
              "    <tr>\n",
              "      <th>4</th>\n",
              "      <td>6.546249e-02</td>\n",
              "      <td>0.071215</td>\n",
              "      <td>0.690654</td>\n",
              "      <td>0.118745</td>\n",
              "      <td>0.153911</td>\n",
              "      <td>0.653846</td>\n",
              "    </tr>\n",
              "    <tr>\n",
              "      <th>...</th>\n",
              "      <td>...</td>\n",
              "      <td>...</td>\n",
              "      <td>...</td>\n",
              "      <td>...</td>\n",
              "      <td>...</td>\n",
              "      <td>...</td>\n",
              "    </tr>\n",
              "    <tr>\n",
              "      <th>46978</th>\n",
              "      <td>9.025336e-01</td>\n",
              "      <td>0.057430</td>\n",
              "      <td>0.547419</td>\n",
              "      <td>0.038410</td>\n",
              "      <td>0.759101</td>\n",
              "      <td>0.500000</td>\n",
              "    </tr>\n",
              "    <tr>\n",
              "      <th>46979</th>\n",
              "      <td>9.028459e-01</td>\n",
              "      <td>0.057430</td>\n",
              "      <td>0.547372</td>\n",
              "      <td>0.038353</td>\n",
              "      <td>0.759887</td>\n",
              "      <td>0.423077</td>\n",
              "    </tr>\n",
              "    <tr>\n",
              "      <th>46980</th>\n",
              "      <td>9.027355e-01</td>\n",
              "      <td>0.057430</td>\n",
              "      <td>0.547140</td>\n",
              "      <td>0.038372</td>\n",
              "      <td>0.759726</td>\n",
              "      <td>0.230769</td>\n",
              "    </tr>\n",
              "    <tr>\n",
              "      <th>46981</th>\n",
              "      <td>9.026505e-01</td>\n",
              "      <td>0.057430</td>\n",
              "      <td>0.547045</td>\n",
              "      <td>0.038469</td>\n",
              "      <td>0.759392</td>\n",
              "      <td>0.269231</td>\n",
              "    </tr>\n",
              "    <tr>\n",
              "      <th>46982</th>\n",
              "      <td>9.028428e-01</td>\n",
              "      <td>0.057430</td>\n",
              "      <td>0.546879</td>\n",
              "      <td>0.038256</td>\n",
              "      <td>0.759152</td>\n",
              "      <td>0.346154</td>\n",
              "    </tr>\n",
              "  </tbody>\n",
              "</table>\n",
              "<p>46983 rows × 6 columns</p>\n",
              "</div>"
            ],
            "text/plain": [
              "               COND        DO       ORP        PH        WT       BAT\n",
              "0      5.874662e-08  0.085129  0.399246  0.027366  0.456005  0.653846\n",
              "1      0.000000e+00  0.081326  0.406165  0.027080  0.450376  0.692308\n",
              "2      5.770450e-02  0.077484  0.672653  0.104568  0.168538  0.615385\n",
              "3      6.572488e-02  0.119122  0.688356  0.114901  0.142348  0.653846\n",
              "4      6.546249e-02  0.071215  0.690654  0.118745  0.153911  0.653846\n",
              "...             ...       ...       ...       ...       ...       ...\n",
              "46978  9.025336e-01  0.057430  0.547419  0.038410  0.759101  0.500000\n",
              "46979  9.028459e-01  0.057430  0.547372  0.038353  0.759887  0.423077\n",
              "46980  9.027355e-01  0.057430  0.547140  0.038372  0.759726  0.230769\n",
              "46981  9.026505e-01  0.057430  0.547045  0.038469  0.759392  0.269231\n",
              "46982  9.028428e-01  0.057430  0.546879  0.038256  0.759152  0.346154\n",
              "\n",
              "[46983 rows x 6 columns]"
            ]
          },
          "metadata": {
            "tags": []
          },
          "execution_count": 20
        }
      ]
    },
    {
      "cell_type": "code",
      "metadata": {
        "id": "Sonxwknh-QtL"
      },
      "source": [
        "data.to_csv('Ganga_normalised.csv', index = False)"
      ],
      "execution_count": null,
      "outputs": []
    }
  ]
}