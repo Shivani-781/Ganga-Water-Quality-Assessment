{
  "nbformat": 4,
  "nbformat_minor": 0,
  "metadata": {
    "kernelspec": {
      "display_name": "Python 3",
      "language": "python",
      "name": "python3"
    },
    "language_info": {
      "codemirror_mode": {
        "name": "ipython",
        "version": 3
      },
      "file_extension": ".py",
      "mimetype": "text/x-python",
      "name": "python",
      "nbconvert_exporter": "python",
      "pygments_lexer": "ipython3",
      "version": "3.7.7"
    },
    "colab": {
      "name": "1. Data Transformation.ipynb",
      "provenance": [],
      "include_colab_link": true
    }
  },
  "cells": [
    {
      "cell_type": "markdown",
      "metadata": {
        "id": "view-in-github",
        "colab_type": "text"
      },
      "source": [
        "<a href=\"https://colab.research.google.com/github/Shivani-781/Ganga-Water-Quality-Assessment/blob/main/1_Data_Transformation.ipynb\" target=\"_parent\"><img src=\"https://colab.research.google.com/assets/colab-badge.svg\" alt=\"Open In Colab\"/></a>"
      ]
    },
    {
      "cell_type": "markdown",
      "metadata": {
        "id": "7qfSFTXRGFrh"
      },
      "source": [
        "# Data Transformation"
      ]
    },
    {
      "cell_type": "markdown",
      "metadata": {
        "id": "ol2PySGBGFrk"
      },
      "source": [
        "Importing necessary libraries"
      ]
    },
    {
      "cell_type": "code",
      "metadata": {
        "id": "FjMpMq0WGFrm"
      },
      "source": [
        "import pandas as pd\n",
        "import numpy as np"
      ],
      "execution_count": null,
      "outputs": []
    },
    {
      "cell_type": "markdown",
      "metadata": {
        "id": "jhx-H1wUGFrw"
      },
      "source": [
        "Reading the dataset"
      ]
    },
    {
      "cell_type": "code",
      "metadata": {
        "scrolled": true,
        "id": "wprfgRzlGFry",
        "outputId": "b9daf453-5f88-4395-a39b-a6d590899ab3"
      },
      "source": [
        "df = pd.read_csv('main_data.csv')\n",
        "df.head()"
      ],
      "execution_count": null,
      "outputs": [
        {
          "output_type": "execute_result",
          "data": {
            "text/html": [
              "<div>\n",
              "<style scoped>\n",
              "    .dataframe tbody tr th:only-of-type {\n",
              "        vertical-align: middle;\n",
              "    }\n",
              "\n",
              "    .dataframe tbody tr th {\n",
              "        vertical-align: top;\n",
              "    }\n",
              "\n",
              "    .dataframe thead th {\n",
              "        text-align: right;\n",
              "    }\n",
              "</style>\n",
              "<table border=\"1\" class=\"dataframe\">\n",
              "  <thead>\n",
              "    <tr style=\"text-align: right;\">\n",
              "      <th></th>\n",
              "      <th>SN</th>\n",
              "      <th>Wasp Id</th>\n",
              "      <th>Id</th>\n",
              "      <th>Frame Type</th>\n",
              "      <th>Frame No</th>\n",
              "      <th>Sensor</th>\n",
              "      <th>Sensor value</th>\n",
              "      <th>Date</th>\n",
              "      <th>Time</th>\n",
              "      <th>Sync</th>\n",
              "      <th>Raw</th>\n",
              "      <th>Parser type</th>\n",
              "      <th>Meshilium Id</th>\n",
              "    </tr>\n",
              "  </thead>\n",
              "  <tbody>\n",
              "    <tr>\n",
              "      <th>0</th>\n",
              "      <td>158</td>\n",
              "      <td>SW02</td>\n",
              "      <td>6127AAE80593E489</td>\n",
              "      <td>6</td>\n",
              "      <td>0</td>\n",
              "      <td>BAT</td>\n",
              "      <td>65.000000</td>\n",
              "      <td>24-09-2018</td>\n",
              "      <td>12:45:00</td>\n",
              "      <td>9.010000e+15</td>\n",
              "      <td>noraw</td>\n",
              "      <td>1</td>\n",
              "      <td>1.820000e+13</td>\n",
              "    </tr>\n",
              "    <tr>\n",
              "      <th>1</th>\n",
              "      <td>159</td>\n",
              "      <td>SW02</td>\n",
              "      <td>6127AAE80593E489</td>\n",
              "      <td>6</td>\n",
              "      <td>0</td>\n",
              "      <td>WT</td>\n",
              "      <td>24.210846</td>\n",
              "      <td>24-09-2018</td>\n",
              "      <td>12:45:00</td>\n",
              "      <td>9.010000e+15</td>\n",
              "      <td>noraw</td>\n",
              "      <td>1</td>\n",
              "      <td>1.820000e+13</td>\n",
              "    </tr>\n",
              "    <tr>\n",
              "      <th>2</th>\n",
              "      <td>160</td>\n",
              "      <td>SW02</td>\n",
              "      <td>6127AAE80593E489</td>\n",
              "      <td>6</td>\n",
              "      <td>0</td>\n",
              "      <td>PH</td>\n",
              "      <td>6.379280</td>\n",
              "      <td>24-09-2018</td>\n",
              "      <td>12:45:00</td>\n",
              "      <td>9.010000e+15</td>\n",
              "      <td>noraw</td>\n",
              "      <td>1</td>\n",
              "      <td>1.820000e+13</td>\n",
              "    </tr>\n",
              "    <tr>\n",
              "      <th>3</th>\n",
              "      <td>161</td>\n",
              "      <td>SW02</td>\n",
              "      <td>6127AAE80593E489</td>\n",
              "      <td>6</td>\n",
              "      <td>0</td>\n",
              "      <td>DO</td>\n",
              "      <td>77.444695</td>\n",
              "      <td>24-09-2018</td>\n",
              "      <td>12:45:00</td>\n",
              "      <td>9.010000e+15</td>\n",
              "      <td>noraw</td>\n",
              "      <td>1</td>\n",
              "      <td>1.820000e+13</td>\n",
              "    </tr>\n",
              "    <tr>\n",
              "      <th>4</th>\n",
              "      <td>162</td>\n",
              "      <td>SW02</td>\n",
              "      <td>6127AAE80593E489</td>\n",
              "      <td>6</td>\n",
              "      <td>0</td>\n",
              "      <td>COND</td>\n",
              "      <td>59.892838</td>\n",
              "      <td>24-09-2018</td>\n",
              "      <td>12:45:00</td>\n",
              "      <td>9.010000e+15</td>\n",
              "      <td>noraw</td>\n",
              "      <td>1</td>\n",
              "      <td>1.820000e+13</td>\n",
              "    </tr>\n",
              "  </tbody>\n",
              "</table>\n",
              "</div>"
            ],
            "text/plain": [
              "    SN Wasp Id                Id  Frame Type  Frame No Sensor  Sensor value  \\\n",
              "0  158    SW02  6127AAE80593E489           6         0    BAT     65.000000   \n",
              "1  159    SW02  6127AAE80593E489           6         0     WT     24.210846   \n",
              "2  160    SW02  6127AAE80593E489           6         0     PH      6.379280   \n",
              "3  161    SW02  6127AAE80593E489           6         0     DO     77.444695   \n",
              "4  162    SW02  6127AAE80593E489           6         0   COND     59.892838   \n",
              "\n",
              "         Date      Time          Sync    Raw  Parser type  Meshilium Id  \n",
              "0  24-09-2018  12:45:00  9.010000e+15  noraw            1  1.820000e+13  \n",
              "1  24-09-2018  12:45:00  9.010000e+15  noraw            1  1.820000e+13  \n",
              "2  24-09-2018  12:45:00  9.010000e+15  noraw            1  1.820000e+13  \n",
              "3  24-09-2018  12:45:00  9.010000e+15  noraw            1  1.820000e+13  \n",
              "4  24-09-2018  12:45:00  9.010000e+15  noraw            1  1.820000e+13  "
            ]
          },
          "metadata": {
            "tags": []
          },
          "execution_count": 2
        }
      ]
    },
    {
      "cell_type": "markdown",
      "metadata": {
        "id": "l_ElDP-wGFr8"
      },
      "source": [
        "Converting the datatype of date and time series"
      ]
    },
    {
      "cell_type": "code",
      "metadata": {
        "id": "E4bUBVoTGFr9"
      },
      "source": [
        "df['Date'] = pd.to_datetime(df['Date'], dayfirst = True)\n",
        "df['Time'] = pd.to_timedelta(df['Time'])\n",
        "df['Date'] = df['Date'] + df['Time']"
      ],
      "execution_count": null,
      "outputs": []
    },
    {
      "cell_type": "markdown",
      "metadata": {
        "id": "bBz7cr3eGFsE"
      },
      "source": [
        "Dropping unnecessary attributes"
      ]
    },
    {
      "cell_type": "code",
      "metadata": {
        "id": "O3DtNAH7GFsF"
      },
      "source": [
        "df.drop(['SN', 'Wasp Id', 'Id', 'Frame Type','Time', 'Sync', 'Raw', 'Parser type', 'Meshilium Id'], axis = 1, inplace = True)"
      ],
      "execution_count": null,
      "outputs": []
    },
    {
      "cell_type": "markdown",
      "metadata": {
        "id": "6rHUFIjOGFsO"
      },
      "source": [
        "Sorting the dataset date-wise"
      ]
    },
    {
      "cell_type": "code",
      "metadata": {
        "id": "du0UHBG_GFsP",
        "outputId": "f7f4ce4c-08aa-4469-9896-eee04cf2c117"
      },
      "source": [
        "df = df.sort_values(by = ['Date'])\n",
        "df.head()"
      ],
      "execution_count": null,
      "outputs": [
        {
          "output_type": "execute_result",
          "data": {
            "text/html": [
              "<div>\n",
              "<style scoped>\n",
              "    .dataframe tbody tr th:only-of-type {\n",
              "        vertical-align: middle;\n",
              "    }\n",
              "\n",
              "    .dataframe tbody tr th {\n",
              "        vertical-align: top;\n",
              "    }\n",
              "\n",
              "    .dataframe thead th {\n",
              "        text-align: right;\n",
              "    }\n",
              "</style>\n",
              "<table border=\"1\" class=\"dataframe\">\n",
              "  <thead>\n",
              "    <tr style=\"text-align: right;\">\n",
              "      <th></th>\n",
              "      <th>Frame No</th>\n",
              "      <th>Sensor</th>\n",
              "      <th>Sensor value</th>\n",
              "      <th>Date</th>\n",
              "    </tr>\n",
              "  </thead>\n",
              "  <tbody>\n",
              "    <tr>\n",
              "      <th>0</th>\n",
              "      <td>0</td>\n",
              "      <td>BAT</td>\n",
              "      <td>65.000000</td>\n",
              "      <td>2018-09-24 12:45:00</td>\n",
              "    </tr>\n",
              "    <tr>\n",
              "      <th>1</th>\n",
              "      <td>0</td>\n",
              "      <td>WT</td>\n",
              "      <td>24.210846</td>\n",
              "      <td>2018-09-24 12:45:00</td>\n",
              "    </tr>\n",
              "    <tr>\n",
              "      <th>2</th>\n",
              "      <td>0</td>\n",
              "      <td>PH</td>\n",
              "      <td>6.379280</td>\n",
              "      <td>2018-09-24 12:45:00</td>\n",
              "    </tr>\n",
              "    <tr>\n",
              "      <th>3</th>\n",
              "      <td>0</td>\n",
              "      <td>DO</td>\n",
              "      <td>77.444695</td>\n",
              "      <td>2018-09-24 12:45:00</td>\n",
              "    </tr>\n",
              "    <tr>\n",
              "      <th>4</th>\n",
              "      <td>0</td>\n",
              "      <td>COND</td>\n",
              "      <td>59.892838</td>\n",
              "      <td>2018-09-24 12:45:00</td>\n",
              "    </tr>\n",
              "  </tbody>\n",
              "</table>\n",
              "</div>"
            ],
            "text/plain": [
              "   Frame No Sensor  Sensor value                Date\n",
              "0         0    BAT     65.000000 2018-09-24 12:45:00\n",
              "1         0     WT     24.210846 2018-09-24 12:45:00\n",
              "2         0     PH      6.379280 2018-09-24 12:45:00\n",
              "3         0     DO     77.444695 2018-09-24 12:45:00\n",
              "4         0   COND     59.892838 2018-09-24 12:45:00"
            ]
          },
          "metadata": {
            "tags": []
          },
          "execution_count": 5
        }
      ]
    },
    {
      "cell_type": "code",
      "metadata": {
        "id": "N1ZNQ_Z-GFsW",
        "outputId": "b7c73294-353e-4634-b51a-2eddc75860f8"
      },
      "source": [
        "df.dtypes"
      ],
      "execution_count": null,
      "outputs": [
        {
          "output_type": "execute_result",
          "data": {
            "text/plain": [
              "Frame No                 int64\n",
              "Sensor                  object\n",
              "Sensor value           float64\n",
              "Date            datetime64[ns]\n",
              "dtype: object"
            ]
          },
          "metadata": {
            "tags": []
          },
          "execution_count": 6
        }
      ]
    },
    {
      "cell_type": "markdown",
      "metadata": {
        "id": "w1-ynN0LGFse"
      },
      "source": [
        "Transforming the dataset using pivot tables so that each sensor becomes an attribute"
      ]
    },
    {
      "cell_type": "code",
      "metadata": {
        "id": "JzE92YplGFsg",
        "outputId": "1197f5c2-0a38-4b8b-b177-a6c864a787e5"
      },
      "source": [
        "data = df.pivot_table('Sensor value', ['Date', 'Frame No'], 'Sensor')\n",
        "data"
      ],
      "execution_count": null,
      "outputs": [
        {
          "output_type": "execute_result",
          "data": {
            "text/html": [
              "<div>\n",
              "<style scoped>\n",
              "    .dataframe tbody tr th:only-of-type {\n",
              "        vertical-align: middle;\n",
              "    }\n",
              "\n",
              "    .dataframe tbody tr th {\n",
              "        vertical-align: top;\n",
              "    }\n",
              "\n",
              "    .dataframe thead th {\n",
              "        text-align: right;\n",
              "    }\n",
              "</style>\n",
              "<table border=\"1\" class=\"dataframe\">\n",
              "  <thead>\n",
              "    <tr style=\"text-align: right;\">\n",
              "      <th></th>\n",
              "      <th>Sensor</th>\n",
              "      <th>BAT</th>\n",
              "      <th>COND</th>\n",
              "      <th>DO</th>\n",
              "      <th>ORP</th>\n",
              "      <th>PH</th>\n",
              "      <th>WT</th>\n",
              "    </tr>\n",
              "    <tr>\n",
              "      <th>Date</th>\n",
              "      <th>Frame No</th>\n",
              "      <th></th>\n",
              "      <th></th>\n",
              "      <th></th>\n",
              "      <th></th>\n",
              "      <th></th>\n",
              "      <th></th>\n",
              "    </tr>\n",
              "  </thead>\n",
              "  <tbody>\n",
              "    <tr>\n",
              "      <th>2018-09-24 12:45:00</th>\n",
              "      <th>0</th>\n",
              "      <td>65.0</td>\n",
              "      <td>59.892838</td>\n",
              "      <td>77.444695</td>\n",
              "      <td>0.148257</td>\n",
              "      <td>6.379280</td>\n",
              "      <td>24.210846</td>\n",
              "    </tr>\n",
              "    <tr>\n",
              "      <th>2018-09-24 12:46:00</th>\n",
              "      <th>1</th>\n",
              "      <td>65.0</td>\n",
              "      <td>59.879820</td>\n",
              "      <td>77.076770</td>\n",
              "      <td>0.144755</td>\n",
              "      <td>6.331513</td>\n",
              "      <td>24.156006</td>\n",
              "    </tr>\n",
              "    <tr>\n",
              "      <th>2018-09-24 12:47:00</th>\n",
              "      <th>2</th>\n",
              "      <td>66.0</td>\n",
              "      <td>59.941690</td>\n",
              "      <td>76.227170</td>\n",
              "      <td>0.141710</td>\n",
              "      <td>6.372326</td>\n",
              "      <td>24.104614</td>\n",
              "    </tr>\n",
              "    <tr>\n",
              "      <th>2018-09-24 12:48:00</th>\n",
              "      <th>3</th>\n",
              "      <td>66.0</td>\n",
              "      <td>60.010353</td>\n",
              "      <td>77.731560</td>\n",
              "      <td>0.140641</td>\n",
              "      <td>6.391796</td>\n",
              "      <td>24.093994</td>\n",
              "    </tr>\n",
              "    <tr>\n",
              "      <th>2018-09-24 12:49:00</th>\n",
              "      <th>4</th>\n",
              "      <td>66.0</td>\n",
              "      <td>59.997463</td>\n",
              "      <td>76.798840</td>\n",
              "      <td>0.142180</td>\n",
              "      <td>6.339557</td>\n",
              "      <td>24.145294</td>\n",
              "    </tr>\n",
              "    <tr>\n",
              "      <th>...</th>\n",
              "      <th>...</th>\n",
              "      <td>...</td>\n",
              "      <td>...</td>\n",
              "      <td>...</td>\n",
              "      <td>...</td>\n",
              "      <td>...</td>\n",
              "      <td>...</td>\n",
              "    </tr>\n",
              "    <tr>\n",
              "      <th>2020-03-07 11:46:00</th>\n",
              "      <th>168</th>\n",
              "      <td>78.0</td>\n",
              "      <td>708.380500</td>\n",
              "      <td>-117.572270</td>\n",
              "      <td>0.085424</td>\n",
              "      <td>10.045585</td>\n",
              "      <td>26.504944</td>\n",
              "    </tr>\n",
              "    <tr>\n",
              "      <th>2020-03-07 11:47:00</th>\n",
              "      <th>169</th>\n",
              "      <td>83.0</td>\n",
              "      <td>708.524700</td>\n",
              "      <td>-116.096710</td>\n",
              "      <td>0.085506</td>\n",
              "      <td>10.077302</td>\n",
              "      <td>26.507965</td>\n",
              "    </tr>\n",
              "    <tr>\n",
              "      <th>2020-03-07 11:48:00</th>\n",
              "      <th>170</th>\n",
              "      <td>85.0</td>\n",
              "      <td>708.680500</td>\n",
              "      <td>-116.254980</td>\n",
              "      <td>0.085538</td>\n",
              "      <td>10.068365</td>\n",
              "      <td>26.495209</td>\n",
              "    </tr>\n",
              "    <tr>\n",
              "      <th>2020-03-07 11:49:00</th>\n",
              "      <th>171</th>\n",
              "      <td>84.0</td>\n",
              "      <td>708.733700</td>\n",
              "      <td>-117.048800</td>\n",
              "      <td>0.085742</td>\n",
              "      <td>10.063457</td>\n",
              "      <td>26.503113</td>\n",
              "    </tr>\n",
              "    <tr>\n",
              "      <th>2020-03-07 11:50:00</th>\n",
              "      <th>172</th>\n",
              "      <td>85.0</td>\n",
              "      <td>708.693500</td>\n",
              "      <td>-118.339520</td>\n",
              "      <td>0.085915</td>\n",
              "      <td>10.060904</td>\n",
              "      <td>26.497680</td>\n",
              "    </tr>\n",
              "  </tbody>\n",
              "</table>\n",
              "<p>115044 rows × 6 columns</p>\n",
              "</div>"
            ],
            "text/plain": [
              "Sensor                         BAT        COND          DO       ORP  \\\n",
              "Date                Frame No                                           \n",
              "2018-09-24 12:45:00 0         65.0   59.892838   77.444695  0.148257   \n",
              "2018-09-24 12:46:00 1         65.0   59.879820   77.076770  0.144755   \n",
              "2018-09-24 12:47:00 2         66.0   59.941690   76.227170  0.141710   \n",
              "2018-09-24 12:48:00 3         66.0   60.010353   77.731560  0.140641   \n",
              "2018-09-24 12:49:00 4         66.0   59.997463   76.798840  0.142180   \n",
              "...                            ...         ...         ...       ...   \n",
              "2020-03-07 11:46:00 168       78.0  708.380500 -117.572270  0.085424   \n",
              "2020-03-07 11:47:00 169       83.0  708.524700 -116.096710  0.085506   \n",
              "2020-03-07 11:48:00 170       85.0  708.680500 -116.254980  0.085538   \n",
              "2020-03-07 11:49:00 171       84.0  708.733700 -117.048800  0.085742   \n",
              "2020-03-07 11:50:00 172       85.0  708.693500 -118.339520  0.085915   \n",
              "\n",
              "Sensor                               PH         WT  \n",
              "Date                Frame No                        \n",
              "2018-09-24 12:45:00 0          6.379280  24.210846  \n",
              "2018-09-24 12:46:00 1          6.331513  24.156006  \n",
              "2018-09-24 12:47:00 2          6.372326  24.104614  \n",
              "2018-09-24 12:48:00 3          6.391796  24.093994  \n",
              "2018-09-24 12:49:00 4          6.339557  24.145294  \n",
              "...                                 ...        ...  \n",
              "2020-03-07 11:46:00 168       10.045585  26.504944  \n",
              "2020-03-07 11:47:00 169       10.077302  26.507965  \n",
              "2020-03-07 11:48:00 170       10.068365  26.495209  \n",
              "2020-03-07 11:49:00 171       10.063457  26.503113  \n",
              "2020-03-07 11:50:00 172       10.060904  26.497680  \n",
              "\n",
              "[115044 rows x 6 columns]"
            ]
          },
          "metadata": {
            "tags": []
          },
          "execution_count": 7
        }
      ]
    },
    {
      "cell_type": "markdown",
      "metadata": {
        "id": "py3PAHidGFsm"
      },
      "source": [
        "Converting to csv file"
      ]
    },
    {
      "cell_type": "code",
      "metadata": {
        "id": "a_J3hg6kGFsn"
      },
      "source": [
        "final = data.to_csv('final.csv')\n",
        "final"
      ],
      "execution_count": null,
      "outputs": []
    }
  ]
}