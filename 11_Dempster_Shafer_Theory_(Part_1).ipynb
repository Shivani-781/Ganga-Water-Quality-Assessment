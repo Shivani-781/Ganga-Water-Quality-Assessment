{
  "nbformat": 4,
  "nbformat_minor": 0,
  "metadata": {
    "kernelspec": {
      "display_name": "Python 3",
      "language": "python",
      "name": "python3"
    },
    "language_info": {
      "codemirror_mode": {
        "name": "ipython",
        "version": 3
      },
      "file_extension": ".py",
      "mimetype": "text/x-python",
      "name": "python",
      "nbconvert_exporter": "python",
      "pygments_lexer": "ipython3",
      "version": "3.7.7"
    },
    "colab": {
      "name": "11. Dempster Shafer Theory (Part-1).ipynb",
      "provenance": [],
      "include_colab_link": true
    }
  },
  "cells": [
    {
      "cell_type": "markdown",
      "metadata": {
        "id": "view-in-github",
        "colab_type": "text"
      },
      "source": [
        "<a href=\"https://colab.research.google.com/github/Shivani-781/Ganga-Water-Quality-Assessment/blob/main/11_Dempster_Shafer_Theory_(Part_1).ipynb\" target=\"_parent\"><img src=\"https://colab.research.google.com/assets/colab-badge.svg\" alt=\"Open In Colab\"/></a>"
      ]
    },
    {
      "cell_type": "markdown",
      "metadata": {
        "id": "PDgzzulaG9EI"
      },
      "source": [
        "# DST - Hypothesis Testing"
      ]
    },
    {
      "cell_type": "markdown",
      "metadata": {
        "id": "TN0kwMGsLfx7"
      },
      "source": [
        "Importing libraries"
      ]
    },
    {
      "cell_type": "code",
      "metadata": {
        "id": "Ox9M5sR6G9EL"
      },
      "source": [
        "import numpy as np\n",
        "import pandas as pd\n",
        "import matplotlib.pyplot as plt\n",
        "from sklearn import mixture\n",
        "%matplotlib inline"
      ],
      "execution_count": null,
      "outputs": []
    },
    {
      "cell_type": "code",
      "metadata": {
        "id": "iR6yMshVG9EV",
        "outputId": "5cf79adf-5eba-4545-ef87-e1b9aa33f52b"
      },
      "source": [
        "df = pd.read_csv('Ganga_Classification_data.csv')\n",
        "df"
      ],
      "execution_count": null,
      "outputs": [
        {
          "output_type": "execute_result",
          "data": {
            "text/html": [
              "<div>\n",
              "<style scoped>\n",
              "    .dataframe tbody tr th:only-of-type {\n",
              "        vertical-align: middle;\n",
              "    }\n",
              "\n",
              "    .dataframe tbody tr th {\n",
              "        vertical-align: top;\n",
              "    }\n",
              "\n",
              "    .dataframe thead th {\n",
              "        text-align: right;\n",
              "    }\n",
              "</style>\n",
              "<table border=\"1\" class=\"dataframe\">\n",
              "  <thead>\n",
              "    <tr style=\"text-align: right;\">\n",
              "      <th></th>\n",
              "      <th>Date</th>\n",
              "      <th>Frame No</th>\n",
              "      <th>BAT</th>\n",
              "      <th>COND</th>\n",
              "      <th>DO</th>\n",
              "      <th>ORP</th>\n",
              "      <th>PH</th>\n",
              "      <th>WT</th>\n",
              "      <th>Cluster</th>\n",
              "    </tr>\n",
              "  </thead>\n",
              "  <tbody>\n",
              "    <tr>\n",
              "      <th>0</th>\n",
              "      <td>12-01-2019 12:57</td>\n",
              "      <td>0</td>\n",
              "      <td>91.0</td>\n",
              "      <td>0.044698</td>\n",
              "      <td>14.832754</td>\n",
              "      <td>0.084822</td>\n",
              "      <td>8.879727</td>\n",
              "      <td>22.650238</td>\n",
              "      <td>1</td>\n",
              "    </tr>\n",
              "    <tr>\n",
              "      <th>1</th>\n",
              "      <td>12-01-2019 12:58</td>\n",
              "      <td>1</td>\n",
              "      <td>92.0</td>\n",
              "      <td>0.044651</td>\n",
              "      <td>14.170345</td>\n",
              "      <td>0.086292</td>\n",
              "      <td>8.866815</td>\n",
              "      <td>22.567017</td>\n",
              "      <td>1</td>\n",
              "    </tr>\n",
              "    <tr>\n",
              "      <th>2</th>\n",
              "      <td>12-01-2019 14:54</td>\n",
              "      <td>0</td>\n",
              "      <td>90.0</td>\n",
              "      <td>46.195190</td>\n",
              "      <td>13.501176</td>\n",
              "      <td>0.142900</td>\n",
              "      <td>12.359906</td>\n",
              "      <td>18.400787</td>\n",
              "      <td>1</td>\n",
              "    </tr>\n",
              "    <tr>\n",
              "      <th>3</th>\n",
              "      <td>12-01-2019 14:55</td>\n",
              "      <td>1</td>\n",
              "      <td>91.0</td>\n",
              "      <td>52.609680</td>\n",
              "      <td>20.752865</td>\n",
              "      <td>0.146236</td>\n",
              "      <td>12.825684</td>\n",
              "      <td>18.013641</td>\n",
              "      <td>1</td>\n",
              "    </tr>\n",
              "    <tr>\n",
              "      <th>4</th>\n",
              "      <td>12-01-2019 14:56</td>\n",
              "      <td>2</td>\n",
              "      <td>91.0</td>\n",
              "      <td>52.399826</td>\n",
              "      <td>12.409351</td>\n",
              "      <td>0.146724</td>\n",
              "      <td>12.998978</td>\n",
              "      <td>18.184570</td>\n",
              "      <td>1</td>\n",
              "    </tr>\n",
              "    <tr>\n",
              "      <th>...</th>\n",
              "      <td>...</td>\n",
              "      <td>...</td>\n",
              "      <td>...</td>\n",
              "      <td>...</td>\n",
              "      <td>...</td>\n",
              "      <td>...</td>\n",
              "      <td>...</td>\n",
              "      <td>...</td>\n",
              "      <td>...</td>\n",
              "    </tr>\n",
              "    <tr>\n",
              "      <th>46978</th>\n",
              "      <td>05-03-2020 17:40</td>\n",
              "      <td>193</td>\n",
              "      <td>87.0</td>\n",
              "      <td>721.867250</td>\n",
              "      <td>10.008608</td>\n",
              "      <td>0.116298</td>\n",
              "      <td>9.377568</td>\n",
              "      <td>27.130707</td>\n",
              "      <td>0</td>\n",
              "    </tr>\n",
              "    <tr>\n",
              "      <th>46979</th>\n",
              "      <td>05-03-2020 17:41</td>\n",
              "      <td>194</td>\n",
              "      <td>85.0</td>\n",
              "      <td>722.117000</td>\n",
              "      <td>10.008608</td>\n",
              "      <td>0.116288</td>\n",
              "      <td>9.374988</td>\n",
              "      <td>27.142334</td>\n",
              "      <td>0</td>\n",
              "    </tr>\n",
              "    <tr>\n",
              "      <th>46980</th>\n",
              "      <td>05-03-2020 17:42</td>\n",
              "      <td>195</td>\n",
              "      <td>80.0</td>\n",
              "      <td>722.028700</td>\n",
              "      <td>10.008608</td>\n",
              "      <td>0.116238</td>\n",
              "      <td>9.375849</td>\n",
              "      <td>27.139954</td>\n",
              "      <td>0</td>\n",
              "    </tr>\n",
              "    <tr>\n",
              "      <th>46981</th>\n",
              "      <td>05-03-2020 17:43</td>\n",
              "      <td>196</td>\n",
              "      <td>81.0</td>\n",
              "      <td>721.960700</td>\n",
              "      <td>10.008608</td>\n",
              "      <td>0.116218</td>\n",
              "      <td>9.380211</td>\n",
              "      <td>27.135010</td>\n",
              "      <td>0</td>\n",
              "    </tr>\n",
              "    <tr>\n",
              "      <th>46982</th>\n",
              "      <td>05-03-2020 17:44</td>\n",
              "      <td>197</td>\n",
              "      <td>83.0</td>\n",
              "      <td>722.114560</td>\n",
              "      <td>10.008608</td>\n",
              "      <td>0.116183</td>\n",
              "      <td>9.370649</td>\n",
              "      <td>27.131470</td>\n",
              "      <td>0</td>\n",
              "    </tr>\n",
              "  </tbody>\n",
              "</table>\n",
              "<p>46983 rows × 9 columns</p>\n",
              "</div>"
            ],
            "text/plain": [
              "                   Date  Frame No   BAT        COND         DO       ORP  \\\n",
              "0      12-01-2019 12:57         0  91.0    0.044698  14.832754  0.084822   \n",
              "1      12-01-2019 12:58         1  92.0    0.044651  14.170345  0.086292   \n",
              "2      12-01-2019 14:54         0  90.0   46.195190  13.501176  0.142900   \n",
              "3      12-01-2019 14:55         1  91.0   52.609680  20.752865  0.146236   \n",
              "4      12-01-2019 14:56         2  91.0   52.399826  12.409351  0.146724   \n",
              "...                 ...       ...   ...         ...        ...       ...   \n",
              "46978  05-03-2020 17:40       193  87.0  721.867250  10.008608  0.116298   \n",
              "46979  05-03-2020 17:41       194  85.0  722.117000  10.008608  0.116288   \n",
              "46980  05-03-2020 17:42       195  80.0  722.028700  10.008608  0.116238   \n",
              "46981  05-03-2020 17:43       196  81.0  721.960700  10.008608  0.116218   \n",
              "46982  05-03-2020 17:44       197  83.0  722.114560  10.008608  0.116183   \n",
              "\n",
              "              PH         WT  Cluster  \n",
              "0       8.879727  22.650238        1  \n",
              "1       8.866815  22.567017        1  \n",
              "2      12.359906  18.400787        1  \n",
              "3      12.825684  18.013641        1  \n",
              "4      12.998978  18.184570        1  \n",
              "...          ...        ...      ...  \n",
              "46978   9.377568  27.130707        0  \n",
              "46979   9.374988  27.142334        0  \n",
              "46980   9.375849  27.139954        0  \n",
              "46981   9.380211  27.135010        0  \n",
              "46982   9.370649  27.131470        0  \n",
              "\n",
              "[46983 rows x 9 columns]"
            ]
          },
          "metadata": {
            "tags": []
          },
          "execution_count": 2
        }
      ]
    },
    {
      "cell_type": "markdown",
      "metadata": {
        "id": "i18LM56kLmxx"
      },
      "source": [
        "Separating Clusters"
      ]
    },
    {
      "cell_type": "code",
      "metadata": {
        "id": "SYVZYaiAG9Eh"
      },
      "source": [
        "Cluster_1 = df[df['Cluster'] == 0]\n",
        "Cluster_2 = df[df['Cluster'] == 1]\n",
        "Cluster_3 = df[df['Cluster'] == 2]\n",
        "Cluster_4 = df[df['Cluster'] == 3]"
      ],
      "execution_count": null,
      "outputs": []
    },
    {
      "cell_type": "code",
      "metadata": {
        "id": "R3monjAyG9Eo",
        "outputId": "2fe4b9a0-7605-42b8-de0f-ab0e528c6913"
      },
      "source": [
        "print(Cluster_1.shape)\n",
        "print(Cluster_2.shape)\n",
        "print(Cluster_3.shape)\n",
        "print(Cluster_4.shape)"
      ],
      "execution_count": null,
      "outputs": [
        {
          "output_type": "stream",
          "text": [
            "(4783, 9)\n",
            "(9307, 9)\n",
            "(13085, 9)\n",
            "(19808, 9)\n"
          ],
          "name": "stdout"
        }
      ]
    },
    {
      "cell_type": "markdown",
      "metadata": {
        "id": "aUDQK4miNnBt"
      },
      "source": [
        "The **Dempster Shafer Theory**, also known as the theory of **belief functions**, was designed to mathematically model and validate the **uncertainty** involved in statistical inferences. It combines a set of representations and model data when there is a lack of information.\n",
        "\n",
        "DST is mostly known to represent uncertainties or imprecision in a hypothesis. The hypotheses characterize all the possible states of the system. These hypotheses are assigned a **probability mass assignment (PMA)** which when combined leads to a decision. \n",
        "\n",
        "**PMA** for parameter y to be in class x is given as below:"
      ]
    },
    {
      "cell_type": "markdown",
      "metadata": {
        "id": "D0RIaow4Mnbx"
      },
      "source": [
        "![Screenshot (250).png](data:image/png;base64,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)"
      ]
    },
    {
      "cell_type": "markdown",
      "metadata": {
        "id": "LpGJNOdbO_MI"
      },
      "source": [
        "Let's calculate values of probability density function, alpha and beta to find PMA. Then, PMA is used to find **Dempster's combinations** as: "
      ]
    },
    {
      "cell_type": "markdown",
      "metadata": {
        "id": "N-4NiGZTMbuB"
      },
      "source": [
        "![dst_formula.png](data:image/png;base64,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)"
      ]
    },
    {
      "cell_type": "markdown",
      "metadata": {
        "id": "wKMVcvL4G9Ew"
      },
      "source": [
        "Cluster 1"
      ]
    },
    {
      "cell_type": "code",
      "metadata": {
        "id": "-lKQScezG9Ex",
        "outputId": "7aa48e1f-e6b3-47f7-9fb1-27bc5c317d7a"
      },
      "source": [
        "#cond\n",
        "cond = Cluster_1['COND']\n",
        "#cond = cond.reset_index(drop=True)\n",
        "cond_pdf_1 = np.zeros([4783,1])\n",
        "cond=np.asarray(cond)\n",
        "cond=np.reshape(cond,(4783,1))\n",
        "gmm = mixture.GaussianMixture(n_components=1, covariance_type='full',max_iter=10000,tol=0.00001)\n",
        "gmm.fit(cond)\n",
        "mu = gmm.means_\n",
        "variance = gmm.covariances_\n",
        "sigma = np.sqrt(variance)\n",
        "for i in range(0, 4783):\n",
        "    x = 1/(np.sqrt(2*np.pi)*sigma)*np.exp(-np.power((cond[i] - mu)/sigma, 2)/2)\n",
        "    cond_pdf_1[i] = x\n",
        "cond_pdf_1"
      ],
      "execution_count": null,
      "outputs": [
        {
          "output_type": "execute_result",
          "data": {
            "text/plain": [
              "array([[0.00551836],\n",
              "       [0.00551831],\n",
              "       [0.0053593 ],\n",
              "       ...,\n",
              "       [0.00172707],\n",
              "       [0.00172955],\n",
              "       [0.00172395]])"
            ]
          },
          "metadata": {
            "tags": []
          },
          "execution_count": 5
        }
      ]
    },
    {
      "cell_type": "code",
      "metadata": {
        "id": "CdyCqjZwG9E7",
        "outputId": "377145de-957f-4c1e-f75b-ccb8d5b4940b"
      },
      "source": [
        "#do\n",
        "do = Cluster_1['DO']\n",
        "#do = do.reset_index(drop=True)\n",
        "do_pdf_1 = np.zeros([4783,1])\n",
        "do=np.asarray(do)\n",
        "do=np.reshape(do,(4783,1))\n",
        "gmm = mixture.GaussianMixture(n_components=1, covariance_type='full',max_iter=10000,tol=0.00001)\n",
        "gmm.fit(do)\n",
        "mu = gmm.means_\n",
        "variance = gmm.covariances_\n",
        "sigma = np.sqrt(variance)\n",
        "for i in range(0, 4783):\n",
        "    x = 1/(np.sqrt(2*np.pi)*sigma)*np.exp(-np.power((do[i] - mu)/sigma, 2)/2)\n",
        "    do_pdf_1[i] = x\n",
        "do_pdf_1"
      ],
      "execution_count": null,
      "outputs": [
        {
          "output_type": "execute_result",
          "data": {
            "text/plain": [
              "array([[4.52641629e-23],\n",
              "       [5.42506532e-23],\n",
              "       [4.75948341e-02],\n",
              "       ...,\n",
              "       [3.06761969e-02],\n",
              "       [3.06761969e-02],\n",
              "       [3.06761969e-02]])"
            ]
          },
          "metadata": {
            "tags": []
          },
          "execution_count": 6
        }
      ]
    },
    {
      "cell_type": "code",
      "metadata": {
        "id": "YVev7yLHG9FC",
        "outputId": "cccd2615-df97-48b9-a11f-6db30d684ea0"
      },
      "source": [
        "#orp\n",
        "orp = Cluster_1['ORP']\n",
        "#orp = orp.reset_index(drop=True)\n",
        "orp_pdf_1 = np.zeros([4783,1])\n",
        "orp=np.asarray(orp)\n",
        "orp=np.reshape(orp,(4783,1))\n",
        "gmm = mixture.GaussianMixture(n_components=1, covariance_type='full',max_iter=10000,tol=0.00001)\n",
        "gmm.fit(orp)\n",
        "mu = gmm.means_\n",
        "variance = gmm.covariances_\n",
        "sigma = np.sqrt(variance)\n",
        "for i in range(0, 4783):\n",
        "    x = 1/(np.sqrt(2*np.pi)*sigma)*np.exp(-np.power((orp[i] - mu)/sigma, 2)/2)\n",
        "    orp_pdf_1[i] = x\n",
        "orp_pdf_1"
      ],
      "execution_count": null,
      "outputs": [
        {
          "output_type": "execute_result",
          "data": {
            "text/plain": [
              "array([[5.11640491e-03],\n",
              "       [5.04580074e-03],\n",
              "       [2.22433904e-06],\n",
              "       ...,\n",
              "       [6.83244412e+00],\n",
              "       [6.84774845e+00],\n",
              "       [6.87477080e+00]])"
            ]
          },
          "metadata": {
            "tags": []
          },
          "execution_count": 7
        }
      ]
    },
    {
      "cell_type": "code",
      "metadata": {
        "id": "OrRknNevG9FO",
        "outputId": "25bc225f-5d5f-405c-fd6a-f22bd2d6dcf9"
      },
      "source": [
        "#ph\n",
        "ph = Cluster_1['PH']\n",
        "#ph = ph.reset_index(drop=True)\n",
        "ph_pdf_1 = np.zeros([4783,1])\n",
        "ph=np.asarray(ph)\n",
        "ph=np.reshape(ph,(4783,1))\n",
        "gmm = mixture.GaussianMixture(n_components=1, covariance_type='full',max_iter=10000,tol=0.00001)\n",
        "gmm.fit(ph)\n",
        "mu = gmm.means_\n",
        "variance = gmm.covariances_\n",
        "sigma = np.sqrt(variance)\n",
        "for i in range(0, 4783):\n",
        "    x = 1/(np.sqrt(2*np.pi)*sigma)*np.exp(-np.power((ph[i] - mu)/sigma, 2)/2)\n",
        "    ph_pdf_1[i] = x\n",
        "ph_pdf_1"
      ],
      "execution_count": null,
      "outputs": [
        {
          "output_type": "execute_result",
          "data": {
            "text/plain": [
              "array([[9.40830865e-01],\n",
              "       [6.86197391e-01],\n",
              "       [1.13812877e-07],\n",
              "       ...,\n",
              "       [2.72088892e-01],\n",
              "       [2.78327041e-01],\n",
              "       [2.64774571e-01]])"
            ]
          },
          "metadata": {
            "tags": []
          },
          "execution_count": 8
        }
      ]
    },
    {
      "cell_type": "code",
      "metadata": {
        "id": "yHwT6c_oG9FV",
        "outputId": "f72a1cdc-5e9a-4eef-f037-4ed88367f6f8"
      },
      "source": [
        "#WT\n",
        "wt = Cluster_1['WT']\n",
        "#wt = wt.reset_index(drop=True)\n",
        "wt_pdf_1 = np.zeros([4783,1])\n",
        "wt=np.asarray(wt)\n",
        "wt=np.reshape(wt,(4783,1))\n",
        "gmm = mixture.GaussianMixture(n_components=1, covariance_type='full',max_iter=10000,tol=0.00001)\n",
        "gmm.fit(wt)\n",
        "mu = gmm.means_\n",
        "variance = gmm.covariances_\n",
        "sigma = np.sqrt(variance)\n",
        "for i in range(0, 4783):\n",
        "    x = 1/(np.sqrt(2*np.pi)*sigma)*np.exp(-np.power((wt[i] - mu)/sigma, 2)/2)\n",
        "    wt_pdf_1[i] = x\n",
        "wt_pdf_1"
      ],
      "execution_count": null,
      "outputs": [
        {
          "output_type": "execute_result",
          "data": {
            "text/plain": [
              "array([[0.04965967],\n",
              "       [0.05155636],\n",
              "       [0.07324969],\n",
              "       ...,\n",
              "       [0.07333524],\n",
              "       [0.07347818],\n",
              "       [0.07358056]])"
            ]
          },
          "metadata": {
            "tags": []
          },
          "execution_count": 9
        }
      ]
    },
    {
      "cell_type": "markdown",
      "metadata": {
        "id": "t2rTFGzNG9Fb"
      },
      "source": [
        "Cluster 2"
      ]
    },
    {
      "cell_type": "code",
      "metadata": {
        "id": "c1zXg1VmG9Fd",
        "outputId": "37f7661e-ea65-4f38-caf0-345412e6415e"
      },
      "source": [
        "#cond\n",
        "cond = Cluster_2['COND']\n",
        "#cond = cond.reset_index(drop=True)\n",
        "cond_pdf_2 = np.zeros([9307,1])\n",
        "cond=np.asarray(cond)\n",
        "cond=np.reshape(cond,(9307,1))\n",
        "gmm = mixture.GaussianMixture(n_components=1, covariance_type='full',max_iter=10000,tol=0.00001)\n",
        "gmm.fit(cond)\n",
        "mu = gmm.means_\n",
        "variance = gmm.covariances_\n",
        "sigma = np.sqrt(variance)\n",
        "for i in range(0, 9307):\n",
        "    x = 1/(np.sqrt(2*np.pi)*sigma)*np.exp(-np.power((cond[i] - mu)/sigma, 2)/2)\n",
        "    cond_pdf_2[i] = x\n",
        "cond_pdf_2"
      ],
      "execution_count": null,
      "outputs": [
        {
          "output_type": "execute_result",
          "data": {
            "text/plain": [
              "array([[0.01048103],\n",
              "       [0.01048101],\n",
              "       [0.01037149],\n",
              "       ...,\n",
              "       [0.01085206],\n",
              "       [0.0109708 ],\n",
              "       [0.01116765]])"
            ]
          },
          "metadata": {
            "tags": []
          },
          "execution_count": 10
        }
      ]
    },
    {
      "cell_type": "code",
      "metadata": {
        "id": "qG4x4hk8G9Fk",
        "outputId": "21b94bb2-11e0-46fe-b531-9ddb43108b54"
      },
      "source": [
        "#do\n",
        "do = Cluster_2['DO']\n",
        "#do = do.reset_index(drop=True)\n",
        "do_pdf_2 = np.zeros([9307,1])\n",
        "do=np.asarray(do)\n",
        "do=np.reshape(do,(9307,1))\n",
        "gmm = mixture.GaussianMixture(n_components=1, covariance_type='full',max_iter=10000,tol=0.00001)\n",
        "gmm.fit(do)\n",
        "mu = gmm.means_\n",
        "variance = gmm.covariances_\n",
        "sigma = np.sqrt(variance)\n",
        "for i in range(0, 9307):\n",
        "    x = 1/(np.sqrt(2*np.pi)*sigma)*np.exp(-np.power((do[i] - mu)/sigma, 2)/2)\n",
        "    do_pdf_2[i] = x\n",
        "do_pdf_2"
      ],
      "execution_count": null,
      "outputs": [
        {
          "output_type": "execute_result",
          "data": {
            "text/plain": [
              "array([[6.25193365e-10],\n",
              "       [4.60950839e-10],\n",
              "       [3.37907466e-10],\n",
              "       ...,\n",
              "       [7.82927876e-10],\n",
              "       [7.72474458e-10],\n",
              "       [4.44945218e-09]])"
            ]
          },
          "metadata": {
            "tags": []
          },
          "execution_count": 11
        }
      ]
    },
    {
      "cell_type": "code",
      "metadata": {
        "id": "UjKkbcIXG9Fr",
        "outputId": "2d12d125-2dbe-4e21-8d73-2d8dee0cc5c3"
      },
      "source": [
        "#orp\n",
        "orp = Cluster_2['ORP']\n",
        "#orp = orp.reset_index(drop=True)\n",
        "orp_pdf_2 = np.zeros([9307,1])\n",
        "orp=np.asarray(orp)\n",
        "orp=np.reshape(orp,(9307,1))\n",
        "gmm = mixture.GaussianMixture(n_components=1, covariance_type='full',max_iter=10000,tol=0.00001)\n",
        "gmm.fit(orp)\n",
        "mu = gmm.means_\n",
        "variance = gmm.covariances_\n",
        "for i in range(0, 9307):\n",
        "    x = 1/(np.sqrt(2*np.pi)*sigma)*np.exp(-np.power((orp[i] - mu)/sigma, 2)/2)\n",
        "    orp_pdf_2[i] = x\n",
        "orp_pdf_2"
      ],
      "execution_count": null,
      "outputs": [
        {
          "output_type": "execute_result",
          "data": {
            "text/plain": [
              "array([[0.03070974],\n",
              "       [0.03070975],\n",
              "       [0.03070967],\n",
              "       ...,\n",
              "       [0.03070978],\n",
              "       [0.03070977],\n",
              "       [0.03070979]])"
            ]
          },
          "metadata": {
            "tags": []
          },
          "execution_count": 12
        }
      ]
    },
    {
      "cell_type": "code",
      "metadata": {
        "id": "VtxRPJ0NG9Fy",
        "outputId": "0290da0d-33dc-4fa0-89a6-32446a4e6722"
      },
      "source": [
        "#ph\n",
        "ph = Cluster_2['PH']\n",
        "#ph = ph.reset_index(drop=True)\n",
        "ph_pdf_2 = np.zeros([9307,1])\n",
        "ph=np.asarray(ph)\n",
        "ph=np.reshape(ph,(9307,1))\n",
        "gmm = mixture.GaussianMixture(n_components=1, covariance_type='full',max_iter=10000,tol=0.00001)\n",
        "gmm.fit(ph)\n",
        "mu = gmm.means_\n",
        "variance = gmm.covariances_\n",
        "for i in range(0, 9307):\n",
        "    x = 1/(np.sqrt(2*np.pi)*sigma)*np.exp(-np.power((ph[i] - mu)/sigma, 2)/2)\n",
        "    ph_pdf_2[i] = x\n",
        "ph_pdf_2"
      ],
      "execution_count": null,
      "outputs": [
        {
          "output_type": "execute_result",
          "data": {
            "text/plain": [
              "array([[0.02988857],\n",
              "       [0.02988164],\n",
              "       [0.03069091],\n",
              "       ...,\n",
              "       [0.02956558],\n",
              "       [0.02955332],\n",
              "       [0.02924829]])"
            ]
          },
          "metadata": {
            "tags": []
          },
          "execution_count": 13
        }
      ]
    },
    {
      "cell_type": "code",
      "metadata": {
        "id": "MU5S_v9rG9F7",
        "outputId": "3ff7353e-be75-4ea6-9b08-adae29dc6d81"
      },
      "source": [
        "#WT\n",
        "wt = Cluster_2['WT']\n",
        "#wt = wt.reset_index(drop=True)\n",
        "wt_pdf_2 = np.zeros([9307,1])\n",
        "wt=np.asarray(wt)\n",
        "wt=np.reshape(wt,(9307,1))\n",
        "gmm = mixture.GaussianMixture(n_components=1, covariance_type='full',max_iter=10000,tol=0.00001)\n",
        "gmm.fit(wt)\n",
        "mu = gmm.means_\n",
        "variance = gmm.covariances_\n",
        "for i in range(0, 9307):\n",
        "    x = 1/(np.sqrt(2*np.pi)*sigma)*np.exp(-np.power((wt[i] - mu)/sigma, 2)/2)\n",
        "    wt_pdf_2[i] = x\n",
        "wt_pdf_2"
      ],
      "execution_count": null,
      "outputs": [
        {
          "output_type": "execute_result",
          "data": {
            "text/plain": [
              "array([[0.02904876],\n",
              "       [0.02898617],\n",
              "       [0.02468971],\n",
              "       ...,\n",
              "       [0.03053962],\n",
              "       [0.0307081 ],\n",
              "       [0.02136995]])"
            ]
          },
          "metadata": {
            "tags": []
          },
          "execution_count": 14
        }
      ]
    },
    {
      "cell_type": "markdown",
      "metadata": {
        "id": "k_1hh7CsG9GD"
      },
      "source": [
        "Cluster 3"
      ]
    },
    {
      "cell_type": "code",
      "metadata": {
        "id": "ugSkKALmG9GF",
        "outputId": "3609ef64-21df-4059-f640-92bda7c6914f"
      },
      "source": [
        "#cond\n",
        "cond = Cluster_3['COND']\n",
        "#cond = cond.reset_index(drop=True)\n",
        "cond_pdf_3 = np.zeros([13085,1])\n",
        "cond=np.asarray(cond)\n",
        "cond=np.reshape(cond,(13085,1))\n",
        "gmm = mixture.GaussianMixture(n_components=1, covariance_type='full',max_iter=10000,tol=0.00001)\n",
        "gmm.fit(cond)\n",
        "mu = gmm.means_\n",
        "variance = gmm.covariances_\n",
        "for i in range(0, 13085):\n",
        "    x = 1/(np.sqrt(2*np.pi)*sigma)*np.exp(-np.power((cond[i] - mu)/sigma, 2)/2)\n",
        "    cond_pdf_3[i] = x\n",
        "cond_pdf_3"
      ],
      "execution_count": null,
      "outputs": [
        {
          "output_type": "execute_result",
          "data": {
            "text/plain": [
              "array([[5.49859553e-07],\n",
              "       [4.29867774e-07],\n",
              "       [3.37429759e-07],\n",
              "       ...,\n",
              "       [2.24243310e-02],\n",
              "       [2.25883319e-02],\n",
              "       [2.25744284e-02]])"
            ]
          },
          "metadata": {
            "tags": []
          },
          "execution_count": 15
        }
      ]
    },
    {
      "cell_type": "code",
      "metadata": {
        "id": "Q-EDoB-8G9GL",
        "outputId": "6326e047-6c02-4408-e592-5836b16a9135"
      },
      "source": [
        "#do\n",
        "do = Cluster_3['DO']\n",
        "#do = do.reset_index(drop=True)\n",
        "do_pdf_3 = np.zeros([13085,1])\n",
        "do=np.asarray(do)\n",
        "do=np.reshape(do,(13085,1))\n",
        "gmm = mixture.GaussianMixture(n_components=1, covariance_type='full',max_iter=10000,tol=0.00001)\n",
        "gmm.fit(do)\n",
        "mu = gmm.means_\n",
        "variance = gmm.covariances_\n",
        "for i in range(0, 13085):\n",
        "    x = 1/(np.sqrt(2*np.pi)*sigma)*np.exp(-np.power((do[i] - mu)/sigma, 2)/2)\n",
        "    do_pdf_3[i] = x\n",
        "do_pdf_3"
      ],
      "execution_count": null,
      "outputs": [
        {
          "output_type": "execute_result",
          "data": {
            "text/plain": [
              "array([[0.00048199],\n",
              "       [0.00035142],\n",
              "       [0.03031685],\n",
              "       ...,\n",
              "       [0.00247279],\n",
              "       [0.00247279],\n",
              "       [0.00247279]])"
            ]
          },
          "metadata": {
            "tags": []
          },
          "execution_count": 16
        }
      ]
    },
    {
      "cell_type": "code",
      "metadata": {
        "id": "JNDu5PolG9GS",
        "outputId": "a5b6e0d9-e9d6-4a66-fbde-4f6b56f36eca"
      },
      "source": [
        "#orp\n",
        "orp = Cluster_3['ORP']\n",
        "#orp = orp.reset_index(drop=True)\n",
        "orp_pdf_3 = np.zeros([13085,1])\n",
        "orp=np.asarray(orp)\n",
        "orp=np.reshape(orp,(13085,1))\n",
        "gmm = mixture.GaussianMixture(n_components=1, covariance_type='full',max_iter=10000,tol=0.00001)\n",
        "gmm.fit(orp)\n",
        "mu = gmm.means_\n",
        "variance = gmm.covariances_\n",
        "for i in range(0, 13085):\n",
        "    x = 1/(np.sqrt(2*np.pi)*sigma)*np.exp(-np.power((orp[i] - mu)/sigma, 2)/2)\n",
        "    orp_pdf_3[i] = x\n",
        "orp_pdf_3"
      ],
      "execution_count": null,
      "outputs": [
        {
          "output_type": "execute_result",
          "data": {
            "text/plain": [
              "array([[0.03070969],\n",
              "       [0.03070968],\n",
              "       [0.03070968],\n",
              "       ...,\n",
              "       [0.03070978],\n",
              "       [0.03070978],\n",
              "       [0.03070978]])"
            ]
          },
          "metadata": {
            "tags": []
          },
          "execution_count": 17
        }
      ]
    },
    {
      "cell_type": "code",
      "metadata": {
        "id": "eEW0s2dDG9GY",
        "outputId": "e421d50c-d400-40ad-ae93-cff6bcbfa1f2"
      },
      "source": [
        "#ph\n",
        "ph = Cluster_3['PH']\n",
        "#ph = ph.reset_index(drop=True)\n",
        "ph_pdf_3 = np.zeros([13085,1])\n",
        "ph=np.asarray(ph)\n",
        "ph=np.reshape(ph,(13085,1))\n",
        "gmm = mixture.GaussianMixture(n_components=1, covariance_type='full',max_iter=10000,tol=0.00001)\n",
        "gmm.fit(ph)\n",
        "mu = gmm.means_\n",
        "variance = gmm.covariances_\n",
        "for i in range(0, 13085):\n",
        "    x = 1/(np.sqrt(2*np.pi)*sigma)*np.exp(-np.power((ph[i] - mu)/sigma, 2)/2)\n",
        "    ph_pdf_3[i] = x\n",
        "ph_pdf_3"
      ],
      "execution_count": null,
      "outputs": [
        {
          "output_type": "execute_result",
          "data": {
            "text/plain": [
              "array([[0.03041849],\n",
              "       [0.03043625],\n",
              "       [0.03032244],\n",
              "       ...,\n",
              "       [0.02983176],\n",
              "       [0.02983496],\n",
              "       [0.02983355]])"
            ]
          },
          "metadata": {
            "tags": []
          },
          "execution_count": 18
        }
      ]
    },
    {
      "cell_type": "code",
      "metadata": {
        "id": "NbhS49ZJG9Gf",
        "outputId": "c9d83964-0eee-4af2-b70e-5f04e944ba25"
      },
      "source": [
        "#WT\n",
        "wt = Cluster_3['WT']\n",
        "#wt = wt.reset_index(drop=True)\n",
        "wt_pdf_3 = np.zeros([13085,1])\n",
        "wt=np.asarray(wt)\n",
        "wt=np.reshape(wt,(13085,1))\n",
        "gmm = mixture.GaussianMixture(n_components=1, covariance_type='full',max_iter=10000,tol=0.00001)\n",
        "gmm.fit(wt)\n",
        "mu = gmm.means_\n",
        "variance = gmm.covariances_\n",
        "for i in range(0, 13085):\n",
        "    x = 1/(np.sqrt(2*np.pi)*sigma)*np.exp(-np.power((wt[i] - mu)/sigma, 2)/2)\n",
        "    wt_pdf_3[i] = x\n",
        "wt_pdf_3"
      ],
      "execution_count": null,
      "outputs": [
        {
          "output_type": "execute_result",
          "data": {
            "text/plain": [
              "array([[0.03042621],\n",
              "       [0.03045015],\n",
              "       [0.03045297],\n",
              "       ...,\n",
              "       [0.03067268],\n",
              "       [0.03067226],\n",
              "       [0.03067218]])"
            ]
          },
          "metadata": {
            "tags": []
          },
          "execution_count": 19
        }
      ]
    },
    {
      "cell_type": "markdown",
      "metadata": {
        "id": "kw0c7ftfG9Gn"
      },
      "source": [
        "Cluster 4"
      ]
    },
    {
      "cell_type": "code",
      "metadata": {
        "id": "LUapipa_G9Go",
        "outputId": "3aa19f9c-172d-4da7-af66-a9c0ca98db6a"
      },
      "source": [
        "#cond\n",
        "cond = Cluster_4['COND']\n",
        "#cond = cond.reset_index(drop=True)\n",
        "cond_pdf_4 = np.zeros([19808,1])\n",
        "cond=np.asarray(cond)\n",
        "cond=np.reshape(cond,(19808,1))\n",
        "gmm = mixture.GaussianMixture(n_components=1, covariance_type='full',max_iter=10000,tol=0.00001)\n",
        "gmm.fit(cond)\n",
        "mu = gmm.means_\n",
        "variance = gmm.covariances_\n",
        "for i in range(0, 19808):\n",
        "    x = 1/(np.sqrt(2*np.pi)*sigma)*np.exp(-np.power((cond[i] - mu)/sigma, 2)/2)\n",
        "    cond_pdf_4[i] = x\n",
        "cond_pdf_4"
      ],
      "execution_count": null,
      "outputs": [
        {
          "output_type": "execute_result",
          "data": {
            "text/plain": [
              "array([[1.82984603e-05],\n",
              "       [1.60654126e-05],\n",
              "       [1.90197775e-05],\n",
              "       ...,\n",
              "       [2.93136413e-02],\n",
              "       [2.93478958e-02],\n",
              "       [2.92874189e-02]])"
            ]
          },
          "metadata": {
            "tags": []
          },
          "execution_count": 20
        }
      ]
    },
    {
      "cell_type": "code",
      "metadata": {
        "id": "M69n_VmBG9Gu",
        "outputId": "5a5e7b24-1415-48b9-e002-2f808c3e7f92"
      },
      "source": [
        "#do\n",
        "do = Cluster_4['DO']\n",
        "#do = do.reset_index(drop=True)\n",
        "do_pdf_4 = np.zeros([19808,1])\n",
        "do=np.asarray(do)\n",
        "do=np.reshape(do,(19808,1))\n",
        "gmm = mixture.GaussianMixture(n_components=1, covariance_type='full',max_iter=10000,tol=0.00001)\n",
        "gmm.fit(do)\n",
        "mu = gmm.means_\n",
        "variance = gmm.covariances_\n",
        "for i in range(0, 19808):\n",
        "    x = 1/(np.sqrt(2*np.pi)*sigma)*np.exp(-np.power((do[i] - mu)/sigma, 2)/2)\n",
        "    do_pdf_4[i] = x\n",
        "do_pdf_4"
      ],
      "execution_count": null,
      "outputs": [
        {
          "output_type": "execute_result",
          "data": {
            "text/plain": [
              "array([[5.74714515e-13],\n",
              "       [5.63284705e-13],\n",
              "       [4.51389295e-13],\n",
              "       ...,\n",
              "       [1.00720683e-02],\n",
              "       [1.00720683e-02],\n",
              "       [1.00720683e-02]])"
            ]
          },
          "metadata": {
            "tags": []
          },
          "execution_count": 21
        }
      ]
    },
    {
      "cell_type": "code",
      "metadata": {
        "id": "2-a_r-LUG9G3",
        "outputId": "5f4d0270-9a3c-4ef2-c258-11404e329ff8"
      },
      "source": [
        "#orp\n",
        "orp = Cluster_4['ORP']\n",
        "#orp = orp.reset_index(drop=True)\n",
        "orp_pdf_4 = np.zeros([19808,1])\n",
        "orp=np.asarray(orp)\n",
        "orp=np.reshape(orp,(19808,1))\n",
        "gmm = mixture.GaussianMixture(n_components=1, covariance_type='full',max_iter=10000,tol=0.00001)\n",
        "gmm.fit(orp)\n",
        "mu = gmm.means_\n",
        "variance = gmm.covariances_\n",
        "for i in range(0, 19808):\n",
        "    x = 1/(np.sqrt(2*np.pi)*sigma)*np.exp(-np.power((orp[i] - mu)/sigma, 2)/2)\n",
        "    orp_pdf_4[i] = x\n",
        "orp_pdf_4"
      ],
      "execution_count": null,
      "outputs": [
        {
          "output_type": "execute_result",
          "data": {
            "text/plain": [
              "array([[0.03070976],\n",
              "       [0.03070976],\n",
              "       [0.03070933],\n",
              "       ...,\n",
              "       [0.03070978],\n",
              "       [0.03070978],\n",
              "       [0.03070978]])"
            ]
          },
          "metadata": {
            "tags": []
          },
          "execution_count": 22
        }
      ]
    },
    {
      "cell_type": "code",
      "metadata": {
        "id": "I9I13IuqG9G-",
        "outputId": "46670c88-e24d-41bc-f838-79c97f25b089"
      },
      "source": [
        "#ph\n",
        "ph = Cluster_4['PH']\n",
        "#ph = ph.reset_index(drop=True)\n",
        "ph_pdf_4 = np.zeros([19808,1])\n",
        "ph=np.asarray(ph)\n",
        "ph=np.reshape(ph,(19808,1))\n",
        "gmm = mixture.GaussianMixture(n_components=1, covariance_type='full',max_iter=10000,tol=0.00001)\n",
        "gmm.fit(ph)\n",
        "mu = gmm.means_\n",
        "variance = gmm.covariances_\n",
        "for i in range(0, 19808):\n",
        "    x = 1/(np.sqrt(2*np.pi)*sigma)*np.exp(-np.power((ph[i] - mu)/sigma, 2)/2)\n",
        "    ph_pdf_4[i] = x\n",
        "ph_pdf_4"
      ],
      "execution_count": null,
      "outputs": [
        {
          "output_type": "execute_result",
          "data": {
            "text/plain": [
              "array([[0.0286389 ],\n",
              "       [0.02861038],\n",
              "       [0.02866435],\n",
              "       ...,\n",
              "       [0.03070256],\n",
              "       [0.03069973],\n",
              "       [0.03069964]])"
            ]
          },
          "metadata": {
            "tags": []
          },
          "execution_count": 23
        }
      ]
    },
    {
      "cell_type": "code",
      "metadata": {
        "id": "WmY4Tm3mG9HG",
        "outputId": "849f6e2a-9eb1-4ca5-8cdb-ed98cf07aaa5"
      },
      "source": [
        "#WT\n",
        "wt = Cluster_4['WT']\n",
        "#wt = wt.reset_index(drop=True)\n",
        "wt_pdf_4 = np.zeros([19808,1])\n",
        "wt=np.asarray(wt)\n",
        "wt=np.reshape(wt,(19808,1))\n",
        "gmm = mixture.GaussianMixture(n_components=1, covariance_type='full',max_iter=10000,tol=0.00001)\n",
        "gmm.fit(wt)\n",
        "mu = gmm.means_\n",
        "variance = gmm.covariances_\n",
        "for i in range(0, 19808):\n",
        "    x = 1/(np.sqrt(2*np.pi)*sigma)*np.exp(-np.power((wt[i] - mu)/sigma, 2)/2)\n",
        "    wt_pdf_4[i] = x\n",
        "wt_pdf_4"
      ],
      "execution_count": null,
      "outputs": [
        {
          "output_type": "execute_result",
          "data": {
            "text/plain": [
              "array([[0.02873884],\n",
              "       [0.02889014],\n",
              "       [0.02885629],\n",
              "       ...,\n",
              "       [0.03070037],\n",
              "       [0.03070048],\n",
              "       [0.03070073]])"
            ]
          },
          "metadata": {
            "tags": []
          },
          "execution_count": 24
        }
      ]
    },
    {
      "cell_type": "markdown",
      "metadata": {
        "id": "ACiZXIvCG9HO"
      },
      "source": [
        "Calculating Alpha"
      ]
    },
    {
      "cell_type": "code",
      "metadata": {
        "id": "IV0MVffaG9HP"
      },
      "source": [
        "alpha_cond = max(cond_pdf_1.max(), cond_pdf_2.max(), cond_pdf_3.max(), cond_pdf_4.max())\n",
        "alpha_do = max(do_pdf_1.max(), do_pdf_2.max(), do_pdf_3.max(), do_pdf_4.max())\n",
        "alpha_orp = max(orp_pdf_1.max(), orp_pdf_2.max(), orp_pdf_3.max(), orp_pdf_4.max())\n",
        "alpha_ph = max(ph_pdf_1.max(), ph_pdf_2.max(), ph_pdf_3.max(), ph_pdf_4.max())\n",
        "alpha_wt = max(wt_pdf_1.max(), wt_pdf_2.max(), wt_pdf_3.max(), wt_pdf_4.max())"
      ],
      "execution_count": null,
      "outputs": []
    },
    {
      "cell_type": "markdown",
      "metadata": {
        "id": "wK_6TPrtG9HW"
      },
      "source": [
        "Calculating Beta"
      ]
    },
    {
      "cell_type": "code",
      "metadata": {
        "id": "meCnGfBjG9HX"
      },
      "source": [
        "beta_cond = alpha_cond/(cond_pdf_1.sum() + cond_pdf_2.sum() + cond_pdf_3.sum() + cond_pdf_4.sum())\n",
        "beta_do = alpha_do/(do_pdf_1.sum() + do_pdf_2.sum() + do_pdf_3.sum() + do_pdf_4.sum())\n",
        "beta_orp = alpha_orp/(orp_pdf_1.sum() + orp_pdf_2.sum() + orp_pdf_3.sum() + orp_pdf_4.sum())\n",
        "beta_ph = alpha_ph/(ph_pdf_1.sum() + ph_pdf_2.sum() + ph_pdf_3.sum() + ph_pdf_4.sum())\n",
        "beta_wt = alpha_wt/(wt_pdf_1.sum() + wt_pdf_2.sum() + wt_pdf_3.sum() + wt_pdf_4.sum())"
      ],
      "execution_count": null,
      "outputs": []
    },
    {
      "cell_type": "code",
      "metadata": {
        "id": "5FrJVlt7G9He",
        "outputId": "2bc6a4fe-48fd-4bf6-a4b1-733dcd4564fa"
      },
      "source": [
        "alpha_cond"
      ],
      "execution_count": null,
      "outputs": [
        {
          "output_type": "execute_result",
          "data": {
            "text/plain": [
              "0.03070978683024007"
            ]
          },
          "metadata": {
            "tags": []
          },
          "execution_count": 27
        }
      ]
    },
    {
      "cell_type": "code",
      "metadata": {
        "id": "79Omz7DrG9Hk",
        "outputId": "c8eaa331-1140-4568-c0e2-3bbd9c8721b1"
      },
      "source": [
        "alpha_do"
      ],
      "execution_count": null,
      "outputs": [
        {
          "output_type": "execute_result",
          "data": {
            "text/plain": [
              "0.05016445828146459"
            ]
          },
          "metadata": {
            "tags": []
          },
          "execution_count": 28
        }
      ]
    },
    {
      "cell_type": "code",
      "metadata": {
        "id": "WaIHCyUbG9Hq",
        "outputId": "87da3c87-eba6-4381-c296-aa444e4cfb74"
      },
      "source": [
        "alpha_orp"
      ],
      "execution_count": null,
      "outputs": [
        {
          "output_type": "execute_result",
          "data": {
            "text/plain": [
              "26.92450482095486"
            ]
          },
          "metadata": {
            "tags": []
          },
          "execution_count": 29
        }
      ]
    },
    {
      "cell_type": "code",
      "metadata": {
        "id": "LEXyb1jqG9Hw",
        "outputId": "a2619146-b579-4815-ce90-d534c6c605eb"
      },
      "source": [
        "alpha_ph "
      ],
      "execution_count": null,
      "outputs": [
        {
          "output_type": "execute_result",
          "data": {
            "text/plain": [
              "1.2059997871555141"
            ]
          },
          "metadata": {
            "tags": []
          },
          "execution_count": 30
        }
      ]
    },
    {
      "cell_type": "code",
      "metadata": {
        "id": "kZTVzoC_G9H2",
        "outputId": "ddb1c754-c531-43b7-8c65-640ee7e68cef"
      },
      "source": [
        "alpha_wt"
      ],
      "execution_count": null,
      "outputs": [
        {
          "output_type": "execute_result",
          "data": {
            "text/plain": [
              "0.13111331695879244"
            ]
          },
          "metadata": {
            "tags": []
          },
          "execution_count": 31
        }
      ]
    },
    {
      "cell_type": "code",
      "metadata": {
        "id": "EL5p3BFcG9H_",
        "outputId": "9b8d1201-db69-4348-e043-9e97d6267b36"
      },
      "source": [
        "beta_cond"
      ],
      "execution_count": null,
      "outputs": [
        {
          "output_type": "execute_result",
          "data": {
            "text/plain": [
              "9.263025323833114e-05"
            ]
          },
          "metadata": {
            "tags": []
          },
          "execution_count": 32
        }
      ]
    },
    {
      "cell_type": "code",
      "metadata": {
        "id": "-kgYgfuUG9IE",
        "outputId": "ef6ca017-8896-43a7-a6aa-12d7e2a242bf"
      },
      "source": [
        "beta_do"
      ],
      "execution_count": null,
      "outputs": [
        {
          "output_type": "execute_result",
          "data": {
            "text/plain": [
              "5.265862332647032e-05"
            ]
          },
          "metadata": {
            "tags": []
          },
          "execution_count": 33
        }
      ]
    },
    {
      "cell_type": "code",
      "metadata": {
        "id": "JAzek16AG9IK",
        "outputId": "926d431d-7a38-49f3-e779-e432bf63a6aa"
      },
      "source": [
        "beta_orp"
      ],
      "execution_count": null,
      "outputs": [
        {
          "output_type": "execute_result",
          "data": {
            "text/plain": [
              "0.00028998834174178876"
            ]
          },
          "metadata": {
            "tags": []
          },
          "execution_count": 34
        }
      ]
    },
    {
      "cell_type": "code",
      "metadata": {
        "id": "LWKcyRvFG9IR",
        "outputId": "1d42d6bf-22ea-4e49-b10b-c7837f403261"
      },
      "source": [
        "beta_ph"
      ],
      "execution_count": null,
      "outputs": [
        {
          "output_type": "execute_result",
          "data": {
            "text/plain": [
              "0.00022061306253038076"
            ]
          },
          "metadata": {
            "tags": []
          },
          "execution_count": 35
        }
      ]
    },
    {
      "cell_type": "code",
      "metadata": {
        "id": "6T8UNIecG9IX",
        "outputId": "476b2349-3387-437a-a390-854b93e7804f"
      },
      "source": [
        "beta_wt"
      ],
      "execution_count": null,
      "outputs": [
        {
          "output_type": "execute_result",
          "data": {
            "text/plain": [
              "7.812023530169625e-05"
            ]
          },
          "metadata": {
            "tags": []
          },
          "execution_count": 36
        }
      ]
    },
    {
      "cell_type": "code",
      "metadata": {
        "id": "2wxDKaN0G9Id",
        "outputId": "a827e123-bb40-4d37-f5c6-7f8f3ca361fa"
      },
      "source": [
        "cond_1 = pd.DataFrame(cond_pdf_1, columns = ['COND']) \n",
        "do_1 = pd.DataFrame(do_pdf_1, columns = ['DO'])\n",
        "orp_1 = pd.DataFrame(orp_pdf_1, columns = ['ORP'])\n",
        "ph_1 = pd.DataFrame(ph_pdf_1, columns = ['PH'])\n",
        "wt_1 = pd.DataFrame(wt_pdf_1, columns = ['WT'])\n",
        "data_1 = pd.concat([cond_1, do_1, orp_1, ph_1, wt_1], axis=1)\n",
        "data_1"
      ],
      "execution_count": null,
      "outputs": [
        {
          "output_type": "execute_result",
          "data": {
            "text/html": [
              "<div>\n",
              "<style scoped>\n",
              "    .dataframe tbody tr th:only-of-type {\n",
              "        vertical-align: middle;\n",
              "    }\n",
              "\n",
              "    .dataframe tbody tr th {\n",
              "        vertical-align: top;\n",
              "    }\n",
              "\n",
              "    .dataframe thead th {\n",
              "        text-align: right;\n",
              "    }\n",
              "</style>\n",
              "<table border=\"1\" class=\"dataframe\">\n",
              "  <thead>\n",
              "    <tr style=\"text-align: right;\">\n",
              "      <th></th>\n",
              "      <th>COND</th>\n",
              "      <th>DO</th>\n",
              "      <th>ORP</th>\n",
              "      <th>PH</th>\n",
              "      <th>WT</th>\n",
              "    </tr>\n",
              "  </thead>\n",
              "  <tbody>\n",
              "    <tr>\n",
              "      <th>0</th>\n",
              "      <td>0.005518</td>\n",
              "      <td>4.526416e-23</td>\n",
              "      <td>0.005116</td>\n",
              "      <td>9.408309e-01</td>\n",
              "      <td>0.049660</td>\n",
              "    </tr>\n",
              "    <tr>\n",
              "      <th>1</th>\n",
              "      <td>0.005518</td>\n",
              "      <td>5.425065e-23</td>\n",
              "      <td>0.005046</td>\n",
              "      <td>6.861974e-01</td>\n",
              "      <td>0.051556</td>\n",
              "    </tr>\n",
              "    <tr>\n",
              "      <th>2</th>\n",
              "      <td>0.005359</td>\n",
              "      <td>4.759483e-02</td>\n",
              "      <td>0.000002</td>\n",
              "      <td>1.138129e-07</td>\n",
              "      <td>0.073250</td>\n",
              "    </tr>\n",
              "    <tr>\n",
              "      <th>3</th>\n",
              "      <td>0.002778</td>\n",
              "      <td>2.095047e-02</td>\n",
              "      <td>18.784598</td>\n",
              "      <td>9.504450e-02</td>\n",
              "      <td>0.080645</td>\n",
              "    </tr>\n",
              "    <tr>\n",
              "      <th>4</th>\n",
              "      <td>0.002782</td>\n",
              "      <td>2.095047e-02</td>\n",
              "      <td>18.859434</td>\n",
              "      <td>9.031747e-02</td>\n",
              "      <td>0.080671</td>\n",
              "    </tr>\n",
              "    <tr>\n",
              "      <th>...</th>\n",
              "      <td>...</td>\n",
              "      <td>...</td>\n",
              "      <td>...</td>\n",
              "      <td>...</td>\n",
              "      <td>...</td>\n",
              "    </tr>\n",
              "    <tr>\n",
              "      <th>4778</th>\n",
              "      <td>0.001733</td>\n",
              "      <td>3.067620e-02</td>\n",
              "      <td>6.787205</td>\n",
              "      <td>2.745361e-01</td>\n",
              "      <td>0.073603</td>\n",
              "    </tr>\n",
              "    <tr>\n",
              "      <th>4779</th>\n",
              "      <td>0.001724</td>\n",
              "      <td>3.067620e-02</td>\n",
              "      <td>6.794820</td>\n",
              "      <td>2.708686e-01</td>\n",
              "      <td>0.073266</td>\n",
              "    </tr>\n",
              "    <tr>\n",
              "      <th>4780</th>\n",
              "      <td>0.001727</td>\n",
              "      <td>3.067620e-02</td>\n",
              "      <td>6.832444</td>\n",
              "      <td>2.720889e-01</td>\n",
              "      <td>0.073335</td>\n",
              "    </tr>\n",
              "    <tr>\n",
              "      <th>4781</th>\n",
              "      <td>0.001730</td>\n",
              "      <td>3.067620e-02</td>\n",
              "      <td>6.847748</td>\n",
              "      <td>2.783270e-01</td>\n",
              "      <td>0.073478</td>\n",
              "    </tr>\n",
              "    <tr>\n",
              "      <th>4782</th>\n",
              "      <td>0.001724</td>\n",
              "      <td>3.067620e-02</td>\n",
              "      <td>6.874771</td>\n",
              "      <td>2.647746e-01</td>\n",
              "      <td>0.073581</td>\n",
              "    </tr>\n",
              "  </tbody>\n",
              "</table>\n",
              "<p>4783 rows × 5 columns</p>\n",
              "</div>"
            ],
            "text/plain": [
              "          COND            DO        ORP            PH        WT\n",
              "0     0.005518  4.526416e-23   0.005116  9.408309e-01  0.049660\n",
              "1     0.005518  5.425065e-23   0.005046  6.861974e-01  0.051556\n",
              "2     0.005359  4.759483e-02   0.000002  1.138129e-07  0.073250\n",
              "3     0.002778  2.095047e-02  18.784598  9.504450e-02  0.080645\n",
              "4     0.002782  2.095047e-02  18.859434  9.031747e-02  0.080671\n",
              "...        ...           ...        ...           ...       ...\n",
              "4778  0.001733  3.067620e-02   6.787205  2.745361e-01  0.073603\n",
              "4779  0.001724  3.067620e-02   6.794820  2.708686e-01  0.073266\n",
              "4780  0.001727  3.067620e-02   6.832444  2.720889e-01  0.073335\n",
              "4781  0.001730  3.067620e-02   6.847748  2.783270e-01  0.073478\n",
              "4782  0.001724  3.067620e-02   6.874771  2.647746e-01  0.073581\n",
              "\n",
              "[4783 rows x 5 columns]"
            ]
          },
          "metadata": {
            "tags": []
          },
          "execution_count": 37
        }
      ]
    },
    {
      "cell_type": "code",
      "metadata": {
        "id": "AWHuK_UnG9Ij",
        "outputId": "633f6aca-7b9e-49b9-ec3a-b06a5a4f678b"
      },
      "source": [
        "cond_2 = pd.DataFrame(cond_pdf_2, columns = ['COND']) \n",
        "do_2 = pd.DataFrame(do_pdf_2, columns = ['DO'])\n",
        "orp_2 = pd.DataFrame(orp_pdf_2, columns = ['ORP'])\n",
        "ph_2 = pd.DataFrame(ph_pdf_2, columns = ['PH'])\n",
        "wt_2 = pd.DataFrame(wt_pdf_2, columns = ['WT'])\n",
        "data_2 = pd.concat([cond_2, do_2, orp_2, ph_2, wt_2], axis=1)\n",
        "data_2"
      ],
      "execution_count": null,
      "outputs": [
        {
          "output_type": "execute_result",
          "data": {
            "text/html": [
              "<div>\n",
              "<style scoped>\n",
              "    .dataframe tbody tr th:only-of-type {\n",
              "        vertical-align: middle;\n",
              "    }\n",
              "\n",
              "    .dataframe tbody tr th {\n",
              "        vertical-align: top;\n",
              "    }\n",
              "\n",
              "    .dataframe thead th {\n",
              "        text-align: right;\n",
              "    }\n",
              "</style>\n",
              "<table border=\"1\" class=\"dataframe\">\n",
              "  <thead>\n",
              "    <tr style=\"text-align: right;\">\n",
              "      <th></th>\n",
              "      <th>COND</th>\n",
              "      <th>DO</th>\n",
              "      <th>ORP</th>\n",
              "      <th>PH</th>\n",
              "      <th>WT</th>\n",
              "    </tr>\n",
              "  </thead>\n",
              "  <tbody>\n",
              "    <tr>\n",
              "      <th>0</th>\n",
              "      <td>0.010481</td>\n",
              "      <td>6.251934e-10</td>\n",
              "      <td>0.03071</td>\n",
              "      <td>0.029889</td>\n",
              "      <td>0.029049</td>\n",
              "    </tr>\n",
              "    <tr>\n",
              "      <th>1</th>\n",
              "      <td>0.010481</td>\n",
              "      <td>4.609508e-10</td>\n",
              "      <td>0.03071</td>\n",
              "      <td>0.029882</td>\n",
              "      <td>0.028986</td>\n",
              "    </tr>\n",
              "    <tr>\n",
              "      <th>2</th>\n",
              "      <td>0.010371</td>\n",
              "      <td>3.379075e-10</td>\n",
              "      <td>0.03071</td>\n",
              "      <td>0.030691</td>\n",
              "      <td>0.024690</td>\n",
              "    </tr>\n",
              "    <tr>\n",
              "      <th>3</th>\n",
              "      <td>0.007897</td>\n",
              "      <td>8.487924e-09</td>\n",
              "      <td>0.03071</td>\n",
              "      <td>0.030633</td>\n",
              "      <td>0.024198</td>\n",
              "    </tr>\n",
              "    <tr>\n",
              "      <th>4</th>\n",
              "      <td>0.007976</td>\n",
              "      <td>2.024368e-10</td>\n",
              "      <td>0.03071</td>\n",
              "      <td>0.030601</td>\n",
              "      <td>0.024416</td>\n",
              "    </tr>\n",
              "    <tr>\n",
              "      <th>...</th>\n",
              "      <td>...</td>\n",
              "      <td>...</td>\n",
              "      <td>...</td>\n",
              "      <td>...</td>\n",
              "      <td>...</td>\n",
              "    </tr>\n",
              "    <tr>\n",
              "      <th>9302</th>\n",
              "      <td>0.013065</td>\n",
              "      <td>4.504094e-03</td>\n",
              "      <td>0.03071</td>\n",
              "      <td>0.022793</td>\n",
              "      <td>0.030696</td>\n",
              "    </tr>\n",
              "    <tr>\n",
              "      <th>9303</th>\n",
              "      <td>0.010858</td>\n",
              "      <td>7.829279e-10</td>\n",
              "      <td>0.03071</td>\n",
              "      <td>0.029732</td>\n",
              "      <td>0.030582</td>\n",
              "    </tr>\n",
              "    <tr>\n",
              "      <th>9304</th>\n",
              "      <td>0.010852</td>\n",
              "      <td>7.829279e-10</td>\n",
              "      <td>0.03071</td>\n",
              "      <td>0.029566</td>\n",
              "      <td>0.030540</td>\n",
              "    </tr>\n",
              "    <tr>\n",
              "      <th>9305</th>\n",
              "      <td>0.010971</td>\n",
              "      <td>7.724745e-10</td>\n",
              "      <td>0.03071</td>\n",
              "      <td>0.029553</td>\n",
              "      <td>0.030708</td>\n",
              "    </tr>\n",
              "    <tr>\n",
              "      <th>9306</th>\n",
              "      <td>0.011168</td>\n",
              "      <td>4.449452e-09</td>\n",
              "      <td>0.03071</td>\n",
              "      <td>0.029248</td>\n",
              "      <td>0.021370</td>\n",
              "    </tr>\n",
              "  </tbody>\n",
              "</table>\n",
              "<p>9307 rows × 5 columns</p>\n",
              "</div>"
            ],
            "text/plain": [
              "          COND            DO      ORP        PH        WT\n",
              "0     0.010481  6.251934e-10  0.03071  0.029889  0.029049\n",
              "1     0.010481  4.609508e-10  0.03071  0.029882  0.028986\n",
              "2     0.010371  3.379075e-10  0.03071  0.030691  0.024690\n",
              "3     0.007897  8.487924e-09  0.03071  0.030633  0.024198\n",
              "4     0.007976  2.024368e-10  0.03071  0.030601  0.024416\n",
              "...        ...           ...      ...       ...       ...\n",
              "9302  0.013065  4.504094e-03  0.03071  0.022793  0.030696\n",
              "9303  0.010858  7.829279e-10  0.03071  0.029732  0.030582\n",
              "9304  0.010852  7.829279e-10  0.03071  0.029566  0.030540\n",
              "9305  0.010971  7.724745e-10  0.03071  0.029553  0.030708\n",
              "9306  0.011168  4.449452e-09  0.03071  0.029248  0.021370\n",
              "\n",
              "[9307 rows x 5 columns]"
            ]
          },
          "metadata": {
            "tags": []
          },
          "execution_count": 38
        }
      ]
    },
    {
      "cell_type": "code",
      "metadata": {
        "id": "OygkZ_DFG9Io",
        "outputId": "a59732c0-a20e-4594-8089-851aaf98d020"
      },
      "source": [
        "cond_3 = pd.DataFrame(cond_pdf_3, columns = ['COND']) \n",
        "do_3 = pd.DataFrame(do_pdf_3, columns = ['DO'])\n",
        "orp_3 = pd.DataFrame(orp_pdf_3, columns = ['ORP'])\n",
        "ph_3 = pd.DataFrame(ph_pdf_3, columns = ['PH'])\n",
        "wt_3 = pd.DataFrame(wt_pdf_3, columns = ['WT'])\n",
        "data_3 = pd.concat([cond_3, do_3, orp_3, ph_3, wt_3], axis=1)\n",
        "data_3"
      ],
      "execution_count": null,
      "outputs": [
        {
          "output_type": "execute_result",
          "data": {
            "text/html": [
              "<div>\n",
              "<style scoped>\n",
              "    .dataframe tbody tr th:only-of-type {\n",
              "        vertical-align: middle;\n",
              "    }\n",
              "\n",
              "    .dataframe tbody tr th {\n",
              "        vertical-align: top;\n",
              "    }\n",
              "\n",
              "    .dataframe thead th {\n",
              "        text-align: right;\n",
              "    }\n",
              "</style>\n",
              "<table border=\"1\" class=\"dataframe\">\n",
              "  <thead>\n",
              "    <tr style=\"text-align: right;\">\n",
              "      <th></th>\n",
              "      <th>COND</th>\n",
              "      <th>DO</th>\n",
              "      <th>ORP</th>\n",
              "      <th>PH</th>\n",
              "      <th>WT</th>\n",
              "    </tr>\n",
              "  </thead>\n",
              "  <tbody>\n",
              "    <tr>\n",
              "      <th>0</th>\n",
              "      <td>5.498596e-07</td>\n",
              "      <td>0.000482</td>\n",
              "      <td>0.03071</td>\n",
              "      <td>0.030418</td>\n",
              "      <td>0.030426</td>\n",
              "    </tr>\n",
              "    <tr>\n",
              "      <th>1</th>\n",
              "      <td>4.298678e-07</td>\n",
              "      <td>0.000351</td>\n",
              "      <td>0.03071</td>\n",
              "      <td>0.030436</td>\n",
              "      <td>0.030450</td>\n",
              "    </tr>\n",
              "    <tr>\n",
              "      <th>2</th>\n",
              "      <td>3.374298e-07</td>\n",
              "      <td>0.030317</td>\n",
              "      <td>0.03071</td>\n",
              "      <td>0.030322</td>\n",
              "      <td>0.030453</td>\n",
              "    </tr>\n",
              "    <tr>\n",
              "      <th>3</th>\n",
              "      <td>2.427922e-07</td>\n",
              "      <td>0.000279</td>\n",
              "      <td>0.03071</td>\n",
              "      <td>0.030430</td>\n",
              "      <td>0.030454</td>\n",
              "    </tr>\n",
              "    <tr>\n",
              "      <th>4</th>\n",
              "      <td>1.589697e-07</td>\n",
              "      <td>0.000206</td>\n",
              "      <td>0.03071</td>\n",
              "      <td>0.030440</td>\n",
              "      <td>0.030457</td>\n",
              "    </tr>\n",
              "    <tr>\n",
              "      <th>...</th>\n",
              "      <td>...</td>\n",
              "      <td>...</td>\n",
              "      <td>...</td>\n",
              "      <td>...</td>\n",
              "      <td>...</td>\n",
              "    </tr>\n",
              "    <tr>\n",
              "      <th>13080</th>\n",
              "      <td>2.246651e-02</td>\n",
              "      <td>0.002473</td>\n",
              "      <td>0.03071</td>\n",
              "      <td>0.029832</td>\n",
              "      <td>0.030673</td>\n",
              "    </tr>\n",
              "    <tr>\n",
              "      <th>13081</th>\n",
              "      <td>2.249146e-02</td>\n",
              "      <td>0.002473</td>\n",
              "      <td>0.03071</td>\n",
              "      <td>0.029831</td>\n",
              "      <td>0.030672</td>\n",
              "    </tr>\n",
              "    <tr>\n",
              "      <th>13082</th>\n",
              "      <td>2.242433e-02</td>\n",
              "      <td>0.002473</td>\n",
              "      <td>0.03071</td>\n",
              "      <td>0.029832</td>\n",
              "      <td>0.030673</td>\n",
              "    </tr>\n",
              "    <tr>\n",
              "      <th>13083</th>\n",
              "      <td>2.258833e-02</td>\n",
              "      <td>0.002473</td>\n",
              "      <td>0.03071</td>\n",
              "      <td>0.029835</td>\n",
              "      <td>0.030672</td>\n",
              "    </tr>\n",
              "    <tr>\n",
              "      <th>13084</th>\n",
              "      <td>2.257443e-02</td>\n",
              "      <td>0.002473</td>\n",
              "      <td>0.03071</td>\n",
              "      <td>0.029834</td>\n",
              "      <td>0.030672</td>\n",
              "    </tr>\n",
              "  </tbody>\n",
              "</table>\n",
              "<p>13085 rows × 5 columns</p>\n",
              "</div>"
            ],
            "text/plain": [
              "               COND        DO      ORP        PH        WT\n",
              "0      5.498596e-07  0.000482  0.03071  0.030418  0.030426\n",
              "1      4.298678e-07  0.000351  0.03071  0.030436  0.030450\n",
              "2      3.374298e-07  0.030317  0.03071  0.030322  0.030453\n",
              "3      2.427922e-07  0.000279  0.03071  0.030430  0.030454\n",
              "4      1.589697e-07  0.000206  0.03071  0.030440  0.030457\n",
              "...             ...       ...      ...       ...       ...\n",
              "13080  2.246651e-02  0.002473  0.03071  0.029832  0.030673\n",
              "13081  2.249146e-02  0.002473  0.03071  0.029831  0.030672\n",
              "13082  2.242433e-02  0.002473  0.03071  0.029832  0.030673\n",
              "13083  2.258833e-02  0.002473  0.03071  0.029835  0.030672\n",
              "13084  2.257443e-02  0.002473  0.03071  0.029834  0.030672\n",
              "\n",
              "[13085 rows x 5 columns]"
            ]
          },
          "metadata": {
            "tags": []
          },
          "execution_count": 39
        }
      ]
    },
    {
      "cell_type": "code",
      "metadata": {
        "id": "p7ZIZqlKG9Iv",
        "outputId": "9ef26da8-81e8-483b-d1fe-61555594e155"
      },
      "source": [
        "cond_4 = pd.DataFrame(cond_pdf_4, columns = ['COND']) \n",
        "do_4 = pd.DataFrame(do_pdf_4, columns = ['DO'])\n",
        "orp_4 = pd.DataFrame(orp_pdf_4, columns = ['ORP'])\n",
        "ph_4 = pd.DataFrame(ph_pdf_4, columns = ['PH'])\n",
        "wt_4 = pd.DataFrame(wt_pdf_4, columns = ['WT'])\n",
        "data_4 = pd.concat([cond_4, do_4, orp_4, ph_4, wt_4], axis=1)\n",
        "data_4"
      ],
      "execution_count": null,
      "outputs": [
        {
          "output_type": "execute_result",
          "data": {
            "text/html": [
              "<div>\n",
              "<style scoped>\n",
              "    .dataframe tbody tr th:only-of-type {\n",
              "        vertical-align: middle;\n",
              "    }\n",
              "\n",
              "    .dataframe tbody tr th {\n",
              "        vertical-align: top;\n",
              "    }\n",
              "\n",
              "    .dataframe thead th {\n",
              "        text-align: right;\n",
              "    }\n",
              "</style>\n",
              "<table border=\"1\" class=\"dataframe\">\n",
              "  <thead>\n",
              "    <tr style=\"text-align: right;\">\n",
              "      <th></th>\n",
              "      <th>COND</th>\n",
              "      <th>DO</th>\n",
              "      <th>ORP</th>\n",
              "      <th>PH</th>\n",
              "      <th>WT</th>\n",
              "    </tr>\n",
              "  </thead>\n",
              "  <tbody>\n",
              "    <tr>\n",
              "      <th>0</th>\n",
              "      <td>0.000018</td>\n",
              "      <td>5.747145e-13</td>\n",
              "      <td>0.030710</td>\n",
              "      <td>0.028639</td>\n",
              "      <td>0.028739</td>\n",
              "    </tr>\n",
              "    <tr>\n",
              "      <th>1</th>\n",
              "      <td>0.000016</td>\n",
              "      <td>5.632847e-13</td>\n",
              "      <td>0.030710</td>\n",
              "      <td>0.028610</td>\n",
              "      <td>0.028890</td>\n",
              "    </tr>\n",
              "    <tr>\n",
              "      <th>2</th>\n",
              "      <td>0.000019</td>\n",
              "      <td>4.513893e-13</td>\n",
              "      <td>0.030709</td>\n",
              "      <td>0.028664</td>\n",
              "      <td>0.028856</td>\n",
              "    </tr>\n",
              "    <tr>\n",
              "      <th>3</th>\n",
              "      <td>0.000018</td>\n",
              "      <td>5.766768e-13</td>\n",
              "      <td>0.030710</td>\n",
              "      <td>0.028704</td>\n",
              "      <td>0.028831</td>\n",
              "    </tr>\n",
              "    <tr>\n",
              "      <th>4</th>\n",
              "      <td>0.000017</td>\n",
              "      <td>4.854457e-13</td>\n",
              "      <td>0.030710</td>\n",
              "      <td>0.028691</td>\n",
              "      <td>0.028847</td>\n",
              "    </tr>\n",
              "    <tr>\n",
              "      <th>...</th>\n",
              "      <td>...</td>\n",
              "      <td>...</td>\n",
              "      <td>...</td>\n",
              "      <td>...</td>\n",
              "      <td>...</td>\n",
              "    </tr>\n",
              "    <tr>\n",
              "      <th>19803</th>\n",
              "      <td>0.029303</td>\n",
              "      <td>1.007207e-02</td>\n",
              "      <td>0.030710</td>\n",
              "      <td>0.030700</td>\n",
              "      <td>0.030701</td>\n",
              "    </tr>\n",
              "    <tr>\n",
              "      <th>19804</th>\n",
              "      <td>0.029293</td>\n",
              "      <td>1.007207e-02</td>\n",
              "      <td>0.030710</td>\n",
              "      <td>0.030701</td>\n",
              "      <td>0.030701</td>\n",
              "    </tr>\n",
              "    <tr>\n",
              "      <th>19805</th>\n",
              "      <td>0.029314</td>\n",
              "      <td>1.007207e-02</td>\n",
              "      <td>0.030710</td>\n",
              "      <td>0.030703</td>\n",
              "      <td>0.030700</td>\n",
              "    </tr>\n",
              "    <tr>\n",
              "      <th>19806</th>\n",
              "      <td>0.029348</td>\n",
              "      <td>1.007207e-02</td>\n",
              "      <td>0.030710</td>\n",
              "      <td>0.030700</td>\n",
              "      <td>0.030700</td>\n",
              "    </tr>\n",
              "    <tr>\n",
              "      <th>19807</th>\n",
              "      <td>0.029287</td>\n",
              "      <td>1.007207e-02</td>\n",
              "      <td>0.030710</td>\n",
              "      <td>0.030700</td>\n",
              "      <td>0.030701</td>\n",
              "    </tr>\n",
              "  </tbody>\n",
              "</table>\n",
              "<p>19808 rows × 5 columns</p>\n",
              "</div>"
            ],
            "text/plain": [
              "           COND            DO       ORP        PH        WT\n",
              "0      0.000018  5.747145e-13  0.030710  0.028639  0.028739\n",
              "1      0.000016  5.632847e-13  0.030710  0.028610  0.028890\n",
              "2      0.000019  4.513893e-13  0.030709  0.028664  0.028856\n",
              "3      0.000018  5.766768e-13  0.030710  0.028704  0.028831\n",
              "4      0.000017  4.854457e-13  0.030710  0.028691  0.028847\n",
              "...         ...           ...       ...       ...       ...\n",
              "19803  0.029303  1.007207e-02  0.030710  0.030700  0.030701\n",
              "19804  0.029293  1.007207e-02  0.030710  0.030701  0.030701\n",
              "19805  0.029314  1.007207e-02  0.030710  0.030703  0.030700\n",
              "19806  0.029348  1.007207e-02  0.030710  0.030700  0.030700\n",
              "19807  0.029287  1.007207e-02  0.030710  0.030700  0.030701\n",
              "\n",
              "[19808 rows x 5 columns]"
            ]
          },
          "metadata": {
            "tags": []
          },
          "execution_count": 40
        }
      ]
    },
    {
      "cell_type": "markdown",
      "metadata": {
        "id": "5-9jHRA5G9I-"
      },
      "source": [
        "Cluster 1"
      ]
    },
    {
      "cell_type": "code",
      "metadata": {
        "id": "glKCiGIaG9I_",
        "outputId": "a3f415bc-8709-4c31-b28c-81791a4c0a82"
      },
      "source": [
        "#cond\n",
        "cond_pdf = data_1['COND']\n",
        "m1_cond = np.zeros([4783,1])\n",
        "for i in range(0, 4783):\n",
        "    x = (cond_pdf[i]/(cond_pdf_1.sum() + 4783*(1-(alpha_cond*beta_cond))))\n",
        "    m1_cond[i] = x\n",
        "m1_cond"
      ],
      "execution_count": null,
      "outputs": [
        {
          "output_type": "execute_result",
          "data": {
            "text/plain": [
              "array([[1.14964573e-06],\n",
              "       [1.14963606e-06],\n",
              "       [1.11650917e-06],\n",
              "       ...,\n",
              "       [3.59802699e-07],\n",
              "       [3.60318917e-07],\n",
              "       [3.59151500e-07]])"
            ]
          },
          "metadata": {
            "tags": []
          },
          "execution_count": 41
        }
      ]
    },
    {
      "cell_type": "code",
      "metadata": {
        "id": "QSWHdHb1G9JF",
        "outputId": "00af3cae-9953-40da-fea8-b73395dcdf3e"
      },
      "source": [
        "#do\n",
        "do_pdf = data_1['DO']\n",
        "m1_do = np.zeros([4783,1])\n",
        "for i in range(0, 4783):\n",
        "    x = (do_pdf[i]/(do_pdf_1.sum() + 4783*(1-(alpha_do*beta_do))))\n",
        "    m1_do[i] = x\n",
        "m1_do"
      ],
      "execution_count": null,
      "outputs": [
        {
          "output_type": "execute_result",
          "data": {
            "text/plain": [
              "array([[9.14240571e-27],\n",
              "       [1.09574871e-26],\n",
              "       [9.61315211e-06],\n",
              "       ...,\n",
              "       [6.19594443e-06],\n",
              "       [6.19594443e-06],\n",
              "       [6.19594443e-06]])"
            ]
          },
          "metadata": {
            "tags": []
          },
          "execution_count": 42
        }
      ]
    },
    {
      "cell_type": "code",
      "metadata": {
        "id": "xDdNi2yEG9JO",
        "outputId": "f2f53900-dda4-46e4-a081-a2897baf94fc"
      },
      "source": [
        "#orp\n",
        "orp_pdf = data_1['ORP']\n",
        "m1_orp = np.zeros([4783,1])\n",
        "for i in range(0, 4783):\n",
        "    x = (orp_pdf[i]/(orp_pdf_1.sum() + 4783*(1-(alpha_orp*beta_orp))))\n",
        "    m1_orp[i] = x\n",
        "m1_orp"
      ],
      "execution_count": null,
      "outputs": [
        {
          "output_type": "execute_result",
          "data": {
            "text/plain": [
              "array([[5.31317513e-08],\n",
              "       [5.23985563e-08],\n",
              "       [2.30988420e-11],\n",
              "       ...,\n",
              "       [7.09521096e-05],\n",
              "       [7.11110388e-05],\n",
              "       [7.13916548e-05]])"
            ]
          },
          "metadata": {
            "tags": []
          },
          "execution_count": 43
        }
      ]
    },
    {
      "cell_type": "code",
      "metadata": {
        "id": "vLInboPCG9JU",
        "outputId": "d130a4a3-e0a1-411e-fa70-61a1b440643c"
      },
      "source": [
        "#ph\n",
        "ph_pdf = data_1['PH']\n",
        "m1_ph = np.zeros([4783,1])\n",
        "for i in range(0, 4783):\n",
        "    x = (ph_pdf[i]/(ph_pdf_1.sum() + 4783*(1-(alpha_ph*beta_ph))))\n",
        "    m1_ph[i] = x\n",
        "m1_ph"
      ],
      "execution_count": null,
      "outputs": [
        {
          "output_type": "execute_result",
          "data": {
            "text/plain": [
              "array([[1.04479811e-04],\n",
              "       [7.62026169e-05],\n",
              "       [1.26389857e-11],\n",
              "       ...,\n",
              "       [3.02156288e-05],\n",
              "       [3.09083788e-05],\n",
              "       [2.94033692e-05]])"
            ]
          },
          "metadata": {
            "tags": []
          },
          "execution_count": 44
        }
      ]
    },
    {
      "cell_type": "code",
      "metadata": {
        "id": "a7YPdZ7wG9Jc",
        "outputId": "25ba019e-60e0-4845-8a9d-f9737647d5c7"
      },
      "source": [
        "#wt\n",
        "wt_pdf = data_1['WT']\n",
        "m1_wt = np.zeros([4783,1])\n",
        "for i in range(0, 4783):\n",
        "    x = (wt_pdf[i]/(wt_pdf_1.sum() + 4783*(1-(alpha_wt*beta_wt))))\n",
        "    m1_wt[i] = x\n",
        "m1_wt"
      ],
      "execution_count": null,
      "outputs": [
        {
          "output_type": "execute_result",
          "data": {
            "text/plain": [
              "array([[9.56965364e-06],\n",
              "       [9.93515535e-06],\n",
              "       [1.41155634e-05],\n",
              "       ...,\n",
              "       [1.41320491e-05],\n",
              "       [1.41595940e-05],\n",
              "       [1.41793238e-05]])"
            ]
          },
          "metadata": {
            "tags": []
          },
          "execution_count": 45
        }
      ]
    },
    {
      "cell_type": "code",
      "metadata": {
        "id": "_i45T1fiG9Jk",
        "outputId": "22de3e67-0a3a-486a-c518-1f02699cbac4"
      },
      "source": [
        "cond_ = pd.DataFrame(m1_cond, columns = ['COND']) \n",
        "do_ = pd.DataFrame(m1_do, columns = ['DO'])\n",
        "orp_ = pd.DataFrame(m1_orp, columns = ['ORP'])\n",
        "ph_ = pd.DataFrame(m1_ph, columns = ['PH'])\n",
        "wt_ = pd.DataFrame(m1_wt, columns = ['WT'])\n",
        "d1 = pd.concat([cond_, do_, orp_, ph_, wt_], axis=1)\n",
        "d1"
      ],
      "execution_count": null,
      "outputs": [
        {
          "output_type": "execute_result",
          "data": {
            "text/html": [
              "<div>\n",
              "<style scoped>\n",
              "    .dataframe tbody tr th:only-of-type {\n",
              "        vertical-align: middle;\n",
              "    }\n",
              "\n",
              "    .dataframe tbody tr th {\n",
              "        vertical-align: top;\n",
              "    }\n",
              "\n",
              "    .dataframe thead th {\n",
              "        text-align: right;\n",
              "    }\n",
              "</style>\n",
              "<table border=\"1\" class=\"dataframe\">\n",
              "  <thead>\n",
              "    <tr style=\"text-align: right;\">\n",
              "      <th></th>\n",
              "      <th>COND</th>\n",
              "      <th>DO</th>\n",
              "      <th>ORP</th>\n",
              "      <th>PH</th>\n",
              "      <th>WT</th>\n",
              "    </tr>\n",
              "  </thead>\n",
              "  <tbody>\n",
              "    <tr>\n",
              "      <th>0</th>\n",
              "      <td>1.149646e-06</td>\n",
              "      <td>9.142406e-27</td>\n",
              "      <td>5.313175e-08</td>\n",
              "      <td>1.044798e-04</td>\n",
              "      <td>0.000010</td>\n",
              "    </tr>\n",
              "    <tr>\n",
              "      <th>1</th>\n",
              "      <td>1.149636e-06</td>\n",
              "      <td>1.095749e-26</td>\n",
              "      <td>5.239856e-08</td>\n",
              "      <td>7.620262e-05</td>\n",
              "      <td>0.000010</td>\n",
              "    </tr>\n",
              "    <tr>\n",
              "      <th>2</th>\n",
              "      <td>1.116509e-06</td>\n",
              "      <td>9.613152e-06</td>\n",
              "      <td>2.309884e-11</td>\n",
              "      <td>1.263899e-11</td>\n",
              "      <td>0.000014</td>\n",
              "    </tr>\n",
              "    <tr>\n",
              "      <th>3</th>\n",
              "      <td>5.786596e-07</td>\n",
              "      <td>4.231552e-06</td>\n",
              "      <td>1.950703e-04</td>\n",
              "      <td>1.055475e-05</td>\n",
              "      <td>0.000016</td>\n",
              "    </tr>\n",
              "    <tr>\n",
              "      <th>4</th>\n",
              "      <td>5.796257e-07</td>\n",
              "      <td>4.231552e-06</td>\n",
              "      <td>1.958474e-04</td>\n",
              "      <td>1.002981e-05</td>\n",
              "      <td>0.000016</td>\n",
              "    </tr>\n",
              "    <tr>\n",
              "      <th>...</th>\n",
              "      <td>...</td>\n",
              "      <td>...</td>\n",
              "      <td>...</td>\n",
              "      <td>...</td>\n",
              "      <td>...</td>\n",
              "    </tr>\n",
              "    <tr>\n",
              "      <th>4778</th>\n",
              "      <td>3.610290e-07</td>\n",
              "      <td>6.195944e-06</td>\n",
              "      <td>7.048232e-05</td>\n",
              "      <td>3.048739e-05</td>\n",
              "      <td>0.000014</td>\n",
              "    </tr>\n",
              "    <tr>\n",
              "      <th>4779</th>\n",
              "      <td>3.591330e-07</td>\n",
              "      <td>6.195944e-06</td>\n",
              "      <td>7.056139e-05</td>\n",
              "      <td>3.008012e-05</td>\n",
              "      <td>0.000014</td>\n",
              "    </tr>\n",
              "    <tr>\n",
              "      <th>4780</th>\n",
              "      <td>3.598027e-07</td>\n",
              "      <td>6.195944e-06</td>\n",
              "      <td>7.095211e-05</td>\n",
              "      <td>3.021563e-05</td>\n",
              "      <td>0.000014</td>\n",
              "    </tr>\n",
              "    <tr>\n",
              "      <th>4781</th>\n",
              "      <td>3.603189e-07</td>\n",
              "      <td>6.195944e-06</td>\n",
              "      <td>7.111104e-05</td>\n",
              "      <td>3.090838e-05</td>\n",
              "      <td>0.000014</td>\n",
              "    </tr>\n",
              "    <tr>\n",
              "      <th>4782</th>\n",
              "      <td>3.591515e-07</td>\n",
              "      <td>6.195944e-06</td>\n",
              "      <td>7.139165e-05</td>\n",
              "      <td>2.940337e-05</td>\n",
              "      <td>0.000014</td>\n",
              "    </tr>\n",
              "  </tbody>\n",
              "</table>\n",
              "<p>4783 rows × 5 columns</p>\n",
              "</div>"
            ],
            "text/plain": [
              "              COND            DO           ORP            PH        WT\n",
              "0     1.149646e-06  9.142406e-27  5.313175e-08  1.044798e-04  0.000010\n",
              "1     1.149636e-06  1.095749e-26  5.239856e-08  7.620262e-05  0.000010\n",
              "2     1.116509e-06  9.613152e-06  2.309884e-11  1.263899e-11  0.000014\n",
              "3     5.786596e-07  4.231552e-06  1.950703e-04  1.055475e-05  0.000016\n",
              "4     5.796257e-07  4.231552e-06  1.958474e-04  1.002981e-05  0.000016\n",
              "...            ...           ...           ...           ...       ...\n",
              "4778  3.610290e-07  6.195944e-06  7.048232e-05  3.048739e-05  0.000014\n",
              "4779  3.591330e-07  6.195944e-06  7.056139e-05  3.008012e-05  0.000014\n",
              "4780  3.598027e-07  6.195944e-06  7.095211e-05  3.021563e-05  0.000014\n",
              "4781  3.603189e-07  6.195944e-06  7.111104e-05  3.090838e-05  0.000014\n",
              "4782  3.591515e-07  6.195944e-06  7.139165e-05  2.940337e-05  0.000014\n",
              "\n",
              "[4783 rows x 5 columns]"
            ]
          },
          "metadata": {
            "tags": []
          },
          "execution_count": 46
        }
      ]
    },
    {
      "cell_type": "markdown",
      "metadata": {
        "id": "BIdfQ6joG9Jp"
      },
      "source": [
        "Cluster 2"
      ]
    },
    {
      "cell_type": "code",
      "metadata": {
        "id": "mOW3KpZjG9Jq",
        "outputId": "590f2c44-7286-4ebb-c379-456301f2f3da"
      },
      "source": [
        "#cond\n",
        "cond_pdf = data_2['COND']\n",
        "m2_cond = np.zeros([9307,1])\n",
        "for i in range(0, 9307):\n",
        "    x = (cond_pdf[i]/(cond_pdf_2.sum() + 9307*(1-(alpha_cond*beta_cond))))\n",
        "    m2_cond[i] = x\n",
        "m2_cond"
      ],
      "execution_count": null,
      "outputs": [
        {
          "output_type": "execute_result",
          "data": {
            "text/plain": [
              "array([[1.11360227e-06],\n",
              "       [1.11360034e-06],\n",
              "       [1.10196396e-06],\n",
              "       ...,\n",
              "       [1.15302430e-06],\n",
              "       [1.16564054e-06],\n",
              "       [1.18655552e-06]])"
            ]
          },
          "metadata": {
            "tags": []
          },
          "execution_count": 47
        }
      ]
    },
    {
      "cell_type": "code",
      "metadata": {
        "id": "tQAOlEg5G9Jv",
        "outputId": "f8aac073-d231-44cd-95ba-a05ff47a1907"
      },
      "source": [
        "#do\n",
        "do_pdf = data_2['DO']\n",
        "m2_do = np.zeros([9307,1])\n",
        "for i in range(0, 9307):\n",
        "    x = (do_pdf[i]/(do_pdf_2.sum() + 9307*(1-(alpha_do*beta_do))))\n",
        "    m2_do[i] = x\n",
        "m2_do"
      ],
      "execution_count": null,
      "outputs": [
        {
          "output_type": "execute_result",
          "data": {
            "text/plain": [
              "array([[6.55646958e-14],\n",
              "       [4.83404067e-14],\n",
              "       [3.54367168e-14],\n",
              "       ...,\n",
              "       [8.21064824e-14],\n",
              "       [8.10102213e-14],\n",
              "       [4.66618801e-13]])"
            ]
          },
          "metadata": {
            "tags": []
          },
          "execution_count": 48
        }
      ]
    },
    {
      "cell_type": "code",
      "metadata": {
        "id": "7mgM1fW-G9J1",
        "outputId": "ef7ab5d0-2295-45bf-ee79-1a515904b2cc"
      },
      "source": [
        "#orp\n",
        "orp_pdf = data_2['ORP']\n",
        "m2_orp = np.zeros([9307,1])\n",
        "for i in range(0, 9307):\n",
        "    x = (orp_pdf[i]/(orp_pdf_2.sum() + 9307*(1-(alpha_orp*beta_orp))))\n",
        "    m2_orp[i] = x\n",
        "m2_orp"
      ],
      "execution_count": null,
      "outputs": [
        {
          "output_type": "execute_result",
          "data": {
            "text/plain": [
              "array([[3.22576373e-06],\n",
              "       [3.22576434e-06],\n",
              "       [3.22575664e-06],\n",
              "       ...,\n",
              "       [3.22576816e-06],\n",
              "       [3.22576642e-06],\n",
              "       [3.22576832e-06]])"
            ]
          },
          "metadata": {
            "tags": []
          },
          "execution_count": 49
        }
      ]
    },
    {
      "cell_type": "code",
      "metadata": {
        "id": "gWuU3LlbG9J-",
        "outputId": "4ebf970f-2056-4f3b-c959-5fd726c564cb"
      },
      "source": [
        "#ph\n",
        "ph_pdf = data_2['PH']\n",
        "m2_ph = np.zeros([9307,1])\n",
        "for i in range(0, 9307):\n",
        "    x = (ph_pdf[i]/(ph_pdf_2.sum() + 9307*(1-(alpha_ph*beta_ph))))\n",
        "    m2_ph[i] = x\n",
        "m2_ph"
      ],
      "execution_count": null,
      "outputs": [
        {
          "output_type": "execute_result",
          "data": {
            "text/plain": [
              "array([[3.12160555e-06],\n",
              "       [3.12088169e-06],\n",
              "       [3.20540405e-06],\n",
              "       ...,\n",
              "       [3.08787242e-06],\n",
              "       [3.08659235e-06],\n",
              "       [3.05473381e-06]])"
            ]
          },
          "metadata": {
            "tags": []
          },
          "execution_count": 50
        }
      ]
    },
    {
      "cell_type": "code",
      "metadata": {
        "id": "fudr7ROHG9KG",
        "outputId": "001323f0-0ec4-4690-c088-af1197c7f07c"
      },
      "source": [
        "#wt\n",
        "wt_pdf = data_2['WT']\n",
        "m2_wt = np.zeros([9307,1])\n",
        "for i in range(0, 9307):\n",
        "    x = (wt_pdf[i]/(wt_pdf_2.sum() + 9307*(1-(alpha_wt*beta_wt))))\n",
        "    m2_wt[i] = x\n",
        "m2_wt"
      ],
      "execution_count": null,
      "outputs": [
        {
          "output_type": "execute_result",
          "data": {
            "text/plain": [
              "array([[3.02852125e-06],\n",
              "       [3.02199614e-06],\n",
              "       [2.57406229e-06],\n",
              "       ...,\n",
              "       [3.18395345e-06],\n",
              "       [3.20151858e-06],\n",
              "       [2.22795549e-06]])"
            ]
          },
          "metadata": {
            "tags": []
          },
          "execution_count": 51
        }
      ]
    },
    {
      "cell_type": "code",
      "metadata": {
        "id": "ZHRhHwo3G9KS",
        "outputId": "f3813bbe-56a0-4135-977e-a03e2c08674d"
      },
      "source": [
        "cond_ = pd.DataFrame(m2_cond, columns = ['COND']) \n",
        "do_ = pd.DataFrame(m2_do, columns = ['DO'])\n",
        "orp_ = pd.DataFrame(m2_orp, columns = ['ORP'])\n",
        "ph_ = pd.DataFrame(m2_ph, columns = ['PH'])\n",
        "wt_ = pd.DataFrame(m2_wt, columns = ['WT'])\n",
        "d2 = pd.concat([cond_, do_, orp_, ph_, wt_], axis=1)\n",
        "d2"
      ],
      "execution_count": null,
      "outputs": [
        {
          "output_type": "execute_result",
          "data": {
            "text/html": [
              "<div>\n",
              "<style scoped>\n",
              "    .dataframe tbody tr th:only-of-type {\n",
              "        vertical-align: middle;\n",
              "    }\n",
              "\n",
              "    .dataframe tbody tr th {\n",
              "        vertical-align: top;\n",
              "    }\n",
              "\n",
              "    .dataframe thead th {\n",
              "        text-align: right;\n",
              "    }\n",
              "</style>\n",
              "<table border=\"1\" class=\"dataframe\">\n",
              "  <thead>\n",
              "    <tr style=\"text-align: right;\">\n",
              "      <th></th>\n",
              "      <th>COND</th>\n",
              "      <th>DO</th>\n",
              "      <th>ORP</th>\n",
              "      <th>PH</th>\n",
              "      <th>WT</th>\n",
              "    </tr>\n",
              "  </thead>\n",
              "  <tbody>\n",
              "    <tr>\n",
              "      <th>0</th>\n",
              "      <td>1.113602e-06</td>\n",
              "      <td>6.556470e-14</td>\n",
              "      <td>0.000003</td>\n",
              "      <td>0.000003</td>\n",
              "      <td>0.000003</td>\n",
              "    </tr>\n",
              "    <tr>\n",
              "      <th>1</th>\n",
              "      <td>1.113600e-06</td>\n",
              "      <td>4.834041e-14</td>\n",
              "      <td>0.000003</td>\n",
              "      <td>0.000003</td>\n",
              "      <td>0.000003</td>\n",
              "    </tr>\n",
              "    <tr>\n",
              "      <th>2</th>\n",
              "      <td>1.101964e-06</td>\n",
              "      <td>3.543672e-14</td>\n",
              "      <td>0.000003</td>\n",
              "      <td>0.000003</td>\n",
              "      <td>0.000003</td>\n",
              "    </tr>\n",
              "    <tr>\n",
              "      <th>3</th>\n",
              "      <td>8.390787e-07</td>\n",
              "      <td>8.901376e-13</td>\n",
              "      <td>0.000003</td>\n",
              "      <td>0.000003</td>\n",
              "      <td>0.000003</td>\n",
              "    </tr>\n",
              "    <tr>\n",
              "      <th>4</th>\n",
              "      <td>8.474805e-07</td>\n",
              "      <td>2.122976e-14</td>\n",
              "      <td>0.000003</td>\n",
              "      <td>0.000003</td>\n",
              "      <td>0.000003</td>\n",
              "    </tr>\n",
              "    <tr>\n",
              "      <th>...</th>\n",
              "      <td>...</td>\n",
              "      <td>...</td>\n",
              "      <td>...</td>\n",
              "      <td>...</td>\n",
              "      <td>...</td>\n",
              "    </tr>\n",
              "    <tr>\n",
              "      <th>9302</th>\n",
              "      <td>1.388185e-06</td>\n",
              "      <td>4.723492e-07</td>\n",
              "      <td>0.000003</td>\n",
              "      <td>0.000002</td>\n",
              "      <td>0.000003</td>\n",
              "    </tr>\n",
              "    <tr>\n",
              "      <th>9303</th>\n",
              "      <td>1.153609e-06</td>\n",
              "      <td>8.210648e-14</td>\n",
              "      <td>0.000003</td>\n",
              "      <td>0.000003</td>\n",
              "      <td>0.000003</td>\n",
              "    </tr>\n",
              "    <tr>\n",
              "      <th>9304</th>\n",
              "      <td>1.153024e-06</td>\n",
              "      <td>8.210648e-14</td>\n",
              "      <td>0.000003</td>\n",
              "      <td>0.000003</td>\n",
              "      <td>0.000003</td>\n",
              "    </tr>\n",
              "    <tr>\n",
              "      <th>9305</th>\n",
              "      <td>1.165641e-06</td>\n",
              "      <td>8.101022e-14</td>\n",
              "      <td>0.000003</td>\n",
              "      <td>0.000003</td>\n",
              "      <td>0.000003</td>\n",
              "    </tr>\n",
              "    <tr>\n",
              "      <th>9306</th>\n",
              "      <td>1.186556e-06</td>\n",
              "      <td>4.666188e-13</td>\n",
              "      <td>0.000003</td>\n",
              "      <td>0.000003</td>\n",
              "      <td>0.000002</td>\n",
              "    </tr>\n",
              "  </tbody>\n",
              "</table>\n",
              "<p>9307 rows × 5 columns</p>\n",
              "</div>"
            ],
            "text/plain": [
              "              COND            DO       ORP        PH        WT\n",
              "0     1.113602e-06  6.556470e-14  0.000003  0.000003  0.000003\n",
              "1     1.113600e-06  4.834041e-14  0.000003  0.000003  0.000003\n",
              "2     1.101964e-06  3.543672e-14  0.000003  0.000003  0.000003\n",
              "3     8.390787e-07  8.901376e-13  0.000003  0.000003  0.000003\n",
              "4     8.474805e-07  2.122976e-14  0.000003  0.000003  0.000003\n",
              "...            ...           ...       ...       ...       ...\n",
              "9302  1.388185e-06  4.723492e-07  0.000003  0.000002  0.000003\n",
              "9303  1.153609e-06  8.210648e-14  0.000003  0.000003  0.000003\n",
              "9304  1.153024e-06  8.210648e-14  0.000003  0.000003  0.000003\n",
              "9305  1.165641e-06  8.101022e-14  0.000003  0.000003  0.000003\n",
              "9306  1.186556e-06  4.666188e-13  0.000003  0.000003  0.000002\n",
              "\n",
              "[9307 rows x 5 columns]"
            ]
          },
          "metadata": {
            "tags": []
          },
          "execution_count": 52
        }
      ]
    },
    {
      "cell_type": "markdown",
      "metadata": {
        "id": "d2ngqOITG9KZ"
      },
      "source": [
        "Cluster 3"
      ]
    },
    {
      "cell_type": "code",
      "metadata": {
        "id": "PUtAq5BDG9KZ",
        "outputId": "103a3e09-0ab1-45d8-cfb7-c98a4d83321c"
      },
      "source": [
        "#cond\n",
        "cond_pdf = data_3['COND']\n",
        "m3_cond = np.zeros([13085,1])\n",
        "for i in range(0, 13085):\n",
        "    x = (cond_pdf[i]/(cond_pdf_3.sum() + 13085*(1-(alpha_cond*beta_cond))))\n",
        "    m3_cond[i] = x\n",
        "m3_cond"
      ],
      "execution_count": null,
      "outputs": [
        {
          "output_type": "execute_result",
          "data": {
            "text/plain": [
              "array([[4.17080586e-11],\n",
              "       [3.26064178e-11],\n",
              "       [2.55947907e-11],\n",
              "       ...,\n",
              "       [1.70093492e-06],\n",
              "       [1.71337474e-06],\n",
              "       [1.71232013e-06]])"
            ]
          },
          "metadata": {
            "tags": []
          },
          "execution_count": 53
        }
      ]
    },
    {
      "cell_type": "code",
      "metadata": {
        "id": "zyV_oeliG9Ki",
        "outputId": "4deb04c9-1dab-4af4-9ff7-b74ed740024f"
      },
      "source": [
        "#do\n",
        "do_pdf = data_3['DO']\n",
        "m3_do = np.zeros([13085,1])\n",
        "for i in range(0, 13085):\n",
        "    x = (do_pdf[i]/(do_pdf_3.sum() + 13085*(1-(alpha_do*beta_do))))\n",
        "    m3_do[i] = x\n",
        "m3_do"
      ],
      "execution_count": null,
      "outputs": [
        {
          "output_type": "execute_result",
          "data": {
            "text/plain": [
              "array([[3.67323173e-08],\n",
              "       [2.67813134e-08],\n",
              "       [2.31042263e-06],\n",
              "       ...,\n",
              "       [1.88449230e-07],\n",
              "       [1.88449230e-07],\n",
              "       [1.88449230e-07]])"
            ]
          },
          "metadata": {
            "tags": []
          },
          "execution_count": 54
        }
      ]
    },
    {
      "cell_type": "code",
      "metadata": {
        "id": "JrvGaL9yG9Kq",
        "outputId": "c0006aa2-49be-49d5-9e5d-b56e64f9746c"
      },
      "source": [
        "#orp\n",
        "orp_pdf = data_3['ORP']\n",
        "m3_orp = np.zeros([13085,1])\n",
        "for i in range(0, 13085):\n",
        "    x = (orp_pdf[i]/(orp_pdf_3.sum() + 13085*(1-(alpha_orp*beta_orp))))\n",
        "    m3_orp[i] = x\n",
        "m3_orp"
      ],
      "execution_count": null,
      "outputs": [
        {
          "output_type": "execute_result",
          "data": {
            "text/plain": [
              "array([[2.29439226e-06],\n",
              "       [2.29439171e-06],\n",
              "       [2.29439159e-06],\n",
              "       ...,\n",
              "       [2.29439905e-06],\n",
              "       [2.29439894e-06],\n",
              "       [2.29439894e-06]])"
            ]
          },
          "metadata": {
            "tags": []
          },
          "execution_count": 55
        }
      ]
    },
    {
      "cell_type": "code",
      "metadata": {
        "id": "LeCA1vgnG9Kv",
        "outputId": "25244028-60d4-4ec9-e741-292eb3d9e5c7"
      },
      "source": [
        "#ph\n",
        "ph_pdf = data_3['PH']\n",
        "m3_ph = np.zeros([13085,1])\n",
        "for i in range(0, 13085):\n",
        "    x = (ph_pdf[i]/(ph_pdf_3.sum() + 13085*(1-(alpha_ph*beta_ph))))\n",
        "    m3_ph[i] = x\n",
        "m3_ph"
      ],
      "execution_count": null,
      "outputs": [
        {
          "output_type": "execute_result",
          "data": {
            "text/plain": [
              "array([[2.26163794e-06],\n",
              "       [2.26295853e-06],\n",
              "       [2.25449652e-06],\n",
              "       ...,\n",
              "       [2.21801415e-06],\n",
              "       [2.21825187e-06],\n",
              "       [2.21814753e-06]])"
            ]
          },
          "metadata": {
            "tags": []
          },
          "execution_count": 56
        }
      ]
    },
    {
      "cell_type": "code",
      "metadata": {
        "id": "KTHd5ljmG9K3",
        "outputId": "98652b5a-4584-4a1e-d9c9-20ce8c3f9040"
      },
      "source": [
        "#wt\n",
        "wt_pdf = data_3['WT']\n",
        "m3_wt = np.zeros([13085,1])\n",
        "for i in range(0, 13085):\n",
        "    x = (wt_pdf[i]/(wt_pdf_3.sum() + 13085*(1-(alpha_wt*beta_wt))))\n",
        "    m3_wt[i] = x\n",
        "m3_wt"
      ],
      "execution_count": null,
      "outputs": [
        {
          "output_type": "execute_result",
          "data": {
            "text/plain": [
              "array([[2.25618645e-06],\n",
              "       [2.25796141e-06],\n",
              "       [2.25817099e-06],\n",
              "       ...,\n",
              "       [2.27446293e-06],\n",
              "       [2.27443184e-06],\n",
              "       [2.27442602e-06]])"
            ]
          },
          "metadata": {
            "tags": []
          },
          "execution_count": 57
        }
      ]
    },
    {
      "cell_type": "code",
      "metadata": {
        "id": "_1DhAVluG9K7",
        "outputId": "f751cbbc-dff7-4228-aa73-75f10eef959f"
      },
      "source": [
        "cond_ = pd.DataFrame(m3_cond, columns = ['COND']) \n",
        "do_ = pd.DataFrame(m3_do, columns = ['DO'])\n",
        "orp_ = pd.DataFrame(m3_orp, columns = ['ORP'])\n",
        "ph_ = pd.DataFrame(m3_ph, columns = ['PH'])\n",
        "wt_ = pd.DataFrame(m3_wt, columns = ['WT'])\n",
        "d3 = pd.concat([cond_, do_, orp_, ph_, wt_], axis=1)\n",
        "d3"
      ],
      "execution_count": null,
      "outputs": [
        {
          "output_type": "execute_result",
          "data": {
            "text/html": [
              "<div>\n",
              "<style scoped>\n",
              "    .dataframe tbody tr th:only-of-type {\n",
              "        vertical-align: middle;\n",
              "    }\n",
              "\n",
              "    .dataframe tbody tr th {\n",
              "        vertical-align: top;\n",
              "    }\n",
              "\n",
              "    .dataframe thead th {\n",
              "        text-align: right;\n",
              "    }\n",
              "</style>\n",
              "<table border=\"1\" class=\"dataframe\">\n",
              "  <thead>\n",
              "    <tr style=\"text-align: right;\">\n",
              "      <th></th>\n",
              "      <th>COND</th>\n",
              "      <th>DO</th>\n",
              "      <th>ORP</th>\n",
              "      <th>PH</th>\n",
              "      <th>WT</th>\n",
              "    </tr>\n",
              "  </thead>\n",
              "  <tbody>\n",
              "    <tr>\n",
              "      <th>0</th>\n",
              "      <td>4.170806e-11</td>\n",
              "      <td>3.673232e-08</td>\n",
              "      <td>0.000002</td>\n",
              "      <td>0.000002</td>\n",
              "      <td>0.000002</td>\n",
              "    </tr>\n",
              "    <tr>\n",
              "      <th>1</th>\n",
              "      <td>3.260642e-11</td>\n",
              "      <td>2.678131e-08</td>\n",
              "      <td>0.000002</td>\n",
              "      <td>0.000002</td>\n",
              "      <td>0.000002</td>\n",
              "    </tr>\n",
              "    <tr>\n",
              "      <th>2</th>\n",
              "      <td>2.559479e-11</td>\n",
              "      <td>2.310423e-06</td>\n",
              "      <td>0.000002</td>\n",
              "      <td>0.000002</td>\n",
              "      <td>0.000002</td>\n",
              "    </tr>\n",
              "    <tr>\n",
              "      <th>3</th>\n",
              "      <td>1.841632e-11</td>\n",
              "      <td>2.123224e-08</td>\n",
              "      <td>0.000002</td>\n",
              "      <td>0.000002</td>\n",
              "      <td>0.000002</td>\n",
              "    </tr>\n",
              "    <tr>\n",
              "      <th>4</th>\n",
              "      <td>1.205821e-11</td>\n",
              "      <td>1.567521e-08</td>\n",
              "      <td>0.000002</td>\n",
              "      <td>0.000002</td>\n",
              "      <td>0.000002</td>\n",
              "    </tr>\n",
              "    <tr>\n",
              "      <th>...</th>\n",
              "      <td>...</td>\n",
              "      <td>...</td>\n",
              "      <td>...</td>\n",
              "      <td>...</td>\n",
              "      <td>...</td>\n",
              "    </tr>\n",
              "    <tr>\n",
              "      <th>13080</th>\n",
              "      <td>1.704134e-06</td>\n",
              "      <td>1.884492e-07</td>\n",
              "      <td>0.000002</td>\n",
              "      <td>0.000002</td>\n",
              "      <td>0.000002</td>\n",
              "    </tr>\n",
              "    <tr>\n",
              "      <th>13081</th>\n",
              "      <td>1.706026e-06</td>\n",
              "      <td>1.884492e-07</td>\n",
              "      <td>0.000002</td>\n",
              "      <td>0.000002</td>\n",
              "      <td>0.000002</td>\n",
              "    </tr>\n",
              "    <tr>\n",
              "      <th>13082</th>\n",
              "      <td>1.700935e-06</td>\n",
              "      <td>1.884492e-07</td>\n",
              "      <td>0.000002</td>\n",
              "      <td>0.000002</td>\n",
              "      <td>0.000002</td>\n",
              "    </tr>\n",
              "    <tr>\n",
              "      <th>13083</th>\n",
              "      <td>1.713375e-06</td>\n",
              "      <td>1.884492e-07</td>\n",
              "      <td>0.000002</td>\n",
              "      <td>0.000002</td>\n",
              "      <td>0.000002</td>\n",
              "    </tr>\n",
              "    <tr>\n",
              "      <th>13084</th>\n",
              "      <td>1.712320e-06</td>\n",
              "      <td>1.884492e-07</td>\n",
              "      <td>0.000002</td>\n",
              "      <td>0.000002</td>\n",
              "      <td>0.000002</td>\n",
              "    </tr>\n",
              "  </tbody>\n",
              "</table>\n",
              "<p>13085 rows × 5 columns</p>\n",
              "</div>"
            ],
            "text/plain": [
              "               COND            DO       ORP        PH        WT\n",
              "0      4.170806e-11  3.673232e-08  0.000002  0.000002  0.000002\n",
              "1      3.260642e-11  2.678131e-08  0.000002  0.000002  0.000002\n",
              "2      2.559479e-11  2.310423e-06  0.000002  0.000002  0.000002\n",
              "3      1.841632e-11  2.123224e-08  0.000002  0.000002  0.000002\n",
              "4      1.205821e-11  1.567521e-08  0.000002  0.000002  0.000002\n",
              "...             ...           ...       ...       ...       ...\n",
              "13080  1.704134e-06  1.884492e-07  0.000002  0.000002  0.000002\n",
              "13081  1.706026e-06  1.884492e-07  0.000002  0.000002  0.000002\n",
              "13082  1.700935e-06  1.884492e-07  0.000002  0.000002  0.000002\n",
              "13083  1.713375e-06  1.884492e-07  0.000002  0.000002  0.000002\n",
              "13084  1.712320e-06  1.884492e-07  0.000002  0.000002  0.000002\n",
              "\n",
              "[13085 rows x 5 columns]"
            ]
          },
          "metadata": {
            "tags": []
          },
          "execution_count": 58
        }
      ]
    },
    {
      "cell_type": "markdown",
      "metadata": {
        "id": "xu81JLTFG9LC"
      },
      "source": [
        "Cluster 4"
      ]
    },
    {
      "cell_type": "code",
      "metadata": {
        "id": "OIl4QzqhG9LD",
        "outputId": "db51d251-05d0-4629-8c8d-aba4abdeb633"
      },
      "source": [
        "#cond\n",
        "cond_pdf = data_4['COND']\n",
        "m4_cond = np.zeros([19808,1])\n",
        "for i in range(0, 19808):\n",
        "    x = (cond_pdf[i]/(cond_pdf_4.sum() + 19808*(1-(alpha_cond*beta_cond))))\n",
        "    m4_cond[i] = x\n",
        "m4_cond"
      ],
      "execution_count": null,
      "outputs": [
        {
          "output_type": "execute_result",
          "data": {
            "text/plain": [
              "array([[9.18643816e-10],\n",
              "       [8.06537366e-10],\n",
              "       [9.54856351e-10],\n",
              "       ...,\n",
              "       [1.47164269e-06],\n",
              "       [1.47336238e-06],\n",
              "       [1.47032624e-06]])"
            ]
          },
          "metadata": {
            "tags": []
          },
          "execution_count": 59
        }
      ]
    },
    {
      "cell_type": "code",
      "metadata": {
        "id": "7YCyTTQnG9LJ",
        "outputId": "9106e7f2-2bb3-4ecc-d3fb-1d00e2ba5d8d"
      },
      "source": [
        "#do\n",
        "do_pdf = data_4['DO']\n",
        "m4_do = np.zeros([19808,1])\n",
        "for i in range(0, 19808):\n",
        "    x = (do_pdf[i]/(do_pdf_4.sum() + 19808*(1-(alpha_do*beta_do))))\n",
        "    m4_do[i] = x\n",
        "m4_do"
      ],
      "execution_count": null,
      "outputs": [
        {
          "output_type": "execute_result",
          "data": {
            "text/plain": [
              "array([[2.82731726e-17],\n",
              "       [2.77108813e-17],\n",
              "       [2.22061687e-17],\n",
              "       ...,\n",
              "       [4.95497013e-07],\n",
              "       [4.95497013e-07],\n",
              "       [4.95497013e-07]])"
            ]
          },
          "metadata": {
            "tags": []
          },
          "execution_count": 60
        }
      ]
    },
    {
      "cell_type": "code",
      "metadata": {
        "id": "gZ3OxHpoG9LO",
        "outputId": "fcbff0d3-ae6a-4f7c-9f7c-3e11058dd85d"
      },
      "source": [
        "#orp\n",
        "orp_pdf = data_4['ORP']\n",
        "m4_orp = np.zeros([19808,1])\n",
        "for i in range(0, 19808):\n",
        "    x = (orp_pdf[i]/(orp_pdf_4.sum() + 19808*(1-(alpha_orp*beta_orp))))\n",
        "    m4_orp[i] = x\n",
        "m4_orp"
      ],
      "execution_count": null,
      "outputs": [
        {
          "output_type": "execute_result",
          "data": {
            "text/plain": [
              "array([[1.51566008e-06],\n",
              "       [1.51566013e-06],\n",
              "       [1.51563883e-06],\n",
              "       ...,\n",
              "       [1.51566098e-06],\n",
              "       [1.51566096e-06],\n",
              "       [1.51566096e-06]])"
            ]
          },
          "metadata": {
            "tags": []
          },
          "execution_count": 61
        }
      ]
    },
    {
      "cell_type": "code",
      "metadata": {
        "id": "nQ9BMGSQG9LU",
        "outputId": "7d7a88eb-fa8b-4a8e-c059-ecd82bd860e5"
      },
      "source": [
        "#ph\n",
        "ph_pdf = data_4['PH']\n",
        "m4_ph = np.zeros([19808,1])\n",
        "for i in range(0, 19808):\n",
        "    x = (ph_pdf[i]/(ph_pdf_4.sum() + 19808*(1-(alpha_ph*beta_ph))))\n",
        "    m4_ph[i] = x\n",
        "m4_ph"
      ],
      "execution_count": null,
      "outputs": [
        {
          "output_type": "execute_result",
          "data": {
            "text/plain": [
              "array([[1.40333985e-06],\n",
              "       [1.40194206e-06],\n",
              "       [1.40458676e-06],\n",
              "       ...,\n",
              "       [1.50446158e-06],\n",
              "       [1.50432261e-06],\n",
              "       [1.50431828e-06]])"
            ]
          },
          "metadata": {
            "tags": []
          },
          "execution_count": 62
        }
      ]
    },
    {
      "cell_type": "code",
      "metadata": {
        "id": "ZpXDktfKG9LZ",
        "outputId": "3dfed75d-fd58-43a6-d163-324cb99e2424"
      },
      "source": [
        "#wt\n",
        "wt_pdf = data_4['WT']\n",
        "m4_wt = np.zeros([19808,1])\n",
        "for i in range(0, 19808):\n",
        "    x = (wt_pdf[i]/(wt_pdf_4.sum() + 19808*(1-(alpha_wt*beta_wt))))\n",
        "    m4_wt[i] = x\n",
        "m4_wt"
      ],
      "execution_count": null,
      "outputs": [
        {
          "output_type": "execute_result",
          "data": {
            "text/plain": [
              "array([[1.40916917e-06],\n",
              "       [1.41658768e-06],\n",
              "       [1.41492797e-06],\n",
              "       ...,\n",
              "       [1.50535003e-06],\n",
              "       [1.50535553e-06],\n",
              "       [1.50536781e-06]])"
            ]
          },
          "metadata": {
            "tags": []
          },
          "execution_count": 63
        }
      ]
    },
    {
      "cell_type": "code",
      "metadata": {
        "id": "R2usk-bHG9Lg",
        "outputId": "7523f5ed-2f23-4de1-e79f-a2dc3a44d521"
      },
      "source": [
        "cond_ = pd.DataFrame(m4_cond, columns = ['COND']) \n",
        "do_ = pd.DataFrame(m4_do, columns = ['DO'])\n",
        "orp_ = pd.DataFrame(m4_orp, columns = ['ORP'])\n",
        "ph_ = pd.DataFrame(m4_ph, columns = ['PH'])\n",
        "wt_ = pd.DataFrame(m4_wt, columns = ['WT'])\n",
        "d4 = pd.concat([cond_, do_, orp_, ph_, wt_], axis=1)\n",
        "d4"
      ],
      "execution_count": null,
      "outputs": [
        {
          "output_type": "execute_result",
          "data": {
            "text/html": [
              "<div>\n",
              "<style scoped>\n",
              "    .dataframe tbody tr th:only-of-type {\n",
              "        vertical-align: middle;\n",
              "    }\n",
              "\n",
              "    .dataframe tbody tr th {\n",
              "        vertical-align: top;\n",
              "    }\n",
              "\n",
              "    .dataframe thead th {\n",
              "        text-align: right;\n",
              "    }\n",
              "</style>\n",
              "<table border=\"1\" class=\"dataframe\">\n",
              "  <thead>\n",
              "    <tr style=\"text-align: right;\">\n",
              "      <th></th>\n",
              "      <th>COND</th>\n",
              "      <th>DO</th>\n",
              "      <th>ORP</th>\n",
              "      <th>PH</th>\n",
              "      <th>WT</th>\n",
              "    </tr>\n",
              "  </thead>\n",
              "  <tbody>\n",
              "    <tr>\n",
              "      <th>0</th>\n",
              "      <td>9.186438e-10</td>\n",
              "      <td>2.827317e-17</td>\n",
              "      <td>0.000002</td>\n",
              "      <td>0.000001</td>\n",
              "      <td>0.000001</td>\n",
              "    </tr>\n",
              "    <tr>\n",
              "      <th>1</th>\n",
              "      <td>8.065374e-10</td>\n",
              "      <td>2.771088e-17</td>\n",
              "      <td>0.000002</td>\n",
              "      <td>0.000001</td>\n",
              "      <td>0.000001</td>\n",
              "    </tr>\n",
              "    <tr>\n",
              "      <th>2</th>\n",
              "      <td>9.548564e-10</td>\n",
              "      <td>2.220617e-17</td>\n",
              "      <td>0.000002</td>\n",
              "      <td>0.000001</td>\n",
              "      <td>0.000001</td>\n",
              "    </tr>\n",
              "    <tr>\n",
              "      <th>3</th>\n",
              "      <td>9.032859e-10</td>\n",
              "      <td>2.836971e-17</td>\n",
              "      <td>0.000002</td>\n",
              "      <td>0.000001</td>\n",
              "      <td>0.000001</td>\n",
              "    </tr>\n",
              "    <tr>\n",
              "      <th>4</th>\n",
              "      <td>8.701719e-10</td>\n",
              "      <td>2.388158e-17</td>\n",
              "      <td>0.000002</td>\n",
              "      <td>0.000001</td>\n",
              "      <td>0.000001</td>\n",
              "    </tr>\n",
              "    <tr>\n",
              "      <th>...</th>\n",
              "      <td>...</td>\n",
              "      <td>...</td>\n",
              "      <td>...</td>\n",
              "      <td>...</td>\n",
              "      <td>...</td>\n",
              "    </tr>\n",
              "    <tr>\n",
              "      <th>19803</th>\n",
              "      <td>1.471113e-06</td>\n",
              "      <td>4.954970e-07</td>\n",
              "      <td>0.000002</td>\n",
              "      <td>0.000002</td>\n",
              "      <td>0.000002</td>\n",
              "    </tr>\n",
              "    <tr>\n",
              "      <th>19804</th>\n",
              "      <td>1.470626e-06</td>\n",
              "      <td>4.954970e-07</td>\n",
              "      <td>0.000002</td>\n",
              "      <td>0.000002</td>\n",
              "      <td>0.000002</td>\n",
              "    </tr>\n",
              "    <tr>\n",
              "      <th>19805</th>\n",
              "      <td>1.471643e-06</td>\n",
              "      <td>4.954970e-07</td>\n",
              "      <td>0.000002</td>\n",
              "      <td>0.000002</td>\n",
              "      <td>0.000002</td>\n",
              "    </tr>\n",
              "    <tr>\n",
              "      <th>19806</th>\n",
              "      <td>1.473362e-06</td>\n",
              "      <td>4.954970e-07</td>\n",
              "      <td>0.000002</td>\n",
              "      <td>0.000002</td>\n",
              "      <td>0.000002</td>\n",
              "    </tr>\n",
              "    <tr>\n",
              "      <th>19807</th>\n",
              "      <td>1.470326e-06</td>\n",
              "      <td>4.954970e-07</td>\n",
              "      <td>0.000002</td>\n",
              "      <td>0.000002</td>\n",
              "      <td>0.000002</td>\n",
              "    </tr>\n",
              "  </tbody>\n",
              "</table>\n",
              "<p>19808 rows × 5 columns</p>\n",
              "</div>"
            ],
            "text/plain": [
              "               COND            DO       ORP        PH        WT\n",
              "0      9.186438e-10  2.827317e-17  0.000002  0.000001  0.000001\n",
              "1      8.065374e-10  2.771088e-17  0.000002  0.000001  0.000001\n",
              "2      9.548564e-10  2.220617e-17  0.000002  0.000001  0.000001\n",
              "3      9.032859e-10  2.836971e-17  0.000002  0.000001  0.000001\n",
              "4      8.701719e-10  2.388158e-17  0.000002  0.000001  0.000001\n",
              "...             ...           ...       ...       ...       ...\n",
              "19803  1.471113e-06  4.954970e-07  0.000002  0.000002  0.000002\n",
              "19804  1.470626e-06  4.954970e-07  0.000002  0.000002  0.000002\n",
              "19805  1.471643e-06  4.954970e-07  0.000002  0.000002  0.000002\n",
              "19806  1.473362e-06  4.954970e-07  0.000002  0.000002  0.000002\n",
              "19807  1.470326e-06  4.954970e-07  0.000002  0.000002  0.000002\n",
              "\n",
              "[19808 rows x 5 columns]"
            ]
          },
          "metadata": {
            "tags": []
          },
          "execution_count": 64
        }
      ]
    },
    {
      "cell_type": "code",
      "metadata": {
        "id": "_Bh1TC1UG9Lj"
      },
      "source": [
        "d1.to_csv('DST_Cluster_1.csv', index = False)\n",
        "d2.to_csv('DST_Cluster_2.csv', index = False)\n",
        "d3.to_csv('DST_Cluster_3.csv', index = False)\n",
        "d4.to_csv('DST_Cluster_4.csv', index = False)"
      ],
      "execution_count": null,
      "outputs": []
    }
  ]
}