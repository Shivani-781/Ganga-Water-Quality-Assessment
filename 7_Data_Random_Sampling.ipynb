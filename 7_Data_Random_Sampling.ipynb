{
  "nbformat": 4,
  "nbformat_minor": 0,
  "metadata": {
    "kernelspec": {
      "display_name": "Python 3",
      "language": "python",
      "name": "python3"
    },
    "language_info": {
      "codemirror_mode": {
        "name": "ipython",
        "version": 3
      },
      "file_extension": ".py",
      "mimetype": "text/x-python",
      "name": "python",
      "nbconvert_exporter": "python",
      "pygments_lexer": "ipython3",
      "version": "3.7.7"
    },
    "colab": {
      "name": "7. Data Random Sampling.ipynb",
      "provenance": [],
      "include_colab_link": true
    }
  },
  "cells": [
    {
      "cell_type": "markdown",
      "metadata": {
        "id": "view-in-github",
        "colab_type": "text"
      },
      "source": [
        "<a href=\"https://colab.research.google.com/github/Shivani-781/Ganga-Water-Quality-Assessment/blob/main/7_Data_Random_Sampling.ipynb\" target=\"_parent\"><img src=\"https://colab.research.google.com/assets/colab-badge.svg\" alt=\"Open In Colab\"/></a>"
      ]
    },
    {
      "cell_type": "markdown",
      "metadata": {
        "id": "eDmOhiHt9R0m"
      },
      "source": [
        "# Random Sampling using Central Limit Theorem "
      ]
    },
    {
      "cell_type": "code",
      "metadata": {
        "id": "LPFHbZ629R0o"
      },
      "source": [
        "import numpy as np\n",
        "import pandas as pd\n",
        "import matplotlib.pyplot as plt\n",
        "import seaborn as sns\n",
        "sns.set()\n",
        "%matplotlib inline"
      ],
      "execution_count": null,
      "outputs": []
    },
    {
      "cell_type": "markdown",
      "metadata": {
        "id": "P5AAzLk-9R0w"
      },
      "source": [
        "Sample 1"
      ]
    },
    {
      "cell_type": "code",
      "metadata": {
        "id": "818TEb8m9R0x"
      },
      "source": [
        "df_1 = pd.read_csv('g_data_1.csv')"
      ],
      "execution_count": null,
      "outputs": []
    },
    {
      "cell_type": "code",
      "metadata": {
        "id": "iRh854hZ9R04",
        "outputId": "d9e8a3a8-89fc-4be2-cfe5-3469e567e322"
      },
      "source": [
        "df_1"
      ],
      "execution_count": null,
      "outputs": [
        {
          "output_type": "execute_result",
          "data": {
            "text/html": [
              "<div>\n",
              "<style scoped>\n",
              "    .dataframe tbody tr th:only-of-type {\n",
              "        vertical-align: middle;\n",
              "    }\n",
              "\n",
              "    .dataframe tbody tr th {\n",
              "        vertical-align: top;\n",
              "    }\n",
              "\n",
              "    .dataframe thead th {\n",
              "        text-align: right;\n",
              "    }\n",
              "</style>\n",
              "<table border=\"1\" class=\"dataframe\">\n",
              "  <thead>\n",
              "    <tr style=\"text-align: right;\">\n",
              "      <th></th>\n",
              "      <th>Date</th>\n",
              "      <th>Frame No</th>\n",
              "      <th>BAT</th>\n",
              "      <th>COND</th>\n",
              "      <th>DO</th>\n",
              "      <th>ORP</th>\n",
              "      <th>PH</th>\n",
              "      <th>WT</th>\n",
              "    </tr>\n",
              "  </thead>\n",
              "  <tbody>\n",
              "    <tr>\n",
              "      <th>0</th>\n",
              "      <td>2019-01-12 14:54:00</td>\n",
              "      <td>0</td>\n",
              "      <td>90.0</td>\n",
              "      <td>46.195190</td>\n",
              "      <td>13.501176</td>\n",
              "      <td>0.142900</td>\n",
              "      <td>12.359906</td>\n",
              "      <td>18.400787</td>\n",
              "    </tr>\n",
              "    <tr>\n",
              "      <th>1</th>\n",
              "      <td>2019-01-12 14:55:00</td>\n",
              "      <td>1</td>\n",
              "      <td>91.0</td>\n",
              "      <td>52.609680</td>\n",
              "      <td>20.752865</td>\n",
              "      <td>0.146236</td>\n",
              "      <td>12.825684</td>\n",
              "      <td>18.013641</td>\n",
              "    </tr>\n",
              "    <tr>\n",
              "      <th>2</th>\n",
              "      <td>2019-01-12 14:56:00</td>\n",
              "      <td>2</td>\n",
              "      <td>91.0</td>\n",
              "      <td>52.399826</td>\n",
              "      <td>12.409351</td>\n",
              "      <td>0.146724</td>\n",
              "      <td>12.998978</td>\n",
              "      <td>18.184570</td>\n",
              "    </tr>\n",
              "    <tr>\n",
              "      <th>3</th>\n",
              "      <td>2019-01-12 14:57:00</td>\n",
              "      <td>3</td>\n",
              "      <td>92.0</td>\n",
              "      <td>41.708813</td>\n",
              "      <td>13.330035</td>\n",
              "      <td>0.143533</td>\n",
              "      <td>13.105331</td>\n",
              "      <td>18.367126</td>\n",
              "    </tr>\n",
              "    <tr>\n",
              "      <th>4</th>\n",
              "      <td>2019-01-12 14:58:00</td>\n",
              "      <td>4</td>\n",
              "      <td>90.0</td>\n",
              "      <td>52.926560</td>\n",
              "      <td>10.858296</td>\n",
              "      <td>0.142336</td>\n",
              "      <td>13.183682</td>\n",
              "      <td>18.268341</td>\n",
              "    </tr>\n",
              "    <tr>\n",
              "      <th>...</th>\n",
              "      <td>...</td>\n",
              "      <td>...</td>\n",
              "      <td>...</td>\n",
              "      <td>...</td>\n",
              "      <td>...</td>\n",
              "      <td>...</td>\n",
              "      <td>...</td>\n",
              "      <td>...</td>\n",
              "    </tr>\n",
              "    <tr>\n",
              "      <th>395</th>\n",
              "      <td>2020-03-05 16:03:00</td>\n",
              "      <td>98</td>\n",
              "      <td>98.0</td>\n",
              "      <td>718.676800</td>\n",
              "      <td>16.458600</td>\n",
              "      <td>0.121643</td>\n",
              "      <td>9.060116</td>\n",
              "      <td>27.009857</td>\n",
              "    </tr>\n",
              "    <tr>\n",
              "      <th>396</th>\n",
              "      <td>2020-03-05 16:04:00</td>\n",
              "      <td>99</td>\n",
              "      <td>96.0</td>\n",
              "      <td>718.613650</td>\n",
              "      <td>13.028291</td>\n",
              "      <td>0.121814</td>\n",
              "      <td>9.056689</td>\n",
              "      <td>27.003418</td>\n",
              "    </tr>\n",
              "    <tr>\n",
              "      <th>397</th>\n",
              "      <td>2020-03-05 16:05:00</td>\n",
              "      <td>100</td>\n",
              "      <td>96.0</td>\n",
              "      <td>718.462950</td>\n",
              "      <td>13.455955</td>\n",
              "      <td>0.121636</td>\n",
              "      <td>9.059394</td>\n",
              "      <td>27.006592</td>\n",
              "    </tr>\n",
              "    <tr>\n",
              "      <th>398</th>\n",
              "      <td>2020-03-05 16:06:00</td>\n",
              "      <td>101</td>\n",
              "      <td>96.0</td>\n",
              "      <td>718.229000</td>\n",
              "      <td>13.773285</td>\n",
              "      <td>0.121644</td>\n",
              "      <td>9.049671</td>\n",
              "      <td>27.011383</td>\n",
              "    </tr>\n",
              "    <tr>\n",
              "      <th>399</th>\n",
              "      <td>2020-03-05 16:07:00</td>\n",
              "      <td>102</td>\n",
              "      <td>96.0</td>\n",
              "      <td>718.310000</td>\n",
              "      <td>14.439819</td>\n",
              "      <td>0.121749</td>\n",
              "      <td>9.059897</td>\n",
              "      <td>27.013428</td>\n",
              "    </tr>\n",
              "  </tbody>\n",
              "</table>\n",
              "<p>400 rows × 8 columns</p>\n",
              "</div>"
            ],
            "text/plain": [
              "                    Date  Frame No   BAT        COND         DO       ORP  \\\n",
              "0    2019-01-12 14:54:00         0  90.0   46.195190  13.501176  0.142900   \n",
              "1    2019-01-12 14:55:00         1  91.0   52.609680  20.752865  0.146236   \n",
              "2    2019-01-12 14:56:00         2  91.0   52.399826  12.409351  0.146724   \n",
              "3    2019-01-12 14:57:00         3  92.0   41.708813  13.330035  0.143533   \n",
              "4    2019-01-12 14:58:00         4  90.0   52.926560  10.858296  0.142336   \n",
              "..                   ...       ...   ...         ...        ...       ...   \n",
              "395  2020-03-05 16:03:00        98  98.0  718.676800  16.458600  0.121643   \n",
              "396  2020-03-05 16:04:00        99  96.0  718.613650  13.028291  0.121814   \n",
              "397  2020-03-05 16:05:00       100  96.0  718.462950  13.455955  0.121636   \n",
              "398  2020-03-05 16:06:00       101  96.0  718.229000  13.773285  0.121644   \n",
              "399  2020-03-05 16:07:00       102  96.0  718.310000  14.439819  0.121749   \n",
              "\n",
              "            PH         WT  \n",
              "0    12.359906  18.400787  \n",
              "1    12.825684  18.013641  \n",
              "2    12.998978  18.184570  \n",
              "3    13.105331  18.367126  \n",
              "4    13.183682  18.268341  \n",
              "..         ...        ...  \n",
              "395   9.060116  27.009857  \n",
              "396   9.056689  27.003418  \n",
              "397   9.059394  27.006592  \n",
              "398   9.049671  27.011383  \n",
              "399   9.059897  27.013428  \n",
              "\n",
              "[400 rows x 8 columns]"
            ]
          },
          "metadata": {
            "tags": []
          },
          "execution_count": 4
        }
      ]
    },
    {
      "cell_type": "code",
      "metadata": {
        "id": "ZdC6igjx9R1B",
        "outputId": "fcc7c9cd-8acf-4869-c4a5-f087ed5ab395"
      },
      "source": [
        "#cond\n",
        "cond = df_1['COND']\n",
        "cond"
      ],
      "execution_count": null,
      "outputs": [
        {
          "output_type": "execute_result",
          "data": {
            "text/plain": [
              "0       46.195190\n",
              "1       52.609680\n",
              "2       52.399826\n",
              "3       41.708813\n",
              "4       52.926560\n",
              "          ...    \n",
              "395    718.676800\n",
              "396    718.613650\n",
              "397    718.462950\n",
              "398    718.229000\n",
              "399    718.310000\n",
              "Name: COND, Length: 400, dtype: float64"
            ]
          },
          "metadata": {
            "tags": []
          },
          "execution_count": 5
        }
      ]
    },
    {
      "cell_type": "code",
      "metadata": {
        "id": "acyRUwM09R1I",
        "outputId": "fd0948bf-27d2-487c-867c-b99fe7399ba5"
      },
      "source": [
        "cond.shape"
      ],
      "execution_count": null,
      "outputs": [
        {
          "output_type": "execute_result",
          "data": {
            "text/plain": [
              "(400,)"
            ]
          },
          "metadata": {
            "tags": []
          },
          "execution_count": 6
        }
      ]
    },
    {
      "cell_type": "code",
      "metadata": {
        "id": "yzOSVSU29R1O"
      },
      "source": [
        "cond_pdf = np.zeros([400,1])"
      ],
      "execution_count": null,
      "outputs": []
    },
    {
      "cell_type": "code",
      "metadata": {
        "id": "3zAUpWDy9R1U"
      },
      "source": [
        "mu = np.mean(cond)\n",
        "sigma = np.std(cond)"
      ],
      "execution_count": null,
      "outputs": []
    },
    {
      "cell_type": "code",
      "metadata": {
        "id": "5yWdoCzE9R1c"
      },
      "source": [
        "for i in range(0, 400):\n",
        "    x = 1/(np.sqrt(2*np.pi)*sigma)*np.exp(-np.power((cond[i] - mu)/sigma, 2)/2)\n",
        "    cond_pdf[i] = x"
      ],
      "execution_count": null,
      "outputs": []
    },
    {
      "cell_type": "code",
      "metadata": {
        "id": "pRysk2fX9R1h",
        "outputId": "4b3c0f37-c044-4049-f0c4-72191e140a0a"
      },
      "source": [
        "cond_pdf"
      ],
      "execution_count": null,
      "outputs": [
        {
          "output_type": "execute_result",
          "data": {
            "text/plain": [
              "array([[0.00094163],\n",
              "       [0.0009681 ],\n",
              "       [0.00096723],\n",
              "       [0.00092317],\n",
              "       [0.00096941],\n",
              "       [0.00097253],\n",
              "       [0.0009726 ],\n",
              "       [0.00097011],\n",
              "       [0.00097038],\n",
              "       [0.00097353],\n",
              "       [0.00097098],\n",
              "       [0.00097216],\n",
              "       [0.00097149],\n",
              "       [0.00097395],\n",
              "       [0.00097042],\n",
              "       [0.0009721 ],\n",
              "       [0.00097403],\n",
              "       [0.00097663],\n",
              "       [0.00097651],\n",
              "       [0.00097564],\n",
              "       [0.0009762 ],\n",
              "       [0.00097425],\n",
              "       [0.00097435],\n",
              "       [0.0009709 ],\n",
              "       [0.00097329],\n",
              "       [0.00097317],\n",
              "       [0.00088521],\n",
              "       [0.00090547],\n",
              "       [0.00089835],\n",
              "       [0.00091319],\n",
              "       [0.00090727],\n",
              "       [0.00088705],\n",
              "       [0.00083571],\n",
              "       [0.00086042],\n",
              "       [0.00083932],\n",
              "       [0.00082142],\n",
              "       [0.00082122],\n",
              "       [0.00082173],\n",
              "       [0.00080653],\n",
              "       [0.00078902],\n",
              "       [0.00082209],\n",
              "       [0.00082224],\n",
              "       [0.00082265],\n",
              "       [0.0008348 ],\n",
              "       [0.000822  ],\n",
              "       [0.00082211],\n",
              "       [0.00082274],\n",
              "       [0.00082196],\n",
              "       [0.00082188],\n",
              "       [0.00082228],\n",
              "       [0.0007594 ],\n",
              "       [0.00075939],\n",
              "       [0.00075939],\n",
              "       [0.00075939],\n",
              "       [0.00075939],\n",
              "       [0.00075939],\n",
              "       [0.0007594 ],\n",
              "       [0.00075939],\n",
              "       [0.0007594 ],\n",
              "       [0.0007594 ],\n",
              "       [0.0007594 ],\n",
              "       [0.0007594 ],\n",
              "       [0.0007594 ],\n",
              "       [0.0007594 ],\n",
              "       [0.0007594 ],\n",
              "       [0.0007594 ],\n",
              "       [0.00075939],\n",
              "       [0.0007594 ],\n",
              "       [0.0007594 ],\n",
              "       [0.00075958],\n",
              "       [0.00075954],\n",
              "       [0.00153825],\n",
              "       [0.00153928],\n",
              "       [0.00153794],\n",
              "       [0.00153838],\n",
              "       [0.00075981],\n",
              "       [0.00153868],\n",
              "       [0.0015415 ],\n",
              "       [0.00153746],\n",
              "       [0.00153747],\n",
              "       [0.00153887],\n",
              "       [0.00153521],\n",
              "       [0.00153591],\n",
              "       [0.0015365 ],\n",
              "       [0.00153505],\n",
              "       [0.00153421],\n",
              "       [0.00153385],\n",
              "       [0.00075971],\n",
              "       [0.00075963],\n",
              "       [0.00075961],\n",
              "       [0.0007596 ],\n",
              "       [0.00075959],\n",
              "       [0.0007596 ],\n",
              "       [0.00075973],\n",
              "       [0.00075968],\n",
              "       [0.00075967],\n",
              "       [0.00075965],\n",
              "       [0.00075959],\n",
              "       [0.00075958],\n",
              "       [0.00075957],\n",
              "       [0.00076174],\n",
              "       [0.00076161],\n",
              "       [0.0007615 ],\n",
              "       [0.00076142],\n",
              "       [0.00076131],\n",
              "       [0.00076122],\n",
              "       [0.00076113],\n",
              "       [0.00076105],\n",
              "       [0.00076097],\n",
              "       [0.00076094],\n",
              "       [0.00076097],\n",
              "       [0.00076099],\n",
              "       [0.00076095],\n",
              "       [0.00076094],\n",
              "       [0.0007609 ],\n",
              "       [0.00076089],\n",
              "       [0.00076088],\n",
              "       [0.00076086],\n",
              "       [0.00076083],\n",
              "       [0.00076083],\n",
              "       [0.00076082],\n",
              "       [0.0007608 ],\n",
              "       [0.0007609 ],\n",
              "       [0.00076088],\n",
              "       [0.00076086],\n",
              "       [0.00076085],\n",
              "       [0.00076083],\n",
              "       [0.00076082],\n",
              "       [0.00076081],\n",
              "       [0.0007608 ],\n",
              "       [0.00076078],\n",
              "       [0.00076078],\n",
              "       [0.00076076],\n",
              "       [0.00076075],\n",
              "       [0.00076074],\n",
              "       [0.00076072],\n",
              "       [0.00076072],\n",
              "       [0.0007607 ],\n",
              "       [0.0007607 ],\n",
              "       [0.00076068],\n",
              "       [0.00076067],\n",
              "       [0.00076066],\n",
              "       [0.00076066],\n",
              "       [0.00076065],\n",
              "       [0.00076064],\n",
              "       [0.00076063],\n",
              "       [0.00076062],\n",
              "       [0.00076061],\n",
              "       [0.0007606 ],\n",
              "       [0.00076059],\n",
              "       [0.00162468],\n",
              "       [0.00162389],\n",
              "       [0.00162311],\n",
              "       [0.00162204],\n",
              "       [0.00162065],\n",
              "       [0.00161918],\n",
              "       [0.00161765],\n",
              "       [0.00161657],\n",
              "       [0.00161703],\n",
              "       [0.00161748],\n",
              "       [0.00161753],\n",
              "       [0.00161793],\n",
              "       [0.00161837],\n",
              "       [0.00161849],\n",
              "       [0.00161864],\n",
              "       [0.00161894],\n",
              "       [0.00161927],\n",
              "       [0.00161954],\n",
              "       [0.00161992],\n",
              "       [0.0016198 ],\n",
              "       [0.00161988],\n",
              "       [0.00162002],\n",
              "       [0.00162024],\n",
              "       [0.00162047],\n",
              "       [0.00162057],\n",
              "       [0.00162064],\n",
              "       [0.00162058],\n",
              "       [0.00162056],\n",
              "       [0.00162083],\n",
              "       [0.0016209 ],\n",
              "       [0.00162095],\n",
              "       [0.00162113],\n",
              "       [0.00162132],\n",
              "       [0.00162135],\n",
              "       [0.00162145],\n",
              "       [0.00162174],\n",
              "       [0.00162175],\n",
              "       [0.00162189],\n",
              "       [0.00162183],\n",
              "       [0.00162213],\n",
              "       [0.00162199],\n",
              "       [0.001622  ],\n",
              "       [0.00162192],\n",
              "       [0.00162185],\n",
              "       [0.00162176],\n",
              "       [0.001622  ],\n",
              "       [0.00162209],\n",
              "       [0.00162208],\n",
              "       [0.00162205],\n",
              "       [0.00162249],\n",
              "       [0.0014122 ],\n",
              "       [0.0014128 ],\n",
              "       [0.0014151 ],\n",
              "       [0.00141501],\n",
              "       [0.00141621],\n",
              "       [0.00141756],\n",
              "       [0.00142032],\n",
              "       [0.0014206 ],\n",
              "       [0.00142043],\n",
              "       [0.00142028],\n",
              "       [0.00142005],\n",
              "       [0.00142009],\n",
              "       [0.00142093],\n",
              "       [0.00142185],\n",
              "       [0.00142234],\n",
              "       [0.00142315],\n",
              "       [0.00142352],\n",
              "       [0.00142378],\n",
              "       [0.00142408],\n",
              "       [0.00142407],\n",
              "       [0.00142431],\n",
              "       [0.00142439],\n",
              "       [0.00142439],\n",
              "       [0.00142452],\n",
              "       [0.00142427],\n",
              "       [0.00142459],\n",
              "       [0.00142404],\n",
              "       [0.00142387],\n",
              "       [0.00142365],\n",
              "       [0.0014238 ],\n",
              "       [0.00142282],\n",
              "       [0.00142174],\n",
              "       [0.0014212 ],\n",
              "       [0.00142092],\n",
              "       [0.00142066],\n",
              "       [0.00142107],\n",
              "       [0.00142126],\n",
              "       [0.00142204],\n",
              "       [0.00142244],\n",
              "       [0.00142308],\n",
              "       [0.00142369],\n",
              "       [0.00142436],\n",
              "       [0.0014248 ],\n",
              "       [0.00142532],\n",
              "       [0.00142537],\n",
              "       [0.00142604],\n",
              "       [0.00142653],\n",
              "       [0.00142733],\n",
              "       [0.00142788],\n",
              "       [0.00142847],\n",
              "       [0.00161013],\n",
              "       [0.00161188],\n",
              "       [0.00161342],\n",
              "       [0.00161404],\n",
              "       [0.00161578],\n",
              "       [0.00161738],\n",
              "       [0.00161851],\n",
              "       [0.00161848],\n",
              "       [0.00161781],\n",
              "       [0.00161736],\n",
              "       [0.00161703],\n",
              "       [0.00161698],\n",
              "       [0.00161685],\n",
              "       [0.00161653],\n",
              "       [0.00161645],\n",
              "       [0.00161683],\n",
              "       [0.00161732],\n",
              "       [0.00161738],\n",
              "       [0.00161713],\n",
              "       [0.00161692],\n",
              "       [0.00161676],\n",
              "       [0.00161623],\n",
              "       [0.00161592],\n",
              "       [0.00161522],\n",
              "       [0.00161448],\n",
              "       [0.00161385],\n",
              "       [0.00161323],\n",
              "       [0.00161254],\n",
              "       [0.00161191],\n",
              "       [0.00161097],\n",
              "       [0.00161052],\n",
              "       [0.0016102 ],\n",
              "       [0.00160991],\n",
              "       [0.00160965],\n",
              "       [0.00160956],\n",
              "       [0.00160934],\n",
              "       [0.00160927],\n",
              "       [0.00160918],\n",
              "       [0.00160907],\n",
              "       [0.00160889],\n",
              "       [0.00160881],\n",
              "       [0.00160868],\n",
              "       [0.00160861],\n",
              "       [0.00160858],\n",
              "       [0.00160849],\n",
              "       [0.00160846],\n",
              "       [0.00160838],\n",
              "       [0.00160838],\n",
              "       [0.00160828],\n",
              "       [0.00160819],\n",
              "       [0.00118188],\n",
              "       [0.0011824 ],\n",
              "       [0.00118224],\n",
              "       [0.00118213],\n",
              "       [0.00118116],\n",
              "       [0.00118022],\n",
              "       [0.00118003],\n",
              "       [0.00117993],\n",
              "       [0.00117912],\n",
              "       [0.00117906],\n",
              "       [0.00117944],\n",
              "       [0.00118005],\n",
              "       [0.00118013],\n",
              "       [0.00118013],\n",
              "       [0.00117736],\n",
              "       [0.00117569],\n",
              "       [0.00117261],\n",
              "       [0.00117285],\n",
              "       [0.00116951],\n",
              "       [0.00116628],\n",
              "       [0.00116154],\n",
              "       [0.00115822],\n",
              "       [0.00115579],\n",
              "       [0.00115636],\n",
              "       [0.00116106],\n",
              "       [0.00116555],\n",
              "       [0.00116947],\n",
              "       [0.00117094],\n",
              "       [0.0011709 ],\n",
              "       [0.00116927],\n",
              "       [0.00117055],\n",
              "       [0.00117081],\n",
              "       [0.00117343],\n",
              "       [0.00117208],\n",
              "       [0.00117418],\n",
              "       [0.00117459],\n",
              "       [0.00117402],\n",
              "       [0.00117354],\n",
              "       [0.00117437],\n",
              "       [0.00117463],\n",
              "       [0.0011757 ],\n",
              "       [0.00117591],\n",
              "       [0.0011766 ],\n",
              "       [0.00117654],\n",
              "       [0.00117713],\n",
              "       [0.00117768],\n",
              "       [0.00117823],\n",
              "       [0.00117908],\n",
              "       [0.00117925],\n",
              "       [0.0011798 ],\n",
              "       [0.00019904],\n",
              "       [0.00021891],\n",
              "       [0.00021769],\n",
              "       [0.00025698],\n",
              "       [0.00026912],\n",
              "       [0.00027477],\n",
              "       [0.00027616],\n",
              "       [0.00030785],\n",
              "       [0.00040688],\n",
              "       [0.00040569],\n",
              "       [0.00040536],\n",
              "       [0.00037844],\n",
              "       [0.00037857],\n",
              "       [0.00037829],\n",
              "       [0.00037819],\n",
              "       [0.00037771],\n",
              "       [0.00037793],\n",
              "       [0.00037757],\n",
              "       [0.00037747],\n",
              "       [0.00037745],\n",
              "       [0.00037735],\n",
              "       [0.00037808],\n",
              "       [0.00037757],\n",
              "       [0.00037771],\n",
              "       [0.00037763],\n",
              "       [0.00037777],\n",
              "       [0.00037718],\n",
              "       [0.00037728],\n",
              "       [0.00037725],\n",
              "       [0.00037723],\n",
              "       [0.0003779 ],\n",
              "       [0.00037728],\n",
              "       [0.00037653],\n",
              "       [0.00037652],\n",
              "       [0.00037716],\n",
              "       [0.0003763 ],\n",
              "       [0.00037604],\n",
              "       [0.0003768 ],\n",
              "       [0.00037561],\n",
              "       [0.0003756 ],\n",
              "       [0.00037551],\n",
              "       [0.00037577],\n",
              "       [0.00037566],\n",
              "       [0.00037557],\n",
              "       [0.00037558],\n",
              "       [0.00037501],\n",
              "       [0.00037518],\n",
              "       [0.00037558],\n",
              "       [0.0003762 ],\n",
              "       [0.00037599]])"
            ]
          },
          "metadata": {
            "tags": []
          },
          "execution_count": 10
        }
      ]
    },
    {
      "cell_type": "code",
      "metadata": {
        "id": "LyPlngx59R1o",
        "outputId": "5ad66c74-3eb4-4da2-923d-252bd84b9f21"
      },
      "source": [
        "plt.figure(figsize = (15,7))\n",
        "plt.scatter(cond, cond_pdf, alpha = 0.5, marker = '.')\n",
        "plt.xlabel('COND')\n",
        "plt.ylabel('COND_PDF')"
      ],
      "execution_count": null,
      "outputs": [
        {
          "output_type": "execute_result",
          "data": {
            "text/plain": [
              "Text(0, 0.5, 'COND_PDF')"
            ]
          },
          "metadata": {
            "tags": []
          },
          "execution_count": 11
        },
        {
          "output_type": "display_data",
          "data": {
            "image/png": "[encoded data removed]",
            "text/plain": [
              "<Figure size 1080x504 with 1 Axes>"
            ]
          },
          "metadata": {
            "tags": [],
            "needs_background": "light"
          }
        }
      ]
    },
    {
      "cell_type": "code",
      "metadata": {
        "id": "f7HHS0Sg9R1u",
        "outputId": "a039c476-9216-477a-80b6-281538bb5608"
      },
      "source": [
        "#do\n",
        "do = df_1['DO']\n",
        "do_pdf = np.zeros([400,1])\n",
        "mu = np.mean(do)\n",
        "sigma = np.std(do)\n",
        "for i in range(0, 400):\n",
        "    x = 1/(np.sqrt(2*np.pi)*sigma)*np.exp(-np.power((do[i] - mu)/sigma, 2)/2)\n",
        "    do_pdf[i] = x\n",
        "plt.figure(figsize = (15,7))\n",
        "plt.scatter(do, do_pdf, alpha = 0.5, marker = '.')\n",
        "plt.xlabel('DO')\n",
        "plt.ylabel('DO_PDF')"
      ],
      "execution_count": null,
      "outputs": [
        {
          "output_type": "execute_result",
          "data": {
            "text/plain": [
              "Text(0, 0.5, 'DO_PDF')"
            ]
          },
          "metadata": {
            "tags": []
          },
          "execution_count": 12
        },
        {
          "output_type": "display_data",
          "data": {
            "image/png": "[encoded data removed]",
            "text/plain": [
              "<Figure size 1080x504 with 1 Axes>"
            ]
          },
          "metadata": {
            "tags": [],
            "needs_background": "light"
          }
        }
      ]
    },
    {
      "cell_type": "code",
      "metadata": {
        "id": "ah2lZxJO9R13",
        "outputId": "55e299ef-7c87-460a-854f-7c5d1b96f190"
      },
      "source": [
        "#orp\n",
        "orp = df_1['ORP']\n",
        "orp_pdf = np.zeros([400,1])\n",
        "mu = np.mean(orp)\n",
        "sigma = np.std(orp)\n",
        "for i in range(0, 400):\n",
        "    x = 1/(np.sqrt(2*np.pi)*sigma)*np.exp(-np.power((orp[i] - mu)/sigma, 2)/2)\n",
        "    orp_pdf[i] = x\n",
        "plt.figure(figsize = (15,7))\n",
        "plt.scatter(orp, orp_pdf, alpha = 0.5, marker = '.')\n",
        "plt.xlabel('ORP')\n",
        "plt.ylabel('ORP_PDF')"
      ],
      "execution_count": null,
      "outputs": [
        {
          "output_type": "execute_result",
          "data": {
            "text/plain": [
              "Text(0, 0.5, 'ORP_PDF')"
            ]
          },
          "metadata": {
            "tags": []
          },
          "execution_count": 13
        },
        {
          "output_type": "display_data",
          "data": {
            "image/png": "[encoded data removed]",
            "text/plain": [
              "<Figure size 1080x504 with 1 Axes>"
            ]
          },
          "metadata": {
            "tags": [],
            "needs_background": "light"
          }
        }
      ]
    },
    {
      "cell_type": "markdown",
      "metadata": {
        "id": "fGnDWzZK9R18"
      },
      "source": [
        "Mean is above 8, so it is not normally distributed."
      ]
    },
    {
      "cell_type": "code",
      "metadata": {
        "id": "zumVtaTy9R19",
        "outputId": "8a01e074-0301-4d7e-bca0-f1e592d99bff"
      },
      "source": [
        "#ph\n",
        "ph = df_1['PH']\n",
        "ph_pdf = np.zeros([400,1])\n",
        "mu = np.mean(ph)\n",
        "sigma = np.std(ph)\n",
        "for i in range(0, 400):\n",
        "    x = 1/(np.sqrt(2*np.pi)*sigma)*np.exp(-np.power((ph[i] - mu)/sigma, 2)/2)\n",
        "    ph_pdf[i] = x\n",
        "plt.figure(figsize = (15,7))\n",
        "plt.scatter(ph, ph_pdf, alpha = 0.5, marker = '.')\n",
        "plt.xlabel('PH')\n",
        "plt.ylabel('PH_PDF')"
      ],
      "execution_count": null,
      "outputs": [
        {
          "output_type": "execute_result",
          "data": {
            "text/plain": [
              "Text(0, 0.5, 'PH_PDF')"
            ]
          },
          "metadata": {
            "tags": []
          },
          "execution_count": 14
        },
        {
          "output_type": "display_data",
          "data": {
            "image/png": "[encoded data removed]",
            "text/plain": [
              "<Figure size 1080x504 with 1 Axes>"
            ]
          },
          "metadata": {
            "tags": [],
            "needs_background": "light"
          }
        }
      ]
    },
    {
      "cell_type": "code",
      "metadata": {
        "id": "AgshrHK19R2D",
        "outputId": "1cac797d-6b6c-4b9e-93ff-2144846823e4"
      },
      "source": [
        "#WT\n",
        "wt = df_1['WT']\n",
        "wt_pdf = np.zeros([400,1])\n",
        "mu = np.mean(wt)\n",
        "sigma = np.std(wt)\n",
        "for i in range(0, 400):\n",
        "    x = 1/(np.sqrt(2*np.pi)*sigma)*np.exp(-np.power((wt[i] - mu)/sigma, 2)/2)\n",
        "    wt_pdf[i] = x\n",
        "plt.figure(figsize = (15,7))\n",
        "plt.scatter(wt, wt_pdf, alpha = 0.5, marker = '.')\n",
        "plt.xlabel('WT')\n",
        "plt.ylabel('WT_PDF')"
      ],
      "execution_count": null,
      "outputs": [
        {
          "output_type": "execute_result",
          "data": {
            "text/plain": [
              "Text(0, 0.5, 'WT_PDF')"
            ]
          },
          "metadata": {
            "tags": []
          },
          "execution_count": 15
        },
        {
          "output_type": "display_data",
          "data": {
            "image/png": "[encoded data removed]",
            "text/plain": [
              "<Figure size 1080x504 with 1 Axes>"
            ]
          },
          "metadata": {
            "tags": [],
            "needs_background": "light"
          }
        }
      ]
    },
    {
      "cell_type": "code",
      "metadata": {
        "id": "cJvhdHym9R2I",
        "outputId": "8d4b8c51-b8ef-44b0-cbc6-f3008df21fd8"
      },
      "source": [
        "#bat\n",
        "bat = df_1['BAT']\n",
        "bat_pdf = np.zeros([400,1])\n",
        "mu = np.mean(bat)\n",
        "sigma = np.std(bat)\n",
        "for i in range(0, 400):\n",
        "    x = 1/(np.sqrt(2*np.pi)*sigma)*np.exp(-np.power((bat[i] - mu)/sigma, 2)/2)\n",
        "    bat_pdf[i] = x\n",
        "plt.figure(figsize = (15,7))\n",
        "plt.scatter(do, do_pdf, alpha = 0.5, marker = '.')\n",
        "plt.xlabel('BAT')\n",
        "plt.ylabel('BAT_PDF')"
      ],
      "execution_count": null,
      "outputs": [
        {
          "output_type": "execute_result",
          "data": {
            "text/plain": [
              "Text(0, 0.5, 'BAT_PDF')"
            ]
          },
          "metadata": {
            "tags": []
          },
          "execution_count": 16
        },
        {
          "output_type": "display_data",
          "data": {
            "image/png": "[encoded data removed]",
            "text/plain": [
              "<Figure size 1080x504 with 1 Axes>"
            ]
          },
          "metadata": {
            "tags": [],
            "needs_background": "light"
          }
        }
      ]
    },
    {
      "cell_type": "markdown",
      "metadata": {
        "id": "PmUs5grU9R2O"
      },
      "source": [
        "Sample 2"
      ]
    },
    {
      "cell_type": "code",
      "metadata": {
        "id": "lYo11HvR9R2P",
        "outputId": "40e17453-bc52-4843-f450-07bbe698837b"
      },
      "source": [
        "df_2 = pd.read_csv('g_data_2.csv')\n",
        "df_2"
      ],
      "execution_count": null,
      "outputs": [
        {
          "output_type": "execute_result",
          "data": {
            "text/html": [
              "<div>\n",
              "<style scoped>\n",
              "    .dataframe tbody tr th:only-of-type {\n",
              "        vertical-align: middle;\n",
              "    }\n",
              "\n",
              "    .dataframe tbody tr th {\n",
              "        vertical-align: top;\n",
              "    }\n",
              "\n",
              "    .dataframe thead th {\n",
              "        text-align: right;\n",
              "    }\n",
              "</style>\n",
              "<table border=\"1\" class=\"dataframe\">\n",
              "  <thead>\n",
              "    <tr style=\"text-align: right;\">\n",
              "      <th></th>\n",
              "      <th>Date</th>\n",
              "      <th>Frame No</th>\n",
              "      <th>BAT</th>\n",
              "      <th>COND</th>\n",
              "      <th>DO</th>\n",
              "      <th>ORP</th>\n",
              "      <th>PH</th>\n",
              "      <th>WT</th>\n",
              "    </tr>\n",
              "  </thead>\n",
              "  <tbody>\n",
              "    <tr>\n",
              "      <th>0</th>\n",
              "      <td>2019-01-12 14:54:00</td>\n",
              "      <td>0</td>\n",
              "      <td>90.0</td>\n",
              "      <td>46.195190</td>\n",
              "      <td>13.501176</td>\n",
              "      <td>0.142900</td>\n",
              "      <td>12.359906</td>\n",
              "      <td>18.400787</td>\n",
              "    </tr>\n",
              "    <tr>\n",
              "      <th>1</th>\n",
              "      <td>2019-01-12 14:55:00</td>\n",
              "      <td>1</td>\n",
              "      <td>91.0</td>\n",
              "      <td>52.609680</td>\n",
              "      <td>20.752865</td>\n",
              "      <td>0.146236</td>\n",
              "      <td>12.825684</td>\n",
              "      <td>18.013641</td>\n",
              "    </tr>\n",
              "    <tr>\n",
              "      <th>2</th>\n",
              "      <td>2019-01-12 14:56:00</td>\n",
              "      <td>2</td>\n",
              "      <td>91.0</td>\n",
              "      <td>52.399826</td>\n",
              "      <td>12.409351</td>\n",
              "      <td>0.146724</td>\n",
              "      <td>12.998978</td>\n",
              "      <td>18.184570</td>\n",
              "    </tr>\n",
              "    <tr>\n",
              "      <th>3</th>\n",
              "      <td>2019-01-12 14:57:00</td>\n",
              "      <td>3</td>\n",
              "      <td>92.0</td>\n",
              "      <td>41.708813</td>\n",
              "      <td>13.330035</td>\n",
              "      <td>0.143533</td>\n",
              "      <td>13.105331</td>\n",
              "      <td>18.367126</td>\n",
              "    </tr>\n",
              "    <tr>\n",
              "      <th>4</th>\n",
              "      <td>2019-01-12 14:58:00</td>\n",
              "      <td>4</td>\n",
              "      <td>90.0</td>\n",
              "      <td>52.926560</td>\n",
              "      <td>10.858296</td>\n",
              "      <td>0.142336</td>\n",
              "      <td>13.183682</td>\n",
              "      <td>18.268341</td>\n",
              "    </tr>\n",
              "    <tr>\n",
              "      <th>...</th>\n",
              "      <td>...</td>\n",
              "      <td>...</td>\n",
              "      <td>...</td>\n",
              "      <td>...</td>\n",
              "      <td>...</td>\n",
              "      <td>...</td>\n",
              "      <td>...</td>\n",
              "      <td>...</td>\n",
              "    </tr>\n",
              "    <tr>\n",
              "      <th>235</th>\n",
              "      <td>2020-03-05 15:42:00</td>\n",
              "      <td>78</td>\n",
              "      <td>97.0</td>\n",
              "      <td>717.642330</td>\n",
              "      <td>18.589476</td>\n",
              "      <td>0.118812</td>\n",
              "      <td>9.056171</td>\n",
              "      <td>26.961640</td>\n",
              "    </tr>\n",
              "    <tr>\n",
              "      <th>236</th>\n",
              "      <td>2020-03-05 15:43:00</td>\n",
              "      <td>79</td>\n",
              "      <td>98.0</td>\n",
              "      <td>717.864870</td>\n",
              "      <td>16.642284</td>\n",
              "      <td>0.119013</td>\n",
              "      <td>9.055483</td>\n",
              "      <td>26.975372</td>\n",
              "    </tr>\n",
              "    <tr>\n",
              "      <th>237</th>\n",
              "      <td>2020-03-05 15:44:00</td>\n",
              "      <td>80</td>\n",
              "      <td>96.0</td>\n",
              "      <td>717.825740</td>\n",
              "      <td>16.265455</td>\n",
              "      <td>0.119212</td>\n",
              "      <td>9.050922</td>\n",
              "      <td>26.975098</td>\n",
              "    </tr>\n",
              "    <tr>\n",
              "      <th>238</th>\n",
              "      <td>2020-03-05 15:45:00</td>\n",
              "      <td>81</td>\n",
              "      <td>96.0</td>\n",
              "      <td>717.836200</td>\n",
              "      <td>16.833710</td>\n",
              "      <td>0.119398</td>\n",
              "      <td>9.051182</td>\n",
              "      <td>26.979310</td>\n",
              "    </tr>\n",
              "    <tr>\n",
              "      <th>239</th>\n",
              "      <td>2020-03-05 15:46:00</td>\n",
              "      <td>82</td>\n",
              "      <td>96.0</td>\n",
              "      <td>717.845950</td>\n",
              "      <td>15.290481</td>\n",
              "      <td>0.119665</td>\n",
              "      <td>9.052684</td>\n",
              "      <td>26.985779</td>\n",
              "    </tr>\n",
              "  </tbody>\n",
              "</table>\n",
              "<p>240 rows × 8 columns</p>\n",
              "</div>"
            ],
            "text/plain": [
              "                    Date  Frame No   BAT        COND         DO       ORP  \\\n",
              "0    2019-01-12 14:54:00         0  90.0   46.195190  13.501176  0.142900   \n",
              "1    2019-01-12 14:55:00         1  91.0   52.609680  20.752865  0.146236   \n",
              "2    2019-01-12 14:56:00         2  91.0   52.399826  12.409351  0.146724   \n",
              "3    2019-01-12 14:57:00         3  92.0   41.708813  13.330035  0.143533   \n",
              "4    2019-01-12 14:58:00         4  90.0   52.926560  10.858296  0.142336   \n",
              "..                   ...       ...   ...         ...        ...       ...   \n",
              "235  2020-03-05 15:42:00        78  97.0  717.642330  18.589476  0.118812   \n",
              "236  2020-03-05 15:43:00        79  98.0  717.864870  16.642284  0.119013   \n",
              "237  2020-03-05 15:44:00        80  96.0  717.825740  16.265455  0.119212   \n",
              "238  2020-03-05 15:45:00        81  96.0  717.836200  16.833710  0.119398   \n",
              "239  2020-03-05 15:46:00        82  96.0  717.845950  15.290481  0.119665   \n",
              "\n",
              "            PH         WT  \n",
              "0    12.359906  18.400787  \n",
              "1    12.825684  18.013641  \n",
              "2    12.998978  18.184570  \n",
              "3    13.105331  18.367126  \n",
              "4    13.183682  18.268341  \n",
              "..         ...        ...  \n",
              "235   9.056171  26.961640  \n",
              "236   9.055483  26.975372  \n",
              "237   9.050922  26.975098  \n",
              "238   9.051182  26.979310  \n",
              "239   9.052684  26.985779  \n",
              "\n",
              "[240 rows x 8 columns]"
            ]
          },
          "metadata": {
            "tags": []
          },
          "execution_count": 17
        }
      ]
    },
    {
      "cell_type": "code",
      "metadata": {
        "id": "fr1FrELL9R2T",
        "outputId": "bc3d0738-202a-4bda-9a60-26cebda332fe"
      },
      "source": [
        "#cond\n",
        "cond = df_2['COND']\n",
        "cond"
      ],
      "execution_count": null,
      "outputs": [
        {
          "output_type": "execute_result",
          "data": {
            "text/plain": [
              "0       46.195190\n",
              "1       52.609680\n",
              "2       52.399826\n",
              "3       41.708813\n",
              "4       52.926560\n",
              "          ...    \n",
              "235    717.642330\n",
              "236    717.864870\n",
              "237    717.825740\n",
              "238    717.836200\n",
              "239    717.845950\n",
              "Name: COND, Length: 240, dtype: float64"
            ]
          },
          "metadata": {
            "tags": []
          },
          "execution_count": 19
        }
      ]
    },
    {
      "cell_type": "code",
      "metadata": {
        "id": "nppYc75l9R2Y",
        "outputId": "6d9c5590-98fc-4440-f011-a95d145d7d9d"
      },
      "source": [
        "cond.shape"
      ],
      "execution_count": null,
      "outputs": [
        {
          "output_type": "execute_result",
          "data": {
            "text/plain": [
              "(240,)"
            ]
          },
          "metadata": {
            "tags": []
          },
          "execution_count": 20
        }
      ]
    },
    {
      "cell_type": "code",
      "metadata": {
        "id": "M0LHoEry9R2d",
        "outputId": "ea9bff9b-d220-480f-ca8c-c99d6c180509"
      },
      "source": [
        "cond_pdf = np.zeros([240,1])\n",
        "mu = np.mean(cond)\n",
        "sigma = np.std(cond)\n",
        "for i in range(0, 240):\n",
        "    x = 1/(np.sqrt(2*np.pi)*sigma)*np.exp(-np.power((cond[i] - mu)/sigma, 2)/2)\n",
        "    cond_pdf[i] = x\n",
        "cond_pdf"
      ],
      "execution_count": null,
      "outputs": [
        {
          "output_type": "execute_result",
          "data": {
            "text/plain": [
              "array([[0.00093782],\n",
              "       [0.00096424],\n",
              "       [0.00096337],\n",
              "       [0.00091939],\n",
              "       [0.00096554],\n",
              "       [0.00096866],\n",
              "       [0.00096874],\n",
              "       [0.00096625],\n",
              "       [0.00096652],\n",
              "       [0.00096967],\n",
              "       [0.00096711],\n",
              "       [0.0009683 ],\n",
              "       [0.00096762],\n",
              "       [0.00097008],\n",
              "       [0.00096655],\n",
              "       [0.00096823],\n",
              "       [0.00097017],\n",
              "       [0.00097276],\n",
              "       [0.00097264],\n",
              "       [0.00097177],\n",
              "       [0.00097233],\n",
              "       [0.00097038],\n",
              "       [0.00097049],\n",
              "       [0.00096703],\n",
              "       [0.00096942],\n",
              "       [0.0009693 ],\n",
              "       [0.00088149],\n",
              "       [0.00090172],\n",
              "       [0.00089461],\n",
              "       [0.00090942],\n",
              "       [0.00075597],\n",
              "       [0.00075597],\n",
              "       [0.00075597],\n",
              "       [0.00075597],\n",
              "       [0.00075597],\n",
              "       [0.00075597],\n",
              "       [0.00075597],\n",
              "       [0.00075597],\n",
              "       [0.00075597],\n",
              "       [0.00075597],\n",
              "       [0.00075597],\n",
              "       [0.00075597],\n",
              "       [0.00075597],\n",
              "       [0.00075597],\n",
              "       [0.00075597],\n",
              "       [0.00075597],\n",
              "       [0.00075597],\n",
              "       [0.00075597],\n",
              "       [0.00075597],\n",
              "       [0.00075616],\n",
              "       [0.00075612],\n",
              "       [0.00153964],\n",
              "       [0.00154066],\n",
              "       [0.00153934],\n",
              "       [0.00153977],\n",
              "       [0.00075638],\n",
              "       [0.00154007],\n",
              "       [0.00154286],\n",
              "       [0.00153887],\n",
              "       [0.00153888],\n",
              "       [0.00075831],\n",
              "       [0.00075818],\n",
              "       [0.00075807],\n",
              "       [0.00075799],\n",
              "       [0.00075788],\n",
              "       [0.00075779],\n",
              "       [0.0007577 ],\n",
              "       [0.00075762],\n",
              "       [0.00075754],\n",
              "       [0.00075751],\n",
              "       [0.00075754],\n",
              "       [0.00075756],\n",
              "       [0.00075752],\n",
              "       [0.00075751],\n",
              "       [0.00075747],\n",
              "       [0.00075746],\n",
              "       [0.00075745],\n",
              "       [0.00075743],\n",
              "       [0.00075741],\n",
              "       [0.0007574 ],\n",
              "       [0.00075739],\n",
              "       [0.00075737],\n",
              "       [0.00075747],\n",
              "       [0.00075745],\n",
              "       [0.00075743],\n",
              "       [0.00075742],\n",
              "       [0.0007574 ],\n",
              "       [0.00075739],\n",
              "       [0.00075738],\n",
              "       [0.00075737],\n",
              "       [0.00162477],\n",
              "       [0.001624  ],\n",
              "       [0.00162324],\n",
              "       [0.00162219],\n",
              "       [0.00162083],\n",
              "       [0.00161939],\n",
              "       [0.0016179 ],\n",
              "       [0.00161684],\n",
              "       [0.00161729],\n",
              "       [0.00161773],\n",
              "       [0.00161778],\n",
              "       [0.00161817],\n",
              "       [0.0016186 ],\n",
              "       [0.00161872],\n",
              "       [0.00161887],\n",
              "       [0.00161916],\n",
              "       [0.00161948],\n",
              "       [0.00161975],\n",
              "       [0.00162012],\n",
              "       [0.00162001],\n",
              "       [0.00162008],\n",
              "       [0.00162021],\n",
              "       [0.00162043],\n",
              "       [0.00162065],\n",
              "       [0.00162075],\n",
              "       [0.00162082],\n",
              "       [0.00162077],\n",
              "       [0.00162075],\n",
              "       [0.00162101],\n",
              "       [0.00162108],\n",
              "       [0.00141465],\n",
              "       [0.00141525],\n",
              "       [0.00141753],\n",
              "       [0.00141744],\n",
              "       [0.00141863],\n",
              "       [0.00141997],\n",
              "       [0.00142272],\n",
              "       [0.00142299],\n",
              "       [0.00142282],\n",
              "       [0.00142268],\n",
              "       [0.00142244],\n",
              "       [0.00142248],\n",
              "       [0.00142332],\n",
              "       [0.00142423],\n",
              "       [0.00142472],\n",
              "       [0.00142552],\n",
              "       [0.0014259 ],\n",
              "       [0.00142615],\n",
              "       [0.00142645],\n",
              "       [0.00142644],\n",
              "       [0.00142667],\n",
              "       [0.00142676],\n",
              "       [0.00142676],\n",
              "       [0.00142689],\n",
              "       [0.00142664],\n",
              "       [0.00142696],\n",
              "       [0.00142641],\n",
              "       [0.00142624],\n",
              "       [0.00142602],\n",
              "       [0.00142617],\n",
              "       [0.00160778],\n",
              "       [0.00160956],\n",
              "       [0.00161112],\n",
              "       [0.00161176],\n",
              "       [0.00161353],\n",
              "       [0.00161515],\n",
              "       [0.0016163 ],\n",
              "       [0.00161627],\n",
              "       [0.00161559],\n",
              "       [0.00161513],\n",
              "       [0.0016148 ],\n",
              "       [0.00161475],\n",
              "       [0.00161462],\n",
              "       [0.00161429],\n",
              "       [0.00161421],\n",
              "       [0.00161459],\n",
              "       [0.00161509],\n",
              "       [0.00161515],\n",
              "       [0.0016149 ],\n",
              "       [0.00161469],\n",
              "       [0.00161452],\n",
              "       [0.00161398],\n",
              "       [0.00161367],\n",
              "       [0.00161296],\n",
              "       [0.00161221],\n",
              "       [0.00161156],\n",
              "       [0.00161093],\n",
              "       [0.00161024],\n",
              "       [0.00160959],\n",
              "       [0.00160864],\n",
              "       [0.00118539],\n",
              "       [0.00118591],\n",
              "       [0.00118575],\n",
              "       [0.00118564],\n",
              "       [0.00118468],\n",
              "       [0.00118373],\n",
              "       [0.00118355],\n",
              "       [0.00118344],\n",
              "       [0.00118264],\n",
              "       [0.00118258],\n",
              "       [0.00118296],\n",
              "       [0.00118356],\n",
              "       [0.00118365],\n",
              "       [0.00118365],\n",
              "       [0.00118089],\n",
              "       [0.00117922],\n",
              "       [0.00117615],\n",
              "       [0.00117639],\n",
              "       [0.00117306],\n",
              "       [0.00116984],\n",
              "       [0.00116511],\n",
              "       [0.0011618 ],\n",
              "       [0.00115938],\n",
              "       [0.00115994],\n",
              "       [0.00116463],\n",
              "       [0.00116911],\n",
              "       [0.00117301],\n",
              "       [0.00117449],\n",
              "       [0.00117444],\n",
              "       [0.00117282],\n",
              "       [0.00020105],\n",
              "       [0.00022106],\n",
              "       [0.00021982],\n",
              "       [0.00025936],\n",
              "       [0.00027157],\n",
              "       [0.00027725],\n",
              "       [0.00027865],\n",
              "       [0.00031052],\n",
              "       [0.00041   ],\n",
              "       [0.00040881],\n",
              "       [0.00040848],\n",
              "       [0.00038144],\n",
              "       [0.00038157],\n",
              "       [0.00038129],\n",
              "       [0.0003812 ],\n",
              "       [0.00038071],\n",
              "       [0.00038093],\n",
              "       [0.00038057],\n",
              "       [0.00038047],\n",
              "       [0.00038045],\n",
              "       [0.00038035],\n",
              "       [0.00038108],\n",
              "       [0.00038057],\n",
              "       [0.00038071],\n",
              "       [0.00038063],\n",
              "       [0.00038077],\n",
              "       [0.00038017],\n",
              "       [0.00038028],\n",
              "       [0.00038025],\n",
              "       [0.00038023]])"
            ]
          },
          "metadata": {
            "tags": []
          },
          "execution_count": 22
        }
      ]
    },
    {
      "cell_type": "code",
      "metadata": {
        "id": "dODJCUFx9R2i",
        "outputId": "65ee4884-682e-4dda-ce5c-6e2003654816"
      },
      "source": [
        "plt.figure(figsize = (15,7))\n",
        "plt.scatter(cond, cond_pdf, alpha = 0.5, marker = '.')\n",
        "plt.xlabel('COND')\n",
        "plt.ylabel('COND_PDF')"
      ],
      "execution_count": null,
      "outputs": [
        {
          "output_type": "execute_result",
          "data": {
            "text/plain": [
              "Text(0, 0.5, 'COND_PDF')"
            ]
          },
          "metadata": {
            "tags": []
          },
          "execution_count": 23
        },
        {
          "output_type": "display_data",
          "data": {
            "image/png": "[encoded data removed]",
            "text/plain": [
              "<Figure size 1080x504 with 1 Axes>"
            ]
          },
          "metadata": {
            "tags": [],
            "needs_background": "light"
          }
        }
      ]
    },
    {
      "cell_type": "code",
      "metadata": {
        "id": "DMiOlNHs9R2o",
        "outputId": "89358039-93bc-4e91-a21e-ee4f5605f675"
      },
      "source": [
        "#do\n",
        "do = df_2['DO']\n",
        "do_pdf = np.zeros([240,1])\n",
        "mu = np.mean(do)\n",
        "sigma = np.std(do)\n",
        "for i in range(0, 240):\n",
        "    x = 1/(np.sqrt(2*np.pi)*sigma)*np.exp(-np.power((do[i] - mu)/sigma, 2)/2)\n",
        "    do_pdf[i] = x\n",
        "plt.figure(figsize = (15,7))\n",
        "plt.scatter(do, do_pdf, alpha = 0.5, marker = '.')\n",
        "plt.xlabel('DO')\n",
        "plt.ylabel('DO_PDF')"
      ],
      "execution_count": null,
      "outputs": [
        {
          "output_type": "execute_result",
          "data": {
            "text/plain": [
              "Text(0, 0.5, 'DO_PDF')"
            ]
          },
          "metadata": {
            "tags": []
          },
          "execution_count": 24
        },
        {
          "output_type": "display_data",
          "data": {
            "image/png": "[encoded data removed]",
            "text/plain": [
              "<Figure size 1080x504 with 1 Axes>"
            ]
          },
          "metadata": {
            "tags": [],
            "needs_background": "light"
          }
        }
      ]
    },
    {
      "cell_type": "code",
      "metadata": {
        "id": "PIP61lFg9R2t",
        "outputId": "5949d869-ac6b-4dcd-9451-f949b3e2e82c"
      },
      "source": [
        "#orp\n",
        "orp = df_2['ORP']\n",
        "orp_pdf = np.zeros([240,1])\n",
        "mu = np.mean(orp)\n",
        "sigma = np.std(orp)\n",
        "for i in range(0, 240):\n",
        "    x = 1/(np.sqrt(2*np.pi)*sigma)*np.exp(-np.power((orp[i] - mu)/sigma, 2)/2)\n",
        "    orp_pdf[i] = x\n",
        "plt.figure(figsize = (15,7))\n",
        "plt.scatter(orp, orp_pdf, alpha = 0.5, marker = '.')\n",
        "plt.xlabel('ORP')\n",
        "plt.ylabel('ORP_PDF')"
      ],
      "execution_count": null,
      "outputs": [
        {
          "output_type": "execute_result",
          "data": {
            "text/plain": [
              "Text(0, 0.5, 'ORP_PDF')"
            ]
          },
          "metadata": {
            "tags": []
          },
          "execution_count": 25
        },
        {
          "output_type": "display_data",
          "data": {
            "image/png": "[encoded data removed]",
            "text/plain": [
              "<Figure size 1080x504 with 1 Axes>"
            ]
          },
          "metadata": {
            "tags": [],
            "needs_background": "light"
          }
        }
      ]
    },
    {
      "cell_type": "markdown",
      "metadata": {
        "id": "6xdJpO_V9R2y"
      },
      "source": [
        "Not noramlly distributed."
      ]
    },
    {
      "cell_type": "code",
      "metadata": {
        "id": "TBpwG9lL9R2z",
        "outputId": "42065afa-0fca-4753-db29-1adbb2254d56"
      },
      "source": [
        "#ph\n",
        "ph = df_2['PH']\n",
        "ph_pdf = np.zeros([240,1])\n",
        "mu = np.mean(ph)\n",
        "sigma = np.std(ph)\n",
        "for i in range(0, 240):\n",
        "    x = 1/(np.sqrt(2*np.pi)*sigma)*np.exp(-np.power((ph[i] - mu)/sigma, 2)/2)\n",
        "    ph_pdf[i] = x\n",
        "plt.figure(figsize = (15,7))\n",
        "plt.scatter(ph, ph_pdf, alpha = 0.5, marker = '.')\n",
        "plt.xlabel('PH')\n",
        "plt.ylabel('PH_PDF')"
      ],
      "execution_count": null,
      "outputs": [
        {
          "output_type": "execute_result",
          "data": {
            "text/plain": [
              "Text(0, 0.5, 'PH_PDF')"
            ]
          },
          "metadata": {
            "tags": []
          },
          "execution_count": 26
        },
        {
          "output_type": "display_data",
          "data": {
            "image/png": "[encoded data removed]",
            "text/plain": [
              "<Figure size 1080x504 with 1 Axes>"
            ]
          },
          "metadata": {
            "tags": [],
            "needs_background": "light"
          }
        }
      ]
    },
    {
      "cell_type": "code",
      "metadata": {
        "id": "eymeuKJY9R25",
        "outputId": "8dcaf62f-6ef9-403c-a6f6-b1b091a6933b"
      },
      "source": [
        "#WT\n",
        "wt = df_2['WT']\n",
        "wt_pdf = np.zeros([240,1])\n",
        "mu = np.mean(wt)\n",
        "sigma = np.std(wt)\n",
        "for i in range(0, 240):\n",
        "    x = 1/(np.sqrt(2*np.pi)*sigma)*np.exp(-np.power((wt[i] - mu)/sigma, 2)/2)\n",
        "    wt_pdf[i] = x\n",
        "plt.figure(figsize = (15,7))\n",
        "plt.scatter(wt, wt_pdf, alpha = 0.5, marker = '.')\n",
        "plt.xlabel('WT')\n",
        "plt.ylabel('WT_PDF')"
      ],
      "execution_count": null,
      "outputs": [
        {
          "output_type": "execute_result",
          "data": {
            "text/plain": [
              "Text(0, 0.5, 'WT_PDF')"
            ]
          },
          "metadata": {
            "tags": []
          },
          "execution_count": 27
        },
        {
          "output_type": "display_data",
          "data": {
            "image/png": "[encoded data removed]",
            "text/plain": [
              "<Figure size 1080x504 with 1 Axes>"
            ]
          },
          "metadata": {
            "tags": [],
            "needs_background": "light"
          }
        }
      ]
    },
    {
      "cell_type": "code",
      "metadata": {
        "id": "tikPLgJL9R2_",
        "outputId": "a0a53169-be33-4ca7-95ad-ca01c8943578"
      },
      "source": [
        "#bat\n",
        "bat = df_2['BAT']\n",
        "bat_pdf = np.zeros([240,1])\n",
        "mu = np.mean(bat)\n",
        "sigma = np.std(bat)\n",
        "for i in range(0, 240):\n",
        "    x = 1/(np.sqrt(2*np.pi)*sigma)*np.exp(-np.power((bat[i] - mu)/sigma, 2)/2)\n",
        "    bat_pdf[i] = x\n",
        "plt.figure(figsize = (15,7))\n",
        "plt.scatter(do, do_pdf, alpha = 0.5, marker = '.')\n",
        "plt.xlabel('BAT')\n",
        "plt.ylabel('BAT_PDF')"
      ],
      "execution_count": null,
      "outputs": [
        {
          "output_type": "execute_result",
          "data": {
            "text/plain": [
              "Text(0, 0.5, 'BAT_PDF')"
            ]
          },
          "metadata": {
            "tags": []
          },
          "execution_count": 29
        },
        {
          "output_type": "display_data",
          "data": {
            "image/png": "[encoded data removed]",
            "text/plain": [
              "<Figure size 1080x504 with 1 Axes>"
            ]
          },
          "metadata": {
            "tags": [],
            "needs_background": "light"
          }
        }
      ]
    },
    {
      "cell_type": "markdown",
      "metadata": {
        "id": "-M4EAOye9R3E"
      },
      "source": [
        "Sample 3"
      ]
    },
    {
      "cell_type": "code",
      "metadata": {
        "id": "M-bHbNGm9R3F",
        "outputId": "92dd217b-910e-48a8-e75c-d6e98f7271c0"
      },
      "source": [
        "df_3 = pd.read_csv('g_data_3.csv')\n",
        "df_3"
      ],
      "execution_count": null,
      "outputs": [
        {
          "output_type": "execute_result",
          "data": {
            "text/html": [
              "<div>\n",
              "<style scoped>\n",
              "    .dataframe tbody tr th:only-of-type {\n",
              "        vertical-align: middle;\n",
              "    }\n",
              "\n",
              "    .dataframe tbody tr th {\n",
              "        vertical-align: top;\n",
              "    }\n",
              "\n",
              "    .dataframe thead th {\n",
              "        text-align: right;\n",
              "    }\n",
              "</style>\n",
              "<table border=\"1\" class=\"dataframe\">\n",
              "  <thead>\n",
              "    <tr style=\"text-align: right;\">\n",
              "      <th></th>\n",
              "      <th>Date</th>\n",
              "      <th>Frame No</th>\n",
              "      <th>BAT</th>\n",
              "      <th>COND</th>\n",
              "      <th>DO</th>\n",
              "      <th>ORP</th>\n",
              "      <th>PH</th>\n",
              "      <th>WT</th>\n",
              "    </tr>\n",
              "  </thead>\n",
              "  <tbody>\n",
              "    <tr>\n",
              "      <th>0</th>\n",
              "      <td>2019-01-12 15:14:00</td>\n",
              "      <td>20</td>\n",
              "      <td>90.0</td>\n",
              "      <td>54.571686</td>\n",
              "      <td>8.781806</td>\n",
              "      <td>0.144138</td>\n",
              "      <td>13.271490</td>\n",
              "      <td>18.448700</td>\n",
              "    </tr>\n",
              "    <tr>\n",
              "      <th>1</th>\n",
              "      <td>2019-01-12 15:15:00</td>\n",
              "      <td>21</td>\n",
              "      <td>91.0</td>\n",
              "      <td>54.098644</td>\n",
              "      <td>8.612140</td>\n",
              "      <td>0.143724</td>\n",
              "      <td>13.328059</td>\n",
              "      <td>18.232513</td>\n",
              "    </tr>\n",
              "    <tr>\n",
              "      <th>2</th>\n",
              "      <td>2019-01-12 15:16:00</td>\n",
              "      <td>22</td>\n",
              "      <td>90.0</td>\n",
              "      <td>54.124638</td>\n",
              "      <td>8.463595</td>\n",
              "      <td>0.143710</td>\n",
              "      <td>13.294773</td>\n",
              "      <td>18.166382</td>\n",
              "    </tr>\n",
              "    <tr>\n",
              "      <th>3</th>\n",
              "      <td>2019-01-12 15:17:00</td>\n",
              "      <td>23</td>\n",
              "      <td>90.0</td>\n",
              "      <td>53.287600</td>\n",
              "      <td>8.397623</td>\n",
              "      <td>0.144098</td>\n",
              "      <td>13.178123</td>\n",
              "      <td>17.944427</td>\n",
              "    </tr>\n",
              "    <tr>\n",
              "      <th>4</th>\n",
              "      <td>2019-01-12 15:19:00</td>\n",
              "      <td>24</td>\n",
              "      <td>91.0</td>\n",
              "      <td>53.866000</td>\n",
              "      <td>8.649648</td>\n",
              "      <td>0.143933</td>\n",
              "      <td>13.267667</td>\n",
              "      <td>18.100433</td>\n",
              "    </tr>\n",
              "    <tr>\n",
              "      <th>...</th>\n",
              "      <td>...</td>\n",
              "      <td>...</td>\n",
              "      <td>...</td>\n",
              "      <td>...</td>\n",
              "      <td>...</td>\n",
              "      <td>...</td>\n",
              "      <td>...</td>\n",
              "      <td>...</td>\n",
              "    </tr>\n",
              "    <tr>\n",
              "      <th>155</th>\n",
              "      <td>2020-03-05 15:53:00</td>\n",
              "      <td>88</td>\n",
              "      <td>97.0</td>\n",
              "      <td>718.192500</td>\n",
              "      <td>16.467918</td>\n",
              "      <td>0.120692</td>\n",
              "      <td>9.057878</td>\n",
              "      <td>26.990356</td>\n",
              "    </tr>\n",
              "    <tr>\n",
              "      <th>156</th>\n",
              "      <td>2020-03-05 15:54:00</td>\n",
              "      <td>89</td>\n",
              "      <td>96.0</td>\n",
              "      <td>718.288600</td>\n",
              "      <td>15.885684</td>\n",
              "      <td>0.120835</td>\n",
              "      <td>9.051265</td>\n",
              "      <td>26.995544</td>\n",
              "    </tr>\n",
              "    <tr>\n",
              "      <th>157</th>\n",
              "      <td>2020-03-05 15:55:00</td>\n",
              "      <td>90</td>\n",
              "      <td>97.0</td>\n",
              "      <td>718.007400</td>\n",
              "      <td>15.181767</td>\n",
              "      <td>0.120850</td>\n",
              "      <td>9.052776</td>\n",
              "      <td>26.988678</td>\n",
              "    </tr>\n",
              "    <tr>\n",
              "      <th>158</th>\n",
              "      <td>2020-03-05 15:56:00</td>\n",
              "      <td>91</td>\n",
              "      <td>96.0</td>\n",
              "      <td>718.450200</td>\n",
              "      <td>13.872573</td>\n",
              "      <td>0.120954</td>\n",
              "      <td>9.057199</td>\n",
              "      <td>26.991852</td>\n",
              "    </tr>\n",
              "    <tr>\n",
              "      <th>159</th>\n",
              "      <td>2020-03-05 15:57:00</td>\n",
              "      <td>92</td>\n",
              "      <td>96.0</td>\n",
              "      <td>718.455000</td>\n",
              "      <td>14.715279</td>\n",
              "      <td>0.121095</td>\n",
              "      <td>9.046473</td>\n",
              "      <td>27.001373</td>\n",
              "    </tr>\n",
              "  </tbody>\n",
              "</table>\n",
              "<p>160 rows × 8 columns</p>\n",
              "</div>"
            ],
            "text/plain": [
              "                    Date  Frame No   BAT        COND         DO       ORP  \\\n",
              "0    2019-01-12 15:14:00        20  90.0   54.571686   8.781806  0.144138   \n",
              "1    2019-01-12 15:15:00        21  91.0   54.098644   8.612140  0.143724   \n",
              "2    2019-01-12 15:16:00        22  90.0   54.124638   8.463595  0.143710   \n",
              "3    2019-01-12 15:17:00        23  90.0   53.287600   8.397623  0.144098   \n",
              "4    2019-01-12 15:19:00        24  91.0   53.866000   8.649648  0.143933   \n",
              "..                   ...       ...   ...         ...        ...       ...   \n",
              "155  2020-03-05 15:53:00        88  97.0  718.192500  16.467918  0.120692   \n",
              "156  2020-03-05 15:54:00        89  96.0  718.288600  15.885684  0.120835   \n",
              "157  2020-03-05 15:55:00        90  97.0  718.007400  15.181767  0.120850   \n",
              "158  2020-03-05 15:56:00        91  96.0  718.450200  13.872573  0.120954   \n",
              "159  2020-03-05 15:57:00        92  96.0  718.455000  14.715279  0.121095   \n",
              "\n",
              "            PH         WT  \n",
              "0    13.271490  18.448700  \n",
              "1    13.328059  18.232513  \n",
              "2    13.294773  18.166382  \n",
              "3    13.178123  17.944427  \n",
              "4    13.267667  18.100433  \n",
              "..         ...        ...  \n",
              "155   9.057878  26.990356  \n",
              "156   9.051265  26.995544  \n",
              "157   9.052776  26.988678  \n",
              "158   9.057199  26.991852  \n",
              "159   9.046473  27.001373  \n",
              "\n",
              "[160 rows x 8 columns]"
            ]
          },
          "metadata": {
            "tags": []
          },
          "execution_count": 31
        }
      ]
    },
    {
      "cell_type": "code",
      "metadata": {
        "id": "3qSWCyR09R3L",
        "outputId": "781b05cf-fdd9-4068-e198-af6e4bcf83ae"
      },
      "source": [
        "#cond\n",
        "cond = df_3['COND']\n",
        "cond"
      ],
      "execution_count": null,
      "outputs": [
        {
          "output_type": "execute_result",
          "data": {
            "text/plain": [
              "0       54.571686\n",
              "1       54.098644\n",
              "2       54.124638\n",
              "3       53.287600\n",
              "4       53.866000\n",
              "          ...    \n",
              "155    718.192500\n",
              "156    718.288600\n",
              "157    718.007400\n",
              "158    718.450200\n",
              "159    718.455000\n",
              "Name: COND, Length: 160, dtype: float64"
            ]
          },
          "metadata": {
            "tags": []
          },
          "execution_count": 32
        }
      ]
    },
    {
      "cell_type": "code",
      "metadata": {
        "id": "s5Tn5F6k9R3P",
        "outputId": "b368c8bc-8e22-4492-be0c-bfc9ee3c415c"
      },
      "source": [
        "cond.shape"
      ],
      "execution_count": null,
      "outputs": [
        {
          "output_type": "execute_result",
          "data": {
            "text/plain": [
              "(160,)"
            ]
          },
          "metadata": {
            "tags": []
          },
          "execution_count": 33
        }
      ]
    },
    {
      "cell_type": "code",
      "metadata": {
        "id": "R8Qbk9aB9R3S",
        "outputId": "e4484d33-5608-4f5b-aba4-6d33106d0f23"
      },
      "source": [
        "cond_pdf = np.zeros([160,1])\n",
        "mu = np.mean(cond)\n",
        "sigma = np.std(cond)\n",
        "for i in range(0, 160):\n",
        "    x = 1/(np.sqrt(2*np.pi)*sigma)*np.exp(-np.power((cond[i] - mu)/sigma, 2)/2)\n",
        "    cond_pdf[i] = x\n",
        "cond_pdf"
      ],
      "execution_count": null,
      "outputs": [
        {
          "output_type": "execute_result",
          "data": {
            "text/plain": [
              "array([[0.0008786 ],\n",
              "       [0.00087649],\n",
              "       [0.00087661],\n",
              "       [0.00087288],\n",
              "       [0.00087546],\n",
              "       [0.00087533],\n",
              "       [0.00078172],\n",
              "       [0.00080308],\n",
              "       [0.00079556],\n",
              "       [0.00081125],\n",
              "       [0.00080498],\n",
              "       [0.00078366],\n",
              "       [0.00073004],\n",
              "       [0.00075575],\n",
              "       [0.00073379],\n",
              "       [0.00071525],\n",
              "       [0.00071505],\n",
              "       [0.00071558],\n",
              "       [0.00069991],\n",
              "       [0.00068195],\n",
              "       [0.00065193],\n",
              "       [0.00165663],\n",
              "       [0.00165759],\n",
              "       [0.00165635],\n",
              "       [0.00165676],\n",
              "       [0.0006522 ],\n",
              "       [0.00165703],\n",
              "       [0.00165962],\n",
              "       [0.00165592],\n",
              "       [0.00165592],\n",
              "       [0.00165721],\n",
              "       [0.00165384],\n",
              "       [0.00165448],\n",
              "       [0.00165502],\n",
              "       [0.00165369],\n",
              "       [0.00165291],\n",
              "       [0.00165257],\n",
              "       [0.00065209],\n",
              "       [0.00065201],\n",
              "       [0.000652  ],\n",
              "       [0.00065322],\n",
              "       [0.0006532 ],\n",
              "       [0.0006533 ],\n",
              "       [0.00065329],\n",
              "       [0.00065326],\n",
              "       [0.00065325],\n",
              "       [0.00065323],\n",
              "       [0.00065322],\n",
              "       [0.00065321],\n",
              "       [0.0006532 ],\n",
              "       [0.00065318],\n",
              "       [0.00065318],\n",
              "       [0.00065316],\n",
              "       [0.00065316],\n",
              "       [0.00065314],\n",
              "       [0.00065313],\n",
              "       [0.00065312],\n",
              "       [0.0006531 ],\n",
              "       [0.0006531 ],\n",
              "       [0.00065308],\n",
              "       [0.00172409],\n",
              "       [0.00172418],\n",
              "       [0.00172432],\n",
              "       [0.00172447],\n",
              "       [0.00172453],\n",
              "       [0.00172458],\n",
              "       [0.00172454],\n",
              "       [0.00172453],\n",
              "       [0.0017247 ],\n",
              "       [0.00172475],\n",
              "       [0.00172478],\n",
              "       [0.00172489],\n",
              "       [0.00172501],\n",
              "       [0.00172503],\n",
              "       [0.0017251 ],\n",
              "       [0.00172528],\n",
              "       [0.00172529],\n",
              "       [0.00172537],\n",
              "       [0.00172534],\n",
              "       [0.00172553],\n",
              "       [0.00154567],\n",
              "       [0.00154576],\n",
              "       [0.00154576],\n",
              "       [0.00154589],\n",
              "       [0.00154564],\n",
              "       [0.00154596],\n",
              "       [0.00154541],\n",
              "       [0.00154524],\n",
              "       [0.00154501],\n",
              "       [0.00154516],\n",
              "       [0.00154416],\n",
              "       [0.00154307],\n",
              "       [0.00154252],\n",
              "       [0.00154225],\n",
              "       [0.00154198],\n",
              "       [0.0015424 ],\n",
              "       [0.00154259],\n",
              "       [0.00154338],\n",
              "       [0.00154378],\n",
              "       [0.00154443],\n",
              "       [0.00165899],\n",
              "       [0.00165813],\n",
              "       [0.00165763],\n",
              "       [0.0016565 ],\n",
              "       [0.00165532],\n",
              "       [0.00165431],\n",
              "       [0.00165332],\n",
              "       [0.00165223],\n",
              "       [0.00165122],\n",
              "       [0.00164974],\n",
              "       [0.00164903],\n",
              "       [0.00164852],\n",
              "       [0.00164807],\n",
              "       [0.00164766],\n",
              "       [0.00164752],\n",
              "       [0.00164718],\n",
              "       [0.00164706],\n",
              "       [0.00164692],\n",
              "       [0.00164675],\n",
              "       [0.00164647],\n",
              "       [0.00126823],\n",
              "       [0.00126463],\n",
              "       [0.00126199],\n",
              "       [0.0012626 ],\n",
              "       [0.00126771],\n",
              "       [0.00127259],\n",
              "       [0.00127683],\n",
              "       [0.00127843],\n",
              "       [0.00127839],\n",
              "       [0.00127662],\n",
              "       [0.00127801],\n",
              "       [0.00127829],\n",
              "       [0.00128113],\n",
              "       [0.00127967],\n",
              "       [0.00128194],\n",
              "       [0.00128238],\n",
              "       [0.00128177],\n",
              "       [0.00128125],\n",
              "       [0.00128215],\n",
              "       [0.00128243],\n",
              "       [0.00039709],\n",
              "       [0.0003979 ],\n",
              "       [0.00039734],\n",
              "       [0.0003975 ],\n",
              "       [0.0003974 ],\n",
              "       [0.00039756],\n",
              "       [0.0003969 ],\n",
              "       [0.00039702],\n",
              "       [0.00039699],\n",
              "       [0.00039696],\n",
              "       [0.00039771],\n",
              "       [0.00039702],\n",
              "       [0.00039619],\n",
              "       [0.00039618],\n",
              "       [0.00039689],\n",
              "       [0.00039593],\n",
              "       [0.00039565],\n",
              "       [0.00039648],\n",
              "       [0.00039517],\n",
              "       [0.00039516]])"
            ]
          },
          "metadata": {
            "tags": []
          },
          "execution_count": 35
        }
      ]
    },
    {
      "cell_type": "code",
      "metadata": {
        "id": "p2SQ1i0X9R3X",
        "outputId": "b536c832-aef0-4c1a-f37f-29b359859cb3"
      },
      "source": [
        "plt.figure(figsize = (15,7))\n",
        "plt.scatter(cond, cond_pdf, alpha = 0.5, marker = '.')\n",
        "plt.xlabel('COND')\n",
        "plt.ylabel('COND_PDF')"
      ],
      "execution_count": null,
      "outputs": [
        {
          "output_type": "execute_result",
          "data": {
            "text/plain": [
              "Text(0, 0.5, 'COND_PDF')"
            ]
          },
          "metadata": {
            "tags": []
          },
          "execution_count": 36
        },
        {
          "output_type": "display_data",
          "data": {
            "image/png": "[encoded data removed]",
            "text/plain": [
              "<Figure size 1080x504 with 1 Axes>"
            ]
          },
          "metadata": {
            "tags": [],
            "needs_background": "light"
          }
        }
      ]
    },
    {
      "cell_type": "code",
      "metadata": {
        "id": "7cwlZ4AU9R3f",
        "outputId": "859cf55e-06d3-496b-81bd-09dcb2b2e3f3"
      },
      "source": [
        "#do\n",
        "do = df_3['DO']\n",
        "do_pdf = np.zeros([160,1])\n",
        "mu = np.mean(do)\n",
        "sigma = np.std(do)\n",
        "for i in range(0, 160):\n",
        "    x = 1/(np.sqrt(2*np.pi)*sigma)*np.exp(-np.power((do[i] - mu)/sigma, 2)/2)\n",
        "    do_pdf[i] = x\n",
        "plt.figure(figsize = (15,7))\n",
        "plt.scatter(do, do_pdf, alpha = 0.5, marker = '.')\n",
        "plt.xlabel('DO')\n",
        "plt.ylabel('DO_PDF')"
      ],
      "execution_count": null,
      "outputs": [
        {
          "output_type": "execute_result",
          "data": {
            "text/plain": [
              "Text(0, 0.5, 'DO_PDF')"
            ]
          },
          "metadata": {
            "tags": []
          },
          "execution_count": 37
        },
        {
          "output_type": "display_data",
          "data": {
            "image/png": "[encoded data removed]",
            "text/plain": [
              "<Figure size 1080x504 with 1 Axes>"
            ]
          },
          "metadata": {
            "tags": [],
            "needs_background": "light"
          }
        }
      ]
    },
    {
      "cell_type": "code",
      "metadata": {
        "id": "N2B1YmaE9R3i",
        "outputId": "ed3c67b7-a41b-460c-8901-f0ed31a64c0b"
      },
      "source": [
        "#orp\n",
        "orp = df_3['ORP']\n",
        "orp_pdf = np.zeros([160,1])\n",
        "mu = np.mean(orp)\n",
        "sigma = np.std(orp)\n",
        "for i in range(0, 160):\n",
        "    x = 1/(np.sqrt(2*np.pi)*sigma)*np.exp(-np.power((orp[i] - mu)/sigma, 2)/2)\n",
        "    orp_pdf[i] = x\n",
        "plt.figure(figsize = (15,7))\n",
        "plt.scatter(orp, orp_pdf, alpha = 0.5, marker = '.')\n",
        "plt.xlabel('ORP')\n",
        "plt.ylabel('ORP_PDF')"
      ],
      "execution_count": null,
      "outputs": [
        {
          "output_type": "execute_result",
          "data": {
            "text/plain": [
              "Text(0, 0.5, 'ORP_PDF')"
            ]
          },
          "metadata": {
            "tags": []
          },
          "execution_count": 38
        },
        {
          "output_type": "display_data",
          "data": {
            "image/png": "[encoded data removed]",
            "text/plain": [
              "<Figure size 1080x504 with 1 Axes>"
            ]
          },
          "metadata": {
            "tags": [],
            "needs_background": "light"
          }
        }
      ]
    },
    {
      "cell_type": "markdown",
      "metadata": {
        "id": "fg7CL88y9R3m"
      },
      "source": [
        "Mean is very high."
      ]
    },
    {
      "cell_type": "code",
      "metadata": {
        "id": "aGOBZywq9R3n",
        "outputId": "160b274f-f49f-46ed-fba1-0d0f9be5d639"
      },
      "source": [
        "#ph\n",
        "ph = df_3['PH']\n",
        "ph_pdf = np.zeros([160,1])\n",
        "mu = np.mean(ph)\n",
        "sigma = np.std(ph)\n",
        "for i in range(0, 160):\n",
        "    x = 1/(np.sqrt(2*np.pi)*sigma)*np.exp(-np.power((ph[i] - mu)/sigma, 2)/2)\n",
        "    ph_pdf[i] = x\n",
        "plt.figure(figsize = (15,7))\n",
        "plt.scatter(ph, ph_pdf, alpha = 0.5, marker = '.')\n",
        "plt.xlabel('PH')\n",
        "plt.ylabel('PH_PDF')"
      ],
      "execution_count": null,
      "outputs": [
        {
          "output_type": "execute_result",
          "data": {
            "text/plain": [
              "Text(0, 0.5, 'PH_PDF')"
            ]
          },
          "metadata": {
            "tags": []
          },
          "execution_count": 39
        },
        {
          "output_type": "display_data",
          "data": {
            "image/png": "[encoded data removed]",
            "text/plain": [
              "<Figure size 1080x504 with 1 Axes>"
            ]
          },
          "metadata": {
            "tags": [],
            "needs_background": "light"
          }
        }
      ]
    },
    {
      "cell_type": "code",
      "metadata": {
        "id": "rYWwK2vP9R3q",
        "outputId": "34888534-a7c1-40c0-9d74-06501fe1d22d"
      },
      "source": [
        "#WT\n",
        "wt = df_3['WT']\n",
        "wt_pdf = np.zeros([160,1])\n",
        "mu = np.mean(wt)\n",
        "sigma = np.std(wt)\n",
        "for i in range(0, 160):\n",
        "    x = 1/(np.sqrt(2*np.pi)*sigma)*np.exp(-np.power((wt[i] - mu)/sigma, 2)/2)\n",
        "    wt_pdf[i] = x\n",
        "plt.figure(figsize = (15,7))\n",
        "plt.scatter(wt, wt_pdf, alpha = 0.5, marker = '.')\n",
        "plt.xlabel('WT')\n",
        "plt.ylabel('WT_PDF')"
      ],
      "execution_count": null,
      "outputs": [
        {
          "output_type": "execute_result",
          "data": {
            "text/plain": [
              "Text(0, 0.5, 'WT_PDF')"
            ]
          },
          "metadata": {
            "tags": []
          },
          "execution_count": 40
        },
        {
          "output_type": "display_data",
          "data": {
            "image/png": "[encoded data removed]",
            "text/plain": [
              "<Figure size 1080x504 with 1 Axes>"
            ]
          },
          "metadata": {
            "tags": [],
            "needs_background": "light"
          }
        }
      ]
    },
    {
      "cell_type": "code",
      "metadata": {
        "id": "Y4a8XtqF9R3u",
        "outputId": "0938c548-1363-4d0d-a795-f8a81d4c8ad2"
      },
      "source": [
        "#bat\n",
        "bat = df_3['BAT']\n",
        "bat_pdf = np.zeros([160,1])\n",
        "mu = np.mean(bat)\n",
        "sigma = np.std(bat)\n",
        "for i in range(0, 160):\n",
        "    x = 1/(np.sqrt(2*np.pi)*sigma)*np.exp(-np.power((bat[i] - mu)/sigma, 2)/2)\n",
        "    bat_pdf[i] = x\n",
        "plt.figure(figsize = (15,7))\n",
        "plt.scatter(do, do_pdf, alpha = 0.5, marker = '.')\n",
        "plt.xlabel('BAT')\n",
        "plt.ylabel('BAT_PDF')"
      ],
      "execution_count": null,
      "outputs": [
        {
          "output_type": "execute_result",
          "data": {
            "text/plain": [
              "Text(0, 0.5, 'BAT_PDF')"
            ]
          },
          "metadata": {
            "tags": []
          },
          "execution_count": 41
        },
        {
          "output_type": "display_data",
          "data": {
            "image/png": "[encoded data removed]",
            "text/plain": [
              "<Figure size 1080x504 with 1 Axes>"
            ]
          },
          "metadata": {
            "tags": [],
            "needs_background": "light"
          }
        }
      ]
    },
    {
      "cell_type": "markdown",
      "metadata": {
        "id": "S9SGHJof9R3y"
      },
      "source": [
        "Sample 4"
      ]
    },
    {
      "cell_type": "code",
      "metadata": {
        "id": "UTcuDpgf9R3z",
        "outputId": "28181b6a-0657-4207-a377-0a64e48257d2"
      },
      "source": [
        "df_4 = pd.read_csv('g_data_4.csv')\n",
        "df_4"
      ],
      "execution_count": null,
      "outputs": [
        {
          "output_type": "execute_result",
          "data": {
            "text/html": [
              "<div>\n",
              "<style scoped>\n",
              "    .dataframe tbody tr th:only-of-type {\n",
              "        vertical-align: middle;\n",
              "    }\n",
              "\n",
              "    .dataframe tbody tr th {\n",
              "        vertical-align: top;\n",
              "    }\n",
              "\n",
              "    .dataframe thead th {\n",
              "        text-align: right;\n",
              "    }\n",
              "</style>\n",
              "<table border=\"1\" class=\"dataframe\">\n",
              "  <thead>\n",
              "    <tr style=\"text-align: right;\">\n",
              "      <th></th>\n",
              "      <th>Date</th>\n",
              "      <th>Frame No</th>\n",
              "      <th>BAT</th>\n",
              "      <th>COND</th>\n",
              "      <th>DO</th>\n",
              "      <th>ORP</th>\n",
              "      <th>PH</th>\n",
              "      <th>WT</th>\n",
              "    </tr>\n",
              "  </thead>\n",
              "  <tbody>\n",
              "    <tr>\n",
              "      <th>0</th>\n",
              "      <td>2019-01-12 14:54:00</td>\n",
              "      <td>0</td>\n",
              "      <td>90.0</td>\n",
              "      <td>46.195190</td>\n",
              "      <td>13.501176</td>\n",
              "      <td>0.142900</td>\n",
              "      <td>12.359906</td>\n",
              "      <td>18.400787</td>\n",
              "    </tr>\n",
              "    <tr>\n",
              "      <th>1</th>\n",
              "      <td>2019-01-12 14:55:00</td>\n",
              "      <td>1</td>\n",
              "      <td>91.0</td>\n",
              "      <td>52.609680</td>\n",
              "      <td>20.752865</td>\n",
              "      <td>0.146236</td>\n",
              "      <td>12.825684</td>\n",
              "      <td>18.013641</td>\n",
              "    </tr>\n",
              "    <tr>\n",
              "      <th>2</th>\n",
              "      <td>2019-01-12 14:56:00</td>\n",
              "      <td>2</td>\n",
              "      <td>91.0</td>\n",
              "      <td>52.399826</td>\n",
              "      <td>12.409351</td>\n",
              "      <td>0.146724</td>\n",
              "      <td>12.998978</td>\n",
              "      <td>18.184570</td>\n",
              "    </tr>\n",
              "    <tr>\n",
              "      <th>3</th>\n",
              "      <td>2019-01-12 14:57:00</td>\n",
              "      <td>3</td>\n",
              "      <td>92.0</td>\n",
              "      <td>41.708813</td>\n",
              "      <td>13.330035</td>\n",
              "      <td>0.143533</td>\n",
              "      <td>13.105331</td>\n",
              "      <td>18.367126</td>\n",
              "    </tr>\n",
              "    <tr>\n",
              "      <th>4</th>\n",
              "      <td>2019-01-12 14:58:00</td>\n",
              "      <td>4</td>\n",
              "      <td>90.0</td>\n",
              "      <td>52.926560</td>\n",
              "      <td>10.858296</td>\n",
              "      <td>0.142336</td>\n",
              "      <td>13.183682</td>\n",
              "      <td>18.268341</td>\n",
              "    </tr>\n",
              "    <tr>\n",
              "      <th>...</th>\n",
              "      <td>...</td>\n",
              "      <td>...</td>\n",
              "      <td>...</td>\n",
              "      <td>...</td>\n",
              "      <td>...</td>\n",
              "      <td>...</td>\n",
              "      <td>...</td>\n",
              "      <td>...</td>\n",
              "    </tr>\n",
              "    <tr>\n",
              "      <th>555</th>\n",
              "      <td>2020-03-05 16:23:00</td>\n",
              "      <td>118</td>\n",
              "      <td>96.0</td>\n",
              "      <td>719.012700</td>\n",
              "      <td>12.886819</td>\n",
              "      <td>0.122251</td>\n",
              "      <td>9.081745</td>\n",
              "      <td>27.043152</td>\n",
              "    </tr>\n",
              "    <tr>\n",
              "      <th>556</th>\n",
              "      <td>2020-03-05 16:24:00</td>\n",
              "      <td>119</td>\n",
              "      <td>96.0</td>\n",
              "      <td>718.942600</td>\n",
              "      <td>12.846547</td>\n",
              "      <td>0.122363</td>\n",
              "      <td>9.075125</td>\n",
              "      <td>27.041320</td>\n",
              "    </tr>\n",
              "    <tr>\n",
              "      <th>557</th>\n",
              "      <td>2020-03-05 16:25:00</td>\n",
              "      <td>120</td>\n",
              "      <td>96.0</td>\n",
              "      <td>718.761960</td>\n",
              "      <td>11.103142</td>\n",
              "      <td>0.122447</td>\n",
              "      <td>9.043997</td>\n",
              "      <td>27.036987</td>\n",
              "    </tr>\n",
              "    <tr>\n",
              "      <th>558</th>\n",
              "      <td>2020-03-05 16:26:00</td>\n",
              "      <td>121</td>\n",
              "      <td>96.0</td>\n",
              "      <td>718.976200</td>\n",
              "      <td>13.124990</td>\n",
              "      <td>0.122398</td>\n",
              "      <td>9.082335</td>\n",
              "      <td>27.043243</td>\n",
              "    </tr>\n",
              "    <tr>\n",
              "      <th>559</th>\n",
              "      <td>2020-03-05 16:27:00</td>\n",
              "      <td>122</td>\n",
              "      <td>96.0</td>\n",
              "      <td>719.061460</td>\n",
              "      <td>7.817824</td>\n",
              "      <td>0.122540</td>\n",
              "      <td>9.071476</td>\n",
              "      <td>27.049805</td>\n",
              "    </tr>\n",
              "  </tbody>\n",
              "</table>\n",
              "<p>560 rows × 8 columns</p>\n",
              "</div>"
            ],
            "text/plain": [
              "                    Date  Frame No   BAT        COND         DO       ORP  \\\n",
              "0    2019-01-12 14:54:00         0  90.0   46.195190  13.501176  0.142900   \n",
              "1    2019-01-12 14:55:00         1  91.0   52.609680  20.752865  0.146236   \n",
              "2    2019-01-12 14:56:00         2  91.0   52.399826  12.409351  0.146724   \n",
              "3    2019-01-12 14:57:00         3  92.0   41.708813  13.330035  0.143533   \n",
              "4    2019-01-12 14:58:00         4  90.0   52.926560  10.858296  0.142336   \n",
              "..                   ...       ...   ...         ...        ...       ...   \n",
              "555  2020-03-05 16:23:00       118  96.0  719.012700  12.886819  0.122251   \n",
              "556  2020-03-05 16:24:00       119  96.0  718.942600  12.846547  0.122363   \n",
              "557  2020-03-05 16:25:00       120  96.0  718.761960  11.103142  0.122447   \n",
              "558  2020-03-05 16:26:00       121  96.0  718.976200  13.124990  0.122398   \n",
              "559  2020-03-05 16:27:00       122  96.0  719.061460   7.817824  0.122540   \n",
              "\n",
              "            PH         WT  \n",
              "0    12.359906  18.400787  \n",
              "1    12.825684  18.013641  \n",
              "2    12.998978  18.184570  \n",
              "3    13.105331  18.367126  \n",
              "4    13.183682  18.268341  \n",
              "..         ...        ...  \n",
              "555   9.081745  27.043152  \n",
              "556   9.075125  27.041320  \n",
              "557   9.043997  27.036987  \n",
              "558   9.082335  27.043243  \n",
              "559   9.071476  27.049805  \n",
              "\n",
              "[560 rows x 8 columns]"
            ]
          },
          "metadata": {
            "tags": []
          },
          "execution_count": 43
        }
      ]
    },
    {
      "cell_type": "code",
      "metadata": {
        "id": "0ureg0P_9R34",
        "outputId": "576ec197-21f7-4974-9acf-ec7a5a9b269a"
      },
      "source": [
        "#cond\n",
        "cond = df_4['COND']\n",
        "cond"
      ],
      "execution_count": null,
      "outputs": [
        {
          "output_type": "execute_result",
          "data": {
            "text/plain": [
              "0       46.195190\n",
              "1       52.609680\n",
              "2       52.399826\n",
              "3       41.708813\n",
              "4       52.926560\n",
              "          ...    \n",
              "555    719.012700\n",
              "556    718.942600\n",
              "557    718.761960\n",
              "558    718.976200\n",
              "559    719.061460\n",
              "Name: COND, Length: 560, dtype: float64"
            ]
          },
          "metadata": {
            "tags": []
          },
          "execution_count": 44
        }
      ]
    },
    {
      "cell_type": "code",
      "metadata": {
        "id": "58T3jIg39R39",
        "outputId": "e671a510-9174-4854-edbb-6d8dd68e7e08"
      },
      "source": [
        "cond.shape"
      ],
      "execution_count": null,
      "outputs": [
        {
          "output_type": "execute_result",
          "data": {
            "text/plain": [
              "(560,)"
            ]
          },
          "metadata": {
            "tags": []
          },
          "execution_count": 45
        }
      ]
    },
    {
      "cell_type": "code",
      "metadata": {
        "id": "yX82QVC69R4B",
        "outputId": "47630036-b3c3-437c-f95e-10092763d37f"
      },
      "source": [
        "cond_pdf = np.zeros([560,1])\n",
        "mu = np.mean(cond)\n",
        "sigma = np.std(cond)\n",
        "for i in range(0, 560):\n",
        "    x = 1/(np.sqrt(2*np.pi)*sigma)*np.exp(-np.power((cond[i] - mu)/sigma, 2)/2)\n",
        "    cond_pdf[i] = x\n",
        "cond_pdf"
      ],
      "execution_count": null,
      "outputs": [
        {
          "output_type": "execute_result",
          "data": {
            "text/plain": [
              "array([[0.00089682],\n",
              "       [0.00092424],\n",
              "       [0.00092334],\n",
              "       [0.00087773],\n",
              "       [0.0009256 ],\n",
              "       [0.00092884],\n",
              "       [0.00092892],\n",
              "       [0.00092634],\n",
              "       [0.00092662],\n",
              "       [0.00092989],\n",
              "       [0.00092724],\n",
              "       [0.00092847],\n",
              "       [0.00092776],\n",
              "       [0.00093032],\n",
              "       [0.00092665],\n",
              "       [0.0009284 ],\n",
              "       [0.00093041],\n",
              "       [0.00093311],\n",
              "       [0.00093298],\n",
              "       [0.00093208],\n",
              "       [0.00093266],\n",
              "       [0.00093063],\n",
              "       [0.00093074],\n",
              "       [0.00092715],\n",
              "       [0.00092963],\n",
              "       [0.00092951],\n",
              "       [0.00083863],\n",
              "       [0.00085948],\n",
              "       [0.00085214],\n",
              "       [0.00086743],\n",
              "       [0.00086133],\n",
              "       [0.00084053],\n",
              "       [0.00078794],\n",
              "       [0.00081321],\n",
              "       [0.00079163],\n",
              "       [0.00077336],\n",
              "       [0.00077316],\n",
              "       [0.00077368],\n",
              "       [0.0007582 ],\n",
              "       [0.00074041],\n",
              "       [0.00077405],\n",
              "       [0.0007742 ],\n",
              "       [0.00077462],\n",
              "       [0.00078701],\n",
              "       [0.00077396],\n",
              "       [0.00077406],\n",
              "       [0.0007747 ],\n",
              "       [0.00077391],\n",
              "       [0.00077383],\n",
              "       [0.00077423],\n",
              "       [0.00077414],\n",
              "       [0.0007914 ],\n",
              "       [0.00078589],\n",
              "       [0.00082939],\n",
              "       [0.00093961],\n",
              "       [0.00093631],\n",
              "       [0.00093813],\n",
              "       [0.00093961],\n",
              "       [0.00093936],\n",
              "       [0.00093988],\n",
              "       [0.0009411 ],\n",
              "       [0.00094057],\n",
              "       [0.0009411 ],\n",
              "       [0.00094065],\n",
              "       [0.0009399 ],\n",
              "       [0.00093976],\n",
              "       [0.0009397 ],\n",
              "       [0.00093719],\n",
              "       [0.00093736],\n",
              "       [0.00093801],\n",
              "       [0.00071041],\n",
              "       [0.00071041],\n",
              "       [0.00071041],\n",
              "       [0.00071041],\n",
              "       [0.0007104 ],\n",
              "       [0.0007104 ],\n",
              "       [0.00071041],\n",
              "       [0.0007104 ],\n",
              "       [0.00071041],\n",
              "       [0.00071041],\n",
              "       [0.00071041],\n",
              "       [0.00071041],\n",
              "       [0.00071041],\n",
              "       [0.00071041],\n",
              "       [0.00071041],\n",
              "       [0.00071041],\n",
              "       [0.00071041],\n",
              "       [0.00071041],\n",
              "       [0.00071041],\n",
              "       [0.0007106 ],\n",
              "       [0.00071056],\n",
              "       [0.00159215],\n",
              "       [0.00159315],\n",
              "       [0.00159186],\n",
              "       [0.00159229],\n",
              "       [0.00071083],\n",
              "       [0.00159257],\n",
              "       [0.0015953 ],\n",
              "       [0.0015914 ],\n",
              "       [0.00159141],\n",
              "       [0.00159275],\n",
              "       [0.00158922],\n",
              "       [0.00158989],\n",
              "       [0.00159046],\n",
              "       [0.00158906],\n",
              "       [0.00158825],\n",
              "       [0.0015879 ],\n",
              "       [0.00071072],\n",
              "       [0.00071064],\n",
              "       [0.00071062],\n",
              "       [0.00071062],\n",
              "       [0.0007106 ],\n",
              "       [0.00071061],\n",
              "       [0.00071074],\n",
              "       [0.0007107 ],\n",
              "       [0.00071068],\n",
              "       [0.00071066],\n",
              "       [0.0007106 ],\n",
              "       [0.00071059],\n",
              "       [0.00071058],\n",
              "       [0.00158595],\n",
              "       [0.00158516],\n",
              "       [0.00158185],\n",
              "       [0.0015794 ],\n",
              "       [0.00157756],\n",
              "       [0.00157785],\n",
              "       [0.00157802],\n",
              "       [0.00157813],\n",
              "       [0.00157719],\n",
              "       [0.00157645],\n",
              "       [0.00157519],\n",
              "       [0.001575  ],\n",
              "       [0.00157632],\n",
              "       [0.00157625],\n",
              "       [0.0015765 ],\n",
              "       [0.00157868],\n",
              "       [0.00157907],\n",
              "       [0.00157766],\n",
              "       [0.00157784],\n",
              "       [0.00158912],\n",
              "       [0.00071278],\n",
              "       [0.00071265],\n",
              "       [0.00071254],\n",
              "       [0.00071245],\n",
              "       [0.00071235],\n",
              "       [0.00071225],\n",
              "       [0.00071217],\n",
              "       [0.00071208],\n",
              "       [0.000712  ],\n",
              "       [0.00071197],\n",
              "       [0.000712  ],\n",
              "       [0.00071202],\n",
              "       [0.00071198],\n",
              "       [0.00071197],\n",
              "       [0.00071193],\n",
              "       [0.00071192],\n",
              "       [0.0007119 ],\n",
              "       [0.00071189],\n",
              "       [0.00071186],\n",
              "       [0.00071186],\n",
              "       [0.00071185],\n",
              "       [0.00071183],\n",
              "       [0.00071193],\n",
              "       [0.00071191],\n",
              "       [0.00071189],\n",
              "       [0.00071188],\n",
              "       [0.00071186],\n",
              "       [0.00071185],\n",
              "       [0.00071184],\n",
              "       [0.00071183],\n",
              "       [0.00071181],\n",
              "       [0.0007118 ],\n",
              "       [0.00071179],\n",
              "       [0.00071178],\n",
              "       [0.00071177],\n",
              "       [0.00071175],\n",
              "       [0.00071175],\n",
              "       [0.00071173],\n",
              "       [0.00071172],\n",
              "       [0.00071171],\n",
              "       [0.0007117 ],\n",
              "       [0.00071169],\n",
              "       [0.00071168],\n",
              "       [0.00071168],\n",
              "       [0.00071167],\n",
              "       [0.00071166],\n",
              "       [0.00071165],\n",
              "       [0.00071164],\n",
              "       [0.00071163],\n",
              "       [0.00071162],\n",
              "       [0.00071161],\n",
              "       [0.0007116 ],\n",
              "       [0.00071158],\n",
              "       [0.00071156],\n",
              "       [0.00071155],\n",
              "       [0.00071154],\n",
              "       [0.00071155],\n",
              "       [0.00071153],\n",
              "       [0.00071154],\n",
              "       [0.00071152],\n",
              "       [0.0007115 ],\n",
              "       [0.0007115 ],\n",
              "       [0.00071149],\n",
              "       [0.00071148],\n",
              "       [0.00071149],\n",
              "       [0.00071148],\n",
              "       [0.00071147],\n",
              "       [0.00071146],\n",
              "       [0.00071145],\n",
              "       [0.00071144],\n",
              "       [0.00167174],\n",
              "       [0.00167109],\n",
              "       [0.00167044],\n",
              "       [0.00166954],\n",
              "       [0.00166838],\n",
              "       [0.00166713],\n",
              "       [0.00166583],\n",
              "       [0.0016649 ],\n",
              "       [0.00166529],\n",
              "       [0.00166568],\n",
              "       [0.00166572],\n",
              "       [0.00166606],\n",
              "       [0.00166644],\n",
              "       [0.00166654],\n",
              "       [0.00166667],\n",
              "       [0.00166692],\n",
              "       [0.0016672 ],\n",
              "       [0.00166743],\n",
              "       [0.00166776],\n",
              "       [0.00166766],\n",
              "       [0.00166772],\n",
              "       [0.00166784],\n",
              "       [0.00166803],\n",
              "       [0.00166822],\n",
              "       [0.0016683 ],\n",
              "       [0.00166836],\n",
              "       [0.00166832],\n",
              "       [0.0016683 ],\n",
              "       [0.00166853],\n",
              "       [0.00166858],\n",
              "       [0.00166862],\n",
              "       [0.00166878],\n",
              "       [0.00166894],\n",
              "       [0.00166896],\n",
              "       [0.00166905],\n",
              "       [0.0016693 ],\n",
              "       [0.0016693 ],\n",
              "       [0.00166942],\n",
              "       [0.00166937],\n",
              "       [0.00166962],\n",
              "       [0.0016695 ],\n",
              "       [0.00166951],\n",
              "       [0.00166944],\n",
              "       [0.00166939],\n",
              "       [0.00166931],\n",
              "       [0.00166951],\n",
              "       [0.00166959],\n",
              "       [0.00166958],\n",
              "       [0.00166955],\n",
              "       [0.00166992],\n",
              "       [0.0016701 ],\n",
              "       [0.00167024],\n",
              "       [0.00167026],\n",
              "       [0.00167049],\n",
              "       [0.00167055],\n",
              "       [0.00167058],\n",
              "       [0.00167069],\n",
              "       [0.00167076],\n",
              "       [0.00167108],\n",
              "       [0.00167115],\n",
              "       [0.00167122],\n",
              "       [0.00167144],\n",
              "       [0.0016716 ],\n",
              "       [0.00167174],\n",
              "       [0.00167188],\n",
              "       [0.00167157],\n",
              "       [0.00167164],\n",
              "       [0.00167175],\n",
              "       [0.00167184],\n",
              "       [0.00167181],\n",
              "       [0.00146718],\n",
              "       [0.00146779],\n",
              "       [0.00147011],\n",
              "       [0.00147001],\n",
              "       [0.00147123],\n",
              "       [0.00147258],\n",
              "       [0.00147537],\n",
              "       [0.00147565],\n",
              "       [0.00147548],\n",
              "       [0.00147533],\n",
              "       [0.00147509],\n",
              "       [0.00147513],\n",
              "       [0.00147598],\n",
              "       [0.00147691],\n",
              "       [0.0014774 ],\n",
              "       [0.00147821],\n",
              "       [0.00147859],\n",
              "       [0.00147885],\n",
              "       [0.00147916],\n",
              "       [0.00147915],\n",
              "       [0.00147938],\n",
              "       [0.00147947],\n",
              "       [0.00147946],\n",
              "       [0.0014796 ],\n",
              "       [0.00147935],\n",
              "       [0.00147967],\n",
              "       [0.00147912],\n",
              "       [0.00147895],\n",
              "       [0.00147872],\n",
              "       [0.00147887],\n",
              "       [0.00147788],\n",
              "       [0.00147679],\n",
              "       [0.00147625],\n",
              "       [0.00147597],\n",
              "       [0.00147571],\n",
              "       [0.00147612],\n",
              "       [0.00147631],\n",
              "       [0.0014771 ],\n",
              "       [0.0014775 ],\n",
              "       [0.00147814],\n",
              "       [0.00147876],\n",
              "       [0.00147943],\n",
              "       [0.00147987],\n",
              "       [0.00148041],\n",
              "       [0.00148045],\n",
              "       [0.00148112],\n",
              "       [0.00148162],\n",
              "       [0.00148242],\n",
              "       [0.00148297],\n",
              "       [0.00148357],\n",
              "       [0.00148373],\n",
              "       [0.00148591],\n",
              "       [0.0014846 ],\n",
              "       [0.00148479],\n",
              "       [0.00148354],\n",
              "       [0.00148105],\n",
              "       [0.00147772],\n",
              "       [0.00148315],\n",
              "       [0.00148306],\n",
              "       [0.00148586],\n",
              "       [0.00148632],\n",
              "       [0.00148726],\n",
              "       [0.0014884 ],\n",
              "       [0.00148973],\n",
              "       [0.00148936],\n",
              "       [0.00148892],\n",
              "       [0.00148708],\n",
              "       [0.00148853],\n",
              "       [0.00148896],\n",
              "       [0.00148886],\n",
              "       [0.00162906],\n",
              "       [0.00163126],\n",
              "       [0.0016332 ],\n",
              "       [0.00163399],\n",
              "       [0.0016362 ],\n",
              "       [0.00163823],\n",
              "       [0.00163968],\n",
              "       [0.00163964],\n",
              "       [0.00163878],\n",
              "       [0.00163821],\n",
              "       [0.00163779],\n",
              "       [0.00163773],\n",
              "       [0.00163756],\n",
              "       [0.00163715],\n",
              "       [0.00163705],\n",
              "       [0.00163753],\n",
              "       [0.00163816],\n",
              "       [0.00163823],\n",
              "       [0.00163791],\n",
              "       [0.00163765],\n",
              "       [0.00163744],\n",
              "       [0.00163677],\n",
              "       [0.00163637],\n",
              "       [0.00163548],\n",
              "       [0.00163455],\n",
              "       [0.00163375],\n",
              "       [0.00163296],\n",
              "       [0.0016321 ],\n",
              "       [0.0016313 ],\n",
              "       [0.00163012],\n",
              "       [0.00162955],\n",
              "       [0.00162915],\n",
              "       [0.00162879],\n",
              "       [0.00162846],\n",
              "       [0.00162835],\n",
              "       [0.00162808],\n",
              "       [0.00162799],\n",
              "       [0.00162787],\n",
              "       [0.00162774],\n",
              "       [0.00162751],\n",
              "       [0.00162741],\n",
              "       [0.00162724],\n",
              "       [0.00162716],\n",
              "       [0.00162712],\n",
              "       [0.00162701],\n",
              "       [0.00162697],\n",
              "       [0.00162687],\n",
              "       [0.00162688],\n",
              "       [0.00162675],\n",
              "       [0.00162663],\n",
              "       [0.00162674],\n",
              "       [0.00162658],\n",
              "       [0.0016265 ],\n",
              "       [0.00162635],\n",
              "       [0.00162643],\n",
              "       [0.00162643],\n",
              "       [0.00162638],\n",
              "       [0.00162639],\n",
              "       [0.00162635],\n",
              "       [0.00162632],\n",
              "       [0.00162626],\n",
              "       [0.00162622],\n",
              "       [0.00162616],\n",
              "       [0.00162609],\n",
              "       [0.00162611],\n",
              "       [0.00162598],\n",
              "       [0.00162599],\n",
              "       [0.00162601],\n",
              "       [0.00162591],\n",
              "       [0.00162591],\n",
              "       [0.00123109],\n",
              "       [0.00123163],\n",
              "       [0.00123146],\n",
              "       [0.00123135],\n",
              "       [0.00123034],\n",
              "       [0.00122936],\n",
              "       [0.00122917],\n",
              "       [0.00122906],\n",
              "       [0.00122823],\n",
              "       [0.00122817],\n",
              "       [0.00122856],\n",
              "       [0.00122919],\n",
              "       [0.00122928],\n",
              "       [0.00122928],\n",
              "       [0.0012264 ],\n",
              "       [0.00122467],\n",
              "       [0.00122147],\n",
              "       [0.00122172],\n",
              "       [0.00121826],\n",
              "       [0.00121491],\n",
              "       [0.00120999],\n",
              "       [0.00120654],\n",
              "       [0.00120402],\n",
              "       [0.00120461],\n",
              "       [0.00120949],\n",
              "       [0.00121416],\n",
              "       [0.00121821],\n",
              "       [0.00121975],\n",
              "       [0.0012197 ],\n",
              "       [0.00121802],\n",
              "       [0.00121934],\n",
              "       [0.00121961],\n",
              "       [0.00122233],\n",
              "       [0.00122093],\n",
              "       [0.0012231 ],\n",
              "       [0.00122353],\n",
              "       [0.00122294],\n",
              "       [0.00122245],\n",
              "       [0.00122331],\n",
              "       [0.00122358],\n",
              "       [0.00122468],\n",
              "       [0.0012249 ],\n",
              "       [0.00122562],\n",
              "       [0.00122555],\n",
              "       [0.00122617],\n",
              "       [0.00122674],\n",
              "       [0.00122731],\n",
              "       [0.00122819],\n",
              "       [0.00122836],\n",
              "       [0.00122893],\n",
              "       [0.00122845],\n",
              "       [0.0012289 ],\n",
              "       [0.00123024],\n",
              "       [0.00123055],\n",
              "       [0.00123071],\n",
              "       [0.00123089],\n",
              "       [0.00123045],\n",
              "       [0.00123057],\n",
              "       [0.00123046],\n",
              "       [0.00123158],\n",
              "       [0.00123079],\n",
              "       [0.00123075],\n",
              "       [0.00123143],\n",
              "       [0.00123165],\n",
              "       [0.00123194],\n",
              "       [0.00123202],\n",
              "       [0.00123225],\n",
              "       [0.00123236],\n",
              "       [0.0012323 ],\n",
              "       [0.00123233],\n",
              "       [0.00020099],\n",
              "       [0.00022161],\n",
              "       [0.00022033],\n",
              "       [0.0002612 ],\n",
              "       [0.00027385],\n",
              "       [0.00027974],\n",
              "       [0.00028119],\n",
              "       [0.00031429],\n",
              "       [0.00041802],\n",
              "       [0.00041678],\n",
              "       [0.00041643],\n",
              "       [0.00038819],\n",
              "       [0.00038833],\n",
              "       [0.00038803],\n",
              "       [0.00038793],\n",
              "       [0.00038742],\n",
              "       [0.00038766],\n",
              "       [0.00038727],\n",
              "       [0.00038717],\n",
              "       [0.00038715],\n",
              "       [0.00038704],\n",
              "       [0.00038781],\n",
              "       [0.00038727],\n",
              "       [0.00038743],\n",
              "       [0.00038734],\n",
              "       [0.00038749],\n",
              "       [0.00038687],\n",
              "       [0.00038698],\n",
              "       [0.00038695],\n",
              "       [0.00038692],\n",
              "       [0.00038762],\n",
              "       [0.00038697],\n",
              "       [0.00038619],\n",
              "       [0.00038618],\n",
              "       [0.00038685],\n",
              "       [0.00038595],\n",
              "       [0.00038568],\n",
              "       [0.00038647],\n",
              "       [0.00038522],\n",
              "       [0.00038521],\n",
              "       [0.00038512],\n",
              "       [0.00038539],\n",
              "       [0.00038528],\n",
              "       [0.00038518],\n",
              "       [0.00038519],\n",
              "       [0.00038459],\n",
              "       [0.00038477],\n",
              "       [0.00038519],\n",
              "       [0.00038584],\n",
              "       [0.00038562],\n",
              "       [0.00038494],\n",
              "       [0.0003851 ],\n",
              "       [0.00038578],\n",
              "       [0.00038517],\n",
              "       [0.00038463],\n",
              "       [0.00038495],\n",
              "       [0.00038503],\n",
              "       [0.00038517],\n",
              "       [0.00038459],\n",
              "       [0.00038485],\n",
              "       [0.00038463],\n",
              "       [0.00038427],\n",
              "       [0.00038446],\n",
              "       [0.0003843 ],\n",
              "       [0.00038394],\n",
              "       [0.00038365],\n",
              "       [0.00038385],\n",
              "       [0.00038435],\n",
              "       [0.00038375],\n",
              "       [0.00038352]])"
            ]
          },
          "metadata": {
            "tags": []
          },
          "execution_count": 47
        }
      ]
    },
    {
      "cell_type": "code",
      "metadata": {
        "id": "QPASzDr09R4G",
        "outputId": "0b5544e3-06ac-430e-9ee9-9aef788c105d"
      },
      "source": [
        "plt.figure(figsize = (15,7))\n",
        "plt.scatter(cond, cond_pdf, alpha = 0.5, marker = '.')\n",
        "plt.xlabel('COND')\n",
        "plt.ylabel('COND_PDF')"
      ],
      "execution_count": null,
      "outputs": [
        {
          "output_type": "execute_result",
          "data": {
            "text/plain": [
              "Text(0, 0.5, 'COND_PDF')"
            ]
          },
          "metadata": {
            "tags": []
          },
          "execution_count": 48
        },
        {
          "output_type": "display_data",
          "data": {
            "image/png": "[encoded data removed]",
            "text/plain": [
              "<Figure size 1080x504 with 1 Axes>"
            ]
          },
          "metadata": {
            "tags": [],
            "needs_background": "light"
          }
        }
      ]
    },
    {
      "cell_type": "code",
      "metadata": {
        "id": "C3On_Ale9R4R",
        "outputId": "58b4c10e-bcd5-4031-af1d-0d8c99978e26"
      },
      "source": [
        "#do\n",
        "do = df_4['DO']\n",
        "do_pdf = np.zeros([560,1])\n",
        "mu = np.mean(do)\n",
        "sigma = np.std(do)\n",
        "for i in range(0, 560):\n",
        "    x = 1/(np.sqrt(2*np.pi)*sigma)*np.exp(-np.power((do[i] - mu)/sigma, 2)/2)\n",
        "    do_pdf[i] = x\n",
        "plt.figure(figsize = (15,7))\n",
        "plt.scatter(do, do_pdf, alpha = 0.5, marker = '.')\n",
        "plt.xlabel('DO')\n",
        "plt.ylabel('DO_PDF')"
      ],
      "execution_count": null,
      "outputs": [
        {
          "output_type": "execute_result",
          "data": {
            "text/plain": [
              "Text(0, 0.5, 'DO_PDF')"
            ]
          },
          "metadata": {
            "tags": []
          },
          "execution_count": 49
        },
        {
          "output_type": "display_data",
          "data": {
            "image/png": "[encoded data removed]",
            "text/plain": [
              "<Figure size 1080x504 with 1 Axes>"
            ]
          },
          "metadata": {
            "tags": [],
            "needs_background": "light"
          }
        }
      ]
    },
    {
      "cell_type": "code",
      "metadata": {
        "id": "WGq9iZ-99R4U",
        "outputId": "2dfec9d2-16ab-4ca8-8dc6-22f001ab705b"
      },
      "source": [
        "#orp\n",
        "orp = df_4['ORP']\n",
        "orp_pdf = np.zeros([560,1])\n",
        "mu = np.mean(orp)\n",
        "sigma = np.std(orp)\n",
        "for i in range(0, 560):\n",
        "    x = 1/(np.sqrt(2*np.pi)*sigma)*np.exp(-np.power((orp[i] - mu)/sigma, 2)/2)\n",
        "    orp_pdf[i] = x\n",
        "plt.figure(figsize = (15,7))\n",
        "plt.scatter(orp, orp_pdf, alpha = 0.5, marker = '.')\n",
        "plt.xlabel('ORP')\n",
        "plt.ylabel('ORP_PDF')"
      ],
      "execution_count": null,
      "outputs": [
        {
          "output_type": "execute_result",
          "data": {
            "text/plain": [
              "Text(0, 0.5, 'ORP_PDF')"
            ]
          },
          "metadata": {
            "tags": []
          },
          "execution_count": 50
        },
        {
          "output_type": "display_data",
          "data": {
            "image/png": "[encoded data removed]",
            "text/plain": [
              "<Figure size 1080x504 with 1 Axes>"
            ]
          },
          "metadata": {
            "tags": [],
            "needs_background": "light"
          }
        }
      ]
    },
    {
      "cell_type": "markdown",
      "metadata": {
        "id": "gr7sXBFa9R4a"
      },
      "source": [
        "ORP Value is above 8."
      ]
    },
    {
      "cell_type": "code",
      "metadata": {
        "id": "8jcsj6bF9R4b",
        "outputId": "f9cebf8a-f765-460b-b0fb-f1f8e12d4b74"
      },
      "source": [
        "#ph\n",
        "ph = df_4['PH']\n",
        "ph_pdf = np.zeros([560,1])\n",
        "mu = np.mean(ph)\n",
        "sigma = np.std(ph)\n",
        "for i in range(0, 560):\n",
        "    x = 1/(np.sqrt(2*np.pi)*sigma)*np.exp(-np.power((ph[i] - mu)/sigma, 2)/2)\n",
        "    ph_pdf[i] = x\n",
        "plt.figure(figsize = (15,7))\n",
        "plt.scatter(ph, ph_pdf, alpha = 0.5, marker = '.')\n",
        "plt.xlabel('PH')\n",
        "plt.ylabel('PH_PDF')"
      ],
      "execution_count": null,
      "outputs": [
        {
          "output_type": "execute_result",
          "data": {
            "text/plain": [
              "Text(0, 0.5, 'PH_PDF')"
            ]
          },
          "metadata": {
            "tags": []
          },
          "execution_count": 51
        },
        {
          "output_type": "display_data",
          "data": {
            "image/png": "[encoded data removed]",
            "text/plain": [
              "<Figure size 1080x504 with 1 Axes>"
            ]
          },
          "metadata": {
            "tags": [],
            "needs_background": "light"
          }
        }
      ]
    },
    {
      "cell_type": "code",
      "metadata": {
        "id": "C6Q5Krzi9R4h",
        "outputId": "199cbe59-c824-4cc6-970c-06630a67c3a2"
      },
      "source": [
        "#WT\n",
        "wt = df_4['WT']\n",
        "wt_pdf = np.zeros([560,1])\n",
        "mu = np.mean(wt)\n",
        "sigma = np.std(wt)\n",
        "for i in range(0, 160):\n",
        "    x = 1/(np.sqrt(2*np.pi)*sigma)*np.exp(-np.power((wt[i] - mu)/sigma, 2)/2)\n",
        "    wt_pdf[i] = x\n",
        "plt.figure(figsize = (15,7))\n",
        "plt.scatter(wt, wt_pdf, alpha = 0.5, marker = '.')\n",
        "plt.xlabel('WT')\n",
        "plt.ylabel('WT_PDF')"
      ],
      "execution_count": null,
      "outputs": [
        {
          "output_type": "execute_result",
          "data": {
            "text/plain": [
              "Text(0, 0.5, 'WT_PDF')"
            ]
          },
          "metadata": {
            "tags": []
          },
          "execution_count": 55
        },
        {
          "output_type": "display_data",
          "data": {
            "image/png": "[encoded data removed]",
            "text/plain": [
              "<Figure size 1080x504 with 1 Axes>"
            ]
          },
          "metadata": {
            "tags": [],
            "needs_background": "light"
          }
        }
      ]
    },
    {
      "cell_type": "code",
      "metadata": {
        "id": "cAWuxYEQ9R4o",
        "outputId": "56e0f78d-ca88-4d38-d67e-e4b1eb1f3d15"
      },
      "source": [
        "#bat\n",
        "bat = df_4['BAT']\n",
        "bat_pdf = np.zeros([560,1])\n",
        "mu = np.mean(bat)\n",
        "sigma = np.std(bat)\n",
        "for i in range(0, 560):\n",
        "    x = 1/(np.sqrt(2*np.pi)*sigma)*np.exp(-np.power((bat[i] - mu)/sigma, 2)/2)\n",
        "    bat_pdf[i] = x\n",
        "plt.figure(figsize = (15,7))\n",
        "plt.scatter(do, do_pdf, alpha = 0.5, marker = '.')\n",
        "plt.xlabel('BAT')\n",
        "plt.ylabel('BAT_PDF')"
      ],
      "execution_count": null,
      "outputs": [
        {
          "output_type": "execute_result",
          "data": {
            "text/plain": [
              "Text(0, 0.5, 'BAT_PDF')"
            ]
          },
          "metadata": {
            "tags": []
          },
          "execution_count": 56
        },
        {
          "output_type": "display_data",
          "data": {
            "image/png": "[encoded data removed]",
            "text/plain": [
              "<Figure size 1080x504 with 1 Axes>"
            ]
          },
          "metadata": {
            "tags": [],
            "needs_background": "light"
          }
        }
      ]
    },
    {
      "cell_type": "markdown",
      "metadata": {
        "id": "xqtQcFzE9R4s"
      },
      "source": [
        "Therefore, ORP data is not normally distributed."
      ]
    }
  ]
}