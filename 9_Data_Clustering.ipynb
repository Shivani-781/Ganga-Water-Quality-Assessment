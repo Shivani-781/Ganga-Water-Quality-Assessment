{
  "nbformat": 4,
  "nbformat_minor": 0,
  "metadata": {
    "kernelspec": {
      "display_name": "Python 3",
      "language": "python",
      "name": "python3"
    },
    "language_info": {
      "codemirror_mode": {
        "name": "ipython",
        "version": 3
      },
      "file_extension": ".py",
      "mimetype": "text/x-python",
      "name": "python",
      "nbconvert_exporter": "python",
      "pygments_lexer": "ipython3",
      "version": "3.7.7"
    },
    "colab": {
      "name": "9. Data Clustering.ipynb",
      "provenance": [],
      "include_colab_link": true
    }
  },
  "cells": [
    {
      "cell_type": "markdown",
      "metadata": {
        "id": "view-in-github",
        "colab_type": "text"
      },
      "source": [
        "<a href=\"https://colab.research.google.com/github/Shivani-781/Ganga-Water-Quality-Assessment/blob/main/9_Data_Clustering.ipynb\" target=\"_parent\"><img src=\"https://colab.research.google.com/assets/colab-badge.svg\" alt=\"Open In Colab\"/></a>"
      ]
    },
    {
      "cell_type": "markdown",
      "metadata": {
        "id": "xjOD4-pk_Ibm"
      },
      "source": [
        "# Clustering using K-Means"
      ]
    },
    {
      "cell_type": "markdown",
      "metadata": {
        "id": "6B3noJHO_VUW"
      },
      "source": [
        "Importing libraries"
      ]
    },
    {
      "cell_type": "code",
      "metadata": {
        "id": "_7R-WFcI_Ibo"
      },
      "source": [
        "import numpy as np\n",
        "import pandas as pd\n",
        "from sklearn.cluster import KMeans\n",
        "import matplotlib.pyplot as plt\n",
        "%matplotlib inline"
      ],
      "execution_count": null,
      "outputs": []
    },
    {
      "cell_type": "markdown",
      "metadata": {
        "id": "77Enfcaw_YcX"
      },
      "source": [
        "Reading dataset"
      ]
    },
    {
      "cell_type": "code",
      "metadata": {
        "id": "8kLU79Bt_Ibx",
        "outputId": "20fb1376-d541-41d5-f9bf-317a1db68ec8"
      },
      "source": [
        "df = pd.read_csv('Ganga_data.csv')\n",
        "df.head()"
      ],
      "execution_count": null,
      "outputs": [
        {
          "output_type": "execute_result",
          "data": {
            "text/html": [
              "<div>\n",
              "<style scoped>\n",
              "    .dataframe tbody tr th:only-of-type {\n",
              "        vertical-align: middle;\n",
              "    }\n",
              "\n",
              "    .dataframe tbody tr th {\n",
              "        vertical-align: top;\n",
              "    }\n",
              "\n",
              "    .dataframe thead th {\n",
              "        text-align: right;\n",
              "    }\n",
              "</style>\n",
              "<table border=\"1\" class=\"dataframe\">\n",
              "  <thead>\n",
              "    <tr style=\"text-align: right;\">\n",
              "      <th></th>\n",
              "      <th>Date</th>\n",
              "      <th>Frame No</th>\n",
              "      <th>BAT</th>\n",
              "      <th>COND</th>\n",
              "      <th>DO</th>\n",
              "      <th>ORP</th>\n",
              "      <th>PH</th>\n",
              "      <th>WT</th>\n",
              "    </tr>\n",
              "  </thead>\n",
              "  <tbody>\n",
              "    <tr>\n",
              "      <th>0</th>\n",
              "      <td>12-01-2019 12:57</td>\n",
              "      <td>0</td>\n",
              "      <td>91.0</td>\n",
              "      <td>0.044698</td>\n",
              "      <td>14.832754</td>\n",
              "      <td>0.084822</td>\n",
              "      <td>8.879727</td>\n",
              "      <td>22.650238</td>\n",
              "    </tr>\n",
              "    <tr>\n",
              "      <th>1</th>\n",
              "      <td>12-01-2019 12:58</td>\n",
              "      <td>1</td>\n",
              "      <td>92.0</td>\n",
              "      <td>0.044651</td>\n",
              "      <td>14.170345</td>\n",
              "      <td>0.086292</td>\n",
              "      <td>8.866815</td>\n",
              "      <td>22.567017</td>\n",
              "    </tr>\n",
              "    <tr>\n",
              "      <th>2</th>\n",
              "      <td>12-01-2019 14:54</td>\n",
              "      <td>0</td>\n",
              "      <td>90.0</td>\n",
              "      <td>46.195190</td>\n",
              "      <td>13.501176</td>\n",
              "      <td>0.142900</td>\n",
              "      <td>12.359906</td>\n",
              "      <td>18.400787</td>\n",
              "    </tr>\n",
              "    <tr>\n",
              "      <th>3</th>\n",
              "      <td>12-01-2019 14:55</td>\n",
              "      <td>1</td>\n",
              "      <td>91.0</td>\n",
              "      <td>52.609680</td>\n",
              "      <td>20.752865</td>\n",
              "      <td>0.146236</td>\n",
              "      <td>12.825684</td>\n",
              "      <td>18.013641</td>\n",
              "    </tr>\n",
              "    <tr>\n",
              "      <th>4</th>\n",
              "      <td>12-01-2019 14:56</td>\n",
              "      <td>2</td>\n",
              "      <td>91.0</td>\n",
              "      <td>52.399826</td>\n",
              "      <td>12.409351</td>\n",
              "      <td>0.146724</td>\n",
              "      <td>12.998978</td>\n",
              "      <td>18.184570</td>\n",
              "    </tr>\n",
              "  </tbody>\n",
              "</table>\n",
              "</div>"
            ],
            "text/plain": [
              "               Date  Frame No   BAT       COND         DO       ORP  \\\n",
              "0  12-01-2019 12:57         0  91.0   0.044698  14.832754  0.084822   \n",
              "1  12-01-2019 12:58         1  92.0   0.044651  14.170345  0.086292   \n",
              "2  12-01-2019 14:54         0  90.0  46.195190  13.501176  0.142900   \n",
              "3  12-01-2019 14:55         1  91.0  52.609680  20.752865  0.146236   \n",
              "4  12-01-2019 14:56         2  91.0  52.399826  12.409351  0.146724   \n",
              "\n",
              "          PH         WT  \n",
              "0   8.879727  22.650238  \n",
              "1   8.866815  22.567017  \n",
              "2  12.359906  18.400787  \n",
              "3  12.825684  18.013641  \n",
              "4  12.998978  18.184570  "
            ]
          },
          "metadata": {
            "tags": []
          },
          "execution_count": 2
        }
      ]
    },
    {
      "cell_type": "code",
      "metadata": {
        "id": "f7vw5OfZ_Ib4",
        "outputId": "821c1042-82d8-4936-d43d-543acbd648b0"
      },
      "source": [
        "X = df[['BAT', 'COND', 'DO', 'ORP', 'PH', 'WT']]\n",
        "X"
      ],
      "execution_count": null,
      "outputs": [
        {
          "output_type": "execute_result",
          "data": {
            "text/html": [
              "<div>\n",
              "<style scoped>\n",
              "    .dataframe tbody tr th:only-of-type {\n",
              "        vertical-align: middle;\n",
              "    }\n",
              "\n",
              "    .dataframe tbody tr th {\n",
              "        vertical-align: top;\n",
              "    }\n",
              "\n",
              "    .dataframe thead th {\n",
              "        text-align: right;\n",
              "    }\n",
              "</style>\n",
              "<table border=\"1\" class=\"dataframe\">\n",
              "  <thead>\n",
              "    <tr style=\"text-align: right;\">\n",
              "      <th></th>\n",
              "      <th>BAT</th>\n",
              "      <th>COND</th>\n",
              "      <th>DO</th>\n",
              "      <th>ORP</th>\n",
              "      <th>PH</th>\n",
              "      <th>WT</th>\n",
              "    </tr>\n",
              "  </thead>\n",
              "  <tbody>\n",
              "    <tr>\n",
              "      <th>0</th>\n",
              "      <td>91.0</td>\n",
              "      <td>0.044698</td>\n",
              "      <td>14.832754</td>\n",
              "      <td>0.084822</td>\n",
              "      <td>8.879727</td>\n",
              "      <td>22.650238</td>\n",
              "    </tr>\n",
              "    <tr>\n",
              "      <th>1</th>\n",
              "      <td>92.0</td>\n",
              "      <td>0.044651</td>\n",
              "      <td>14.170345</td>\n",
              "      <td>0.086292</td>\n",
              "      <td>8.866815</td>\n",
              "      <td>22.567017</td>\n",
              "    </tr>\n",
              "    <tr>\n",
              "      <th>2</th>\n",
              "      <td>90.0</td>\n",
              "      <td>46.195190</td>\n",
              "      <td>13.501176</td>\n",
              "      <td>0.142900</td>\n",
              "      <td>12.359906</td>\n",
              "      <td>18.400787</td>\n",
              "    </tr>\n",
              "    <tr>\n",
              "      <th>3</th>\n",
              "      <td>91.0</td>\n",
              "      <td>52.609680</td>\n",
              "      <td>20.752865</td>\n",
              "      <td>0.146236</td>\n",
              "      <td>12.825684</td>\n",
              "      <td>18.013641</td>\n",
              "    </tr>\n",
              "    <tr>\n",
              "      <th>4</th>\n",
              "      <td>91.0</td>\n",
              "      <td>52.399826</td>\n",
              "      <td>12.409351</td>\n",
              "      <td>0.146724</td>\n",
              "      <td>12.998978</td>\n",
              "      <td>18.184570</td>\n",
              "    </tr>\n",
              "    <tr>\n",
              "      <th>...</th>\n",
              "      <td>...</td>\n",
              "      <td>...</td>\n",
              "      <td>...</td>\n",
              "      <td>...</td>\n",
              "      <td>...</td>\n",
              "      <td>...</td>\n",
              "    </tr>\n",
              "    <tr>\n",
              "      <th>46978</th>\n",
              "      <td>87.0</td>\n",
              "      <td>721.867250</td>\n",
              "      <td>10.008608</td>\n",
              "      <td>0.116298</td>\n",
              "      <td>9.377568</td>\n",
              "      <td>27.130707</td>\n",
              "    </tr>\n",
              "    <tr>\n",
              "      <th>46979</th>\n",
              "      <td>85.0</td>\n",
              "      <td>722.117000</td>\n",
              "      <td>10.008608</td>\n",
              "      <td>0.116288</td>\n",
              "      <td>9.374988</td>\n",
              "      <td>27.142334</td>\n",
              "    </tr>\n",
              "    <tr>\n",
              "      <th>46980</th>\n",
              "      <td>80.0</td>\n",
              "      <td>722.028700</td>\n",
              "      <td>10.008608</td>\n",
              "      <td>0.116238</td>\n",
              "      <td>9.375849</td>\n",
              "      <td>27.139954</td>\n",
              "    </tr>\n",
              "    <tr>\n",
              "      <th>46981</th>\n",
              "      <td>81.0</td>\n",
              "      <td>721.960700</td>\n",
              "      <td>10.008608</td>\n",
              "      <td>0.116218</td>\n",
              "      <td>9.380211</td>\n",
              "      <td>27.135010</td>\n",
              "    </tr>\n",
              "    <tr>\n",
              "      <th>46982</th>\n",
              "      <td>83.0</td>\n",
              "      <td>722.114560</td>\n",
              "      <td>10.008608</td>\n",
              "      <td>0.116183</td>\n",
              "      <td>9.370649</td>\n",
              "      <td>27.131470</td>\n",
              "    </tr>\n",
              "  </tbody>\n",
              "</table>\n",
              "<p>46983 rows × 6 columns</p>\n",
              "</div>"
            ],
            "text/plain": [
              "        BAT        COND         DO       ORP         PH         WT\n",
              "0      91.0    0.044698  14.832754  0.084822   8.879727  22.650238\n",
              "1      92.0    0.044651  14.170345  0.086292   8.866815  22.567017\n",
              "2      90.0   46.195190  13.501176  0.142900  12.359906  18.400787\n",
              "3      91.0   52.609680  20.752865  0.146236  12.825684  18.013641\n",
              "4      91.0   52.399826  12.409351  0.146724  12.998978  18.184570\n",
              "...     ...         ...        ...       ...        ...        ...\n",
              "46978  87.0  721.867250  10.008608  0.116298   9.377568  27.130707\n",
              "46979  85.0  722.117000  10.008608  0.116288   9.374988  27.142334\n",
              "46980  80.0  722.028700  10.008608  0.116238   9.375849  27.139954\n",
              "46981  81.0  721.960700  10.008608  0.116218   9.380211  27.135010\n",
              "46982  83.0  722.114560  10.008608  0.116183   9.370649  27.131470\n",
              "\n",
              "[46983 rows x 6 columns]"
            ]
          },
          "metadata": {
            "tags": []
          },
          "execution_count": 3
        }
      ]
    },
    {
      "cell_type": "markdown",
      "metadata": {
        "id": "jUUovFYF_d0X"
      },
      "source": [
        "Finding k using elow method"
      ]
    },
    {
      "cell_type": "code",
      "metadata": {
        "id": "ahIXJUpZ_Ib_",
        "outputId": "84526e38-5925-4c6e-d2c8-dd52d1321b9e"
      },
      "source": [
        "wcss = []\n",
        "for i in range(1, 11):\n",
        "    kmeans = KMeans(n_clusters = i)\n",
        "    kmeans.fit(X)\n",
        "    wcss.append(kmeans.inertia_)\n",
        "wcss"
      ],
      "execution_count": null,
      "outputs": [
        {
          "output_type": "execute_result",
          "data": {
            "text/plain": [
              "[1691059057.0376759,\n",
              " 522205688.05087614,\n",
              " 219578991.31481624,\n",
              " 116056892.35494024,\n",
              " 74120846.50755595,\n",
              " 45568649.49158244,\n",
              " 32652968.73655019,\n",
              " 23902054.755130023,\n",
              " 19171316.199097097,\n",
              " 15243209.50190185]"
            ]
          },
          "metadata": {
            "tags": []
          },
          "execution_count": 4
        }
      ]
    },
    {
      "cell_type": "code",
      "metadata": {
        "id": "pmyO-Shy_IcE",
        "outputId": "3221e8c4-75ef-4b40-8fd7-4c14f2febf2e"
      },
      "source": [
        "plt.plot(range(1, 11), wcss)\n",
        "plt.title('The Elbow Point Graph')\n",
        "plt.xlabel('Number of clusters')\n",
        "plt.ylabel('WCSS')\n",
        "plt.show()"
      ],
      "execution_count": null,
      "outputs": [
        {
          "output_type": "display_data",
          "data": {
            "image/png": "[encoded data removed]",
            "text/plain": [
              "<Figure size 432x288 with 1 Axes>"
            ]
          },
          "metadata": {
            "tags": [],
            "needs_background": "light"
          }
        }
      ]
    },
    {
      "cell_type": "markdown",
      "metadata": {
        "id": "I1DhcJcK_o-A"
      },
      "source": [
        "So, k = 4."
      ]
    },
    {
      "cell_type": "code",
      "metadata": {
        "id": "JtAeEbwe_IcJ",
        "outputId": "04af0d78-3b53-4fd0-dc6b-859dd649d27c"
      },
      "source": [
        "#Fitting K-Means to the dataset\n",
        "kmeans = KMeans(n_clusters = 4, init = 'k-means++', random_state = 0)\n",
        "\n",
        "#Returns a label for each data point based on the number of clusters\n",
        "y = kmeans.fit_predict(X)\n",
        "print(y)"
      ],
      "execution_count": null,
      "outputs": [
        {
          "output_type": "stream",
          "text": [
            "[1 1 1 ... 0 0 0]\n"
          ],
          "name": "stdout"
        }
      ]
    },
    {
      "cell_type": "code",
      "metadata": {
        "id": "2_Oa1Z7f_IcP"
      },
      "source": [
        "df['Cluster'] = y"
      ],
      "execution_count": null,
      "outputs": []
    },
    {
      "cell_type": "code",
      "metadata": {
        "id": "nC6ESbfj_IcY",
        "outputId": "637e136a-ce8f-47ad-97eb-4524441a7a51"
      },
      "source": [
        "df.head()"
      ],
      "execution_count": null,
      "outputs": [
        {
          "output_type": "execute_result",
          "data": {
            "text/html": [
              "<div>\n",
              "<style scoped>\n",
              "    .dataframe tbody tr th:only-of-type {\n",
              "        vertical-align: middle;\n",
              "    }\n",
              "\n",
              "    .dataframe tbody tr th {\n",
              "        vertical-align: top;\n",
              "    }\n",
              "\n",
              "    .dataframe thead th {\n",
              "        text-align: right;\n",
              "    }\n",
              "</style>\n",
              "<table border=\"1\" class=\"dataframe\">\n",
              "  <thead>\n",
              "    <tr style=\"text-align: right;\">\n",
              "      <th></th>\n",
              "      <th>Date</th>\n",
              "      <th>Frame No</th>\n",
              "      <th>BAT</th>\n",
              "      <th>COND</th>\n",
              "      <th>DO</th>\n",
              "      <th>ORP</th>\n",
              "      <th>PH</th>\n",
              "      <th>WT</th>\n",
              "      <th>Cluster</th>\n",
              "    </tr>\n",
              "  </thead>\n",
              "  <tbody>\n",
              "    <tr>\n",
              "      <th>0</th>\n",
              "      <td>12-01-2019 12:57</td>\n",
              "      <td>0</td>\n",
              "      <td>91.0</td>\n",
              "      <td>0.044698</td>\n",
              "      <td>14.832754</td>\n",
              "      <td>0.084822</td>\n",
              "      <td>8.879727</td>\n",
              "      <td>22.650238</td>\n",
              "      <td>1</td>\n",
              "    </tr>\n",
              "    <tr>\n",
              "      <th>1</th>\n",
              "      <td>12-01-2019 12:58</td>\n",
              "      <td>1</td>\n",
              "      <td>92.0</td>\n",
              "      <td>0.044651</td>\n",
              "      <td>14.170345</td>\n",
              "      <td>0.086292</td>\n",
              "      <td>8.866815</td>\n",
              "      <td>22.567017</td>\n",
              "      <td>1</td>\n",
              "    </tr>\n",
              "    <tr>\n",
              "      <th>2</th>\n",
              "      <td>12-01-2019 14:54</td>\n",
              "      <td>0</td>\n",
              "      <td>90.0</td>\n",
              "      <td>46.195190</td>\n",
              "      <td>13.501176</td>\n",
              "      <td>0.142900</td>\n",
              "      <td>12.359906</td>\n",
              "      <td>18.400787</td>\n",
              "      <td>1</td>\n",
              "    </tr>\n",
              "    <tr>\n",
              "      <th>3</th>\n",
              "      <td>12-01-2019 14:55</td>\n",
              "      <td>1</td>\n",
              "      <td>91.0</td>\n",
              "      <td>52.609680</td>\n",
              "      <td>20.752865</td>\n",
              "      <td>0.146236</td>\n",
              "      <td>12.825684</td>\n",
              "      <td>18.013641</td>\n",
              "      <td>1</td>\n",
              "    </tr>\n",
              "    <tr>\n",
              "      <th>4</th>\n",
              "      <td>12-01-2019 14:56</td>\n",
              "      <td>2</td>\n",
              "      <td>91.0</td>\n",
              "      <td>52.399826</td>\n",
              "      <td>12.409351</td>\n",
              "      <td>0.146724</td>\n",
              "      <td>12.998978</td>\n",
              "      <td>18.184570</td>\n",
              "      <td>1</td>\n",
              "    </tr>\n",
              "  </tbody>\n",
              "</table>\n",
              "</div>"
            ],
            "text/plain": [
              "               Date  Frame No   BAT       COND         DO       ORP  \\\n",
              "0  12-01-2019 12:57         0  91.0   0.044698  14.832754  0.084822   \n",
              "1  12-01-2019 12:58         1  92.0   0.044651  14.170345  0.086292   \n",
              "2  12-01-2019 14:54         0  90.0  46.195190  13.501176  0.142900   \n",
              "3  12-01-2019 14:55         1  91.0  52.609680  20.752865  0.146236   \n",
              "4  12-01-2019 14:56         2  91.0  52.399826  12.409351  0.146724   \n",
              "\n",
              "          PH         WT  Cluster  \n",
              "0   8.879727  22.650238        1  \n",
              "1   8.866815  22.567017        1  \n",
              "2  12.359906  18.400787        1  \n",
              "3  12.825684  18.013641        1  \n",
              "4  12.998978  18.184570        1  "
            ]
          },
          "metadata": {
            "tags": []
          },
          "execution_count": 8
        }
      ]
    },
    {
      "cell_type": "code",
      "metadata": {
        "id": "tjNJYnfI_Ice",
        "outputId": "9edd12ae-fc24-4bce-e0e6-6064eb74ca5e"
      },
      "source": [
        "plt.figure(figsize = (10, 6))\n",
        "plt.scatter(df['COND'], df['DO'], c = y, s = 30)\n",
        "plt.xlabel('COND_values')\n",
        "plt.ylabel('DO_values')\n",
        "plt.title('Visualizing the clusters')\n",
        "plt.show()"
      ],
      "execution_count": null,
      "outputs": [
        {
          "output_type": "display_data",
          "data": {
            "image/png": "[encoded data removed]",
            "text/plain": [
              "<Figure size 720x432 with 1 Axes>"
            ]
          },
          "metadata": {
            "tags": [],
            "needs_background": "light"
          }
        }
      ]
    },
    {
      "cell_type": "code",
      "metadata": {
        "id": "V3uGaGpH_Icj"
      },
      "source": [
        "df.to_csv('Ganga_Classification_data.csv', index = False)"
      ],
      "execution_count": null,
      "outputs": []
    }
  ]
}