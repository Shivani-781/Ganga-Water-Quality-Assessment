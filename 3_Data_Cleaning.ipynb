{
  "nbformat": 4,
  "nbformat_minor": 0,
  "metadata": {
    "kernelspec": {
      "display_name": "Python 3",
      "language": "python",
      "name": "python3"
    },
    "language_info": {
      "codemirror_mode": {
        "name": "ipython",
        "version": 3
      },
      "file_extension": ".py",
      "mimetype": "text/x-python",
      "name": "python",
      "nbconvert_exporter": "python",
      "pygments_lexer": "ipython3",
      "version": "3.7.7"
    },
    "colab": {
      "name": "3. Data Cleaning.ipynb",
      "provenance": [],
      "include_colab_link": true
    }
  },
  "cells": [
    {
      "cell_type": "markdown",
      "metadata": {
        "id": "view-in-github",
        "colab_type": "text"
      },
      "source": [
        "<a href=\"https://colab.research.google.com/github/Shivani-781/Ganga-Water-Quality-Assessment/blob/main/3_Data_Cleaning.ipynb\" target=\"_parent\"><img src=\"https://colab.research.google.com/assets/colab-badge.svg\" alt=\"Open In Colab\"/></a>"
      ]
    },
    {
      "cell_type": "markdown",
      "metadata": {
        "id": "La0-QP3q3F5k"
      },
      "source": [
        "# Data Cleaning - River Ganga Dataset"
      ]
    },
    {
      "cell_type": "markdown",
      "metadata": {
        "id": "IS6g9X7E3F5n"
      },
      "source": [
        "Importing necessary libraries"
      ]
    },
    {
      "cell_type": "code",
      "metadata": {
        "id": "6CJMEHac3F5p"
      },
      "source": [
        "import pandas as pd\n",
        "import numpy as np"
      ],
      "execution_count": null,
      "outputs": []
    },
    {
      "cell_type": "markdown",
      "metadata": {
        "id": "kyzQYy4z3F51"
      },
      "source": [
        "Reading the dataset"
      ]
    },
    {
      "cell_type": "code",
      "metadata": {
        "id": "Aspk-Kb43F53"
      },
      "source": [
        "#Ganga_data\n",
        "df = pd.read_csv('Ganga.csv')"
      ],
      "execution_count": null,
      "outputs": []
    },
    {
      "cell_type": "code",
      "metadata": {
        "id": "YAEBLetE3F6A",
        "outputId": "b4a1912f-4229-4c42-9264-289af30ba0d4"
      },
      "source": [
        "df"
      ],
      "execution_count": null,
      "outputs": [
        {
          "output_type": "execute_result",
          "data": {
            "text/html": [
              "<div>\n",
              "<style scoped>\n",
              "    .dataframe tbody tr th:only-of-type {\n",
              "        vertical-align: middle;\n",
              "    }\n",
              "\n",
              "    .dataframe tbody tr th {\n",
              "        vertical-align: top;\n",
              "    }\n",
              "\n",
              "    .dataframe thead th {\n",
              "        text-align: right;\n",
              "    }\n",
              "</style>\n",
              "<table border=\"1\" class=\"dataframe\">\n",
              "  <thead>\n",
              "    <tr style=\"text-align: right;\">\n",
              "      <th></th>\n",
              "      <th>Date</th>\n",
              "      <th>Frame No</th>\n",
              "      <th>BAT</th>\n",
              "      <th>COND</th>\n",
              "      <th>DO</th>\n",
              "      <th>ORP</th>\n",
              "      <th>PH</th>\n",
              "      <th>WT</th>\n",
              "    </tr>\n",
              "  </thead>\n",
              "  <tbody>\n",
              "    <tr>\n",
              "      <th>0</th>\n",
              "      <td>12-01-2019 12:57</td>\n",
              "      <td>0</td>\n",
              "      <td>91.0</td>\n",
              "      <td>0.044698</td>\n",
              "      <td>-0.354073</td>\n",
              "      <td>0.084822</td>\n",
              "      <td>8.879727</td>\n",
              "      <td>22.650238</td>\n",
              "    </tr>\n",
              "    <tr>\n",
              "      <th>1</th>\n",
              "      <td>12-01-2019 12:58</td>\n",
              "      <td>1</td>\n",
              "      <td>92.0</td>\n",
              "      <td>0.044651</td>\n",
              "      <td>-0.355277</td>\n",
              "      <td>0.086292</td>\n",
              "      <td>8.866815</td>\n",
              "      <td>22.567017</td>\n",
              "    </tr>\n",
              "    <tr>\n",
              "      <th>2</th>\n",
              "      <td>12-01-2019 14:54</td>\n",
              "      <td>0</td>\n",
              "      <td>90.0</td>\n",
              "      <td>46.195190</td>\n",
              "      <td>13.501176</td>\n",
              "      <td>0.142900</td>\n",
              "      <td>12.359906</td>\n",
              "      <td>18.400787</td>\n",
              "    </tr>\n",
              "    <tr>\n",
              "      <th>3</th>\n",
              "      <td>12-01-2019 14:55</td>\n",
              "      <td>1</td>\n",
              "      <td>91.0</td>\n",
              "      <td>52.609680</td>\n",
              "      <td>20.752865</td>\n",
              "      <td>0.146236</td>\n",
              "      <td>12.825684</td>\n",
              "      <td>18.013641</td>\n",
              "    </tr>\n",
              "    <tr>\n",
              "      <th>4</th>\n",
              "      <td>12-01-2019 14:56</td>\n",
              "      <td>2</td>\n",
              "      <td>91.0</td>\n",
              "      <td>52.399826</td>\n",
              "      <td>12.409351</td>\n",
              "      <td>0.146724</td>\n",
              "      <td>12.998978</td>\n",
              "      <td>18.184570</td>\n",
              "    </tr>\n",
              "    <tr>\n",
              "      <th>...</th>\n",
              "      <td>...</td>\n",
              "      <td>...</td>\n",
              "      <td>...</td>\n",
              "      <td>...</td>\n",
              "      <td>...</td>\n",
              "      <td>...</td>\n",
              "      <td>...</td>\n",
              "      <td>...</td>\n",
              "    </tr>\n",
              "    <tr>\n",
              "      <th>46978</th>\n",
              "      <td>05-03-2020 17:40</td>\n",
              "      <td>193</td>\n",
              "      <td>87.0</td>\n",
              "      <td>721.867250</td>\n",
              "      <td>-24.438950</td>\n",
              "      <td>0.116298</td>\n",
              "      <td>9.377568</td>\n",
              "      <td>27.130707</td>\n",
              "    </tr>\n",
              "    <tr>\n",
              "      <th>46979</th>\n",
              "      <td>05-03-2020 17:41</td>\n",
              "      <td>194</td>\n",
              "      <td>85.0</td>\n",
              "      <td>722.117000</td>\n",
              "      <td>-25.474840</td>\n",
              "      <td>0.116288</td>\n",
              "      <td>9.374988</td>\n",
              "      <td>27.142334</td>\n",
              "    </tr>\n",
              "    <tr>\n",
              "      <th>46980</th>\n",
              "      <td>05-03-2020 17:42</td>\n",
              "      <td>195</td>\n",
              "      <td>80.0</td>\n",
              "      <td>722.028700</td>\n",
              "      <td>-25.688156</td>\n",
              "      <td>0.116238</td>\n",
              "      <td>9.375849</td>\n",
              "      <td>27.139954</td>\n",
              "    </tr>\n",
              "    <tr>\n",
              "      <th>46981</th>\n",
              "      <td>05-03-2020 17:43</td>\n",
              "      <td>196</td>\n",
              "      <td>81.0</td>\n",
              "      <td>721.960700</td>\n",
              "      <td>-26.467228</td>\n",
              "      <td>0.116218</td>\n",
              "      <td>9.380211</td>\n",
              "      <td>27.135010</td>\n",
              "    </tr>\n",
              "    <tr>\n",
              "      <th>46982</th>\n",
              "      <td>05-03-2020 17:44</td>\n",
              "      <td>197</td>\n",
              "      <td>83.0</td>\n",
              "      <td>722.114560</td>\n",
              "      <td>-28.511827</td>\n",
              "      <td>0.116183</td>\n",
              "      <td>9.370649</td>\n",
              "      <td>27.131470</td>\n",
              "    </tr>\n",
              "  </tbody>\n",
              "</table>\n",
              "<p>46983 rows × 8 columns</p>\n",
              "</div>"
            ],
            "text/plain": [
              "                   Date  Frame No   BAT        COND         DO       ORP  \\\n",
              "0      12-01-2019 12:57         0  91.0    0.044698  -0.354073  0.084822   \n",
              "1      12-01-2019 12:58         1  92.0    0.044651  -0.355277  0.086292   \n",
              "2      12-01-2019 14:54         0  90.0   46.195190  13.501176  0.142900   \n",
              "3      12-01-2019 14:55         1  91.0   52.609680  20.752865  0.146236   \n",
              "4      12-01-2019 14:56         2  91.0   52.399826  12.409351  0.146724   \n",
              "...                 ...       ...   ...         ...        ...       ...   \n",
              "46978  05-03-2020 17:40       193  87.0  721.867250 -24.438950  0.116298   \n",
              "46979  05-03-2020 17:41       194  85.0  722.117000 -25.474840  0.116288   \n",
              "46980  05-03-2020 17:42       195  80.0  722.028700 -25.688156  0.116238   \n",
              "46981  05-03-2020 17:43       196  81.0  721.960700 -26.467228  0.116218   \n",
              "46982  05-03-2020 17:44       197  83.0  722.114560 -28.511827  0.116183   \n",
              "\n",
              "              PH         WT  \n",
              "0       8.879727  22.650238  \n",
              "1       8.866815  22.567017  \n",
              "2      12.359906  18.400787  \n",
              "3      12.825684  18.013641  \n",
              "4      12.998978  18.184570  \n",
              "...          ...        ...  \n",
              "46978   9.377568  27.130707  \n",
              "46979   9.374988  27.142334  \n",
              "46980   9.375849  27.139954  \n",
              "46981   9.380211  27.135010  \n",
              "46982   9.370649  27.131470  \n",
              "\n",
              "[46983 rows x 8 columns]"
            ]
          },
          "metadata": {
            "tags": []
          },
          "execution_count": 4
        }
      ]
    },
    {
      "cell_type": "markdown",
      "metadata": {
        "id": "s2NoKWol3F6J"
      },
      "source": [
        "Replacing negative values with NaN"
      ]
    },
    {
      "cell_type": "code",
      "metadata": {
        "id": "yF8fEfN_3F6K"
      },
      "source": [
        "num = df._get_numeric_data()"
      ],
      "execution_count": null,
      "outputs": []
    },
    {
      "cell_type": "code",
      "metadata": {
        "id": "ks_BOI203F6R"
      },
      "source": [
        "num[num<0] = np.nan"
      ],
      "execution_count": null,
      "outputs": []
    },
    {
      "cell_type": "code",
      "metadata": {
        "id": "lonsbXoR3F6Z",
        "outputId": "898acf2d-89ec-4de9-eb0f-1b7940c5eff5"
      },
      "source": [
        "df"
      ],
      "execution_count": null,
      "outputs": [
        {
          "output_type": "execute_result",
          "data": {
            "text/html": [
              "<div>\n",
              "<style scoped>\n",
              "    .dataframe tbody tr th:only-of-type {\n",
              "        vertical-align: middle;\n",
              "    }\n",
              "\n",
              "    .dataframe tbody tr th {\n",
              "        vertical-align: top;\n",
              "    }\n",
              "\n",
              "    .dataframe thead th {\n",
              "        text-align: right;\n",
              "    }\n",
              "</style>\n",
              "<table border=\"1\" class=\"dataframe\">\n",
              "  <thead>\n",
              "    <tr style=\"text-align: right;\">\n",
              "      <th></th>\n",
              "      <th>Date</th>\n",
              "      <th>Frame No</th>\n",
              "      <th>BAT</th>\n",
              "      <th>COND</th>\n",
              "      <th>DO</th>\n",
              "      <th>ORP</th>\n",
              "      <th>PH</th>\n",
              "      <th>WT</th>\n",
              "    </tr>\n",
              "  </thead>\n",
              "  <tbody>\n",
              "    <tr>\n",
              "      <th>0</th>\n",
              "      <td>12-01-2019 12:57</td>\n",
              "      <td>0</td>\n",
              "      <td>91.0</td>\n",
              "      <td>0.044698</td>\n",
              "      <td>NaN</td>\n",
              "      <td>0.084822</td>\n",
              "      <td>8.879727</td>\n",
              "      <td>22.650238</td>\n",
              "    </tr>\n",
              "    <tr>\n",
              "      <th>1</th>\n",
              "      <td>12-01-2019 12:58</td>\n",
              "      <td>1</td>\n",
              "      <td>92.0</td>\n",
              "      <td>0.044651</td>\n",
              "      <td>NaN</td>\n",
              "      <td>0.086292</td>\n",
              "      <td>8.866815</td>\n",
              "      <td>22.567017</td>\n",
              "    </tr>\n",
              "    <tr>\n",
              "      <th>2</th>\n",
              "      <td>12-01-2019 14:54</td>\n",
              "      <td>0</td>\n",
              "      <td>90.0</td>\n",
              "      <td>46.195190</td>\n",
              "      <td>13.501176</td>\n",
              "      <td>0.142900</td>\n",
              "      <td>12.359906</td>\n",
              "      <td>18.400787</td>\n",
              "    </tr>\n",
              "    <tr>\n",
              "      <th>3</th>\n",
              "      <td>12-01-2019 14:55</td>\n",
              "      <td>1</td>\n",
              "      <td>91.0</td>\n",
              "      <td>52.609680</td>\n",
              "      <td>20.752865</td>\n",
              "      <td>0.146236</td>\n",
              "      <td>12.825684</td>\n",
              "      <td>18.013641</td>\n",
              "    </tr>\n",
              "    <tr>\n",
              "      <th>4</th>\n",
              "      <td>12-01-2019 14:56</td>\n",
              "      <td>2</td>\n",
              "      <td>91.0</td>\n",
              "      <td>52.399826</td>\n",
              "      <td>12.409351</td>\n",
              "      <td>0.146724</td>\n",
              "      <td>12.998978</td>\n",
              "      <td>18.184570</td>\n",
              "    </tr>\n",
              "    <tr>\n",
              "      <th>...</th>\n",
              "      <td>...</td>\n",
              "      <td>...</td>\n",
              "      <td>...</td>\n",
              "      <td>...</td>\n",
              "      <td>...</td>\n",
              "      <td>...</td>\n",
              "      <td>...</td>\n",
              "      <td>...</td>\n",
              "    </tr>\n",
              "    <tr>\n",
              "      <th>46978</th>\n",
              "      <td>05-03-2020 17:40</td>\n",
              "      <td>193</td>\n",
              "      <td>87.0</td>\n",
              "      <td>721.867250</td>\n",
              "      <td>NaN</td>\n",
              "      <td>0.116298</td>\n",
              "      <td>9.377568</td>\n",
              "      <td>27.130707</td>\n",
              "    </tr>\n",
              "    <tr>\n",
              "      <th>46979</th>\n",
              "      <td>05-03-2020 17:41</td>\n",
              "      <td>194</td>\n",
              "      <td>85.0</td>\n",
              "      <td>722.117000</td>\n",
              "      <td>NaN</td>\n",
              "      <td>0.116288</td>\n",
              "      <td>9.374988</td>\n",
              "      <td>27.142334</td>\n",
              "    </tr>\n",
              "    <tr>\n",
              "      <th>46980</th>\n",
              "      <td>05-03-2020 17:42</td>\n",
              "      <td>195</td>\n",
              "      <td>80.0</td>\n",
              "      <td>722.028700</td>\n",
              "      <td>NaN</td>\n",
              "      <td>0.116238</td>\n",
              "      <td>9.375849</td>\n",
              "      <td>27.139954</td>\n",
              "    </tr>\n",
              "    <tr>\n",
              "      <th>46981</th>\n",
              "      <td>05-03-2020 17:43</td>\n",
              "      <td>196</td>\n",
              "      <td>81.0</td>\n",
              "      <td>721.960700</td>\n",
              "      <td>NaN</td>\n",
              "      <td>0.116218</td>\n",
              "      <td>9.380211</td>\n",
              "      <td>27.135010</td>\n",
              "    </tr>\n",
              "    <tr>\n",
              "      <th>46982</th>\n",
              "      <td>05-03-2020 17:44</td>\n",
              "      <td>197</td>\n",
              "      <td>83.0</td>\n",
              "      <td>722.114560</td>\n",
              "      <td>NaN</td>\n",
              "      <td>0.116183</td>\n",
              "      <td>9.370649</td>\n",
              "      <td>27.131470</td>\n",
              "    </tr>\n",
              "  </tbody>\n",
              "</table>\n",
              "<p>46983 rows × 8 columns</p>\n",
              "</div>"
            ],
            "text/plain": [
              "                   Date  Frame No   BAT        COND         DO       ORP  \\\n",
              "0      12-01-2019 12:57         0  91.0    0.044698        NaN  0.084822   \n",
              "1      12-01-2019 12:58         1  92.0    0.044651        NaN  0.086292   \n",
              "2      12-01-2019 14:54         0  90.0   46.195190  13.501176  0.142900   \n",
              "3      12-01-2019 14:55         1  91.0   52.609680  20.752865  0.146236   \n",
              "4      12-01-2019 14:56         2  91.0   52.399826  12.409351  0.146724   \n",
              "...                 ...       ...   ...         ...        ...       ...   \n",
              "46978  05-03-2020 17:40       193  87.0  721.867250        NaN  0.116298   \n",
              "46979  05-03-2020 17:41       194  85.0  722.117000        NaN  0.116288   \n",
              "46980  05-03-2020 17:42       195  80.0  722.028700        NaN  0.116238   \n",
              "46981  05-03-2020 17:43       196  81.0  721.960700        NaN  0.116218   \n",
              "46982  05-03-2020 17:44       197  83.0  722.114560        NaN  0.116183   \n",
              "\n",
              "              PH         WT  \n",
              "0       8.879727  22.650238  \n",
              "1       8.866815  22.567017  \n",
              "2      12.359906  18.400787  \n",
              "3      12.825684  18.013641  \n",
              "4      12.998978  18.184570  \n",
              "...          ...        ...  \n",
              "46978   9.377568  27.130707  \n",
              "46979   9.374988  27.142334  \n",
              "46980   9.375849  27.139954  \n",
              "46981   9.380211  27.135010  \n",
              "46982   9.370649  27.131470  \n",
              "\n",
              "[46983 rows x 8 columns]"
            ]
          },
          "metadata": {
            "tags": []
          },
          "execution_count": 7
        }
      ]
    },
    {
      "cell_type": "markdown",
      "metadata": {
        "id": "PNYSXnBw3F6s"
      },
      "source": [
        "Replacing NaN values in the attributes with the mean of the last 5 values"
      ]
    },
    {
      "cell_type": "code",
      "metadata": {
        "id": "vjKC_Cep3F6t",
        "outputId": "883f71eb-6fe7-4ef4-894a-a6ca96db4b2b"
      },
      "source": [
        "do = df['DO']\n",
        "do"
      ],
      "execution_count": null,
      "outputs": [
        {
          "output_type": "execute_result",
          "data": {
            "text/plain": [
              "0              NaN\n",
              "1              NaN\n",
              "2        13.501176\n",
              "3        20.752865\n",
              "4        12.409351\n",
              "           ...    \n",
              "46978          NaN\n",
              "46979          NaN\n",
              "46980          NaN\n",
              "46981          NaN\n",
              "46982          NaN\n",
              "Name: DO, Length: 46983, dtype: float64"
            ]
          },
          "metadata": {
            "tags": []
          },
          "execution_count": 8
        }
      ]
    },
    {
      "cell_type": "code",
      "metadata": {
        "id": "rRAI2ZKN3F60",
        "outputId": "38d2f47a-ebc5-4d59-c8af-15534b0b0501"
      },
      "source": [
        "for i in range(len(do)):\n",
        "    if i>5:\n",
        "        if np.isnan(do[i]):\n",
        "                do[i] = np.mean([do[i-1], do[i-2], do[i-3], do[i-4], do[i-5]])\n",
        "do"
      ],
      "execution_count": null,
      "outputs": [
        {
          "output_type": "stream",
          "text": [
            "C:\\Users\\Shivani Chauhan\\Anaconda3\\envs\\TensorFlow\\lib\\site-packages\\ipykernel_launcher.py:4: SettingWithCopyWarning: \n",
            "A value is trying to be set on a copy of a slice from a DataFrame\n",
            "\n",
            "See the caveats in the documentation: https://pandas.pydata.org/pandas-docs/stable/user_guide/indexing.html#returning-a-view-versus-a-copy\n",
            "  after removing the cwd from sys.path.\n"
          ],
          "name": "stderr"
        },
        {
          "output_type": "execute_result",
          "data": {
            "text/plain": [
              "0              NaN\n",
              "1              NaN\n",
              "2        13.501176\n",
              "3        20.752865\n",
              "4        12.409351\n",
              "           ...    \n",
              "46978    10.008608\n",
              "46979    10.008608\n",
              "46980    10.008608\n",
              "46981    10.008608\n",
              "46982    10.008608\n",
              "Name: DO, Length: 46983, dtype: float64"
            ]
          },
          "metadata": {
            "tags": []
          },
          "execution_count": 9
        }
      ]
    },
    {
      "cell_type": "code",
      "metadata": {
        "id": "n07AiIuD3F67",
        "outputId": "29d97a26-49dc-4218-dff1-7faf26fb8d58"
      },
      "source": [
        "for i in range(4,-1,-1):\n",
        "    if np.isnan(do[i]):\n",
        "            do[i] = np.mean([do[i+1], do[i+2], do[i+3], do[i+4], do[i+5]])\n",
        "do"
      ],
      "execution_count": null,
      "outputs": [
        {
          "output_type": "stream",
          "text": [
            "C:\\Users\\Shivani Chauhan\\Anaconda3\\envs\\TensorFlow\\lib\\site-packages\\ipykernel_launcher.py:3: SettingWithCopyWarning: \n",
            "A value is trying to be set on a copy of a slice from a DataFrame\n",
            "\n",
            "See the caveats in the documentation: https://pandas.pydata.org/pandas-docs/stable/user_guide/indexing.html#returning-a-view-versus-a-copy\n",
            "  This is separate from the ipykernel package so we can avoid doing imports until\n"
          ],
          "name": "stderr"
        },
        {
          "output_type": "execute_result",
          "data": {
            "text/plain": [
              "0        14.832754\n",
              "1        14.170345\n",
              "2        13.501176\n",
              "3        20.752865\n",
              "4        12.409351\n",
              "           ...    \n",
              "46978    10.008608\n",
              "46979    10.008608\n",
              "46980    10.008608\n",
              "46981    10.008608\n",
              "46982    10.008608\n",
              "Name: DO, Length: 46983, dtype: float64"
            ]
          },
          "metadata": {
            "tags": []
          },
          "execution_count": 10
        }
      ]
    },
    {
      "cell_type": "code",
      "metadata": {
        "id": "1rtc9iK73F7B",
        "outputId": "d944a300-5848-4703-e139-30bcdf4a23c8"
      },
      "source": [
        "df.isnull().sum()"
      ],
      "execution_count": null,
      "outputs": [
        {
          "output_type": "execute_result",
          "data": {
            "text/plain": [
              "Date           0\n",
              "Frame No       0\n",
              "BAT            0\n",
              "COND           0\n",
              "DO             0\n",
              "ORP         4999\n",
              "PH             0\n",
              "WT             0\n",
              "dtype: int64"
            ]
          },
          "metadata": {
            "tags": []
          },
          "execution_count": 11
        }
      ]
    },
    {
      "cell_type": "code",
      "metadata": {
        "id": "bqzAo7iu3F7I",
        "outputId": "6911e1fc-dbe8-4f38-f8da-71a3997b5606"
      },
      "source": [
        "orp = df['ORP']\n",
        "orp"
      ],
      "execution_count": null,
      "outputs": [
        {
          "output_type": "execute_result",
          "data": {
            "text/plain": [
              "0        0.084822\n",
              "1        0.086292\n",
              "2        0.142900\n",
              "3        0.146236\n",
              "4        0.146724\n",
              "           ...   \n",
              "46978    0.116298\n",
              "46979    0.116288\n",
              "46980    0.116238\n",
              "46981    0.116218\n",
              "46982    0.116183\n",
              "Name: ORP, Length: 46983, dtype: float64"
            ]
          },
          "metadata": {
            "tags": []
          },
          "execution_count": 12
        }
      ]
    },
    {
      "cell_type": "code",
      "metadata": {
        "id": "AVOl95OD3F7P",
        "outputId": "231ad5df-b695-478e-a6be-b41e4dd20ea4"
      },
      "source": [
        "for i in range(len(orp)):\n",
        "    if i>5:\n",
        "        if np.isnan(orp[i]):\n",
        "                orp[i] = np.mean([orp[i-1], orp[i-2], orp[i-3], orp[i-4], orp[i-5]])\n",
        "orp"
      ],
      "execution_count": null,
      "outputs": [
        {
          "output_type": "stream",
          "text": [
            "C:\\Users\\Shivani Chauhan\\Anaconda3\\envs\\TensorFlow\\lib\\site-packages\\ipykernel_launcher.py:4: SettingWithCopyWarning: \n",
            "A value is trying to be set on a copy of a slice from a DataFrame\n",
            "\n",
            "See the caveats in the documentation: https://pandas.pydata.org/pandas-docs/stable/user_guide/indexing.html#returning-a-view-versus-a-copy\n",
            "  after removing the cwd from sys.path.\n"
          ],
          "name": "stderr"
        },
        {
          "output_type": "execute_result",
          "data": {
            "text/plain": [
              "0        0.084822\n",
              "1        0.086292\n",
              "2        0.142900\n",
              "3        0.146236\n",
              "4        0.146724\n",
              "           ...   \n",
              "46978    0.116298\n",
              "46979    0.116288\n",
              "46980    0.116238\n",
              "46981    0.116218\n",
              "46982    0.116183\n",
              "Name: ORP, Length: 46983, dtype: float64"
            ]
          },
          "metadata": {
            "tags": []
          },
          "execution_count": 13
        }
      ]
    },
    {
      "cell_type": "code",
      "metadata": {
        "id": "Wzg526vS3F7W",
        "outputId": "7dc4f791-e662-4941-bc9b-2a9ee580f815"
      },
      "source": [
        "df.isnull().sum()"
      ],
      "execution_count": null,
      "outputs": [
        {
          "output_type": "execute_result",
          "data": {
            "text/plain": [
              "Date        0\n",
              "Frame No    0\n",
              "BAT         0\n",
              "COND        0\n",
              "DO          0\n",
              "ORP         0\n",
              "PH          0\n",
              "WT          0\n",
              "dtype: int64"
            ]
          },
          "metadata": {
            "tags": []
          },
          "execution_count": 14
        }
      ]
    },
    {
      "cell_type": "markdown",
      "metadata": {
        "id": "7LdA0nrp3F7d"
      },
      "source": [
        "Converting to csv file"
      ]
    },
    {
      "cell_type": "code",
      "metadata": {
        "id": "bhki_A8k3F7f"
      },
      "source": [
        "df.to_csv('Ganga_data.csv', index = False)"
      ],
      "execution_count": null,
      "outputs": []
    },
    {
      "cell_type": "code",
      "metadata": {
        "id": "2pfibf_C3F7l"
      },
      "source": [
        "#Sangam_data\n",
        "#sdf = pd.read_csv('Sangam.csv')"
      ],
      "execution_count": null,
      "outputs": []
    },
    {
      "cell_type": "code",
      "metadata": {
        "id": "vySNnZWp3F7s"
      },
      "source": [
        "#sdf\n",
        "#n = sdf._get_numeric_data()\n",
        "#n[n<0] = np.nan\n",
        "#sdf.isnull().sum()\n",
        "#do = sdf['DO']\n",
        "#for i in range(len(do)):\n",
        "    #if i>5:\n",
        "        #if np.isnan(do[i]):\n",
        "                #do[i] = np.mean([do[i-1], do[i-2], do[i-3], do[i-4], do[i-5]])\n",
        "#for i in range(4,-1,-1):\n",
        "    #if np.isnan(do[i]):\n",
        "            #do[i] = np.mean([do[i+1], do[i+2], do[i+3], do[i+4], do[i+5]])\n",
        "#orp = sdf['ORP']\n",
        "#for i in range(len(orp)):\n",
        "    #if i>5:\n",
        "        #if np.isnan(orp[i]):\n",
        "                #orp[i] = np.mean([orp[i-1], orp[i-2], orp[i-3], orp[i-4], orp[i-5]])\n",
        "#sdf.to_csv('Sangam_data.csv', index = False)\n"
      ],
      "execution_count": null,
      "outputs": []
    }
  ]
}